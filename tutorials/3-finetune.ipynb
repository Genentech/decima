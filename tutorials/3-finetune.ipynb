{
 "cells": [
  {
   "cell_type": "markdown",
   "id": "10fdb752-2248-4e3a-9678-2e0bf2288790",
   "metadata": {},
   "source": [
    "# Fine-tuning Borzoi to create a Decima model"
   ]
  },
  {
   "cell_type": "code",
   "execution_count": 1,
   "id": "c6dbf5fc-85ca-42a8-b076-ba0313604e91",
   "metadata": {},
   "outputs": [],
   "source": [
    "import scanpy as sc\n",
    "import pandas as pd\n",
    "import bioframe as bf\n",
    "import os"
   ]
  },
  {
   "cell_type": "code",
   "execution_count": 2,
   "id": "a8563bf1-0305-437b-81fa-0584753c5793",
   "metadata": {},
   "outputs": [],
   "source": [
    "outdir = \".\"\n",
    "ad_file_path = os.path.join(outdir, \"data.h5ad\")\n",
    "h5_file_path = os.path.join(outdir, \"data.h5\")"
   ]
  },
  {
   "cell_type": "markdown",
   "id": "4215ffc0-6a14-44b4-b522-7d4322a7cafe",
   "metadata": {},
   "source": [
    "## 1. Load input anndata file"
   ]
  },
  {
   "cell_type": "markdown",
   "id": "f36c3e31-e447-42b8-b785-5d75b1a1007f",
   "metadata": {},
   "source": [
    "The input anndata file needs to be in the format (pseudobulks x genes)."
   ]
  },
  {
   "cell_type": "code",
   "execution_count": 3,
   "id": "83273dca-0622-42e2-a606-b645e0a31f19",
   "metadata": {},
   "outputs": [
    {
     "data": {
      "text/plain": [
       "AnnData object with n_obs × n_vars = 50 × 1000\n",
       "    obs: 'cell_type', 'tissue', 'disease', 'study'\n",
       "    var: 'chrom', 'start', 'end', 'strand'"
      ]
     },
     "execution_count": 3,
     "metadata": {},
     "output_type": "execute_result"
    }
   ],
   "source": [
    "ad = sc.read(\"data/test_data.h5ad\")\n",
    "ad"
   ]
  },
  {
   "cell_type": "markdown",
   "id": "dcb6c9a7-5e97-46fc-a2d3-fe029821c375",
   "metadata": {},
   "source": [
    "`.obs` should be a dataframe with a unique index per pseudobulk. You can also include other columns with metadata about the pseudobulks, e.g. cell type, tissue, disease, study, number of cells, total counts."
   ]
  },
  {
   "cell_type": "code",
   "execution_count": 4,
   "id": "e29ca0c0-5f61-4146-b187-d11cc57373d0",
   "metadata": {},
   "outputs": [
    {
     "data": {
      "text/html": [
       "<div>\n",
       "<style scoped>\n",
       "    .dataframe tbody tr th:only-of-type {\n",
       "        vertical-align: middle;\n",
       "    }\n",
       "\n",
       "    .dataframe tbody tr th {\n",
       "        vertical-align: top;\n",
       "    }\n",
       "\n",
       "    .dataframe thead th {\n",
       "        text-align: right;\n",
       "    }\n",
       "</style>\n",
       "<table border=\"1\" class=\"dataframe\">\n",
       "  <thead>\n",
       "    <tr style=\"text-align: right;\">\n",
       "      <th></th>\n",
       "      <th>cell_type</th>\n",
       "      <th>tissue</th>\n",
       "      <th>disease</th>\n",
       "      <th>study</th>\n",
       "    </tr>\n",
       "  </thead>\n",
       "  <tbody>\n",
       "    <tr>\n",
       "      <th>pseudobulk_0</th>\n",
       "      <td>ct_0</td>\n",
       "      <td>t_0</td>\n",
       "      <td>d_0</td>\n",
       "      <td>st_0</td>\n",
       "    </tr>\n",
       "    <tr>\n",
       "      <th>pseudobulk_1</th>\n",
       "      <td>ct_0</td>\n",
       "      <td>t_0</td>\n",
       "      <td>d_1</td>\n",
       "      <td>st_0</td>\n",
       "    </tr>\n",
       "    <tr>\n",
       "      <th>pseudobulk_2</th>\n",
       "      <td>ct_0</td>\n",
       "      <td>t_0</td>\n",
       "      <td>d_2</td>\n",
       "      <td>st_1</td>\n",
       "    </tr>\n",
       "    <tr>\n",
       "      <th>pseudobulk_3</th>\n",
       "      <td>ct_0</td>\n",
       "      <td>t_0</td>\n",
       "      <td>d_0</td>\n",
       "      <td>st_1</td>\n",
       "    </tr>\n",
       "    <tr>\n",
       "      <th>pseudobulk_4</th>\n",
       "      <td>ct_0</td>\n",
       "      <td>t_0</td>\n",
       "      <td>d_1</td>\n",
       "      <td>st_2</td>\n",
       "    </tr>\n",
       "  </tbody>\n",
       "</table>\n",
       "</div>"
      ],
      "text/plain": [
       "             cell_type tissue disease study\n",
       "pseudobulk_0      ct_0    t_0     d_0  st_0\n",
       "pseudobulk_1      ct_0    t_0     d_1  st_0\n",
       "pseudobulk_2      ct_0    t_0     d_2  st_1\n",
       "pseudobulk_3      ct_0    t_0     d_0  st_1\n",
       "pseudobulk_4      ct_0    t_0     d_1  st_2"
      ]
     },
     "execution_count": 4,
     "metadata": {},
     "output_type": "execute_result"
    }
   ],
   "source": [
    "ad.obs.head()"
   ]
  },
  {
   "cell_type": "markdown",
   "id": "ab69e185-0d58-41e1-8d04-c60a4ed24ef5",
   "metadata": {},
   "source": [
    "`.var` should be a dataframe with a unique index per gene. The index can be the gene name or Ensembl ID, as long as it is unique. Other essential columns are: chrom, start, end and strand (the gene coordinates).\n",
    "\n",
    "You can also include other columns with metadata about the genes, e.g. Ensembl ID, type of gene."
   ]
  },
  {
   "cell_type": "code",
   "execution_count": 5,
   "id": "a79a70c0-5a33-46dc-b363-4e9df6ab2b8a",
   "metadata": {},
   "outputs": [
    {
     "data": {
      "text/html": [
       "<div>\n",
       "<style scoped>\n",
       "    .dataframe tbody tr th:only-of-type {\n",
       "        vertical-align: middle;\n",
       "    }\n",
       "\n",
       "    .dataframe tbody tr th {\n",
       "        vertical-align: top;\n",
       "    }\n",
       "\n",
       "    .dataframe thead th {\n",
       "        text-align: right;\n",
       "    }\n",
       "</style>\n",
       "<table border=\"1\" class=\"dataframe\">\n",
       "  <thead>\n",
       "    <tr style=\"text-align: right;\">\n",
       "      <th></th>\n",
       "      <th>chrom</th>\n",
       "      <th>start</th>\n",
       "      <th>end</th>\n",
       "      <th>strand</th>\n",
       "    </tr>\n",
       "  </thead>\n",
       "  <tbody>\n",
       "    <tr>\n",
       "      <th>gene_0</th>\n",
       "      <td>chr1</td>\n",
       "      <td>28648600</td>\n",
       "      <td>28648730</td>\n",
       "      <td>+</td>\n",
       "    </tr>\n",
       "    <tr>\n",
       "      <th>gene_1</th>\n",
       "      <td>chr19</td>\n",
       "      <td>39341773</td>\n",
       "      <td>39341945</td>\n",
       "      <td>-</td>\n",
       "    </tr>\n",
       "    <tr>\n",
       "      <th>gene_2</th>\n",
       "      <td>chr1</td>\n",
       "      <td>78004346</td>\n",
       "      <td>78004554</td>\n",
       "      <td>-</td>\n",
       "    </tr>\n",
       "    <tr>\n",
       "      <th>gene_3</th>\n",
       "      <td>chr8</td>\n",
       "      <td>143290399</td>\n",
       "      <td>143290621</td>\n",
       "      <td>-</td>\n",
       "    </tr>\n",
       "    <tr>\n",
       "      <th>gene_4</th>\n",
       "      <td>chr16</td>\n",
       "      <td>1971655</td>\n",
       "      <td>1971896</td>\n",
       "      <td>-</td>\n",
       "    </tr>\n",
       "  </tbody>\n",
       "</table>\n",
       "</div>"
      ],
      "text/plain": [
       "        chrom      start        end strand\n",
       "gene_0   chr1   28648600   28648730      +\n",
       "gene_1  chr19   39341773   39341945      -\n",
       "gene_2   chr1   78004346   78004554      -\n",
       "gene_3   chr8  143290399  143290621      -\n",
       "gene_4  chr16    1971655    1971896      -"
      ]
     },
     "execution_count": 5,
     "metadata": {},
     "output_type": "execute_result"
    }
   ],
   "source": [
    "ad.var.head()"
   ]
  },
  {
   "cell_type": "markdown",
   "id": "55cd3f29-8bf7-47f8-8942-bd906a856ab7",
   "metadata": {},
   "source": [
    "`.X` should contain the total counts per gene and pseudobulk. These should be non-negative integers."
   ]
  },
  {
   "cell_type": "code",
   "execution_count": 6,
   "id": "3fd9bd2a-e728-4dc5-9c90-a9558fab0e27",
   "metadata": {},
   "outputs": [
    {
     "data": {
      "text/plain": [
       "array([[ 0, 36, 82,  0, 53],\n",
       "       [29, 84,  0, 33, 27],\n",
       "       [12, 33, 24, 60, 57],\n",
       "       [32,  0, 51, 77, 42],\n",
       "       [37,  2,  0,  0, 80]])"
      ]
     },
     "execution_count": 6,
     "metadata": {},
     "output_type": "execute_result"
    }
   ],
   "source": [
    "ad.X[:5, :5]"
   ]
  },
  {
   "cell_type": "markdown",
   "id": "9514b0b9-9cc3-48f0-9e70-897c1cb55962",
   "metadata": {},
   "source": [
    "## 2. Normalize and log transform data"
   ]
  },
  {
   "cell_type": "markdown",
   "id": "cbca4273-1752-47dd-9b3a-9b29266787e3",
   "metadata": {},
   "source": [
    "We first transform the counts to log(CPM+1) values. CPM = Counts Per Million."
   ]
  },
  {
   "cell_type": "code",
   "execution_count": 7,
   "id": "34115f7a-aaf8-4ca3-abbb-a4fc552bf5a7",
   "metadata": {},
   "outputs": [],
   "source": [
    "sc.pp.normalize_total(ad, target_sum=1e6)\n",
    "sc.pp.log1p(ad) "
   ]
  },
  {
   "cell_type": "code",
   "execution_count": 8,
   "id": "e42a91c7-ac01-45b3-8d3b-6c99baf7adff",
   "metadata": {},
   "outputs": [
    {
     "data": {
      "text/plain": [
       "array([[0.       , 6.921574 , 7.7442207, 0.       , 7.3080306],\n",
       "       [6.6934667, 7.756176 , 0.       , 6.822528 , 6.6220994],\n",
       "       [5.8283887, 6.838115 , 6.5200634, 7.4354696, 7.3842077],\n",
       "       [6.832712 , 0.       , 7.2984004, 7.7101517, 7.104389 ],\n",
       "       [6.996557 , 4.0946727, 0.       , 0.       , 7.767174 ]],\n",
       "      dtype=float32)"
      ]
     },
     "execution_count": 8,
     "metadata": {},
     "output_type": "execute_result"
    }
   ],
   "source": [
    "ad.X[:5, :5]"
   ]
  },
  {
   "cell_type": "markdown",
   "id": "1556f595-d4c7-4944-905e-060e4ae1c4f6",
   "metadata": {},
   "source": [
    "## 3. Create intervals surrounding genes"
   ]
  },
  {
   "cell_type": "markdown",
   "id": "ff51db62-9c1d-4af7-b188-fed7b038e3fa",
   "metadata": {},
   "source": [
    "Decima is trained on 524,288 bp sequence surrounding the genes. Therefore, we have to take the given gene coordinates and extend them to create intervals of this length."
   ]
  },
  {
   "cell_type": "code",
   "execution_count": 9,
   "id": "86905140-4b30-424b-91ce-090a0a56ebab",
   "metadata": {},
   "outputs": [
    {
     "name": "stderr",
     "output_type": "stream",
     "text": [
      "/opt/conda/lib/python3.11/site-packages/tqdm/auto.py:21: TqdmWarning: IProgress not found. Please update jupyter and ipywidgets. See https://ipywidgets.readthedocs.io/en/stable/user_install.html\n",
      "  from .autonotebook import tqdm as notebook_tqdm\n"
     ]
    }
   ],
   "source": [
    "from decima.data.preprocess import var_to_intervals"
   ]
  },
  {
   "cell_type": "code",
   "execution_count": 10,
   "id": "d027eb23-48d6-40d9-9e30-b5c7691a7c53",
   "metadata": {},
   "outputs": [
    {
     "data": {
      "text/html": [
       "<div>\n",
       "<style scoped>\n",
       "    .dataframe tbody tr th:only-of-type {\n",
       "        vertical-align: middle;\n",
       "    }\n",
       "\n",
       "    .dataframe tbody tr th {\n",
       "        vertical-align: top;\n",
       "    }\n",
       "\n",
       "    .dataframe thead th {\n",
       "        text-align: right;\n",
       "    }\n",
       "</style>\n",
       "<table border=\"1\" class=\"dataframe\">\n",
       "  <thead>\n",
       "    <tr style=\"text-align: right;\">\n",
       "      <th></th>\n",
       "      <th>chrom</th>\n",
       "      <th>start</th>\n",
       "      <th>end</th>\n",
       "      <th>strand</th>\n",
       "    </tr>\n",
       "  </thead>\n",
       "  <tbody>\n",
       "    <tr>\n",
       "      <th>gene_0</th>\n",
       "      <td>chr1</td>\n",
       "      <td>28648600</td>\n",
       "      <td>28648730</td>\n",
       "      <td>+</td>\n",
       "    </tr>\n",
       "    <tr>\n",
       "      <th>gene_1</th>\n",
       "      <td>chr19</td>\n",
       "      <td>39341773</td>\n",
       "      <td>39341945</td>\n",
       "      <td>-</td>\n",
       "    </tr>\n",
       "    <tr>\n",
       "      <th>gene_2</th>\n",
       "      <td>chr1</td>\n",
       "      <td>78004346</td>\n",
       "      <td>78004554</td>\n",
       "      <td>-</td>\n",
       "    </tr>\n",
       "    <tr>\n",
       "      <th>gene_3</th>\n",
       "      <td>chr8</td>\n",
       "      <td>143290399</td>\n",
       "      <td>143290621</td>\n",
       "      <td>-</td>\n",
       "    </tr>\n",
       "    <tr>\n",
       "      <th>gene_4</th>\n",
       "      <td>chr16</td>\n",
       "      <td>1971655</td>\n",
       "      <td>1971896</td>\n",
       "      <td>-</td>\n",
       "    </tr>\n",
       "  </tbody>\n",
       "</table>\n",
       "</div>"
      ],
      "text/plain": [
       "        chrom      start        end strand\n",
       "gene_0   chr1   28648600   28648730      +\n",
       "gene_1  chr19   39341773   39341945      -\n",
       "gene_2   chr1   78004346   78004554      -\n",
       "gene_3   chr8  143290399  143290621      -\n",
       "gene_4  chr16    1971655    1971896      -"
      ]
     },
     "execution_count": 10,
     "metadata": {},
     "output_type": "execute_result"
    }
   ],
   "source": [
    "ad.var.head()"
   ]
  },
  {
   "cell_type": "markdown",
   "id": "0f067d6e-f0d7-48f9-b973-032fac069159",
   "metadata": {},
   "source": [
    "First, we copy the start and end columns to `gene_start` and `gene_end`. We also create a new column `gene_length`. "
   ]
  },
  {
   "cell_type": "code",
   "execution_count": 11,
   "id": "566977ab-041f-4a3d-b10e-9b6fa717c98e",
   "metadata": {},
   "outputs": [],
   "source": [
    "ad.var['gene_start'] = ad.var.start.tolist()\n",
    "ad.var['gene_end'] = ad.var.end.tolist()\n",
    "ad.var['gene_length'] = ad.var['gene_end'] - ad.var['gene_start']"
   ]
  },
  {
   "cell_type": "code",
   "execution_count": 12,
   "id": "e23e95dd-6616-4f79-8d1b-3a0fe22816d0",
   "metadata": {},
   "outputs": [
    {
     "data": {
      "text/html": [
       "<div>\n",
       "<style scoped>\n",
       "    .dataframe tbody tr th:only-of-type {\n",
       "        vertical-align: middle;\n",
       "    }\n",
       "\n",
       "    .dataframe tbody tr th {\n",
       "        vertical-align: top;\n",
       "    }\n",
       "\n",
       "    .dataframe thead th {\n",
       "        text-align: right;\n",
       "    }\n",
       "</style>\n",
       "<table border=\"1\" class=\"dataframe\">\n",
       "  <thead>\n",
       "    <tr style=\"text-align: right;\">\n",
       "      <th></th>\n",
       "      <th>chrom</th>\n",
       "      <th>start</th>\n",
       "      <th>end</th>\n",
       "      <th>strand</th>\n",
       "      <th>gene_start</th>\n",
       "      <th>gene_end</th>\n",
       "      <th>gene_length</th>\n",
       "    </tr>\n",
       "  </thead>\n",
       "  <tbody>\n",
       "    <tr>\n",
       "      <th>gene_0</th>\n",
       "      <td>chr1</td>\n",
       "      <td>28648600</td>\n",
       "      <td>28648730</td>\n",
       "      <td>+</td>\n",
       "      <td>28648600</td>\n",
       "      <td>28648730</td>\n",
       "      <td>130</td>\n",
       "    </tr>\n",
       "    <tr>\n",
       "      <th>gene_1</th>\n",
       "      <td>chr19</td>\n",
       "      <td>39341773</td>\n",
       "      <td>39341945</td>\n",
       "      <td>-</td>\n",
       "      <td>39341773</td>\n",
       "      <td>39341945</td>\n",
       "      <td>172</td>\n",
       "    </tr>\n",
       "    <tr>\n",
       "      <th>gene_2</th>\n",
       "      <td>chr1</td>\n",
       "      <td>78004346</td>\n",
       "      <td>78004554</td>\n",
       "      <td>-</td>\n",
       "      <td>78004346</td>\n",
       "      <td>78004554</td>\n",
       "      <td>208</td>\n",
       "    </tr>\n",
       "    <tr>\n",
       "      <th>gene_3</th>\n",
       "      <td>chr8</td>\n",
       "      <td>143290399</td>\n",
       "      <td>143290621</td>\n",
       "      <td>-</td>\n",
       "      <td>143290399</td>\n",
       "      <td>143290621</td>\n",
       "      <td>222</td>\n",
       "    </tr>\n",
       "    <tr>\n",
       "      <th>gene_4</th>\n",
       "      <td>chr16</td>\n",
       "      <td>1971655</td>\n",
       "      <td>1971896</td>\n",
       "      <td>-</td>\n",
       "      <td>1971655</td>\n",
       "      <td>1971896</td>\n",
       "      <td>241</td>\n",
       "    </tr>\n",
       "  </tbody>\n",
       "</table>\n",
       "</div>"
      ],
      "text/plain": [
       "        chrom      start        end strand  gene_start   gene_end  gene_length\n",
       "gene_0   chr1   28648600   28648730      +    28648600   28648730          130\n",
       "gene_1  chr19   39341773   39341945      -    39341773   39341945          172\n",
       "gene_2   chr1   78004346   78004554      -    78004346   78004554          208\n",
       "gene_3   chr8  143290399  143290621      -   143290399  143290621          222\n",
       "gene_4  chr16    1971655    1971896      -     1971655    1971896          241"
      ]
     },
     "execution_count": 12,
     "metadata": {},
     "output_type": "execute_result"
    }
   ],
   "source": [
    "ad.var.head()"
   ]
  },
  {
   "cell_type": "markdown",
   "id": "33edbd2f-66f2-48db-ae30-f9aef55c78c3",
   "metadata": {},
   "source": [
    "Now, we extend the gene coordinates to create enclosing intervals:"
   ]
  },
  {
   "cell_type": "code",
   "execution_count": 13,
   "id": "c40ebdb5-2d8c-4cce-9685-61d5db0123f3",
   "metadata": {},
   "outputs": [
    {
     "name": "stdout",
     "output_type": "stream",
     "text": [
      "The interval size is 524288 bases. Of these, 163840 will be upstream of the gene start and 360448 will be downstream of the gene start.\n",
      "2 intervals extended beyond the chromosome start and have been shifted\n",
      "0 intervals extended beyond the chromosome end and have been shifted\n",
      "0 intervals did not extend far enough upstream of the TSS and have been dropped\n"
     ]
    }
   ],
   "source": [
    "ad = var_to_intervals(ad, chr_end_pad = 10000, genome=\"hg38\") \n",
    "# Replace genome name if necessary"
   ]
  },
  {
   "cell_type": "code",
   "execution_count": 14,
   "id": "191ed1e0-d34f-4aa4-a8e7-bc5919642528",
   "metadata": {},
   "outputs": [
    {
     "data": {
      "text/html": [
       "<div>\n",
       "<style scoped>\n",
       "    .dataframe tbody tr th:only-of-type {\n",
       "        vertical-align: middle;\n",
       "    }\n",
       "\n",
       "    .dataframe tbody tr th {\n",
       "        vertical-align: top;\n",
       "    }\n",
       "\n",
       "    .dataframe thead th {\n",
       "        text-align: right;\n",
       "    }\n",
       "</style>\n",
       "<table border=\"1\" class=\"dataframe\">\n",
       "  <thead>\n",
       "    <tr style=\"text-align: right;\">\n",
       "      <th></th>\n",
       "      <th>chrom</th>\n",
       "      <th>start</th>\n",
       "      <th>end</th>\n",
       "      <th>strand</th>\n",
       "      <th>gene_start</th>\n",
       "      <th>gene_end</th>\n",
       "      <th>gene_length</th>\n",
       "      <th>gene_mask_start</th>\n",
       "      <th>gene_mask_end</th>\n",
       "    </tr>\n",
       "  </thead>\n",
       "  <tbody>\n",
       "    <tr>\n",
       "      <th>gene_0</th>\n",
       "      <td>chr1</td>\n",
       "      <td>28484760</td>\n",
       "      <td>29009048</td>\n",
       "      <td>+</td>\n",
       "      <td>28648600</td>\n",
       "      <td>28648730</td>\n",
       "      <td>130</td>\n",
       "      <td>163840</td>\n",
       "      <td>163970</td>\n",
       "    </tr>\n",
       "    <tr>\n",
       "      <th>gene_1</th>\n",
       "      <td>chr19</td>\n",
       "      <td>38981497</td>\n",
       "      <td>39505785</td>\n",
       "      <td>-</td>\n",
       "      <td>39341773</td>\n",
       "      <td>39341945</td>\n",
       "      <td>172</td>\n",
       "      <td>163840</td>\n",
       "      <td>164012</td>\n",
       "    </tr>\n",
       "    <tr>\n",
       "      <th>gene_2</th>\n",
       "      <td>chr1</td>\n",
       "      <td>77644106</td>\n",
       "      <td>78168394</td>\n",
       "      <td>-</td>\n",
       "      <td>78004346</td>\n",
       "      <td>78004554</td>\n",
       "      <td>208</td>\n",
       "      <td>163840</td>\n",
       "      <td>164048</td>\n",
       "    </tr>\n",
       "    <tr>\n",
       "      <th>gene_3</th>\n",
       "      <td>chr8</td>\n",
       "      <td>142930173</td>\n",
       "      <td>143454461</td>\n",
       "      <td>-</td>\n",
       "      <td>143290399</td>\n",
       "      <td>143290621</td>\n",
       "      <td>222</td>\n",
       "      <td>163840</td>\n",
       "      <td>164062</td>\n",
       "    </tr>\n",
       "    <tr>\n",
       "      <th>gene_4</th>\n",
       "      <td>chr16</td>\n",
       "      <td>1611448</td>\n",
       "      <td>2135736</td>\n",
       "      <td>-</td>\n",
       "      <td>1971655</td>\n",
       "      <td>1971896</td>\n",
       "      <td>241</td>\n",
       "      <td>163840</td>\n",
       "      <td>164081</td>\n",
       "    </tr>\n",
       "  </tbody>\n",
       "</table>\n",
       "</div>"
      ],
      "text/plain": [
       "        chrom      start        end strand  gene_start   gene_end  \\\n",
       "gene_0   chr1   28484760   29009048      +    28648600   28648730   \n",
       "gene_1  chr19   38981497   39505785      -    39341773   39341945   \n",
       "gene_2   chr1   77644106   78168394      -    78004346   78004554   \n",
       "gene_3   chr8  142930173  143454461      -   143290399  143290621   \n",
       "gene_4  chr16    1611448    2135736      -     1971655    1971896   \n",
       "\n",
       "        gene_length  gene_mask_start  gene_mask_end  \n",
       "gene_0          130           163840         163970  \n",
       "gene_1          172           163840         164012  \n",
       "gene_2          208           163840         164048  \n",
       "gene_3          222           163840         164062  \n",
       "gene_4          241           163840         164081  "
      ]
     },
     "execution_count": 14,
     "metadata": {},
     "output_type": "execute_result"
    }
   ],
   "source": [
    "ad.var.head()"
   ]
  },
  {
   "cell_type": "markdown",
   "id": "5733a394-28f5-487e-b967-18aad52cf423",
   "metadata": {},
   "source": [
    "You see that the columns `start` and `end` now contain the start and end coordinates for the 524,288 bp intervals."
   ]
  },
  {
   "cell_type": "markdown",
   "id": "1a8df107-f38e-428b-8bda-47101708ebc7",
   "metadata": {},
   "source": [
    "## 3. Split genes into training, validation and test sets"
   ]
  },
  {
   "cell_type": "markdown",
   "id": "747d3b4b-784f-4735-af81-ab5db4002a9d",
   "metadata": {},
   "source": [
    "We load the coordinates of the genomic regions used to train Borzoi:"
   ]
  },
  {
   "cell_type": "code",
   "execution_count": 15,
   "id": "8f4db77e-71f1-4457-b5cf-8c5f8f98ad06",
   "metadata": {},
   "outputs": [
    {
     "data": {
      "text/html": [
       "<div>\n",
       "<style scoped>\n",
       "    .dataframe tbody tr th:only-of-type {\n",
       "        vertical-align: middle;\n",
       "    }\n",
       "\n",
       "    .dataframe tbody tr th {\n",
       "        vertical-align: top;\n",
       "    }\n",
       "\n",
       "    .dataframe thead th {\n",
       "        text-align: right;\n",
       "    }\n",
       "</style>\n",
       "<table border=\"1\" class=\"dataframe\">\n",
       "  <thead>\n",
       "    <tr style=\"text-align: right;\">\n",
       "      <th></th>\n",
       "      <th>chrom</th>\n",
       "      <th>start</th>\n",
       "      <th>end</th>\n",
       "      <th>fold</th>\n",
       "    </tr>\n",
       "  </thead>\n",
       "  <tbody>\n",
       "    <tr>\n",
       "      <th>0</th>\n",
       "      <td>chr4</td>\n",
       "      <td>82524421</td>\n",
       "      <td>82721029</td>\n",
       "      <td>fold0</td>\n",
       "    </tr>\n",
       "    <tr>\n",
       "      <th>1</th>\n",
       "      <td>chr13</td>\n",
       "      <td>18604798</td>\n",
       "      <td>18801406</td>\n",
       "      <td>fold0</td>\n",
       "    </tr>\n",
       "    <tr>\n",
       "      <th>2</th>\n",
       "      <td>chr2</td>\n",
       "      <td>189923408</td>\n",
       "      <td>190120016</td>\n",
       "      <td>fold0</td>\n",
       "    </tr>\n",
       "    <tr>\n",
       "      <th>3</th>\n",
       "      <td>chr10</td>\n",
       "      <td>59875743</td>\n",
       "      <td>60072351</td>\n",
       "      <td>fold0</td>\n",
       "    </tr>\n",
       "    <tr>\n",
       "      <th>4</th>\n",
       "      <td>chr1</td>\n",
       "      <td>117109467</td>\n",
       "      <td>117306075</td>\n",
       "      <td>fold0</td>\n",
       "    </tr>\n",
       "  </tbody>\n",
       "</table>\n",
       "</div>"
      ],
      "text/plain": [
       "   chrom      start        end   fold\n",
       "0   chr4   82524421   82721029  fold0\n",
       "1  chr13   18604798   18801406  fold0\n",
       "2   chr2  189923408  190120016  fold0\n",
       "3  chr10   59875743   60072351  fold0\n",
       "4   chr1  117109467  117306075  fold0"
      ]
     },
     "execution_count": 15,
     "metadata": {},
     "output_type": "execute_result"
    }
   ],
   "source": [
    "splits_file = 'https://raw.githubusercontent.com/calico/borzoi/main/data/sequences_human.bed.gz' \n",
    "# replace human with mouse for mm10 splits\n",
    "splits = pd.read_table(splits_file, header=None, names=['chrom', 'start', 'end', 'fold'])\n",
    "splits.head()"
   ]
  },
  {
   "cell_type": "markdown",
   "id": "e7229a5f-d27e-48b3-8590-a23474635542",
   "metadata": {},
   "source": [
    "Now, we overlap our gene intervals with these regions:"
   ]
  },
  {
   "cell_type": "code",
   "execution_count": 16,
   "id": "99d1a382-1384-41ea-b59a-bb4aaa26caba",
   "metadata": {},
   "outputs": [
    {
     "data": {
      "text/html": [
       "<div>\n",
       "<style scoped>\n",
       "    .dataframe tbody tr th:only-of-type {\n",
       "        vertical-align: middle;\n",
       "    }\n",
       "\n",
       "    .dataframe tbody tr th {\n",
       "        vertical-align: top;\n",
       "    }\n",
       "\n",
       "    .dataframe thead th {\n",
       "        text-align: right;\n",
       "    }\n",
       "</style>\n",
       "<table border=\"1\" class=\"dataframe\">\n",
       "  <thead>\n",
       "    <tr style=\"text-align: right;\">\n",
       "      <th></th>\n",
       "      <th>gene</th>\n",
       "      <th>fold_</th>\n",
       "    </tr>\n",
       "  </thead>\n",
       "  <tbody>\n",
       "    <tr>\n",
       "      <th>0</th>\n",
       "      <td>gene_0</td>\n",
       "      <td>fold5</td>\n",
       "    </tr>\n",
       "    <tr>\n",
       "      <th>15</th>\n",
       "      <td>gene_1</td>\n",
       "      <td>fold0</td>\n",
       "    </tr>\n",
       "    <tr>\n",
       "      <th>30</th>\n",
       "      <td>gene_2</td>\n",
       "      <td>fold0</td>\n",
       "    </tr>\n",
       "    <tr>\n",
       "      <th>45</th>\n",
       "      <td>gene_3</td>\n",
       "      <td>fold4</td>\n",
       "    </tr>\n",
       "    <tr>\n",
       "      <th>60</th>\n",
       "      <td>gene_4</td>\n",
       "      <td>fold0</td>\n",
       "    </tr>\n",
       "  </tbody>\n",
       "</table>\n",
       "</div>"
      ],
      "text/plain": [
       "      gene  fold_\n",
       "0   gene_0  fold5\n",
       "15  gene_1  fold0\n",
       "30  gene_2  fold0\n",
       "45  gene_3  fold4\n",
       "60  gene_4  fold0"
      ]
     },
     "execution_count": 16,
     "metadata": {},
     "output_type": "execute_result"
    }
   ],
   "source": [
    "overlaps = bf.overlap(ad.var.reset_index(names=\"gene\"), splits, how='left')\n",
    "overlaps = overlaps[['gene', 'fold_']].drop_duplicates().astype(str)\n",
    "overlaps.head()"
   ]
  },
  {
   "cell_type": "markdown",
   "id": "26a1a415-5299-48d6-94e0-7ee008d2bcc3",
   "metadata": {},
   "source": [
    "Based on the overlap, we divide our gene intervals into training, validation and test sets."
   ]
  },
  {
   "cell_type": "code",
   "execution_count": 17,
   "id": "14180e40-c296-4f6f-b353-a07f383a7aae",
   "metadata": {},
   "outputs": [],
   "source": [
    "test_genes = overlaps.gene[overlaps.fold_=='fold3'].tolist()\n",
    "val_genes = overlaps.gene[overlaps.fold_=='fold4'].tolist()\n",
    "train_genes = set(overlaps.gene).difference(set(test_genes).union(val_genes))"
   ]
  },
  {
   "cell_type": "markdown",
   "id": "d6dc73a9-42d2-46c9-8176-34edbd70125d",
   "metadata": {},
   "source": [
    "And add this information back to `ad.var`."
   ]
  },
  {
   "cell_type": "code",
   "execution_count": 18,
   "id": "ed8411d8-aecf-4196-bcc3-7635c1b4f34a",
   "metadata": {},
   "outputs": [
    {
     "name": "stderr",
     "output_type": "stream",
     "text": [
      "/tmp/ipykernel_57992/1980240170.py:1: ImplicitModificationWarning: Trying to modify attribute `.var` of view, initializing view as actual.\n"
     ]
    }
   ],
   "source": [
    "ad.var[\"dataset\"] = \"test\"   \n",
    "ad.var.loc[ad.var.index.isin(val_genes), \"dataset\"] = \"val\"\n",
    "ad.var.loc[ad.var.index.isin(train_genes), \"dataset\"] = \"train\""
   ]
  },
  {
   "cell_type": "code",
   "execution_count": 19,
   "id": "6e71f3f9-61d5-496d-8b04-661d5e97c2b8",
   "metadata": {},
   "outputs": [
    {
     "data": {
      "text/html": [
       "<div>\n",
       "<style scoped>\n",
       "    .dataframe tbody tr th:only-of-type {\n",
       "        vertical-align: middle;\n",
       "    }\n",
       "\n",
       "    .dataframe tbody tr th {\n",
       "        vertical-align: top;\n",
       "    }\n",
       "\n",
       "    .dataframe thead th {\n",
       "        text-align: right;\n",
       "    }\n",
       "</style>\n",
       "<table border=\"1\" class=\"dataframe\">\n",
       "  <thead>\n",
       "    <tr style=\"text-align: right;\">\n",
       "      <th></th>\n",
       "      <th>chrom</th>\n",
       "      <th>start</th>\n",
       "      <th>end</th>\n",
       "      <th>strand</th>\n",
       "      <th>gene_start</th>\n",
       "      <th>gene_end</th>\n",
       "      <th>gene_length</th>\n",
       "      <th>gene_mask_start</th>\n",
       "      <th>gene_mask_end</th>\n",
       "      <th>dataset</th>\n",
       "    </tr>\n",
       "  </thead>\n",
       "  <tbody>\n",
       "    <tr>\n",
       "      <th>gene_0</th>\n",
       "      <td>chr1</td>\n",
       "      <td>28484760</td>\n",
       "      <td>29009048</td>\n",
       "      <td>+</td>\n",
       "      <td>28648600</td>\n",
       "      <td>28648730</td>\n",
       "      <td>130</td>\n",
       "      <td>163840</td>\n",
       "      <td>163970</td>\n",
       "      <td>train</td>\n",
       "    </tr>\n",
       "    <tr>\n",
       "      <th>gene_1</th>\n",
       "      <td>chr19</td>\n",
       "      <td>38981497</td>\n",
       "      <td>39505785</td>\n",
       "      <td>-</td>\n",
       "      <td>39341773</td>\n",
       "      <td>39341945</td>\n",
       "      <td>172</td>\n",
       "      <td>163840</td>\n",
       "      <td>164012</td>\n",
       "      <td>train</td>\n",
       "    </tr>\n",
       "    <tr>\n",
       "      <th>gene_2</th>\n",
       "      <td>chr1</td>\n",
       "      <td>77644106</td>\n",
       "      <td>78168394</td>\n",
       "      <td>-</td>\n",
       "      <td>78004346</td>\n",
       "      <td>78004554</td>\n",
       "      <td>208</td>\n",
       "      <td>163840</td>\n",
       "      <td>164048</td>\n",
       "      <td>train</td>\n",
       "    </tr>\n",
       "    <tr>\n",
       "      <th>gene_3</th>\n",
       "      <td>chr8</td>\n",
       "      <td>142930173</td>\n",
       "      <td>143454461</td>\n",
       "      <td>-</td>\n",
       "      <td>143290399</td>\n",
       "      <td>143290621</td>\n",
       "      <td>222</td>\n",
       "      <td>163840</td>\n",
       "      <td>164062</td>\n",
       "      <td>val</td>\n",
       "    </tr>\n",
       "    <tr>\n",
       "      <th>gene_4</th>\n",
       "      <td>chr16</td>\n",
       "      <td>1611448</td>\n",
       "      <td>2135736</td>\n",
       "      <td>-</td>\n",
       "      <td>1971655</td>\n",
       "      <td>1971896</td>\n",
       "      <td>241</td>\n",
       "      <td>163840</td>\n",
       "      <td>164081</td>\n",
       "      <td>train</td>\n",
       "    </tr>\n",
       "  </tbody>\n",
       "</table>\n",
       "</div>"
      ],
      "text/plain": [
       "        chrom      start        end strand  gene_start   gene_end  \\\n",
       "gene_0   chr1   28484760   29009048      +    28648600   28648730   \n",
       "gene_1  chr19   38981497   39505785      -    39341773   39341945   \n",
       "gene_2   chr1   77644106   78168394      -    78004346   78004554   \n",
       "gene_3   chr8  142930173  143454461      -   143290399  143290621   \n",
       "gene_4  chr16    1611448    2135736      -     1971655    1971896   \n",
       "\n",
       "        gene_length  gene_mask_start  gene_mask_end dataset  \n",
       "gene_0          130           163840         163970   train  \n",
       "gene_1          172           163840         164012   train  \n",
       "gene_2          208           163840         164048   train  \n",
       "gene_3          222           163840         164062     val  \n",
       "gene_4          241           163840         164081   train  "
      ]
     },
     "execution_count": 19,
     "metadata": {},
     "output_type": "execute_result"
    }
   ],
   "source": [
    "ad.var.head()"
   ]
  },
  {
   "cell_type": "code",
   "execution_count": 20,
   "id": "894e5f6f-1d0b-4c71-8f11-fcea38bea97d",
   "metadata": {},
   "outputs": [
    {
     "data": {
      "text/plain": [
       "dataset\n",
       "train    824\n",
       "test      98\n",
       "val       78\n",
       "Name: count, dtype: int64"
      ]
     },
     "execution_count": 20,
     "metadata": {},
     "output_type": "execute_result"
    }
   ],
   "source": [
    "ad.var.dataset.value_counts()"
   ]
  },
  {
   "cell_type": "markdown",
   "id": "0a99d7e9-6b69-42ed-ae2b-fda6c0229035",
   "metadata": {},
   "source": [
    "We have now divided the 1000 genes in our dataset into separate sets to be used for training, validation and testing."
   ]
  },
  {
   "cell_type": "markdown",
   "id": "c3ce727d-ae1a-4e9b-bf57-c6856e4e21e7",
   "metadata": {},
   "source": [
    "## 4. Save processed anndata"
   ]
  },
  {
   "cell_type": "markdown",
   "id": "f950a054-a749-4a6b-a0c5-11b162e1babe",
   "metadata": {},
   "source": [
    "We will save the processed anndata file containing these intervals and data splits."
   ]
  },
  {
   "cell_type": "code",
   "execution_count": 21,
   "id": "e55d7251-5372-4744-a1f3-411223d4eb35",
   "metadata": {},
   "outputs": [],
   "source": [
    "ad.write_h5ad(ad_file_path)"
   ]
  },
  {
   "cell_type": "markdown",
   "id": "a348fd0c-746f-4f3f-9c22-1cef3220460c",
   "metadata": {},
   "source": [
    "## 5. Create an hdf5 file"
   ]
  },
  {
   "cell_type": "markdown",
   "id": "f5b813a4-ad04-421c-9e13-a5cbb4c4885b",
   "metadata": {},
   "source": [
    "To train Decima, we need to extract the genomic sequences for all the intervals and convert them to one-hot encoded format. We save these one-hot encoded inputs to an hdf5 file."
   ]
  },
  {
   "cell_type": "code",
   "execution_count": 22,
   "id": "3b1473fd-fd72-41e7-a673-92fb474440ec",
   "metadata": {},
   "outputs": [],
   "source": [
    "from decima.data.write_hdf5 import write_hdf5"
   ]
  },
  {
   "cell_type": "code",
   "execution_count": 23,
   "id": "81e3d301-db22-4a00-9cdc-f6ec7c641030",
   "metadata": {},
   "outputs": [
    {
     "name": "stdout",
     "output_type": "stream",
     "text": [
      "Writing metadata\n",
      "Writing task indices\n",
      "Writing genes array of shape: (1000, 2)\n",
      "Writing labels array of shape: (1000, 50, 1)\n",
      "Making gene masks\n",
      "Writing mask array of shape: (1000, 534288)\n",
      "Encoding sequences\n",
      "Writing sequence array of shape: (1000, 534288)\n",
      "Done!\n"
     ]
    }
   ],
   "source": [
    "write_hdf5(file=h5_file_path, ad=ad, pad=5000, genome=\"hg38\") \n",
    "# Change genome name if necessary"
   ]
  },
  {
   "cell_type": "markdown",
   "id": "2e7ebe9c-a523-4aff-8bcd-3faf46917caf",
   "metadata": {},
   "source": [
    "## 6. Set training parameters"
   ]
  },
  {
   "cell_type": "code",
   "execution_count": 24,
   "id": "d9ca9ee3-c90a-4848-b9ed-899f21fbf39e",
   "metadata": {},
   "outputs": [],
   "source": [
    "# Learning rate default=0.001\n",
    "lr = 5e-5\n",
    "# Total weight parameter for the loss function\n",
    "total_weight = 1e-4\n",
    "# Gradient accumulation steps\n",
    "grad = 5\n",
    "# batch-size. default=4\n",
    "bs = 4\n",
    "# max-seq-shift. default=5000\n",
    "shift = 5000\n",
    "# Number of epochs. Default 1\n",
    "epochs = 15\n",
    "\n",
    "# logger\n",
    "logger =\"wandb\" # Change to csv to save logs locally\n",
    "\n",
    "# Number of workers default=16\n",
    "workers = 16"
   ]
  },
  {
   "cell_type": "markdown",
   "id": "f74beb10-0045-4c3c-9bc3-b5037053241b",
   "metadata": {},
   "source": [
    "## 7. Generate training commands"
   ]
  },
  {
   "cell_type": "code",
   "execution_count": 25,
   "id": "676bba10-feaf-4bcf-ae76-91cf163ac26a",
   "metadata": {},
   "outputs": [],
   "source": [
    "cmds = []\n",
    "\n",
    "for model in range(4):\n",
    "    name = f'finetune_test_{model}'\n",
    "    device = model\n",
    "    \n",
    "    cmd = f\"decima finetune --name {name} \" +\\\n",
    "    f\"--model {model} --device {device} \" +\\\n",
    "    f\"--matrix-file {ad_file_path} --h5-file {h5_file_path} \" + \\\n",
    "    f\"--outdir {outdir} --learning-rate {lr} \" +\\\n",
    "    f\"--loss-total-weight {total_weight} --gradient-accumulation {grad} \"+\\\n",
    "    f\"--batch-size {bs} --max-seq-shift {shift} \" +\\\n",
    "    f\"--epochs {epochs} --logger {logger} --num-workers {workers}\"\n",
    "    cmds.append(cmd)"
   ]
  },
  {
   "cell_type": "code",
   "execution_count": 26,
   "id": "6aee97bd-7b06-4af5-834e-c0f08127e75c",
   "metadata": {},
   "outputs": [
    {
     "name": "stdout",
     "output_type": "stream",
     "text": [
      "decima finetune --name finetune_test_0 --model 0 --device 0 --matrix-file ./data.h5ad --h5-file ./data.h5 --outdir . --learning-rate 5e-05 --loss-total-weight 0.0001 --gradient-accumulation 5 --batch-size 4 --max-seq-shift 5000 --epochs 15 --logger wandb --num-workers 16\n",
      "decima finetune --name finetune_test_1 --model 1 --device 1 --matrix-file ./data.h5ad --h5-file ./data.h5 --outdir . --learning-rate 5e-05 --loss-total-weight 0.0001 --gradient-accumulation 5 --batch-size 4 --max-seq-shift 5000 --epochs 15 --logger wandb --num-workers 16\n",
      "decima finetune --name finetune_test_2 --model 2 --device 2 --matrix-file ./data.h5ad --h5-file ./data.h5 --outdir . --learning-rate 5e-05 --loss-total-weight 0.0001 --gradient-accumulation 5 --batch-size 4 --max-seq-shift 5000 --epochs 15 --logger wandb --num-workers 16\n",
      "decima finetune --name finetune_test_3 --model 3 --device 3 --matrix-file ./data.h5ad --h5-file ./data.h5 --outdir . --learning-rate 5e-05 --loss-total-weight 0.0001 --gradient-accumulation 5 --batch-size 4 --max-seq-shift 5000 --epochs 15 --logger wandb --num-workers 16\n"
     ]
    }
   ],
   "source": [
    "for cmd in cmds:\n",
    "    print(cmd)"
   ]
  },
  {
   "cell_type": "code",
   "execution_count": 27,
   "id": "d741430f-9fdb-4e25-806d-1c28db345b0a",
   "metadata": {},
   "outputs": [
    {
     "name": "stdout",
     "output_type": "stream",
     "text": [
      "decima - INFO - Data paths: matrix_file=./data.h5ad, h5_file=./data.h5\n",
      "decima - INFO - Reading anndata\n",
      "decima - INFO - Making dataset objects\n",
      "decima - INFO - train_params: {'name': 'finetune_test_3', 'batch_size': 4, 'num_workers': 16, 'devices': 3, 'logger': 'wandb', 'save_dir': '.', 'max_epochs': 15, 'lr': 5e-05, 'total_weight': 0.0001, 'accumulate_grad_batches': 5, 'loss': 'poisson_multinomial', 'clip': 0.0, 'save_top_k': 1, 'pin_memory': True}\n",
      "decima - INFO - model_params: {'n_tasks': 50, 'init_borzoi': True, 'replicate': '3'}\n",
      "decima - INFO - Initializing model\n",
      "decima - INFO - Initializing weights from Borzoi model using wandb for replicate: 3\n",
      "\u001b[34m\u001b[1mwandb\u001b[0m: Currently logged in as: \u001b[33manony-mouse-891169334544049289\u001b[0m to \u001b[32mhttps://api.wandb.ai\u001b[0m. Use \u001b[1m`wandb login --relogin`\u001b[0m to force relogin\n",
      "\u001b[34m\u001b[1mwandb\u001b[0m: Downloading large artifact human_state_dict_fold3:latest, 709.30MB. 1 files... \n",
      "\u001b[34m\u001b[1mwandb\u001b[0m:   1 of 1 files downloaded.  \n",
      "Done. 0:0:1.2 (612.8MB/s)\n",
      "/opt/conda/lib/python3.11/site-packages/decima/model/decima_model.py:68: FutureWarning: You are using `torch.load` with `weights_only=False` (the current default value), which uses the default pickle module implicitly. It is possible to construct malicious pickle data which will execute arbitrary code during unpickling (See https://github.com/pytorch/pytorch/blob/main/SECURITY.md#untrusted-models for more details). In a future release, the default value for `weights_only` will be flipped to `True`. This limits the functions that could be executed during unpickling. Arbitrary objects will no longer be allowed to be loaded via this mode unless they are explicitly allowlisted by the user via `torch.serialization.add_safe_globals`. We recommend you start setting `weights_only=True` for any use case where you don't have full control of the loaded file. Please open an issue on GitHub for any issues related to this experimental feature.\n",
      "decima - INFO - Training\n",
      "Using 16bit Automatic Mixed Precision (AMP)\n",
      "GPU available: True (cuda), used: True\n",
      "TPU available: False, using: 0 TPU cores\n",
      "HPU available: False, using: 0 HPUs\n",
      "\u001b[34m\u001b[1mwandb\u001b[0m: Tracking run with wandb version 0.19.11\n",
      "\u001b[34m\u001b[1mwandb\u001b[0m: Run data is saved locally in \u001b[35m\u001b[1m./wandb/run-20250910_180041-z116ga92\u001b[0m\n",
      "\u001b[34m\u001b[1mwandb\u001b[0m: Run \u001b[1m`wandb offline`\u001b[0m to turn off syncing.\n",
      "\u001b[34m\u001b[1mwandb\u001b[0m: Syncing run \u001b[33mfinetune_test_3\u001b[0m\n",
      "\u001b[34m\u001b[1mwandb\u001b[0m: ⭐️ View project at \u001b[34m\u001b[4mhttps://wandb.ai/anony-mouse-891169334544049289/lightning_logs?apiKey=70a51956c52bb25b52b4b086f7a2b75f503efcff\u001b[0m\n",
      "\u001b[34m\u001b[1mwandb\u001b[0m: 🚀 View run at \u001b[34m\u001b[4mhttps://wandb.ai/anony-mouse-891169334544049289/lightning_logs/runs/z116ga92?apiKey=70a51956c52bb25b52b4b086f7a2b75f503efcff\u001b[0m\n",
      "\u001b[34m\u001b[1mwandb\u001b[0m: \u001b[33mWARNING\u001b[0m Do NOT share these links with anyone. They can be used to claim your runs.\n",
      "LOCAL_RANK: 0 - CUDA_VISIBLE_DEVICES: [0,1,2,3,4,5,6,7]\n",
      "Validation DataLoader 0:   0%|                           | 0/20 [00:00<?, ?it/s]Multinomial: 19.551904678344727, Poisson: -0.09242258965969086\n",
      "Validation DataLoader 0:   5%|▉                  | 1/20 [00:01<00:21,  0.88it/s]Multinomial: 18.83292007446289, Poisson: -0.08894173800945282\n",
      "Validation DataLoader 0:  10%|█▉                 | 2/20 [00:01<00:13,  1.32it/s]Multinomial: 18.6702823638916, Poisson: -0.08825866132974625\n",
      "Validation DataLoader 0:  15%|██▊                | 3/20 [00:01<00:10,  1.58it/s]Multinomial: 19.770111083984375, Poisson: -0.09345225244760513\n",
      "Validation DataLoader 0:  20%|███▊               | 4/20 [00:02<00:09,  1.76it/s]Multinomial: 20.333232879638672, Poisson: -0.09634187072515488\n",
      "Validation DataLoader 0:  25%|████▊              | 5/20 [00:02<00:07,  1.89it/s]Multinomial: 19.942649841308594, Poisson: -0.09447509050369263\n",
      "Validation DataLoader 0:  30%|█████▋             | 6/20 [00:03<00:07,  1.98it/s]Multinomial: 21.179582595825195, Poisson: -0.10046454519033432\n",
      "Validation DataLoader 0:  35%|██████▋            | 7/20 [00:03<00:06,  2.06it/s]Multinomial: 18.97673988342285, Poisson: -0.08990467339754105\n",
      "Validation DataLoader 0:  40%|███████▌           | 8/20 [00:03<00:05,  2.12it/s]Multinomial: 19.59719467163086, Poisson: -0.0930555984377861\n",
      "Validation DataLoader 0:  45%|████████▌          | 9/20 [00:04<00:05,  2.16it/s]Multinomial: 19.901588439941406, Poisson: -0.09427540004253387\n",
      "Validation DataLoader 0:  50%|█████████         | 10/20 [00:04<00:04,  2.20it/s]Multinomial: 19.612627029418945, Poisson: -0.09286049008369446\n",
      "Validation DataLoader 0:  55%|█████████▉        | 11/20 [00:04<00:04,  2.24it/s]Multinomial: 18.17037582397461, Poisson: -0.08590825647115707\n",
      "Validation DataLoader 0:  60%|██████████▊       | 12/20 [00:05<00:03,  2.27it/s]Multinomial: 21.42363739013672, Poisson: -0.10198310017585754\n",
      "Validation DataLoader 0:  65%|███████████▋      | 13/20 [00:05<00:03,  2.29it/s]Multinomial: 19.59124755859375, Poisson: -0.0934436023235321\n",
      "Validation DataLoader 0:  70%|████████████▌     | 14/20 [00:06<00:02,  2.31it/s]Multinomial: 20.485620498657227, Poisson: -0.09756841510534286\n",
      "Validation DataLoader 0:  75%|█████████████▌    | 15/20 [00:06<00:02,  2.33it/s]Multinomial: 19.814287185668945, Poisson: -0.09363280981779099\n",
      "Validation DataLoader 0:  80%|██████████████▍   | 16/20 [00:06<00:01,  2.35it/s]Multinomial: 20.134233474731445, Poisson: -0.09503811597824097\n",
      "Validation DataLoader 0:  85%|███████████████▎  | 17/20 [00:07<00:01,  2.37it/s]Multinomial: 19.856706619262695, Poisson: -0.09426872432231903\n",
      "Validation DataLoader 0:  90%|████████████████▏ | 18/20 [00:07<00:00,  2.38it/s]Multinomial: 19.654701232910156, Poisson: -0.09282620251178741\n",
      "Validation DataLoader 0:  95%|█████████████████ | 19/20 [00:07<00:00,  2.39it/s]Multinomial: 16.816020965576172, Poisson: -0.07886861264705658\n",
      "Validation DataLoader 0: 100%|██████████████████| 20/20 [00:08<00:00,  2.44it/s]\n",
      "────────────────────────────────────────────────────────────────────────────────\n",
      "     Validate metric           DataLoader 0\n",
      "────────────────────────────────────────────────────────────────────────────────\n",
      "    val_gene_pearson       0.003902435302734375\n",
      "        val_loss            19.522884368896484\n",
      "         val_mse            26.430309295654297\n",
      "    val_task_pearson       0.027374327182769775\n",
      "────────────────────────────────────────────────────────────────────────────────\n",
      "LOCAL_RANK: 0 - CUDA_VISIBLE_DEVICES: [0,1,2,3,4,5,6,7]\n",
      "/opt/conda/lib/python3.11/site-packages/pytorch_lightning/utilities/model_summary/model_summary.py:231: UserWarning: Precision 16-mixed is not supported by the model summary.  Estimated model size in MB will not be accurate. Using 32 bits instead.\n",
      "\n",
      "  | Name            | Type                           | Params | Mode \n",
      "---------------------------------------------------------------------------\n",
      "0 | model           | DecimaModel                    | 171 M  | train\n",
      "1 | loss            | TaskWisePoissonMultinomialLoss | 0      | train\n",
      "2 | val_metrics     | MetricCollection               | 0      | train\n",
      "3 | test_metrics    | MetricCollection               | 0      | train\n",
      "4 | warning_counter | WarningCounter                 | 0      | train\n",
      "5 | transform       | Identity                       | 0      | train\n",
      "---------------------------------------------------------------------------\n",
      "171 M     Trainable params\n",
      "0         Non-trainable params\n",
      "171 M     Total params\n",
      "685.503   Total estimated model params size (MB)\n",
      "401       Modules in train mode\n",
      "0         Modules in eval mode\n",
      "Sanity Checking DataLoader 0:   0%|                       | 0/2 [00:00<?, ?it/s]Multinomial: 19.551904678344727, Poisson: -0.09242258965969086\n",
      "Sanity Checking DataLoader 0:  50%|███████▌       | 1/2 [00:00<00:00,  2.60it/s]Multinomial: 18.83292007446289, Poisson: -0.08894173800945282\n",
      "Epoch 0:   0%|                                          | 0/206 [00:00<?, ?it/s]Multinomial: 20.649518966674805, Poisson: -0.09783197194337845\n",
      "Epoch 0:   0%| | 1/206 [00:02<09:21,  0.36it/s, v_num=ga92, train_loss_step=20.6Multinomial: 20.44305419921875, Poisson: -0.09653694927692413\n",
      "Epoch 0:   1%| | 2/206 [00:03<06:37,  0.51it/s, v_num=ga92, train_loss_step=20.3Multinomial: 18.769861221313477, Poisson: -0.08878908306360245\n",
      "Epoch 0:   1%| | 3/206 [00:04<05:38,  0.60it/s, v_num=ga92, train_loss_step=18.7Multinomial: 19.108951568603516, Poisson: -0.09012060612440109\n",
      "Epoch 0:   2%| | 4/206 [00:06<05:07,  0.66it/s, v_num=ga92, train_loss_step=19.0Multinomial: 22.034486770629883, Poisson: -0.10459505021572113\n",
      "Epoch 0:   2%| | 5/206 [00:07<04:52,  0.69it/s, v_num=ga92, train_loss_step=21.9Multinomial: 20.321462631225586, Poisson: -0.09601972252130508\n",
      "Epoch 0:   3%| | 6/206 [00:08<04:38,  0.72it/s, v_num=ga92, train_loss_step=20.2Multinomial: 19.40884780883789, Poisson: -0.09230020642280579\n",
      "Epoch 0:   3%| | 7/206 [00:09<04:29,  0.74it/s, v_num=ga92, train_loss_step=19.3Multinomial: 19.41269302368164, Poisson: -0.09164126962423325\n",
      "Epoch 0:   4%| | 8/206 [00:10<04:21,  0.76it/s, v_num=ga92, train_loss_step=19.3Multinomial: 20.31477165222168, Poisson: -0.09617200493812561\n",
      "Epoch 0:   4%| | 9/206 [00:11<04:15,  0.77it/s, v_num=ga92, train_loss_step=20.2Multinomial: 20.03005599975586, Poisson: -0.09521447867155075\n",
      "Epoch 0:   5%| | 10/206 [00:12<04:10,  0.78it/s, v_num=ga92, train_loss_step=19.Multinomial: 20.31387710571289, Poisson: -0.09662442654371262\n",
      "Epoch 0:   5%| | 11/206 [00:13<04:05,  0.79it/s, v_num=ga92, train_loss_step=20.Multinomial: 19.84714126586914, Poisson: -0.09424260258674622\n",
      "Epoch 0:   6%| | 12/206 [00:14<04:01,  0.80it/s, v_num=ga92, train_loss_step=19.Multinomial: 20.123065948486328, Poisson: -0.09565902501344681\n",
      "Epoch 0:   6%| | 13/206 [00:16<03:58,  0.81it/s, v_num=ga92, train_loss_step=20.Multinomial: 18.453567504882812, Poisson: -0.08734867721796036\n",
      "Epoch 0:   7%| | 14/206 [00:17<03:55,  0.82it/s, v_num=ga92, train_loss_step=18.Multinomial: 20.047746658325195, Poisson: -0.09539173543453217\n",
      "Epoch 0:   7%| | 15/206 [00:18<03:52,  0.82it/s, v_num=ga92, train_loss_step=20.Multinomial: 21.4154052734375, Poisson: -0.10197968780994415\n",
      "Epoch 0:   8%| | 16/206 [00:19<03:49,  0.83it/s, v_num=ga92, train_loss_step=21.Multinomial: 19.125732421875, Poisson: -0.09074907004833221\n",
      "Epoch 0:   8%| | 17/206 [00:20<03:47,  0.83it/s, v_num=ga92, train_loss_step=19.Multinomial: 17.755395889282227, Poisson: -0.08416945487260818\n",
      "Epoch 0:   9%| | 18/206 [00:21<03:45,  0.83it/s, v_num=ga92, train_loss_step=17.Multinomial: 21.098642349243164, Poisson: -0.10050031542778015\n",
      "Epoch 0:   9%| | 19/206 [00:22<03:43,  0.84it/s, v_num=ga92, train_loss_step=21.Multinomial: 20.46425437927246, Poisson: -0.09758427739143372\n",
      "Epoch 0:  10%| | 20/206 [00:23<03:41,  0.84it/s, v_num=ga92, train_loss_step=20.Multinomial: 19.498207092285156, Poisson: -0.09275034815073013\n",
      "Epoch 0:  10%| | 21/206 [00:24<03:39,  0.84it/s, v_num=ga92, train_loss_step=19.Multinomial: 19.81480598449707, Poisson: -0.09458067268133163\n",
      "Epoch 0:  11%| | 22/206 [00:25<03:37,  0.85it/s, v_num=ga92, train_loss_step=19.Multinomial: 18.947303771972656, Poisson: -0.08989180624485016\n",
      "Epoch 0:  11%| | 23/206 [00:27<03:35,  0.85it/s, v_num=ga92, train_loss_step=18.Multinomial: 20.474464416503906, Poisson: -0.0979045033454895\n",
      "Epoch 0:  12%| | 24/206 [00:28<03:33,  0.85it/s, v_num=ga92, train_loss_step=20.Multinomial: 18.267704010009766, Poisson: -0.08651816099882126\n",
      "Epoch 0:  12%| | 25/206 [00:29<03:31,  0.85it/s, v_num=ga92, train_loss_step=18.Multinomial: 20.97510528564453, Poisson: -0.10015705972909927\n",
      "Epoch 0:  13%|▏| 26/206 [00:30<03:30,  0.86it/s, v_num=ga92, train_loss_step=20.Multinomial: 18.59412384033203, Poisson: -0.0884115919470787\n",
      "Epoch 0:  13%|▏| 27/206 [00:31<03:28,  0.86it/s, v_num=ga92, train_loss_step=18.Multinomial: 19.337949752807617, Poisson: -0.092142753303051\n",
      "Epoch 0:  14%|▏| 28/206 [00:32<03:27,  0.86it/s, v_num=ga92, train_loss_step=19.Multinomial: 19.854482650756836, Poisson: -0.09447284042835236\n",
      "Epoch 0:  14%|▏| 29/206 [00:33<03:25,  0.86it/s, v_num=ga92, train_loss_step=19.Multinomial: 19.209014892578125, Poisson: -0.091445691883564\n",
      "Epoch 0:  15%|▏| 30/206 [00:34<03:24,  0.86it/s, v_num=ga92, train_loss_step=19.Multinomial: 18.900236129760742, Poisson: -0.08958074450492859\n",
      "Epoch 0:  15%|▏| 31/206 [00:35<03:22,  0.86it/s, v_num=ga92, train_loss_step=18.Multinomial: 19.472148895263672, Poisson: -0.09251940995454788\n",
      "Epoch 0:  16%|▏| 32/206 [00:36<03:21,  0.87it/s, v_num=ga92, train_loss_step=19.Multinomial: 19.279232025146484, Poisson: -0.09149587899446487\n",
      "Epoch 0:  16%|▏| 33/206 [00:38<03:19,  0.87it/s, v_num=ga92, train_loss_step=19.Multinomial: 19.233381271362305, Poisson: -0.09144599735736847\n",
      "Epoch 0:  17%|▏| 34/206 [00:39<03:18,  0.87it/s, v_num=ga92, train_loss_step=19.Multinomial: 19.001081466674805, Poisson: -0.09016793221235275\n",
      "Epoch 0:  17%|▏| 35/206 [00:40<03:16,  0.87it/s, v_num=ga92, train_loss_step=18.Multinomial: 19.088703155517578, Poisson: -0.09084174782037735\n",
      "Epoch 0:  17%|▏| 36/206 [00:41<03:15,  0.87it/s, v_num=ga92, train_loss_step=19.Multinomial: 20.46027374267578, Poisson: -0.09719780087471008\n",
      "Epoch 0:  18%|▏| 37/206 [00:42<03:14,  0.87it/s, v_num=ga92, train_loss_step=20.Multinomial: 19.735992431640625, Poisson: -0.09385833889245987\n",
      "Epoch 0:  18%|▏| 38/206 [00:43<03:12,  0.87it/s, v_num=ga92, train_loss_step=19.Multinomial: 19.499765396118164, Poisson: -0.09250222891569138\n",
      "Epoch 0:  19%|▏| 39/206 [00:44<03:11,  0.87it/s, v_num=ga92, train_loss_step=19.Multinomial: 18.725584030151367, Poisson: -0.0888579785823822\n",
      "Epoch 0:  19%|▏| 40/206 [00:45<03:10,  0.87it/s, v_num=ga92, train_loss_step=18.Multinomial: 19.9359073638916, Poisson: -0.09480752795934677\n",
      "Epoch 0:  20%|▏| 41/206 [00:46<03:08,  0.87it/s, v_num=ga92, train_loss_step=19.Multinomial: 18.936845779418945, Poisson: -0.08992137014865875\n",
      "Epoch 0:  20%|▏| 42/206 [00:48<03:07,  0.87it/s, v_num=ga92, train_loss_step=18.Multinomial: 20.70235252380371, Poisson: -0.09857688099145889\n",
      "Epoch 0:  21%|▏| 43/206 [00:49<03:06,  0.88it/s, v_num=ga92, train_loss_step=20.Multinomial: 20.195659637451172, Poisson: -0.09627354145050049\n",
      "Epoch 0:  21%|▏| 44/206 [00:50<03:04,  0.88it/s, v_num=ga92, train_loss_step=20.Multinomial: 19.395044326782227, Poisson: -0.09212017804384232\n",
      "Epoch 0:  22%|▏| 45/206 [00:51<03:03,  0.88it/s, v_num=ga92, train_loss_step=19.Multinomial: 20.291372299194336, Poisson: -0.09667361527681351\n",
      "Epoch 0:  22%|▏| 46/206 [00:52<03:02,  0.88it/s, v_num=ga92, train_loss_step=20.Multinomial: 18.833599090576172, Poisson: -0.08926364779472351\n",
      "Epoch 0:  23%|▏| 47/206 [00:53<03:01,  0.88it/s, v_num=ga92, train_loss_step=18.Multinomial: 19.803646087646484, Poisson: -0.09433061629533768\n",
      "Epoch 0:  23%|▏| 48/206 [00:54<02:59,  0.88it/s, v_num=ga92, train_loss_step=19.Multinomial: 20.236618041992188, Poisson: -0.09637285023927689\n",
      "Epoch 0:  24%|▏| 49/206 [00:55<02:58,  0.88it/s, v_num=ga92, train_loss_step=20.Multinomial: 19.500707626342773, Poisson: -0.09273779392242432\n",
      "Epoch 0:  24%|▏| 50/206 [00:56<02:57,  0.88it/s, v_num=ga92, train_loss_step=19.Multinomial: 19.435075759887695, Poisson: -0.09232762455940247\n",
      "Epoch 0:  25%|▏| 51/206 [00:57<02:56,  0.88it/s, v_num=ga92, train_loss_step=19.Multinomial: 18.11406135559082, Poisson: -0.0856637954711914\n",
      "Epoch 0:  25%|▎| 52/206 [00:59<02:54,  0.88it/s, v_num=ga92, train_loss_step=18.Multinomial: 18.388717651367188, Poisson: -0.08716388791799545\n",
      "Epoch 0:  26%|▎| 53/206 [01:00<02:53,  0.88it/s, v_num=ga92, train_loss_step=18.Multinomial: 18.973413467407227, Poisson: -0.09003357589244843\n",
      "Epoch 0:  26%|▎| 54/206 [01:01<02:52,  0.88it/s, v_num=ga92, train_loss_step=18.Multinomial: 19.09269142150879, Poisson: -0.09067441523075104\n",
      "Epoch 0:  27%|▎| 55/206 [01:02<02:51,  0.88it/s, v_num=ga92, train_loss_step=19.Multinomial: 20.252321243286133, Poisson: -0.0963425487279892\n",
      "Epoch 0:  27%|▎| 56/206 [01:03<02:49,  0.88it/s, v_num=ga92, train_loss_step=20.Multinomial: 19.79602813720703, Poisson: -0.09426706284284592\n",
      "Epoch 0:  28%|▎| 57/206 [01:04<02:48,  0.88it/s, v_num=ga92, train_loss_step=19.Multinomial: 19.56795310974121, Poisson: -0.09291893988847733\n",
      "Epoch 0:  28%|▎| 58/206 [01:05<02:47,  0.88it/s, v_num=ga92, train_loss_step=19.Multinomial: 20.663007736206055, Poisson: -0.09855327755212784\n",
      "Epoch 0:  29%|▎| 59/206 [01:06<02:46,  0.88it/s, v_num=ga92, train_loss_step=20.Multinomial: 18.647445678710938, Poisson: -0.0883609801530838\n",
      "Epoch 0:  29%|▎| 60/206 [01:07<02:45,  0.88it/s, v_num=ga92, train_loss_step=18.Multinomial: 18.594621658325195, Poisson: -0.08809459954500198\n",
      "Epoch 0:  30%|▎| 61/206 [01:08<02:43,  0.88it/s, v_num=ga92, train_loss_step=18.Multinomial: 20.44050407409668, Poisson: -0.09741025418043137\n",
      "Epoch 0:  30%|▎| 62/206 [01:10<02:42,  0.89it/s, v_num=ga92, train_loss_step=20.Multinomial: 19.0235538482666, Poisson: -0.09028968214988708\n",
      "Epoch 0:  31%|▎| 63/206 [01:11<02:41,  0.89it/s, v_num=ga92, train_loss_step=18.Multinomial: 20.57768440246582, Poisson: -0.09824119508266449\n",
      "Epoch 0:  31%|▎| 64/206 [01:12<02:40,  0.89it/s, v_num=ga92, train_loss_step=20.Multinomial: 19.98402976989746, Poisson: -0.09500628709793091\n",
      "Epoch 0:  32%|▎| 65/206 [01:13<02:39,  0.89it/s, v_num=ga92, train_loss_step=19.Multinomial: 19.165252685546875, Poisson: -0.09092649072408676\n",
      "Epoch 0:  32%|▎| 66/206 [01:14<02:37,  0.89it/s, v_num=ga92, train_loss_step=19.Multinomial: 19.291337966918945, Poisson: -0.09180102497339249\n",
      "Epoch 0:  33%|▎| 67/206 [01:15<02:36,  0.89it/s, v_num=ga92, train_loss_step=19.Multinomial: 20.577587127685547, Poisson: -0.09817654639482498\n",
      "Epoch 0:  33%|▎| 68/206 [01:16<02:35,  0.89it/s, v_num=ga92, train_loss_step=20.Multinomial: 20.456377029418945, Poisson: -0.09751923382282257\n",
      "Epoch 0:  33%|▎| 69/206 [01:17<02:34,  0.89it/s, v_num=ga92, train_loss_step=20.Multinomial: 19.471923828125, Poisson: -0.09257067739963531\n",
      "Epoch 0:  34%|▎| 70/206 [01:18<02:33,  0.89it/s, v_num=ga92, train_loss_step=19.Multinomial: 19.16385841369629, Poisson: -0.09110265970230103\n",
      "Epoch 0:  34%|▎| 71/206 [01:19<02:32,  0.89it/s, v_num=ga92, train_loss_step=19.Multinomial: 20.62730598449707, Poisson: -0.09839195758104324\n",
      "Epoch 0:  35%|▎| 72/206 [01:21<02:30,  0.89it/s, v_num=ga92, train_loss_step=20.Multinomial: 19.694597244262695, Poisson: -0.0937316045165062\n",
      "Epoch 0:  35%|▎| 73/206 [01:22<02:29,  0.89it/s, v_num=ga92, train_loss_step=19.Multinomial: 19.828393936157227, Poisson: -0.09424761682748795\n",
      "Epoch 0:  36%|▎| 74/206 [01:23<02:28,  0.89it/s, v_num=ga92, train_loss_step=19.Multinomial: 19.280969619750977, Poisson: -0.09154174476861954\n",
      "Epoch 0:  36%|▎| 75/206 [01:24<02:27,  0.89it/s, v_num=ga92, train_loss_step=19.Multinomial: 17.82118797302246, Poisson: -0.08435618877410889\n",
      "Epoch 0:  37%|▎| 76/206 [01:25<02:26,  0.89it/s, v_num=ga92, train_loss_step=17.Multinomial: 19.26524543762207, Poisson: -0.09165819734334946\n",
      "Epoch 0:  37%|▎| 77/206 [01:26<02:25,  0.89it/s, v_num=ga92, train_loss_step=19.Multinomial: 19.614538192749023, Poisson: -0.09339390695095062\n",
      "Epoch 0:  38%|▍| 78/206 [01:27<02:23,  0.89it/s, v_num=ga92, train_loss_step=19.Multinomial: 19.87015151977539, Poisson: -0.09463376551866531\n",
      "Epoch 0:  38%|▍| 79/206 [01:28<02:22,  0.89it/s, v_num=ga92, train_loss_step=19.Multinomial: 19.78321647644043, Poisson: -0.0942508801817894\n",
      "Epoch 0:  39%|▍| 80/206 [01:29<02:21,  0.89it/s, v_num=ga92, train_loss_step=19.Multinomial: 19.95691680908203, Poisson: -0.0950699970126152\n",
      "Epoch 0:  39%|▍| 81/206 [01:31<02:20,  0.89it/s, v_num=ga92, train_loss_step=19.Multinomial: 19.0538330078125, Poisson: -0.09049247950315475\n",
      "Epoch 0:  40%|▍| 82/206 [01:32<02:19,  0.89it/s, v_num=ga92, train_loss_step=19.Multinomial: 19.057729721069336, Poisson: -0.09068738669157028\n",
      "Epoch 0:  40%|▍| 83/206 [01:33<02:18,  0.89it/s, v_num=ga92, train_loss_step=19.Multinomial: 19.070049285888672, Poisson: -0.09079564362764359\n",
      "Epoch 0:  41%|▍| 84/206 [01:34<02:16,  0.89it/s, v_num=ga92, train_loss_step=19.Multinomial: 19.84967041015625, Poisson: -0.09462201595306396\n",
      "Epoch 0:  41%|▍| 85/206 [01:35<02:15,  0.89it/s, v_num=ga92, train_loss_step=19.Multinomial: 19.694364547729492, Poisson: -0.09371664375066757\n",
      "Epoch 0:  42%|▍| 86/206 [01:36<02:14,  0.89it/s, v_num=ga92, train_loss_step=19.Multinomial: 19.986881256103516, Poisson: -0.0953255295753479\n",
      "Epoch 0:  42%|▍| 87/206 [01:37<02:13,  0.89it/s, v_num=ga92, train_loss_step=19.Multinomial: 20.191143035888672, Poisson: -0.09633821994066238\n",
      "Epoch 0:  43%|▍| 88/206 [01:38<02:12,  0.89it/s, v_num=ga92, train_loss_step=20.Multinomial: 19.557571411132812, Poisson: -0.09308785200119019\n",
      "Epoch 0:  43%|▍| 89/206 [01:39<02:11,  0.89it/s, v_num=ga92, train_loss_step=19.Multinomial: 20.753202438354492, Poisson: -0.09907563030719757\n",
      "Epoch 0:  44%|▍| 90/206 [01:40<02:10,  0.89it/s, v_num=ga92, train_loss_step=20.Multinomial: 19.366498947143555, Poisson: -0.09233309328556061\n",
      "Epoch 0:  44%|▍| 91/206 [01:42<02:08,  0.89it/s, v_num=ga92, train_loss_step=19.Multinomial: 18.681577682495117, Poisson: -0.08868449181318283\n",
      "Epoch 0:  45%|▍| 92/206 [01:43<02:07,  0.89it/s, v_num=ga92, train_loss_step=18.Multinomial: 19.93864631652832, Poisson: -0.09509912133216858\n",
      "Epoch 0:  45%|▍| 93/206 [01:44<02:06,  0.89it/s, v_num=ga92, train_loss_step=19.Multinomial: 19.00875473022461, Poisson: -0.09025496989488602\n",
      "Epoch 0:  46%|▍| 94/206 [01:45<02:05,  0.89it/s, v_num=ga92, train_loss_step=18.Multinomial: 20.19318962097168, Poisson: -0.09636455029249191\n",
      "Epoch 0:  46%|▍| 95/206 [01:46<02:04,  0.89it/s, v_num=ga92, train_loss_step=20.Multinomial: 18.637149810791016, Poisson: -0.08855695277452469\n",
      "Epoch 0:  47%|▍| 96/206 [01:47<02:03,  0.89it/s, v_num=ga92, train_loss_step=18.Multinomial: 18.993194580078125, Poisson: -0.0904301255941391\n",
      "Epoch 0:  47%|▍| 97/206 [01:48<02:02,  0.89it/s, v_num=ga92, train_loss_step=18.Multinomial: 20.8994083404541, Poisson: -0.09989703446626663\n",
      "Epoch 0:  48%|▍| 98/206 [01:49<02:00,  0.89it/s, v_num=ga92, train_loss_step=20.Multinomial: 19.35430908203125, Poisson: -0.09218571335077286\n",
      "Epoch 0:  48%|▍| 99/206 [01:50<01:59,  0.89it/s, v_num=ga92, train_loss_step=19.Multinomial: 20.603412628173828, Poisson: -0.09840754419565201\n",
      "Epoch 0:  49%|▍| 100/206 [01:51<01:58,  0.89it/s, v_num=ga92, train_loss_step=20Multinomial: 19.261613845825195, Poisson: -0.0917290598154068\n",
      "Epoch 0:  49%|▍| 101/206 [01:53<01:57,  0.89it/s, v_num=ga92, train_loss_step=19Multinomial: 20.021852493286133, Poisson: -0.09551282972097397\n",
      "Epoch 0:  50%|▍| 102/206 [01:54<01:56,  0.89it/s, v_num=ga92, train_loss_step=19Multinomial: 19.901220321655273, Poisson: -0.09499799460172653\n",
      "Epoch 0:  50%|▌| 103/206 [01:55<01:55,  0.89it/s, v_num=ga92, train_loss_step=19Multinomial: 19.971466064453125, Poisson: -0.0952291265130043\n",
      "Epoch 0:  50%|▌| 104/206 [01:56<01:54,  0.89it/s, v_num=ga92, train_loss_step=19Multinomial: 20.439918518066406, Poisson: -0.09760325402021408\n",
      "Epoch 0:  51%|▌| 105/206 [01:57<01:53,  0.89it/s, v_num=ga92, train_loss_step=20Multinomial: 18.342872619628906, Poisson: -0.08712434768676758\n",
      "Epoch 0:  51%|▌| 106/206 [01:58<01:51,  0.89it/s, v_num=ga92, train_loss_step=18Multinomial: 20.162357330322266, Poisson: -0.09622044116258621\n",
      "Epoch 0:  52%|▌| 107/206 [01:59<01:50,  0.89it/s, v_num=ga92, train_loss_step=20Multinomial: 19.770389556884766, Poisson: -0.09424544870853424\n",
      "Epoch 0:  52%|▌| 108/206 [02:00<01:49,  0.89it/s, v_num=ga92, train_loss_step=19Multinomial: 18.57646369934082, Poisson: -0.08830004930496216\n",
      "Epoch 0:  53%|▌| 109/206 [02:01<01:48,  0.89it/s, v_num=ga92, train_loss_step=18Multinomial: 19.782489776611328, Poisson: -0.09423431754112244\n",
      "Epoch 0:  53%|▌| 110/206 [02:03<01:47,  0.89it/s, v_num=ga92, train_loss_step=19Multinomial: 19.729312896728516, Poisson: -0.09407664835453033\n",
      "Epoch 0:  54%|▌| 111/206 [02:04<01:46,  0.89it/s, v_num=ga92, train_loss_step=19Multinomial: 21.053911209106445, Poisson: -0.10077627748250961\n",
      "Epoch 0:  54%|▌| 112/206 [02:05<01:45,  0.89it/s, v_num=ga92, train_loss_step=21Multinomial: 18.583311080932617, Poisson: -0.08830107003450394\n",
      "Epoch 0:  55%|▌| 113/206 [02:06<01:43,  0.89it/s, v_num=ga92, train_loss_step=18Multinomial: 19.79019546508789, Poisson: -0.09436805546283722\n",
      "Epoch 0:  55%|▌| 114/206 [02:07<01:42,  0.89it/s, v_num=ga92, train_loss_step=19Multinomial: 20.4542236328125, Poisson: -0.09784433245658875\n",
      "Epoch 0:  56%|▌| 115/206 [02:08<01:41,  0.89it/s, v_num=ga92, train_loss_step=20Multinomial: 19.271806716918945, Poisson: -0.09177682548761368\n",
      "Epoch 0:  56%|▌| 116/206 [02:09<01:40,  0.89it/s, v_num=ga92, train_loss_step=19Multinomial: 20.179655075073242, Poisson: -0.09634791314601898\n",
      "Epoch 0:  57%|▌| 117/206 [02:10<01:39,  0.89it/s, v_num=ga92, train_loss_step=20Multinomial: 20.42460823059082, Poisson: -0.09768155962228775\n",
      "Epoch 0:  57%|▌| 118/206 [02:11<01:38,  0.90it/s, v_num=ga92, train_loss_step=20Multinomial: 19.027700424194336, Poisson: -0.0905175656080246\n",
      "Epoch 0:  58%|▌| 119/206 [02:12<01:37,  0.90it/s, v_num=ga92, train_loss_step=18Multinomial: 19.84192657470703, Poisson: -0.0947708711028099\n",
      "Epoch 0:  58%|▌| 120/206 [02:14<01:36,  0.90it/s, v_num=ga92, train_loss_step=19Multinomial: 19.808895111083984, Poisson: -0.09449782222509384\n",
      "Epoch 0:  59%|▌| 121/206 [02:15<01:34,  0.90it/s, v_num=ga92, train_loss_step=19Multinomial: 19.325973510742188, Poisson: -0.09199067205190659\n",
      "Epoch 0:  59%|▌| 122/206 [02:16<01:33,  0.90it/s, v_num=ga92, train_loss_step=19Multinomial: 19.61709213256836, Poisson: -0.09361167997121811\n",
      "Epoch 0:  60%|▌| 123/206 [02:17<01:32,  0.90it/s, v_num=ga92, train_loss_step=19Multinomial: 19.803741455078125, Poisson: -0.09451135993003845\n",
      "Epoch 0:  60%|▌| 124/206 [02:18<01:31,  0.90it/s, v_num=ga92, train_loss_step=19Multinomial: 19.8787841796875, Poisson: -0.09478481858968735\n",
      "Epoch 0:  61%|▌| 125/206 [02:19<01:30,  0.90it/s, v_num=ga92, train_loss_step=19Multinomial: 19.564329147338867, Poisson: -0.09325281530618668\n",
      "Epoch 0:  61%|▌| 126/206 [02:20<01:29,  0.90it/s, v_num=ga92, train_loss_step=19Multinomial: 19.609045028686523, Poisson: -0.09349404275417328\n",
      "Epoch 0:  62%|▌| 127/206 [02:21<01:28,  0.90it/s, v_num=ga92, train_loss_step=19Multinomial: 19.738998413085938, Poisson: -0.09420239180326462\n",
      "Epoch 0:  62%|▌| 128/206 [02:22<01:27,  0.90it/s, v_num=ga92, train_loss_step=19Multinomial: 18.85867691040039, Poisson: -0.08969022333621979\n",
      "Epoch 0:  63%|▋| 129/206 [02:23<01:25,  0.90it/s, v_num=ga92, train_loss_step=18Multinomial: 19.32710075378418, Poisson: -0.09215854108333588\n",
      "Epoch 0:  63%|▋| 130/206 [02:25<01:24,  0.90it/s, v_num=ga92, train_loss_step=19Multinomial: 19.846630096435547, Poisson: -0.09465295076370239\n",
      "Epoch 0:  64%|▋| 131/206 [02:26<01:23,  0.90it/s, v_num=ga92, train_loss_step=19Multinomial: 19.93252944946289, Poisson: -0.09519121795892715\n",
      "Epoch 0:  64%|▋| 132/206 [02:27<01:22,  0.90it/s, v_num=ga92, train_loss_step=19Multinomial: 20.10134506225586, Poisson: -0.09593545645475388\n",
      "Epoch 0:  65%|▋| 133/206 [02:28<01:21,  0.90it/s, v_num=ga92, train_loss_step=20Multinomial: 20.753658294677734, Poisson: -0.0992136299610138\n",
      "Epoch 0:  65%|▋| 134/206 [02:29<01:20,  0.90it/s, v_num=ga92, train_loss_step=20Multinomial: 17.926050186157227, Poisson: -0.08507056534290314\n",
      "Epoch 0:  66%|▋| 135/206 [02:30<01:19,  0.90it/s, v_num=ga92, train_loss_step=17Multinomial: 18.972118377685547, Poisson: -0.09036658704280853\n",
      "Epoch 0:  66%|▋| 136/206 [02:31<01:18,  0.90it/s, v_num=ga92, train_loss_step=18Multinomial: 20.376651763916016, Poisson: -0.09735077619552612\n",
      "Epoch 0:  67%|▋| 137/206 [02:32<01:16,  0.90it/s, v_num=ga92, train_loss_step=20Multinomial: 19.85921287536621, Poisson: -0.09478907287120819\n",
      "Epoch 0:  67%|▋| 138/206 [02:33<01:15,  0.90it/s, v_num=ga92, train_loss_step=19Multinomial: 21.5933780670166, Poisson: -0.10346294939517975\n",
      "Epoch 0:  67%|▋| 139/206 [02:34<01:14,  0.90it/s, v_num=ga92, train_loss_step=21Multinomial: 19.522279739379883, Poisson: -0.09308724105358124\n",
      "Epoch 0:  68%|▋| 140/206 [02:36<01:13,  0.90it/s, v_num=ga92, train_loss_step=19Multinomial: 20.372034072875977, Poisson: -0.09746381640434265\n",
      "Epoch 0:  68%|▋| 141/206 [02:37<01:12,  0.90it/s, v_num=ga92, train_loss_step=20Multinomial: 20.253026962280273, Poisson: -0.09680233150720596\n",
      "Epoch 0:  69%|▋| 142/206 [02:38<01:11,  0.90it/s, v_num=ga92, train_loss_step=20Multinomial: 19.123390197753906, Poisson: -0.09094548225402832\n",
      "Epoch 0:  69%|▋| 143/206 [02:39<01:10,  0.90it/s, v_num=ga92, train_loss_step=19Multinomial: 20.98257064819336, Poisson: -0.10031934827566147\n",
      "Epoch 0:  70%|▋| 144/206 [02:40<01:09,  0.90it/s, v_num=ga92, train_loss_step=20Multinomial: 20.30410385131836, Poisson: -0.0969284176826477\n",
      "Epoch 0:  70%|▋| 145/206 [02:41<01:07,  0.90it/s, v_num=ga92, train_loss_step=20Multinomial: 19.252042770385742, Poisson: -0.09158975630998611\n",
      "Epoch 0:  71%|▋| 146/206 [02:42<01:06,  0.90it/s, v_num=ga92, train_loss_step=19Multinomial: 16.990625381469727, Poisson: -0.0802934393286705\n",
      "Epoch 0:  71%|▋| 147/206 [02:43<01:05,  0.90it/s, v_num=ga92, train_loss_step=16Multinomial: 20.487285614013672, Poisson: -0.09792240709066391\n",
      "Epoch 0:  72%|▋| 148/206 [02:44<01:04,  0.90it/s, v_num=ga92, train_loss_step=20Multinomial: 19.808712005615234, Poisson: -0.09460470080375671\n",
      "Epoch 0:  72%|▋| 149/206 [02:46<01:03,  0.90it/s, v_num=ga92, train_loss_step=19Multinomial: 19.595903396606445, Poisson: -0.09343864023685455\n",
      "Epoch 0:  73%|▋| 150/206 [02:47<01:02,  0.90it/s, v_num=ga92, train_loss_step=19Multinomial: 20.59748077392578, Poisson: -0.09848657250404358\n",
      "Epoch 0:  73%|▋| 151/206 [02:48<01:01,  0.90it/s, v_num=ga92, train_loss_step=20Multinomial: 21.87562370300293, Poisson: -0.10492537915706635\n",
      "Epoch 0:  74%|▋| 152/206 [02:49<01:00,  0.90it/s, v_num=ga92, train_loss_step=21Multinomial: 19.96925163269043, Poisson: -0.09540887922048569\n",
      "Epoch 0:  74%|▋| 153/206 [02:50<00:59,  0.90it/s, v_num=ga92, train_loss_step=19Multinomial: 18.13970375061035, Poisson: -0.0860256478190422\n",
      "Epoch 0:  75%|▋| 154/206 [02:51<00:57,  0.90it/s, v_num=ga92, train_loss_step=18Multinomial: 20.76832389831543, Poisson: -0.09937118738889694\n",
      "Epoch 0:  75%|▊| 155/206 [02:52<00:56,  0.90it/s, v_num=ga92, train_loss_step=20Multinomial: 19.70256233215332, Poisson: -0.09412950277328491\n",
      "Epoch 0:  76%|▊| 156/206 [02:53<00:55,  0.90it/s, v_num=ga92, train_loss_step=19Multinomial: 19.453899383544922, Poisson: -0.09275048971176147\n",
      "Epoch 0:  76%|▊| 157/206 [02:54<00:54,  0.90it/s, v_num=ga92, train_loss_step=19Multinomial: 19.032310485839844, Poisson: -0.09059640020132065\n",
      "Epoch 0:  77%|▊| 158/206 [02:55<00:53,  0.90it/s, v_num=ga92, train_loss_step=18Multinomial: 21.41517448425293, Poisson: -0.10263004899024963\n",
      "Epoch 0:  77%|▊| 159/206 [02:57<00:52,  0.90it/s, v_num=ga92, train_loss_step=21Multinomial: 20.033044815063477, Poisson: -0.09581195563077927\n",
      "Epoch 0:  78%|▊| 160/206 [02:58<00:51,  0.90it/s, v_num=ga92, train_loss_step=19Multinomial: 20.163429260253906, Poisson: -0.09632419049739838\n",
      "Epoch 0:  78%|▊| 161/206 [02:59<00:50,  0.90it/s, v_num=ga92, train_loss_step=20Multinomial: 19.766727447509766, Poisson: -0.0943383052945137\n",
      "Epoch 0:  79%|▊| 162/206 [03:00<00:48,  0.90it/s, v_num=ga92, train_loss_step=19Multinomial: 19.4215030670166, Poisson: -0.09267102181911469\n",
      "Epoch 0:  79%|▊| 163/206 [03:01<00:47,  0.90it/s, v_num=ga92, train_loss_step=19Multinomial: 20.546634674072266, Poisson: -0.09827315807342529\n",
      "Epoch 0:  80%|▊| 164/206 [03:02<00:46,  0.90it/s, v_num=ga92, train_loss_step=20Multinomial: 20.086101531982422, Poisson: -0.09596382081508636\n",
      "Epoch 0:  80%|▊| 165/206 [03:03<00:45,  0.90it/s, v_num=ga92, train_loss_step=20Multinomial: 19.60970115661621, Poisson: -0.09367074817419052\n",
      "Epoch 0:  81%|▊| 166/206 [03:04<00:44,  0.90it/s, v_num=ga92, train_loss_step=19Multinomial: 18.657594680786133, Poisson: -0.08867597579956055\n",
      "Epoch 0:  81%|▊| 167/206 [03:05<00:43,  0.90it/s, v_num=ga92, train_loss_step=18Multinomial: 20.330183029174805, Poisson: -0.09720509499311447\n",
      "Epoch 0:  82%|▊| 168/206 [03:06<00:42,  0.90it/s, v_num=ga92, train_loss_step=20Multinomial: 20.131458282470703, Poisson: -0.09609179943799973\n",
      "Epoch 0:  82%|▊| 169/206 [03:08<00:41,  0.90it/s, v_num=ga92, train_loss_step=20Multinomial: 19.329858779907227, Poisson: -0.09212450683116913\n",
      "Epoch 0:  83%|▊| 170/206 [03:09<00:40,  0.90it/s, v_num=ga92, train_loss_step=19Multinomial: 18.87641716003418, Poisson: -0.08999095857143402\n",
      "Epoch 0:  83%|▊| 171/206 [03:10<00:38,  0.90it/s, v_num=ga92, train_loss_step=18Multinomial: 19.927915573120117, Poisson: -0.09521317481994629\n",
      "Epoch 0:  83%|▊| 172/206 [03:11<00:37,  0.90it/s, v_num=ga92, train_loss_step=19Multinomial: 19.17422103881836, Poisson: -0.09141301363706589\n",
      "Epoch 0:  84%|▊| 173/206 [03:12<00:36,  0.90it/s, v_num=ga92, train_loss_step=19Multinomial: 19.671302795410156, Poisson: -0.09398135542869568\n",
      "Epoch 0:  84%|▊| 174/206 [03:13<00:35,  0.90it/s, v_num=ga92, train_loss_step=19Multinomial: 19.249622344970703, Poisson: -0.09184689819812775\n",
      "Epoch 0:  85%|▊| 175/206 [03:14<00:34,  0.90it/s, v_num=ga92, train_loss_step=19Multinomial: 18.182085037231445, Poisson: -0.08641955256462097\n",
      "Epoch 0:  85%|▊| 176/206 [03:15<00:33,  0.90it/s, v_num=ga92, train_loss_step=18Multinomial: 18.75909423828125, Poisson: -0.08936739712953568\n",
      "Epoch 0:  86%|▊| 177/206 [03:16<00:32,  0.90it/s, v_num=ga92, train_loss_step=18Multinomial: 18.41423225402832, Poisson: -0.08754909038543701\n",
      "Epoch 0:  86%|▊| 178/206 [03:17<00:31,  0.90it/s, v_num=ga92, train_loss_step=18Multinomial: 20.063457489013672, Poisson: -0.09595874696969986\n",
      "Epoch 0:  87%|▊| 179/206 [03:19<00:30,  0.90it/s, v_num=ga92, train_loss_step=20Multinomial: 17.95069694519043, Poisson: -0.08542093634605408\n",
      "Epoch 0:  87%|▊| 180/206 [03:20<00:28,  0.90it/s, v_num=ga92, train_loss_step=17Multinomial: 20.193031311035156, Poisson: -0.09648086130619049\n",
      "Epoch 0:  88%|▉| 181/206 [03:21<00:27,  0.90it/s, v_num=ga92, train_loss_step=20Multinomial: 20.27465057373047, Poisson: -0.09684876352548599\n",
      "Epoch 0:  88%|▉| 182/206 [03:22<00:26,  0.90it/s, v_num=ga92, train_loss_step=20Multinomial: 19.60866928100586, Poisson: -0.0935317724943161\n",
      "Epoch 0:  89%|▉| 183/206 [03:23<00:25,  0.90it/s, v_num=ga92, train_loss_step=19Multinomial: 18.87640380859375, Poisson: -0.08999738842248917\n",
      "Epoch 0:  89%|▉| 184/206 [03:24<00:24,  0.90it/s, v_num=ga92, train_loss_step=18Multinomial: 20.43269920349121, Poisson: -0.09784754365682602\n",
      "Epoch 0:  90%|▉| 185/206 [03:25<00:23,  0.90it/s, v_num=ga92, train_loss_step=20Multinomial: 20.08221435546875, Poisson: -0.09592382609844208\n",
      "Epoch 0:  90%|▉| 186/206 [03:26<00:22,  0.90it/s, v_num=ga92, train_loss_step=20Multinomial: 19.357086181640625, Poisson: -0.09239314496517181\n",
      "Epoch 0:  91%|▉| 187/206 [03:27<00:21,  0.90it/s, v_num=ga92, train_loss_step=19Multinomial: 19.062776565551758, Poisson: -0.09100951999425888\n",
      "Epoch 0:  91%|▉| 188/206 [03:29<00:20,  0.90it/s, v_num=ga92, train_loss_step=19Multinomial: 21.134984970092773, Poisson: -0.10134364664554596\n",
      "Epoch 0:  92%|▉| 189/206 [03:30<00:18,  0.90it/s, v_num=ga92, train_loss_step=21Multinomial: 18.802995681762695, Poisson: -0.08960109949111938\n",
      "Epoch 0:  92%|▉| 190/206 [03:31<00:17,  0.90it/s, v_num=ga92, train_loss_step=18Multinomial: 19.57418441772461, Poisson: -0.09343601763248444\n",
      "Epoch 0:  93%|▉| 191/206 [03:32<00:16,  0.90it/s, v_num=ga92, train_loss_step=19Multinomial: 19.01309585571289, Poisson: -0.0906962975859642\n",
      "Epoch 0:  93%|▉| 192/206 [03:33<00:15,  0.90it/s, v_num=ga92, train_loss_step=18Multinomial: 20.178508758544922, Poisson: -0.09644921869039536\n",
      "Epoch 0:  94%|▉| 193/206 [03:34<00:14,  0.90it/s, v_num=ga92, train_loss_step=20Multinomial: 18.943214416503906, Poisson: -0.0902993381023407\n",
      "Epoch 0:  94%|▉| 194/206 [03:35<00:13,  0.90it/s, v_num=ga92, train_loss_step=18Multinomial: 20.72401237487793, Poisson: -0.0992121547460556\n",
      "Epoch 0:  95%|▉| 195/206 [03:36<00:12,  0.90it/s, v_num=ga92, train_loss_step=20Multinomial: 19.585840225219727, Poisson: -0.09347029775381088\n",
      "Epoch 0:  95%|▉| 196/206 [03:37<00:11,  0.90it/s, v_num=ga92, train_loss_step=19Multinomial: 20.998661041259766, Poisson: -0.10073461383581161\n",
      "Epoch 0:  96%|▉| 197/206 [03:38<00:10,  0.90it/s, v_num=ga92, train_loss_step=20Multinomial: 18.377052307128906, Poisson: -0.08743392676115036\n",
      "Epoch 0:  96%|▉| 198/206 [03:40<00:08,  0.90it/s, v_num=ga92, train_loss_step=18Multinomial: 20.140239715576172, Poisson: -0.0963699072599411\n",
      "Epoch 0:  97%|▉| 199/206 [03:41<00:07,  0.90it/s, v_num=ga92, train_loss_step=20Multinomial: 21.218107223510742, Poisson: -0.10173537582159042\n",
      "Epoch 0:  97%|▉| 200/206 [03:42<00:06,  0.90it/s, v_num=ga92, train_loss_step=21Multinomial: 19.37613868713379, Poisson: -0.09238771349191666\n",
      "Epoch 0:  98%|▉| 201/206 [03:43<00:05,  0.90it/s, v_num=ga92, train_loss_step=19Multinomial: 18.986631393432617, Poisson: -0.0905454084277153\n",
      "Epoch 0:  98%|▉| 202/206 [03:44<00:04,  0.90it/s, v_num=ga92, train_loss_step=18Multinomial: 21.52655792236328, Poisson: -0.10341131687164307\n",
      "Epoch 0:  99%|▉| 203/206 [03:45<00:03,  0.90it/s, v_num=ga92, train_loss_step=21Multinomial: 19.377466201782227, Poisson: -0.0924624353647232\n",
      "Epoch 0:  99%|▉| 204/206 [03:46<00:02,  0.90it/s, v_num=ga92, train_loss_step=19Multinomial: 20.280405044555664, Poisson: -0.09709636867046356\n",
      "Epoch 0: 100%|▉| 205/206 [03:47<00:01,  0.90it/s, v_num=ga92, train_loss_step=20Multinomial: 21.719507217407227, Poisson: -0.1043257787823677\n",
      "Epoch 0: 100%|█| 206/206 [03:48<00:00,  0.90it/s, v_num=ga92, train_loss_step=21\n",
      "Validation: |                                             | 0/? [00:00<?, ?it/s]\u001b[A\n",
      "Validation:   0%|                                        | 0/20 [00:00<?, ?it/s]\u001b[A\n",
      "Validation DataLoader 0:   0%|                           | 0/20 [00:00<?, ?it/s]\u001b[AMultinomial: 19.514734268188477, Poisson: -0.09320099651813507\n",
      "\n",
      "Validation DataLoader 0:   5%|▉                  | 1/20 [00:00<00:07,  2.62it/s]\u001b[AMultinomial: 18.818254470825195, Poisson: -0.08965397626161575\n",
      "\n",
      "Validation DataLoader 0:  10%|█▉                 | 2/20 [00:00<00:06,  2.62it/s]\u001b[AMultinomial: 18.63571548461914, Poisson: -0.088783398270607\n",
      "\n",
      "Validation DataLoader 0:  15%|██▊                | 3/20 [00:01<00:06,  2.62it/s]\u001b[AMultinomial: 19.797319412231445, Poisson: -0.09451193362474442\n",
      "\n",
      "Validation DataLoader 0:  20%|███▊               | 4/20 [00:01<00:06,  2.62it/s]\u001b[AMultinomial: 20.273591995239258, Poisson: -0.09709464758634567\n",
      "\n",
      "Validation DataLoader 0:  25%|████▊              | 5/20 [00:01<00:05,  2.62it/s]\u001b[AMultinomial: 19.922433853149414, Poisson: -0.09524175524711609\n",
      "\n",
      "Validation DataLoader 0:  30%|█████▋             | 6/20 [00:02<00:05,  2.62it/s]\u001b[AMultinomial: 21.112348556518555, Poisson: -0.10127491503953934\n",
      "\n",
      "Validation DataLoader 0:  35%|██████▋            | 7/20 [00:02<00:04,  2.63it/s]\u001b[AMultinomial: 18.9930419921875, Poisson: -0.0905192568898201\n",
      "\n",
      "Validation DataLoader 0:  40%|███████▌           | 8/20 [00:03<00:04,  2.63it/s]\u001b[AMultinomial: 19.534196853637695, Poisson: -0.09339125454425812\n",
      "\n",
      "Validation DataLoader 0:  45%|████████▌          | 9/20 [00:03<00:04,  2.63it/s]\u001b[AMultinomial: 19.88425064086914, Poisson: -0.09518951177597046\n",
      "\n",
      "Validation DataLoader 0:  50%|█████████         | 10/20 [00:03<00:03,  2.63it/s]\u001b[AMultinomial: 19.57603645324707, Poisson: -0.09366699308156967\n",
      "\n",
      "Validation DataLoader 0:  55%|█████████▉        | 11/20 [00:04<00:03,  2.63it/s]\u001b[AMultinomial: 18.195417404174805, Poisson: -0.08645414561033249\n",
      "\n",
      "Validation DataLoader 0:  60%|██████████▊       | 12/20 [00:04<00:03,  2.63it/s]\u001b[AMultinomial: 21.404985427856445, Poisson: -0.10277634114027023\n",
      "\n",
      "Validation DataLoader 0:  65%|███████████▋      | 13/20 [00:04<00:02,  2.63it/s]\u001b[AMultinomial: 19.59984016418457, Poisson: -0.09381941705942154\n",
      "\n",
      "Validation DataLoader 0:  70%|████████████▌     | 14/20 [00:05<00:02,  2.63it/s]\u001b[AMultinomial: 20.4822940826416, Poisson: -0.09816457331180573\n",
      "\n",
      "Validation DataLoader 0:  75%|█████████████▌    | 15/20 [00:05<00:01,  2.63it/s]\u001b[AMultinomial: 19.780786514282227, Poisson: -0.09457726776599884\n",
      "\n",
      "Validation DataLoader 0:  80%|██████████████▍   | 16/20 [00:06<00:01,  2.63it/s]\u001b[AMultinomial: 20.072914123535156, Poisson: -0.09595169126987457\n",
      "\n",
      "Validation DataLoader 0:  85%|███████████████▎  | 17/20 [00:06<00:01,  2.63it/s]\u001b[AMultinomial: 19.8361873626709, Poisson: -0.0949714183807373\n",
      "\n",
      "Validation DataLoader 0:  90%|████████████████▏ | 18/20 [00:06<00:00,  2.63it/s]\u001b[AMultinomial: 19.615238189697266, Poisson: -0.09382970631122589\n",
      "\n",
      "Validation DataLoader 0:  95%|█████████████████ | 19/20 [00:07<00:00,  2.63it/s]\u001b[AMultinomial: 16.728252410888672, Poisson: -0.0794176459312439\n",
      "\n",
      "Validation DataLoader 0: 100%|██████████████████| 20/20 [00:07<00:00,  2.70it/s]\u001b[A\n",
      "Epoch 0: 100%|█| 206/206 [03:57<00:00,  0.87it/s, v_num=ga92, train_loss_step=21^CA\n"
     ]
    }
   ],
   "source": [
    "!decima finetune --name finetune_test_3 --model 3 --device 3 --matrix-file ./data.h5ad --h5-file ./data.h5 --outdir . --learning-rate 5e-05 --loss-total-weight 0.0001 --gradient-accumulation 5 --batch-size 4 --max-seq-shift 5000 --epochs 15 --logger wandb --num-workers 16"
   ]
  },
  {
   "cell_type": "code",
   "execution_count": null,
   "id": "b84f6160-3921-437c-9573-b23458440dc5",
   "metadata": {},
   "outputs": [],
   "source": []
  },
  {
   "cell_type": "code",
   "execution_count": null,
   "id": "335aa3fd-a956-4b48-b175-addde8ff173e",
   "metadata": {},
   "outputs": [],
   "source": []
  }
 ],
 "metadata": {
  "kernelspec": {
   "display_name": "Python 3 (ipykernel)",
   "language": "python",
   "name": "python3"
  },
  "language_info": {
   "codemirror_mode": {
    "name": "ipython",
    "version": 3
   },
   "file_extension": ".py",
   "mimetype": "text/x-python",
   "name": "python",
   "nbconvert_exporter": "python",
   "pygments_lexer": "ipython3",
   "version": "3.11.10"
  }
 },
 "nbformat": 4,
 "nbformat_minor": 5
}
