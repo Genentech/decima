{
 "cells": [
  {
   "cell_type": "markdown",
   "id": "10fdb752-2248-4e3a-9678-2e0bf2288790",
   "metadata": {},
   "source": [
    "# Fine-tuning Borzoi to create a Decima model"
   ]
  },
  {
   "cell_type": "code",
   "execution_count": 1,
   "id": "c6dbf5fc-85ca-42a8-b076-ba0313604e91",
   "metadata": {},
   "outputs": [],
   "source": [
    "import scanpy as sc\n",
    "import pandas as pd\n",
    "import bioframe as bf\n",
    "import os"
   ]
  },
  {
   "cell_type": "code",
   "execution_count": 2,
   "id": "a8563bf1-0305-437b-81fa-0584753c5793",
   "metadata": {},
   "outputs": [],
   "source": [
    "outdir = \".\"\n",
    "ad_file_path = os.path.join(outdir, \"data.h5ad\")\n",
    "h5_file_path = os.path.join(outdir, \"data.h5\")"
   ]
  },
  {
   "cell_type": "markdown",
   "id": "4215ffc0-6a14-44b4-b522-7d4322a7cafe",
   "metadata": {},
   "source": [
    "## 1. Load input anndata file"
   ]
  },
  {
   "cell_type": "markdown",
   "id": "f36c3e31-e447-42b8-b785-5d75b1a1007f",
   "metadata": {},
   "source": [
    "The input anndata file needs to be in the format (pseudobulks x genes)."
   ]
  },
  {
   "cell_type": "code",
   "execution_count": 3,
   "id": "83273dca-0622-42e2-a606-b645e0a31f19",
   "metadata": {},
   "outputs": [
    {
     "data": {
      "text/plain": [
       "AnnData object with n_obs × n_vars = 50 × 1000\n",
       "    obs: 'cell_type', 'tissue', 'disease', 'study'\n",
       "    var: 'chrom', 'start', 'end', 'strand'"
      ]
     },
     "execution_count": 3,
     "metadata": {},
     "output_type": "execute_result"
    }
   ],
   "source": [
    "ad = sc.read(\"data/test_data.h5ad\")\n",
    "ad"
   ]
  },
  {
   "cell_type": "markdown",
   "id": "dcb6c9a7-5e97-46fc-a2d3-fe029821c375",
   "metadata": {},
   "source": [
    "`.obs` should be a dataframe with a unique index per pseudobulk. You can also include other columns with metadata about the pseudobulks, e.g. cell type, tissue, disease, study, number of cells, total counts."
   ]
  },
  {
   "cell_type": "code",
   "execution_count": 4,
   "id": "e29ca0c0-5f61-4146-b187-d11cc57373d0",
   "metadata": {},
   "outputs": [
    {
     "data": {
      "text/html": [
       "<div>\n",
       "<style scoped>\n",
       "    .dataframe tbody tr th:only-of-type {\n",
       "        vertical-align: middle;\n",
       "    }\n",
       "\n",
       "    .dataframe tbody tr th {\n",
       "        vertical-align: top;\n",
       "    }\n",
       "\n",
       "    .dataframe thead th {\n",
       "        text-align: right;\n",
       "    }\n",
       "</style>\n",
       "<table border=\"1\" class=\"dataframe\">\n",
       "  <thead>\n",
       "    <tr style=\"text-align: right;\">\n",
       "      <th></th>\n",
       "      <th>cell_type</th>\n",
       "      <th>tissue</th>\n",
       "      <th>disease</th>\n",
       "      <th>study</th>\n",
       "    </tr>\n",
       "  </thead>\n",
       "  <tbody>\n",
       "    <tr>\n",
       "      <th>pseudobulk_0</th>\n",
       "      <td>ct_0</td>\n",
       "      <td>t_0</td>\n",
       "      <td>d_0</td>\n",
       "      <td>st_0</td>\n",
       "    </tr>\n",
       "    <tr>\n",
       "      <th>pseudobulk_1</th>\n",
       "      <td>ct_0</td>\n",
       "      <td>t_0</td>\n",
       "      <td>d_1</td>\n",
       "      <td>st_0</td>\n",
       "    </tr>\n",
       "    <tr>\n",
       "      <th>pseudobulk_2</th>\n",
       "      <td>ct_0</td>\n",
       "      <td>t_0</td>\n",
       "      <td>d_2</td>\n",
       "      <td>st_1</td>\n",
       "    </tr>\n",
       "    <tr>\n",
       "      <th>pseudobulk_3</th>\n",
       "      <td>ct_0</td>\n",
       "      <td>t_0</td>\n",
       "      <td>d_0</td>\n",
       "      <td>st_1</td>\n",
       "    </tr>\n",
       "    <tr>\n",
       "      <th>pseudobulk_4</th>\n",
       "      <td>ct_0</td>\n",
       "      <td>t_0</td>\n",
       "      <td>d_1</td>\n",
       "      <td>st_2</td>\n",
       "    </tr>\n",
       "  </tbody>\n",
       "</table>\n",
       "</div>"
      ],
      "text/plain": [
       "             cell_type tissue disease study\n",
       "pseudobulk_0      ct_0    t_0     d_0  st_0\n",
       "pseudobulk_1      ct_0    t_0     d_1  st_0\n",
       "pseudobulk_2      ct_0    t_0     d_2  st_1\n",
       "pseudobulk_3      ct_0    t_0     d_0  st_1\n",
       "pseudobulk_4      ct_0    t_0     d_1  st_2"
      ]
     },
     "execution_count": 4,
     "metadata": {},
     "output_type": "execute_result"
    }
   ],
   "source": [
    "ad.obs.head()"
   ]
  },
  {
   "cell_type": "markdown",
   "id": "ab69e185-0d58-41e1-8d04-c60a4ed24ef5",
   "metadata": {},
   "source": [
    "`.var` should be a dataframe with a unique index per gene. The index can be the gene name or Ensembl ID, as long as it is unique. Other essential columns are: chrom, start, end and strand (the gene coordinates).\n",
    "\n",
    "You can also include other columns with metadata about the genes, e.g. Ensembl ID, type of gene."
   ]
  },
  {
   "cell_type": "code",
   "execution_count": 5,
   "id": "a79a70c0-5a33-46dc-b363-4e9df6ab2b8a",
   "metadata": {},
   "outputs": [
    {
     "data": {
      "text/html": [
       "<div>\n",
       "<style scoped>\n",
       "    .dataframe tbody tr th:only-of-type {\n",
       "        vertical-align: middle;\n",
       "    }\n",
       "\n",
       "    .dataframe tbody tr th {\n",
       "        vertical-align: top;\n",
       "    }\n",
       "\n",
       "    .dataframe thead th {\n",
       "        text-align: right;\n",
       "    }\n",
       "</style>\n",
       "<table border=\"1\" class=\"dataframe\">\n",
       "  <thead>\n",
       "    <tr style=\"text-align: right;\">\n",
       "      <th></th>\n",
       "      <th>chrom</th>\n",
       "      <th>start</th>\n",
       "      <th>end</th>\n",
       "      <th>strand</th>\n",
       "    </tr>\n",
       "  </thead>\n",
       "  <tbody>\n",
       "    <tr>\n",
       "      <th>gene_0</th>\n",
       "      <td>chr1</td>\n",
       "      <td>28648600</td>\n",
       "      <td>28648730</td>\n",
       "      <td>+</td>\n",
       "    </tr>\n",
       "    <tr>\n",
       "      <th>gene_1</th>\n",
       "      <td>chr19</td>\n",
       "      <td>39341773</td>\n",
       "      <td>39341945</td>\n",
       "      <td>-</td>\n",
       "    </tr>\n",
       "    <tr>\n",
       "      <th>gene_2</th>\n",
       "      <td>chr1</td>\n",
       "      <td>78004346</td>\n",
       "      <td>78004554</td>\n",
       "      <td>-</td>\n",
       "    </tr>\n",
       "    <tr>\n",
       "      <th>gene_3</th>\n",
       "      <td>chr8</td>\n",
       "      <td>143290399</td>\n",
       "      <td>143290621</td>\n",
       "      <td>-</td>\n",
       "    </tr>\n",
       "    <tr>\n",
       "      <th>gene_4</th>\n",
       "      <td>chr16</td>\n",
       "      <td>1971655</td>\n",
       "      <td>1971896</td>\n",
       "      <td>-</td>\n",
       "    </tr>\n",
       "  </tbody>\n",
       "</table>\n",
       "</div>"
      ],
      "text/plain": [
       "        chrom      start        end strand\n",
       "gene_0   chr1   28648600   28648730      +\n",
       "gene_1  chr19   39341773   39341945      -\n",
       "gene_2   chr1   78004346   78004554      -\n",
       "gene_3   chr8  143290399  143290621      -\n",
       "gene_4  chr16    1971655    1971896      -"
      ]
     },
     "execution_count": 5,
     "metadata": {},
     "output_type": "execute_result"
    }
   ],
   "source": [
    "ad.var.head()"
   ]
  },
  {
   "cell_type": "markdown",
   "id": "55cd3f29-8bf7-47f8-8942-bd906a856ab7",
   "metadata": {},
   "source": [
    "`.X` should contain the total counts per gene and pseudobulk. These should be non-negative integers."
   ]
  },
  {
   "cell_type": "code",
   "execution_count": 6,
   "id": "3fd9bd2a-e728-4dc5-9c90-a9558fab0e27",
   "metadata": {},
   "outputs": [
    {
     "data": {
      "text/plain": [
       "array([[ 0, 36, 82,  0, 53],\n",
       "       [29, 84,  0, 33, 27],\n",
       "       [12, 33, 24, 60, 57],\n",
       "       [32,  0, 51, 77, 42],\n",
       "       [37,  2,  0,  0, 80]])"
      ]
     },
     "execution_count": 6,
     "metadata": {},
     "output_type": "execute_result"
    }
   ],
   "source": [
    "ad.X[:5, :5]"
   ]
  },
  {
   "cell_type": "markdown",
   "id": "9514b0b9-9cc3-48f0-9e70-897c1cb55962",
   "metadata": {},
   "source": [
    "## 2. Normalize and log transform data"
   ]
  },
  {
   "cell_type": "markdown",
   "id": "cbca4273-1752-47dd-9b3a-9b29266787e3",
   "metadata": {},
   "source": [
    "We first transform the counts to log(CPM+1) values. CPM = Counts Per Million."
   ]
  },
  {
   "cell_type": "code",
   "execution_count": 7,
   "id": "34115f7a-aaf8-4ca3-abbb-a4fc552bf5a7",
   "metadata": {},
   "outputs": [],
   "source": [
    "sc.pp.normalize_total(ad, target_sum=1e6)\n",
    "sc.pp.log1p(ad) "
   ]
  },
  {
   "cell_type": "code",
   "execution_count": 8,
   "id": "e42a91c7-ac01-45b3-8d3b-6c99baf7adff",
   "metadata": {},
   "outputs": [
    {
     "data": {
      "text/plain": [
       "array([[0.       , 6.921574 , 7.7442207, 0.       , 7.3080306],\n",
       "       [6.6934667, 7.756176 , 0.       , 6.822528 , 6.6220994],\n",
       "       [5.8283887, 6.838115 , 6.5200634, 7.4354696, 7.3842077],\n",
       "       [6.832712 , 0.       , 7.2984004, 7.7101517, 7.104389 ],\n",
       "       [6.996557 , 4.0946727, 0.       , 0.       , 7.767174 ]],\n",
       "      dtype=float32)"
      ]
     },
     "execution_count": 8,
     "metadata": {},
     "output_type": "execute_result"
    }
   ],
   "source": [
    "ad.X[:5, :5]"
   ]
  },
  {
   "cell_type": "markdown",
   "id": "1556f595-d4c7-4944-905e-060e4ae1c4f6",
   "metadata": {},
   "source": [
    "## 3. Create intervals surrounding genes"
   ]
  },
  {
   "cell_type": "markdown",
   "id": "ff51db62-9c1d-4af7-b188-fed7b038e3fa",
   "metadata": {},
   "source": [
    "Decima is trained on 524,288 bp sequence surrounding the genes. Therefore, we have to take the given gene coordinates and extend them to create intervals of this length."
   ]
  },
  {
   "cell_type": "code",
   "execution_count": 9,
   "id": "86905140-4b30-424b-91ce-090a0a56ebab",
   "metadata": {},
   "outputs": [
    {
     "name": "stderr",
     "output_type": "stream",
     "text": [
      "/opt/conda/lib/python3.11/site-packages/tqdm/auto.py:21: TqdmWarning: IProgress not found. Please update jupyter and ipywidgets. See https://ipywidgets.readthedocs.io/en/stable/user_install.html\n",
      "  from .autonotebook import tqdm as notebook_tqdm\n"
     ]
    }
   ],
   "source": [
    "from decima.data.preprocess import var_to_intervals"
   ]
  },
  {
   "cell_type": "code",
   "execution_count": 10,
   "id": "d027eb23-48d6-40d9-9e30-b5c7691a7c53",
   "metadata": {},
   "outputs": [
    {
     "data": {
      "text/html": [
       "<div>\n",
       "<style scoped>\n",
       "    .dataframe tbody tr th:only-of-type {\n",
       "        vertical-align: middle;\n",
       "    }\n",
       "\n",
       "    .dataframe tbody tr th {\n",
       "        vertical-align: top;\n",
       "    }\n",
       "\n",
       "    .dataframe thead th {\n",
       "        text-align: right;\n",
       "    }\n",
       "</style>\n",
       "<table border=\"1\" class=\"dataframe\">\n",
       "  <thead>\n",
       "    <tr style=\"text-align: right;\">\n",
       "      <th></th>\n",
       "      <th>chrom</th>\n",
       "      <th>start</th>\n",
       "      <th>end</th>\n",
       "      <th>strand</th>\n",
       "    </tr>\n",
       "  </thead>\n",
       "  <tbody>\n",
       "    <tr>\n",
       "      <th>gene_0</th>\n",
       "      <td>chr1</td>\n",
       "      <td>28648600</td>\n",
       "      <td>28648730</td>\n",
       "      <td>+</td>\n",
       "    </tr>\n",
       "    <tr>\n",
       "      <th>gene_1</th>\n",
       "      <td>chr19</td>\n",
       "      <td>39341773</td>\n",
       "      <td>39341945</td>\n",
       "      <td>-</td>\n",
       "    </tr>\n",
       "    <tr>\n",
       "      <th>gene_2</th>\n",
       "      <td>chr1</td>\n",
       "      <td>78004346</td>\n",
       "      <td>78004554</td>\n",
       "      <td>-</td>\n",
       "    </tr>\n",
       "    <tr>\n",
       "      <th>gene_3</th>\n",
       "      <td>chr8</td>\n",
       "      <td>143290399</td>\n",
       "      <td>143290621</td>\n",
       "      <td>-</td>\n",
       "    </tr>\n",
       "    <tr>\n",
       "      <th>gene_4</th>\n",
       "      <td>chr16</td>\n",
       "      <td>1971655</td>\n",
       "      <td>1971896</td>\n",
       "      <td>-</td>\n",
       "    </tr>\n",
       "  </tbody>\n",
       "</table>\n",
       "</div>"
      ],
      "text/plain": [
       "        chrom      start        end strand\n",
       "gene_0   chr1   28648600   28648730      +\n",
       "gene_1  chr19   39341773   39341945      -\n",
       "gene_2   chr1   78004346   78004554      -\n",
       "gene_3   chr8  143290399  143290621      -\n",
       "gene_4  chr16    1971655    1971896      -"
      ]
     },
     "execution_count": 10,
     "metadata": {},
     "output_type": "execute_result"
    }
   ],
   "source": [
    "ad.var.head()"
   ]
  },
  {
   "cell_type": "markdown",
   "id": "0f067d6e-f0d7-48f9-b973-032fac069159",
   "metadata": {},
   "source": [
    "First, we copy the start and end columns to `gene_start` and `gene_end`. We also create a new column `gene_length`. "
   ]
  },
  {
   "cell_type": "code",
   "execution_count": 11,
   "id": "566977ab-041f-4a3d-b10e-9b6fa717c98e",
   "metadata": {},
   "outputs": [],
   "source": [
    "ad.var['gene_start'] = ad.var.start.tolist()\n",
    "ad.var['gene_end'] = ad.var.end.tolist()\n",
    "ad.var['gene_length'] = ad.var['gene_end'] - ad.var['gene_start']"
   ]
  },
  {
   "cell_type": "code",
   "execution_count": 12,
   "id": "e23e95dd-6616-4f79-8d1b-3a0fe22816d0",
   "metadata": {},
   "outputs": [
    {
     "data": {
      "text/html": [
       "<div>\n",
       "<style scoped>\n",
       "    .dataframe tbody tr th:only-of-type {\n",
       "        vertical-align: middle;\n",
       "    }\n",
       "\n",
       "    .dataframe tbody tr th {\n",
       "        vertical-align: top;\n",
       "    }\n",
       "\n",
       "    .dataframe thead th {\n",
       "        text-align: right;\n",
       "    }\n",
       "</style>\n",
       "<table border=\"1\" class=\"dataframe\">\n",
       "  <thead>\n",
       "    <tr style=\"text-align: right;\">\n",
       "      <th></th>\n",
       "      <th>chrom</th>\n",
       "      <th>start</th>\n",
       "      <th>end</th>\n",
       "      <th>strand</th>\n",
       "      <th>gene_start</th>\n",
       "      <th>gene_end</th>\n",
       "      <th>gene_length</th>\n",
       "    </tr>\n",
       "  </thead>\n",
       "  <tbody>\n",
       "    <tr>\n",
       "      <th>gene_0</th>\n",
       "      <td>chr1</td>\n",
       "      <td>28648600</td>\n",
       "      <td>28648730</td>\n",
       "      <td>+</td>\n",
       "      <td>28648600</td>\n",
       "      <td>28648730</td>\n",
       "      <td>130</td>\n",
       "    </tr>\n",
       "    <tr>\n",
       "      <th>gene_1</th>\n",
       "      <td>chr19</td>\n",
       "      <td>39341773</td>\n",
       "      <td>39341945</td>\n",
       "      <td>-</td>\n",
       "      <td>39341773</td>\n",
       "      <td>39341945</td>\n",
       "      <td>172</td>\n",
       "    </tr>\n",
       "    <tr>\n",
       "      <th>gene_2</th>\n",
       "      <td>chr1</td>\n",
       "      <td>78004346</td>\n",
       "      <td>78004554</td>\n",
       "      <td>-</td>\n",
       "      <td>78004346</td>\n",
       "      <td>78004554</td>\n",
       "      <td>208</td>\n",
       "    </tr>\n",
       "    <tr>\n",
       "      <th>gene_3</th>\n",
       "      <td>chr8</td>\n",
       "      <td>143290399</td>\n",
       "      <td>143290621</td>\n",
       "      <td>-</td>\n",
       "      <td>143290399</td>\n",
       "      <td>143290621</td>\n",
       "      <td>222</td>\n",
       "    </tr>\n",
       "    <tr>\n",
       "      <th>gene_4</th>\n",
       "      <td>chr16</td>\n",
       "      <td>1971655</td>\n",
       "      <td>1971896</td>\n",
       "      <td>-</td>\n",
       "      <td>1971655</td>\n",
       "      <td>1971896</td>\n",
       "      <td>241</td>\n",
       "    </tr>\n",
       "  </tbody>\n",
       "</table>\n",
       "</div>"
      ],
      "text/plain": [
       "        chrom      start        end strand  gene_start   gene_end  gene_length\n",
       "gene_0   chr1   28648600   28648730      +    28648600   28648730          130\n",
       "gene_1  chr19   39341773   39341945      -    39341773   39341945          172\n",
       "gene_2   chr1   78004346   78004554      -    78004346   78004554          208\n",
       "gene_3   chr8  143290399  143290621      -   143290399  143290621          222\n",
       "gene_4  chr16    1971655    1971896      -     1971655    1971896          241"
      ]
     },
     "execution_count": 12,
     "metadata": {},
     "output_type": "execute_result"
    }
   ],
   "source": [
    "ad.var.head()"
   ]
  },
  {
   "cell_type": "markdown",
   "id": "33edbd2f-66f2-48db-ae30-f9aef55c78c3",
   "metadata": {},
   "source": [
    "Now, we extend the gene coordinates to create enclosing intervals:"
   ]
  },
  {
   "cell_type": "code",
   "execution_count": 13,
   "id": "c40ebdb5-2d8c-4cce-9685-61d5db0123f3",
   "metadata": {},
   "outputs": [
    {
     "name": "stdout",
     "output_type": "stream",
     "text": [
      "The interval size is 524288 bases. Of these, 163840 will be upstream of the gene start and 360448 will be downstream of the gene start.\n",
      "2 intervals extended beyond the chromosome start and have been shifted\n",
      "0 intervals extended beyond the chromosome end and have been shifted\n",
      "0 intervals did not extend far enough upstream of the TSS and have been dropped\n"
     ]
    }
   ],
   "source": [
    "ad = var_to_intervals(ad, chr_end_pad = 10000, genome=\"hg38\") \n",
    "# Replace genome name if necessary"
   ]
  },
  {
   "cell_type": "code",
   "execution_count": 14,
   "id": "191ed1e0-d34f-4aa4-a8e7-bc5919642528",
   "metadata": {},
   "outputs": [
    {
     "data": {
      "text/html": [
       "<div>\n",
       "<style scoped>\n",
       "    .dataframe tbody tr th:only-of-type {\n",
       "        vertical-align: middle;\n",
       "    }\n",
       "\n",
       "    .dataframe tbody tr th {\n",
       "        vertical-align: top;\n",
       "    }\n",
       "\n",
       "    .dataframe thead th {\n",
       "        text-align: right;\n",
       "    }\n",
       "</style>\n",
       "<table border=\"1\" class=\"dataframe\">\n",
       "  <thead>\n",
       "    <tr style=\"text-align: right;\">\n",
       "      <th></th>\n",
       "      <th>chrom</th>\n",
       "      <th>start</th>\n",
       "      <th>end</th>\n",
       "      <th>strand</th>\n",
       "      <th>gene_start</th>\n",
       "      <th>gene_end</th>\n",
       "      <th>gene_length</th>\n",
       "      <th>gene_mask_start</th>\n",
       "      <th>gene_mask_end</th>\n",
       "    </tr>\n",
       "  </thead>\n",
       "  <tbody>\n",
       "    <tr>\n",
       "      <th>gene_0</th>\n",
       "      <td>chr1</td>\n",
       "      <td>28484760</td>\n",
       "      <td>29009048</td>\n",
       "      <td>+</td>\n",
       "      <td>28648600</td>\n",
       "      <td>28648730</td>\n",
       "      <td>130</td>\n",
       "      <td>163840</td>\n",
       "      <td>163970</td>\n",
       "    </tr>\n",
       "    <tr>\n",
       "      <th>gene_1</th>\n",
       "      <td>chr19</td>\n",
       "      <td>38981497</td>\n",
       "      <td>39505785</td>\n",
       "      <td>-</td>\n",
       "      <td>39341773</td>\n",
       "      <td>39341945</td>\n",
       "      <td>172</td>\n",
       "      <td>163840</td>\n",
       "      <td>164012</td>\n",
       "    </tr>\n",
       "    <tr>\n",
       "      <th>gene_2</th>\n",
       "      <td>chr1</td>\n",
       "      <td>77644106</td>\n",
       "      <td>78168394</td>\n",
       "      <td>-</td>\n",
       "      <td>78004346</td>\n",
       "      <td>78004554</td>\n",
       "      <td>208</td>\n",
       "      <td>163840</td>\n",
       "      <td>164048</td>\n",
       "    </tr>\n",
       "    <tr>\n",
       "      <th>gene_3</th>\n",
       "      <td>chr8</td>\n",
       "      <td>142930173</td>\n",
       "      <td>143454461</td>\n",
       "      <td>-</td>\n",
       "      <td>143290399</td>\n",
       "      <td>143290621</td>\n",
       "      <td>222</td>\n",
       "      <td>163840</td>\n",
       "      <td>164062</td>\n",
       "    </tr>\n",
       "    <tr>\n",
       "      <th>gene_4</th>\n",
       "      <td>chr16</td>\n",
       "      <td>1611448</td>\n",
       "      <td>2135736</td>\n",
       "      <td>-</td>\n",
       "      <td>1971655</td>\n",
       "      <td>1971896</td>\n",
       "      <td>241</td>\n",
       "      <td>163840</td>\n",
       "      <td>164081</td>\n",
       "    </tr>\n",
       "  </tbody>\n",
       "</table>\n",
       "</div>"
      ],
      "text/plain": [
       "        chrom      start        end strand  gene_start   gene_end  \\\n",
       "gene_0   chr1   28484760   29009048      +    28648600   28648730   \n",
       "gene_1  chr19   38981497   39505785      -    39341773   39341945   \n",
       "gene_2   chr1   77644106   78168394      -    78004346   78004554   \n",
       "gene_3   chr8  142930173  143454461      -   143290399  143290621   \n",
       "gene_4  chr16    1611448    2135736      -     1971655    1971896   \n",
       "\n",
       "        gene_length  gene_mask_start  gene_mask_end  \n",
       "gene_0          130           163840         163970  \n",
       "gene_1          172           163840         164012  \n",
       "gene_2          208           163840         164048  \n",
       "gene_3          222           163840         164062  \n",
       "gene_4          241           163840         164081  "
      ]
     },
     "execution_count": 14,
     "metadata": {},
     "output_type": "execute_result"
    }
   ],
   "source": [
    "ad.var.head()"
   ]
  },
  {
   "cell_type": "markdown",
   "id": "5733a394-28f5-487e-b967-18aad52cf423",
   "metadata": {},
   "source": [
    "You see that the columns `start` and `end` now contain the start and end coordinates for the 524,288 bp intervals."
   ]
  },
  {
   "cell_type": "markdown",
   "id": "1a8df107-f38e-428b-8bda-47101708ebc7",
   "metadata": {},
   "source": [
    "## 3. Split genes into training, validation and test sets"
   ]
  },
  {
   "cell_type": "markdown",
   "id": "747d3b4b-784f-4735-af81-ab5db4002a9d",
   "metadata": {},
   "source": [
    "We load the coordinates of the genomic regions used to train Borzoi:"
   ]
  },
  {
   "cell_type": "code",
   "execution_count": 15,
   "id": "8f4db77e-71f1-4457-b5cf-8c5f8f98ad06",
   "metadata": {},
   "outputs": [
    {
     "data": {
      "text/html": [
       "<div>\n",
       "<style scoped>\n",
       "    .dataframe tbody tr th:only-of-type {\n",
       "        vertical-align: middle;\n",
       "    }\n",
       "\n",
       "    .dataframe tbody tr th {\n",
       "        vertical-align: top;\n",
       "    }\n",
       "\n",
       "    .dataframe thead th {\n",
       "        text-align: right;\n",
       "    }\n",
       "</style>\n",
       "<table border=\"1\" class=\"dataframe\">\n",
       "  <thead>\n",
       "    <tr style=\"text-align: right;\">\n",
       "      <th></th>\n",
       "      <th>chrom</th>\n",
       "      <th>start</th>\n",
       "      <th>end</th>\n",
       "      <th>fold</th>\n",
       "    </tr>\n",
       "  </thead>\n",
       "  <tbody>\n",
       "    <tr>\n",
       "      <th>0</th>\n",
       "      <td>chr4</td>\n",
       "      <td>82524421</td>\n",
       "      <td>82721029</td>\n",
       "      <td>fold0</td>\n",
       "    </tr>\n",
       "    <tr>\n",
       "      <th>1</th>\n",
       "      <td>chr13</td>\n",
       "      <td>18604798</td>\n",
       "      <td>18801406</td>\n",
       "      <td>fold0</td>\n",
       "    </tr>\n",
       "    <tr>\n",
       "      <th>2</th>\n",
       "      <td>chr2</td>\n",
       "      <td>189923408</td>\n",
       "      <td>190120016</td>\n",
       "      <td>fold0</td>\n",
       "    </tr>\n",
       "    <tr>\n",
       "      <th>3</th>\n",
       "      <td>chr10</td>\n",
       "      <td>59875743</td>\n",
       "      <td>60072351</td>\n",
       "      <td>fold0</td>\n",
       "    </tr>\n",
       "    <tr>\n",
       "      <th>4</th>\n",
       "      <td>chr1</td>\n",
       "      <td>117109467</td>\n",
       "      <td>117306075</td>\n",
       "      <td>fold0</td>\n",
       "    </tr>\n",
       "  </tbody>\n",
       "</table>\n",
       "</div>"
      ],
      "text/plain": [
       "   chrom      start        end   fold\n",
       "0   chr4   82524421   82721029  fold0\n",
       "1  chr13   18604798   18801406  fold0\n",
       "2   chr2  189923408  190120016  fold0\n",
       "3  chr10   59875743   60072351  fold0\n",
       "4   chr1  117109467  117306075  fold0"
      ]
     },
     "execution_count": 15,
     "metadata": {},
     "output_type": "execute_result"
    }
   ],
   "source": [
    "splits_file = 'https://raw.githubusercontent.com/calico/borzoi/main/data/sequences_human.bed.gz' \n",
    "# replace human with mouse for mm10 splits\n",
    "splits = pd.read_table(splits_file, header=None, names=['chrom', 'start', 'end', 'fold'])\n",
    "splits.head()"
   ]
  },
  {
   "cell_type": "markdown",
   "id": "e7229a5f-d27e-48b3-8590-a23474635542",
   "metadata": {},
   "source": [
    "Now, we overlap our gene intervals with these regions:"
   ]
  },
  {
   "cell_type": "code",
   "execution_count": 16,
   "id": "99d1a382-1384-41ea-b59a-bb4aaa26caba",
   "metadata": {},
   "outputs": [
    {
     "data": {
      "text/html": [
       "<div>\n",
       "<style scoped>\n",
       "    .dataframe tbody tr th:only-of-type {\n",
       "        vertical-align: middle;\n",
       "    }\n",
       "\n",
       "    .dataframe tbody tr th {\n",
       "        vertical-align: top;\n",
       "    }\n",
       "\n",
       "    .dataframe thead th {\n",
       "        text-align: right;\n",
       "    }\n",
       "</style>\n",
       "<table border=\"1\" class=\"dataframe\">\n",
       "  <thead>\n",
       "    <tr style=\"text-align: right;\">\n",
       "      <th></th>\n",
       "      <th>gene</th>\n",
       "      <th>fold_</th>\n",
       "    </tr>\n",
       "  </thead>\n",
       "  <tbody>\n",
       "    <tr>\n",
       "      <th>0</th>\n",
       "      <td>gene_0</td>\n",
       "      <td>fold5</td>\n",
       "    </tr>\n",
       "    <tr>\n",
       "      <th>15</th>\n",
       "      <td>gene_1</td>\n",
       "      <td>fold0</td>\n",
       "    </tr>\n",
       "    <tr>\n",
       "      <th>30</th>\n",
       "      <td>gene_2</td>\n",
       "      <td>fold0</td>\n",
       "    </tr>\n",
       "    <tr>\n",
       "      <th>45</th>\n",
       "      <td>gene_3</td>\n",
       "      <td>fold4</td>\n",
       "    </tr>\n",
       "    <tr>\n",
       "      <th>60</th>\n",
       "      <td>gene_4</td>\n",
       "      <td>fold0</td>\n",
       "    </tr>\n",
       "  </tbody>\n",
       "</table>\n",
       "</div>"
      ],
      "text/plain": [
       "      gene  fold_\n",
       "0   gene_0  fold5\n",
       "15  gene_1  fold0\n",
       "30  gene_2  fold0\n",
       "45  gene_3  fold4\n",
       "60  gene_4  fold0"
      ]
     },
     "execution_count": 16,
     "metadata": {},
     "output_type": "execute_result"
    }
   ],
   "source": [
    "overlaps = bf.overlap(ad.var.reset_index(names=\"gene\"), splits, how='left')\n",
    "overlaps = overlaps[['gene', 'fold_']].drop_duplicates().astype(str)\n",
    "overlaps.head()"
   ]
  },
  {
   "cell_type": "markdown",
   "id": "26a1a415-5299-48d6-94e0-7ee008d2bcc3",
   "metadata": {},
   "source": [
    "Based on the overlap, we divide our gene intervals into training, validation and test sets."
   ]
  },
  {
   "cell_type": "code",
   "execution_count": 17,
   "id": "14180e40-c296-4f6f-b353-a07f383a7aae",
   "metadata": {},
   "outputs": [],
   "source": [
    "test_genes = overlaps.gene[overlaps.fold_=='fold3'].tolist()\n",
    "val_genes = overlaps.gene[overlaps.fold_=='fold4'].tolist()\n",
    "train_genes = set(overlaps.gene).difference(set(test_genes).union(val_genes))"
   ]
  },
  {
   "cell_type": "markdown",
   "id": "d6dc73a9-42d2-46c9-8176-34edbd70125d",
   "metadata": {},
   "source": [
    "And add this information back to `ad.var`."
   ]
  },
  {
   "cell_type": "code",
   "execution_count": 18,
   "id": "ed8411d8-aecf-4196-bcc3-7635c1b4f34a",
   "metadata": {},
   "outputs": [
    {
     "name": "stderr",
     "output_type": "stream",
     "text": [
      "/tmp/ipykernel_60192/1980240170.py:1: ImplicitModificationWarning: Trying to modify attribute `.var` of view, initializing view as actual.\n"
     ]
    }
   ],
   "source": [
    "ad.var[\"dataset\"] = \"test\"   \n",
    "ad.var.loc[ad.var.index.isin(val_genes), \"dataset\"] = \"val\"\n",
    "ad.var.loc[ad.var.index.isin(train_genes), \"dataset\"] = \"train\""
   ]
  },
  {
   "cell_type": "code",
   "execution_count": 19,
   "id": "6e71f3f9-61d5-496d-8b04-661d5e97c2b8",
   "metadata": {},
   "outputs": [
    {
     "data": {
      "text/html": [
       "<div>\n",
       "<style scoped>\n",
       "    .dataframe tbody tr th:only-of-type {\n",
       "        vertical-align: middle;\n",
       "    }\n",
       "\n",
       "    .dataframe tbody tr th {\n",
       "        vertical-align: top;\n",
       "    }\n",
       "\n",
       "    .dataframe thead th {\n",
       "        text-align: right;\n",
       "    }\n",
       "</style>\n",
       "<table border=\"1\" class=\"dataframe\">\n",
       "  <thead>\n",
       "    <tr style=\"text-align: right;\">\n",
       "      <th></th>\n",
       "      <th>chrom</th>\n",
       "      <th>start</th>\n",
       "      <th>end</th>\n",
       "      <th>strand</th>\n",
       "      <th>gene_start</th>\n",
       "      <th>gene_end</th>\n",
       "      <th>gene_length</th>\n",
       "      <th>gene_mask_start</th>\n",
       "      <th>gene_mask_end</th>\n",
       "      <th>dataset</th>\n",
       "    </tr>\n",
       "  </thead>\n",
       "  <tbody>\n",
       "    <tr>\n",
       "      <th>gene_0</th>\n",
       "      <td>chr1</td>\n",
       "      <td>28484760</td>\n",
       "      <td>29009048</td>\n",
       "      <td>+</td>\n",
       "      <td>28648600</td>\n",
       "      <td>28648730</td>\n",
       "      <td>130</td>\n",
       "      <td>163840</td>\n",
       "      <td>163970</td>\n",
       "      <td>train</td>\n",
       "    </tr>\n",
       "    <tr>\n",
       "      <th>gene_1</th>\n",
       "      <td>chr19</td>\n",
       "      <td>38981497</td>\n",
       "      <td>39505785</td>\n",
       "      <td>-</td>\n",
       "      <td>39341773</td>\n",
       "      <td>39341945</td>\n",
       "      <td>172</td>\n",
       "      <td>163840</td>\n",
       "      <td>164012</td>\n",
       "      <td>train</td>\n",
       "    </tr>\n",
       "    <tr>\n",
       "      <th>gene_2</th>\n",
       "      <td>chr1</td>\n",
       "      <td>77644106</td>\n",
       "      <td>78168394</td>\n",
       "      <td>-</td>\n",
       "      <td>78004346</td>\n",
       "      <td>78004554</td>\n",
       "      <td>208</td>\n",
       "      <td>163840</td>\n",
       "      <td>164048</td>\n",
       "      <td>train</td>\n",
       "    </tr>\n",
       "    <tr>\n",
       "      <th>gene_3</th>\n",
       "      <td>chr8</td>\n",
       "      <td>142930173</td>\n",
       "      <td>143454461</td>\n",
       "      <td>-</td>\n",
       "      <td>143290399</td>\n",
       "      <td>143290621</td>\n",
       "      <td>222</td>\n",
       "      <td>163840</td>\n",
       "      <td>164062</td>\n",
       "      <td>val</td>\n",
       "    </tr>\n",
       "    <tr>\n",
       "      <th>gene_4</th>\n",
       "      <td>chr16</td>\n",
       "      <td>1611448</td>\n",
       "      <td>2135736</td>\n",
       "      <td>-</td>\n",
       "      <td>1971655</td>\n",
       "      <td>1971896</td>\n",
       "      <td>241</td>\n",
       "      <td>163840</td>\n",
       "      <td>164081</td>\n",
       "      <td>train</td>\n",
       "    </tr>\n",
       "  </tbody>\n",
       "</table>\n",
       "</div>"
      ],
      "text/plain": [
       "        chrom      start        end strand  gene_start   gene_end  \\\n",
       "gene_0   chr1   28484760   29009048      +    28648600   28648730   \n",
       "gene_1  chr19   38981497   39505785      -    39341773   39341945   \n",
       "gene_2   chr1   77644106   78168394      -    78004346   78004554   \n",
       "gene_3   chr8  142930173  143454461      -   143290399  143290621   \n",
       "gene_4  chr16    1611448    2135736      -     1971655    1971896   \n",
       "\n",
       "        gene_length  gene_mask_start  gene_mask_end dataset  \n",
       "gene_0          130           163840         163970   train  \n",
       "gene_1          172           163840         164012   train  \n",
       "gene_2          208           163840         164048   train  \n",
       "gene_3          222           163840         164062     val  \n",
       "gene_4          241           163840         164081   train  "
      ]
     },
     "execution_count": 19,
     "metadata": {},
     "output_type": "execute_result"
    }
   ],
   "source": [
    "ad.var.head()"
   ]
  },
  {
   "cell_type": "code",
   "execution_count": 20,
   "id": "894e5f6f-1d0b-4c71-8f11-fcea38bea97d",
   "metadata": {},
   "outputs": [
    {
     "data": {
      "text/plain": [
       "dataset\n",
       "train    824\n",
       "test      98\n",
       "val       78\n",
       "Name: count, dtype: int64"
      ]
     },
     "execution_count": 20,
     "metadata": {},
     "output_type": "execute_result"
    }
   ],
   "source": [
    "ad.var.dataset.value_counts()"
   ]
  },
  {
   "cell_type": "markdown",
   "id": "0a99d7e9-6b69-42ed-ae2b-fda6c0229035",
   "metadata": {},
   "source": [
    "We have now divided the 1000 genes in our dataset into separate sets to be used for training, validation and testing."
   ]
  },
  {
   "cell_type": "markdown",
   "id": "c3ce727d-ae1a-4e9b-bf57-c6856e4e21e7",
   "metadata": {},
   "source": [
    "## 4. Save processed anndata"
   ]
  },
  {
   "cell_type": "markdown",
   "id": "f950a054-a749-4a6b-a0c5-11b162e1babe",
   "metadata": {},
   "source": [
    "We will save the processed anndata file containing these intervals and data splits."
   ]
  },
  {
   "cell_type": "code",
   "execution_count": 21,
   "id": "e55d7251-5372-4744-a1f3-411223d4eb35",
   "metadata": {},
   "outputs": [],
   "source": [
    "ad.write_h5ad(ad_file_path)"
   ]
  },
  {
   "cell_type": "markdown",
   "id": "a348fd0c-746f-4f3f-9c22-1cef3220460c",
   "metadata": {},
   "source": [
    "## 5. Create an hdf5 file"
   ]
  },
  {
   "cell_type": "markdown",
   "id": "f5b813a4-ad04-421c-9e13-a5cbb4c4885b",
   "metadata": {},
   "source": [
    "To train Decima, we need to extract the genomic sequences for all the intervals and convert them to one-hot encoded format. We save these one-hot encoded inputs to an hdf5 file."
   ]
  },
  {
   "cell_type": "code",
   "execution_count": 22,
   "id": "3b1473fd-fd72-41e7-a673-92fb474440ec",
   "metadata": {},
   "outputs": [],
   "source": [
    "from decima.data.write_hdf5 import write_hdf5"
   ]
  },
  {
   "cell_type": "code",
   "execution_count": 23,
   "id": "81e3d301-db22-4a00-9cdc-f6ec7c641030",
   "metadata": {},
   "outputs": [
    {
     "name": "stdout",
     "output_type": "stream",
     "text": [
      "Writing metadata\n",
      "Writing task indices\n",
      "Writing genes array of shape: (1000, 2)\n",
      "Writing labels array of shape: (1000, 50, 1)\n",
      "Making gene masks\n",
      "Writing mask array of shape: (1000, 534288)\n",
      "Encoding sequences\n",
      "Writing sequence array of shape: (1000, 534288)\n",
      "Done!\n"
     ]
    }
   ],
   "source": [
    "write_hdf5(file=h5_file_path, ad=ad, pad=5000, genome=\"hg38\") \n",
    "# Change genome name if necessary"
   ]
  },
  {
   "cell_type": "markdown",
   "id": "2e7ebe9c-a523-4aff-8bcd-3faf46917caf",
   "metadata": {},
   "source": [
    "## 6. Set training parameters"
   ]
  },
  {
   "cell_type": "code",
   "execution_count": 24,
   "id": "d9ca9ee3-c90a-4848-b9ed-899f21fbf39e",
   "metadata": {},
   "outputs": [],
   "source": [
    "# Learning rate default=0.001\n",
    "lr = 5e-5\n",
    "# Total weight parameter for the loss function\n",
    "total_weight = 1e-4\n",
    "# Gradient accumulation steps\n",
    "grad = 5\n",
    "# batch-size. default=4\n",
    "bs = 4\n",
    "# max-seq-shift. default=5000\n",
    "shift = 5000\n",
    "# Number of epochs. Default 1\n",
    "epochs = 15\n",
    "\n",
    "# logger\n",
    "logger =\"wandb\" # Change to csv to save logs locally\n",
    "\n",
    "# Number of workers default=16\n",
    "workers = 16"
   ]
  },
  {
   "cell_type": "markdown",
   "id": "f74beb10-0045-4c3c-9bc3-b5037053241b",
   "metadata": {},
   "source": [
    "## 7. Generate training commands"
   ]
  },
  {
   "cell_type": "code",
   "execution_count": 25,
   "id": "676bba10-feaf-4bcf-ae76-91cf163ac26a",
   "metadata": {},
   "outputs": [],
   "source": [
    "cmds = []\n",
    "\n",
    "for model in range(4):\n",
    "    name = f'finetune_test_{model}'\n",
    "    device = model\n",
    "    \n",
    "    cmd = f\"decima finetune --name {name} \" +\\\n",
    "    f\"--model {model} --device {device} \" +\\\n",
    "    f\"--matrix-file {ad_file_path} --h5-file {h5_file_path} \" + \\\n",
    "    f\"--outdir {outdir} --learning-rate {lr} \" +\\\n",
    "    f\"--loss-total-weight {total_weight} --gradient-accumulation {grad} \"+\\\n",
    "    f\"--batch-size {bs} --max-seq-shift {shift} \" +\\\n",
    "    f\"--epochs {epochs} --logger {logger} --num-workers {workers}\"\n",
    "    cmds.append(cmd)"
   ]
  },
  {
   "cell_type": "code",
   "execution_count": 26,
   "id": "6aee97bd-7b06-4af5-834e-c0f08127e75c",
   "metadata": {},
   "outputs": [
    {
     "name": "stdout",
     "output_type": "stream",
     "text": [
      "decima finetune --name finetune_test_0 --model 0 --device 0 --matrix-file ./data.h5ad --h5-file ./data.h5 --outdir . --learning-rate 5e-05 --loss-total-weight 0.0001 --gradient-accumulation 5 --batch-size 4 --max-seq-shift 5000 --epochs 15 --logger wandb --num-workers 16\n",
      "decima finetune --name finetune_test_1 --model 1 --device 1 --matrix-file ./data.h5ad --h5-file ./data.h5 --outdir . --learning-rate 5e-05 --loss-total-weight 0.0001 --gradient-accumulation 5 --batch-size 4 --max-seq-shift 5000 --epochs 15 --logger wandb --num-workers 16\n",
      "decima finetune --name finetune_test_2 --model 2 --device 2 --matrix-file ./data.h5ad --h5-file ./data.h5 --outdir . --learning-rate 5e-05 --loss-total-weight 0.0001 --gradient-accumulation 5 --batch-size 4 --max-seq-shift 5000 --epochs 15 --logger wandb --num-workers 16\n",
      "decima finetune --name finetune_test_3 --model 3 --device 3 --matrix-file ./data.h5ad --h5-file ./data.h5 --outdir . --learning-rate 5e-05 --loss-total-weight 0.0001 --gradient-accumulation 5 --batch-size 4 --max-seq-shift 5000 --epochs 15 --logger wandb --num-workers 16\n"
     ]
    }
   ],
   "source": [
    "for cmd in cmds:\n",
    "    print(cmd)"
   ]
  },
  {
   "cell_type": "markdown",
   "id": "9ad995d0-3176-4f70-ac01-dc3c7b1aa556",
   "metadata": {},
   "source": [
    "## Test"
   ]
  },
  {
   "cell_type": "code",
   "execution_count": 28,
   "id": "538d1250-8fc2-460b-b5fc-61ec083cca86",
   "metadata": {},
   "outputs": [
    {
     "name": "stderr",
     "output_type": "stream",
     "text": [
      "\u001b[34m\u001b[1mwandb\u001b[0m: Currently logged in as: \u001b[33mlal-avantika\u001b[0m (\u001b[33mgrelu\u001b[0m) to \u001b[32mhttps://genentech.wandb.io\u001b[0m. Use \u001b[1m`wandb login --relogin`\u001b[0m to force relogin\n"
     ]
    },
    {
     "data": {
      "text/plain": [
       "True"
      ]
     },
     "execution_count": 28,
     "metadata": {},
     "output_type": "execute_result"
    }
   ],
   "source": [
    "import wandb\n",
    "wandb.login(host=\"https://genentech.wandb.io\", anonymous=\"never\")"
   ]
  },
  {
   "cell_type": "code",
   "execution_count": null,
   "id": "d741430f-9fdb-4e25-806d-1c28db345b0a",
   "metadata": {},
   "outputs": [
    {
     "name": "stdout",
     "output_type": "stream",
     "text": [
      "decima - INFO - Data paths: matrix_file=./data.h5ad, h5_file=./data.h5\n",
      "decima - INFO - Reading anndata\n",
      "decima - INFO - Making dataset objects\n",
      "decima - INFO - train_params: {'name': 'finetune_test_3', 'batch_size': 4, 'num_workers': 16, 'devices': 3, 'logger': 'wandb', 'save_dir': '.', 'max_epochs': 15, 'lr': 5e-05, 'total_weight': 0.0001, 'accumulate_grad_batches': 5, 'loss': 'poisson_multinomial', 'clip': 0.0, 'save_top_k': 1, 'pin_memory': True}\n",
      "decima - INFO - model_params: {'n_tasks': 50, 'init_borzoi': True, 'replicate': '3'}\n",
      "decima - INFO - Initializing model\n",
      "decima - INFO - Initializing weights from Borzoi model using wandb for replicate: 3\n",
      "\u001b[34m\u001b[1mwandb\u001b[0m: Currently logged in as: \u001b[33manony-mouse-891169334544049289\u001b[0m to \u001b[32mhttps://api.wandb.ai\u001b[0m. Use \u001b[1m`wandb login --relogin`\u001b[0m to force relogin\n",
      "\u001b[34m\u001b[1mwandb\u001b[0m: Downloading large artifact human_state_dict_fold3:latest, 709.30MB. 1 files... \n",
      "\u001b[34m\u001b[1mwandb\u001b[0m:   1 of 1 files downloaded.  \n",
      "Done. 0:0:1.2 (583.7MB/s)\n",
      "/opt/conda/lib/python3.11/site-packages/decima/model/decima_model.py:68: FutureWarning: You are using `torch.load` with `weights_only=False` (the current default value), which uses the default pickle module implicitly. It is possible to construct malicious pickle data which will execute arbitrary code during unpickling (See https://github.com/pytorch/pytorch/blob/main/SECURITY.md#untrusted-models for more details). In a future release, the default value for `weights_only` will be flipped to `True`. This limits the functions that could be executed during unpickling. Arbitrary objects will no longer be allowed to be loaded via this mode unless they are explicitly allowlisted by the user via `torch.serialization.add_safe_globals`. We recommend you start setting `weights_only=True` for any use case where you don't have full control of the loaded file. Please open an issue on GitHub for any issues related to this experimental feature.\n",
      "decima - INFO - Connecting to wandb.\n",
      "\u001b[34m\u001b[1mwandb\u001b[0m: Currently logged in as: \u001b[33manony-mouse-891169334544049289\u001b[0m to \u001b[32mhttps://genentech.wandb.io\u001b[0m. Use \u001b[1m`wandb login --relogin`\u001b[0m to force relogin\n",
      "\u001b[34m\u001b[1mwandb\u001b[0m: Tracking run with wandb version 0.19.11\n",
      "\u001b[34m\u001b[1mwandb\u001b[0m: Run data is saved locally in \u001b[35m\u001b[1mfinetune_test_3/wandb/run-20250910_180859-8m9dcnvo\u001b[0m\n",
      "\u001b[34m\u001b[1mwandb\u001b[0m: Run \u001b[1m`wandb offline`\u001b[0m to turn off syncing.\n",
      "\u001b[34m\u001b[1mwandb\u001b[0m: Syncing run \u001b[33mfinetune_test_3\u001b[0m\n",
      "\u001b[34m\u001b[1mwandb\u001b[0m: ⭐️ View project at \u001b[34m\u001b[4mhttps://genentech.wandb.io/grelu/decima\u001b[0m\n",
      "\u001b[34m\u001b[1mwandb\u001b[0m: 🚀 View run at \u001b[34m\u001b[4mhttps://genentech.wandb.io/grelu/decima/runs/8m9dcnvo\u001b[0m\n",
      "decima - INFO - Training\n",
      "Using 16bit Automatic Mixed Precision (AMP)\n",
      "GPU available: True (cuda), used: True\n",
      "TPU available: False, using: 0 TPU cores\n",
      "HPU available: False, using: 0 HPUs\n",
      "/opt/conda/lib/python3.11/site-packages/pytorch_lightning/loggers/wandb.py:397: UserWarning: There is a wandb run already in progress and newly created instances of `WandbLogger` will reuse this run. If this is not desired, call `wandb.finish()` before instantiating `WandbLogger`.\n",
      "LOCAL_RANK: 0 - CUDA_VISIBLE_DEVICES: [0,1,2,3,4,5,6,7]\n",
      "Validation DataLoader 0:   0%|                           | 0/20 [00:00<?, ?it/s]Multinomial: 19.57772445678711, Poisson: -0.09207472950220108\n",
      "Validation DataLoader 0:   5%|▉                  | 1/20 [00:01<00:27,  0.70it/s]Multinomial: 18.77986717224121, Poisson: -0.08882977813482285\n",
      "Validation DataLoader 0:  10%|█▉                 | 2/20 [00:01<00:16,  1.11it/s]Multinomial: 18.716764450073242, Poisson: -0.08790993690490723\n",
      "Validation DataLoader 0:  15%|██▊                | 3/20 [00:02<00:12,  1.38it/s]Multinomial: 19.798309326171875, Poisson: -0.0932440310716629\n",
      "Validation DataLoader 0:  20%|███▊               | 4/20 [00:02<00:10,  1.57it/s]Multinomial: 20.2838134765625, Poisson: -0.09604541957378387\n",
      "Validation DataLoader 0:  25%|████▊              | 5/20 [00:02<00:08,  1.71it/s]Multinomial: 19.91138458251953, Poisson: -0.09414780884981155\n",
      "Validation DataLoader 0:  30%|█████▋             | 6/20 [00:03<00:07,  1.81it/s]Multinomial: 21.13780403137207, Poisson: -0.10030154883861542\n",
      "Validation DataLoader 0:  35%|██████▋            | 7/20 [00:03<00:06,  1.90it/s]Multinomial: 18.97677993774414, Poisson: -0.08960406482219696\n",
      "Validation DataLoader 0:  40%|███████▌           | 8/20 [00:04<00:06,  1.97it/s]Multinomial: 19.567867279052734, Poisson: -0.09244095534086227\n",
      "Validation DataLoader 0:  45%|████████▌          | 9/20 [00:04<00:05,  2.03it/s]Multinomial: 19.9258975982666, Poisson: -0.09400243312120438\n",
      "Validation DataLoader 0:  50%|█████████         | 10/20 [00:04<00:04,  2.08it/s]Multinomial: 19.610103607177734, Poisson: -0.09267064929008484\n",
      "Validation DataLoader 0:  55%|█████████▉        | 11/20 [00:05<00:04,  2.12it/s]Multinomial: 18.11532974243164, Poisson: -0.08555268496274948\n",
      "Validation DataLoader 0:  60%|██████████▊       | 12/20 [00:05<00:03,  2.15it/s]Multinomial: 21.377361297607422, Poisson: -0.10175631195306778\n",
      "Validation DataLoader 0:  65%|███████████▋      | 13/20 [00:05<00:03,  2.19it/s]Multinomial: 19.58135414123535, Poisson: -0.09300821274518967\n",
      "Validation DataLoader 0:  70%|████████████▌     | 14/20 [00:06<00:02,  2.21it/s]Multinomial: 20.501319885253906, Poisson: -0.09725338220596313\n",
      "Validation DataLoader 0:  75%|█████████████▌    | 15/20 [00:06<00:02,  2.24it/s]Multinomial: 19.78274154663086, Poisson: -0.09351234883069992\n",
      "Validation DataLoader 0:  80%|██████████████▍   | 16/20 [00:07<00:01,  2.26it/s]Multinomial: 20.067230224609375, Poisson: -0.09478798508644104\n",
      "Validation DataLoader 0:  85%|███████████████▎  | 17/20 [00:07<00:01,  2.28it/s]Multinomial: 19.862462997436523, Poisson: -0.09397105872631073\n",
      "Validation DataLoader 0:  90%|████████████████▏ | 18/20 [00:07<00:00,  2.30it/s]Multinomial: 19.761993408203125, Poisson: -0.09263257682323456\n",
      "Validation DataLoader 0:  95%|█████████████████ | 19/20 [00:08<00:00,  2.31it/s]Multinomial: 16.860870361328125, Poisson: -0.07833149284124374\n",
      "Validation DataLoader 0: 100%|██████████████████| 20/20 [00:08<00:00,  2.36it/s]\n",
      "────────────────────────────────────────────────────────────────────────────────\n",
      "     Validate metric           DataLoader 0\n",
      "────────────────────────────────────────────────────────────────────────────────\n",
      "    val_gene_pearson           0.01611328125\n",
      "        val_loss             19.51724624633789\n",
      "         val_mse             26.53594970703125\n",
      "    val_task_pearson       0.031433504074811935\n",
      "────────────────────────────────────────────────────────────────────────────────\n",
      "LOCAL_RANK: 0 - CUDA_VISIBLE_DEVICES: [0,1,2,3,4,5,6,7]\n",
      "/opt/conda/lib/python3.11/site-packages/pytorch_lightning/utilities/model_summary/model_summary.py:231: UserWarning: Precision 16-mixed is not supported by the model summary.  Estimated model size in MB will not be accurate. Using 32 bits instead.\n",
      "\n",
      "  | Name            | Type                           | Params | Mode \n",
      "---------------------------------------------------------------------------\n",
      "0 | model           | DecimaModel                    | 171 M  | train\n",
      "1 | loss            | TaskWisePoissonMultinomialLoss | 0      | train\n",
      "2 | val_metrics     | MetricCollection               | 0      | train\n",
      "3 | test_metrics    | MetricCollection               | 0      | train\n",
      "4 | warning_counter | WarningCounter                 | 0      | train\n",
      "5 | transform       | Identity                       | 0      | train\n",
      "---------------------------------------------------------------------------\n",
      "171 M     Trainable params\n",
      "0         Non-trainable params\n",
      "171 M     Total params\n",
      "685.503   Total estimated model params size (MB)\n",
      "401       Modules in train mode\n",
      "0         Modules in eval mode\n",
      "Sanity Checking DataLoader 0:   0%|                       | 0/2 [00:00<?, ?it/s]"
     ]
    }
   ],
   "source": [
    "!decima finetune --name finetune_test_3 --model 3 --device 3 --matrix-file ./data.h5ad --h5-file ./data.h5 --outdir . --learning-rate 5e-05 --loss-total-weight 0.0001 --gradient-accumulation 5 --batch-size 4 --max-seq-shift 5000 --epochs 15 --logger wandb --num-workers 16"
   ]
  },
  {
   "cell_type": "code",
   "execution_count": null,
   "id": "b84f6160-3921-437c-9573-b23458440dc5",
   "metadata": {},
   "outputs": [],
   "source": []
  },
  {
   "cell_type": "code",
   "execution_count": null,
   "id": "335aa3fd-a956-4b48-b175-addde8ff173e",
   "metadata": {},
   "outputs": [],
   "source": []
  }
 ],
 "metadata": {
  "kernelspec": {
   "display_name": "Python 3 (ipykernel)",
   "language": "python",
   "name": "python3"
  },
  "language_info": {
   "codemirror_mode": {
    "name": "ipython",
    "version": 3
   },
   "file_extension": ".py",
   "mimetype": "text/x-python",
   "name": "python",
   "nbconvert_exporter": "python",
   "pygments_lexer": "ipython3",
   "version": "3.11.10"
  }
 },
 "nbformat": 4,
 "nbformat_minor": 5
}
