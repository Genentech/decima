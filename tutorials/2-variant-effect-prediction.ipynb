{
 "cells": [
  {
   "cell_type": "code",
   "execution_count": 20,
   "metadata": {},
   "outputs": [],
   "source": [
    "import pandas as pd\n",
    "import anndata\n",
    "import torch\n",
    "from decima.core import DecimaResult\n",
    "\n",
    "device = \"cuda\" if torch.cuda.is_available() else \"cpu\"\n",
    "\n",
    "\n",
    "%matplotlib inline"
   ]
  },
  {
   "cell_type": "code",
   "execution_count": 2,
   "metadata": {},
   "outputs": [
    {
     "data": {
      "text/html": [
       "<div>\n",
       "<style scoped>\n",
       "    .dataframe tbody tr th:only-of-type {\n",
       "        vertical-align: middle;\n",
       "    }\n",
       "\n",
       "    .dataframe tbody tr th {\n",
       "        vertical-align: top;\n",
       "    }\n",
       "\n",
       "    .dataframe thead th {\n",
       "        text-align: right;\n",
       "    }\n",
       "</style>\n",
       "<table border=\"1\" class=\"dataframe\">\n",
       "  <thead>\n",
       "    <tr style=\"text-align: right;\">\n",
       "      <th></th>\n",
       "      <th>chrom</th>\n",
       "      <th>pos</th>\n",
       "      <th>ref</th>\n",
       "      <th>alt</th>\n",
       "      <th>gene</th>\n",
       "      <th>rsid</th>\n",
       "    </tr>\n",
       "  </thead>\n",
       "  <tbody>\n",
       "    <tr>\n",
       "      <th>0</th>\n",
       "      <td>chr1</td>\n",
       "      <td>1000018</td>\n",
       "      <td>G</td>\n",
       "      <td>A</td>\n",
       "      <td>ISG15</td>\n",
       "      <td>rs146254088</td>\n",
       "    </tr>\n",
       "    <tr>\n",
       "      <th>1</th>\n",
       "      <td>chr1</td>\n",
       "      <td>1002308</td>\n",
       "      <td>T</td>\n",
       "      <td>C</td>\n",
       "      <td>ISG15</td>\n",
       "      <td>rs2489000</td>\n",
       "    </tr>\n",
       "    <tr>\n",
       "      <th>2</th>\n",
       "      <td>chr1</td>\n",
       "      <td>109727471</td>\n",
       "      <td>A</td>\n",
       "      <td>C</td>\n",
       "      <td>GSTM3</td>\n",
       "      <td>rs11101994</td>\n",
       "    </tr>\n",
       "    <tr>\n",
       "      <th>3</th>\n",
       "      <td>chr1</td>\n",
       "      <td>109728286</td>\n",
       "      <td>T</td>\n",
       "      <td>G</td>\n",
       "      <td>GSTM3</td>\n",
       "      <td>rs4540683</td>\n",
       "    </tr>\n",
       "    <tr>\n",
       "      <th>4</th>\n",
       "      <td>chr1</td>\n",
       "      <td>109728807</td>\n",
       "      <td>T</td>\n",
       "      <td>G</td>\n",
       "      <td>GSTM3</td>\n",
       "      <td>rs4970775</td>\n",
       "    </tr>\n",
       "  </tbody>\n",
       "</table>\n",
       "</div>"
      ],
      "text/plain": [
       "  chrom        pos ref alt   gene         rsid\n",
       "0  chr1    1000018   G   A  ISG15  rs146254088\n",
       "1  chr1    1002308   T   C  ISG15    rs2489000\n",
       "2  chr1  109727471   A   C  GSTM3   rs11101994\n",
       "3  chr1  109728286   T   G  GSTM3    rs4540683\n",
       "4  chr1  109728807   T   G  GSTM3    rs4970775"
      ]
     },
     "execution_count": 2,
     "metadata": {},
     "output_type": "execute_result"
    }
   ],
   "source": [
    "variant_df = pd.read_table(\"variants.tsv\")\n",
    "variant_df"
   ]
  },
  {
   "cell_type": "code",
   "execution_count": 3,
   "metadata": {},
   "outputs": [
    {
     "name": "stderr",
     "output_type": "stream",
     "text": [
      "\u001b[34m\u001b[1mwandb\u001b[0m: Currently logged in as: \u001b[33mcelikm5\u001b[0m (\u001b[33mcelikm5-genentech\u001b[0m) to \u001b[32mhttps://api.wandb.ai\u001b[0m. Use \u001b[1m`wandb login --relogin`\u001b[0m to force relogin\n",
      "\u001b[34m\u001b[1mwandb\u001b[0m: Downloading large artifact decima_metadata:latest, 628.05MB. 1 files... \n",
      "\u001b[34m\u001b[1mwandb\u001b[0m:   1 of 1 files downloaded.  \n",
      "Done. 0:0:0.5 (1247.3MB/s)\n"
     ]
    }
   ],
   "source": [
    "result = DecimaResult.load()\n",
    "ad = result.anndata"
   ]
  },
  {
   "cell_type": "code",
   "execution_count": 5,
   "metadata": {},
   "outputs": [],
   "source": [
    "from decima.utils.variant import process_variants"
   ]
  },
  {
   "cell_type": "code",
   "execution_count": 6,
   "metadata": {},
   "outputs": [
    {
     "name": "stdout",
     "output_type": "stream",
     "text": [
      "dropped 0 variants because the gene was not found in ad.var\n",
      "dropped 0 variants because the variant did not fit in the interval\n"
     ]
    },
    {
     "data": {
      "text/html": [
       "<div>\n",
       "<style scoped>\n",
       "    .dataframe tbody tr th:only-of-type {\n",
       "        vertical-align: middle;\n",
       "    }\n",
       "\n",
       "    .dataframe tbody tr th {\n",
       "        vertical-align: top;\n",
       "    }\n",
       "\n",
       "    .dataframe thead th {\n",
       "        text-align: right;\n",
       "    }\n",
       "</style>\n",
       "<table border=\"1\" class=\"dataframe\">\n",
       "  <thead>\n",
       "    <tr style=\"text-align: right;\">\n",
       "      <th></th>\n",
       "      <th>chrom</th>\n",
       "      <th>pos</th>\n",
       "      <th>ref</th>\n",
       "      <th>alt</th>\n",
       "      <th>gene</th>\n",
       "      <th>rsid</th>\n",
       "      <th>start</th>\n",
       "      <th>end</th>\n",
       "      <th>strand</th>\n",
       "      <th>gene_mask_start</th>\n",
       "      <th>rel_pos</th>\n",
       "      <th>ref_tx</th>\n",
       "      <th>alt_tx</th>\n",
       "      <th>tss_dist</th>\n",
       "    </tr>\n",
       "  </thead>\n",
       "  <tbody>\n",
       "    <tr>\n",
       "      <th>0</th>\n",
       "      <td>chr1</td>\n",
       "      <td>1000018</td>\n",
       "      <td>G</td>\n",
       "      <td>A</td>\n",
       "      <td>ISG15</td>\n",
       "      <td>rs146254088</td>\n",
       "      <td>837298</td>\n",
       "      <td>1361586</td>\n",
       "      <td>+</td>\n",
       "      <td>163840</td>\n",
       "      <td>162720</td>\n",
       "      <td>G</td>\n",
       "      <td>A</td>\n",
       "      <td>-1120</td>\n",
       "    </tr>\n",
       "    <tr>\n",
       "      <th>1</th>\n",
       "      <td>chr1</td>\n",
       "      <td>1002308</td>\n",
       "      <td>T</td>\n",
       "      <td>C</td>\n",
       "      <td>ISG15</td>\n",
       "      <td>rs2489000</td>\n",
       "      <td>837298</td>\n",
       "      <td>1361586</td>\n",
       "      <td>+</td>\n",
       "      <td>163840</td>\n",
       "      <td>165010</td>\n",
       "      <td>T</td>\n",
       "      <td>C</td>\n",
       "      <td>1170</td>\n",
       "    </tr>\n",
       "    <tr>\n",
       "      <th>2</th>\n",
       "      <td>chr1</td>\n",
       "      <td>109727471</td>\n",
       "      <td>A</td>\n",
       "      <td>C</td>\n",
       "      <td>GSTM3</td>\n",
       "      <td>rs11101994</td>\n",
       "      <td>109380590</td>\n",
       "      <td>109904878</td>\n",
       "      <td>-</td>\n",
       "      <td>163840</td>\n",
       "      <td>177407</td>\n",
       "      <td>T</td>\n",
       "      <td>G</td>\n",
       "      <td>13567</td>\n",
       "    </tr>\n",
       "    <tr>\n",
       "      <th>3</th>\n",
       "      <td>chr1</td>\n",
       "      <td>109728286</td>\n",
       "      <td>T</td>\n",
       "      <td>G</td>\n",
       "      <td>GSTM3</td>\n",
       "      <td>rs4540683</td>\n",
       "      <td>109380590</td>\n",
       "      <td>109904878</td>\n",
       "      <td>-</td>\n",
       "      <td>163840</td>\n",
       "      <td>176592</td>\n",
       "      <td>A</td>\n",
       "      <td>C</td>\n",
       "      <td>12752</td>\n",
       "    </tr>\n",
       "    <tr>\n",
       "      <th>4</th>\n",
       "      <td>chr1</td>\n",
       "      <td>109728807</td>\n",
       "      <td>T</td>\n",
       "      <td>G</td>\n",
       "      <td>GSTM3</td>\n",
       "      <td>rs4970775</td>\n",
       "      <td>109380590</td>\n",
       "      <td>109904878</td>\n",
       "      <td>-</td>\n",
       "      <td>163840</td>\n",
       "      <td>176071</td>\n",
       "      <td>A</td>\n",
       "      <td>C</td>\n",
       "      <td>12231</td>\n",
       "    </tr>\n",
       "  </tbody>\n",
       "</table>\n",
       "</div>"
      ],
      "text/plain": [
       "  chrom        pos ref alt   gene         rsid      start        end strand  \\\n",
       "0  chr1    1000018   G   A  ISG15  rs146254088     837298    1361586      +   \n",
       "1  chr1    1002308   T   C  ISG15    rs2489000     837298    1361586      +   \n",
       "2  chr1  109727471   A   C  GSTM3   rs11101994  109380590  109904878      -   \n",
       "3  chr1  109728286   T   G  GSTM3    rs4540683  109380590  109904878      -   \n",
       "4  chr1  109728807   T   G  GSTM3    rs4970775  109380590  109904878      -   \n",
       "\n",
       "   gene_mask_start  rel_pos ref_tx alt_tx  tss_dist  \n",
       "0           163840   162720      G      A     -1120  \n",
       "1           163840   165010      T      C      1170  \n",
       "2           163840   177407      T      G     13567  \n",
       "3           163840   176592      A      C     12752  \n",
       "4           163840   176071      A      C     12231  "
      ]
     },
     "execution_count": 6,
     "metadata": {},
     "output_type": "execute_result"
    }
   ],
   "source": [
    "variant_df = process_variants(variant_df, ad, min_from_end=5000)\n",
    "variant_df"
   ]
  },
  {
   "cell_type": "code",
   "execution_count": 21,
   "metadata": {},
   "outputs": [],
   "source": [
    "from decima.data.dataset import VariantDataset\n",
    "\n",
    "dataset = VariantDataset(variant_df, ad=ad)"
   ]
  },
  {
   "cell_type": "code",
   "execution_count": 22,
   "metadata": {},
   "outputs": [
    {
     "data": {
      "text/plain": [
       "tensor([[0., 0., 0.,  ..., 1., 0., 0.],\n",
       "        [0., 0., 0.,  ..., 0., 1., 1.],\n",
       "        [0., 0., 0.,  ..., 0., 0., 0.],\n",
       "        [1., 1., 1.,  ..., 0., 0., 0.],\n",
       "        [0., 0., 0.,  ..., 0., 0., 0.]])"
      ]
     },
     "execution_count": 22,
     "metadata": {},
     "output_type": "execute_result"
    }
   ],
   "source": [
    "dataset[0]"
   ]
  },
  {
   "cell_type": "code",
   "execution_count": 26,
   "metadata": {},
   "outputs": [
    {
     "data": {
      "text/plain": [
       "38"
      ]
     },
     "execution_count": 26,
     "metadata": {},
     "output_type": "execute_result"
    }
   ],
   "source": [
    "relevant_tasks = result.query_cells(\n",
    "    'tissue == \"blood\" and disease in [\"healthy\", \"NA\"] and cell_type == \"CD8-positive, alpha-beta T cell\"'\n",
    ")\n",
    "len(relevant_tasks)"
   ]
  },
  {
   "cell_type": "code",
   "execution_count": 27,
   "metadata": {},
   "outputs": [],
   "source": [
    "from grelu.transforms.prediction_transforms import Aggregate"
   ]
  },
  {
   "cell_type": "code",
   "execution_count": 25,
   "metadata": {},
   "outputs": [
    {
     "name": "stderr",
     "output_type": "stream",
     "text": [
      "\u001b[34m\u001b[1mwandb\u001b[0m: Downloading large artifact decima_rep0:latest, 2155.88MB. 1 files... \n",
      "\u001b[34m\u001b[1mwandb\u001b[0m:   1 of 1 files downloaded.  \n",
      "Done. 0:0:4.8 (444.8MB/s)\n",
      "\u001b[34m\u001b[1mwandb\u001b[0m: Downloading large artifact human_state_dict_fold0:latest, 709.30MB. 1 files... \n",
      "\u001b[34m\u001b[1mwandb\u001b[0m:   1 of 1 files downloaded.  \n",
      "Done. 0:0:1.8 (399.4MB/s)\n"
     ]
    }
   ],
   "source": [
    "from decima.hub import load_decima_model\n",
    "\n",
    "model = load_decima_model(device=device)"
   ]
  },
  {
   "cell_type": "code",
   "execution_count": 38,
   "metadata": {},
   "outputs": [],
   "source": [
    "agg_transform = Aggregate(tasks=relevant_tasks, model=model)\n",
    "model.add_transform(agg_transform)"
   ]
  },
  {
   "cell_type": "code",
   "execution_count": 39,
   "metadata": {},
   "outputs": [
    {
     "name": "stderr",
     "output_type": "stream",
     "text": [
      "Using default `ModelCheckpoint`. Consider installing `litmodels` package to enable `LitModelCheckpoint` for automatic upload to the Lightning model registry.\n",
      "GPU available: True (cuda), used: True\n",
      "TPU available: False, using: 0 TPU cores\n",
      "HPU available: False, using: 0 HPUs\n",
      "LOCAL_RANK: 0 - CUDA_VISIBLE_DEVICES: [0]\n"
     ]
    },
    {
     "data": {
      "application/vnd.jupyter.widget-view+json": {
       "model_id": "55211842da1a430c9c908f04516c1508",
       "version_major": 2,
       "version_minor": 0
      },
      "text/plain": [
       "Predicting: |          | 0/? [00:00<?, ?it/s]"
      ]
     },
     "metadata": {},
     "output_type": "display_data"
    },
    {
     "data": {
      "text/plain": [
       "(5, 38)"
      ]
     },
     "execution_count": 39,
     "metadata": {},
     "output_type": "execute_result"
    }
   ],
   "source": [
    "preds = model.predict_on_dataset(dataset, devices=device, batch_size=8, num_workers=16)\n",
    "preds = anndata.AnnData(X=preds, obs=variant_df.set_index(\"rsid\"), var=ad.obs.loc[relevant_tasks])\n",
    "preds.shape"
   ]
  },
  {
   "cell_type": "code",
   "execution_count": 40,
   "metadata": {},
   "outputs": [
    {
     "data": {
      "text/plain": [
       "AnnData object with n_obs × n_vars = 5 × 38\n",
       "    obs: 'chrom', 'pos', 'ref', 'alt', 'gene', 'start', 'end', 'strand', 'gene_mask_start', 'rel_pos', 'ref_tx', 'alt_tx', 'tss_dist'\n",
       "    var: 'cell_type', 'tissue', 'organ', 'disease', 'study', 'dataset', 'region', 'subregion', 'celltype_coarse', 'n_cells', 'total_counts', 'n_genes', 'size_factor', 'train_pearson', 'val_pearson', 'test_pearson'"
      ]
     },
     "execution_count": 40,
     "metadata": {},
     "output_type": "execute_result"
    }
   ],
   "source": [
    "preds"
   ]
  },
  {
   "cell_type": "code",
   "execution_count": 41,
   "metadata": {},
   "outputs": [
    {
     "data": {
      "text/html": [
       "<div>\n",
       "<style scoped>\n",
       "    .dataframe tbody tr th:only-of-type {\n",
       "        vertical-align: middle;\n",
       "    }\n",
       "\n",
       "    .dataframe tbody tr th {\n",
       "        vertical-align: top;\n",
       "    }\n",
       "\n",
       "    .dataframe thead th {\n",
       "        text-align: right;\n",
       "    }\n",
       "</style>\n",
       "<table border=\"1\" class=\"dataframe\">\n",
       "  <thead>\n",
       "    <tr style=\"text-align: right;\">\n",
       "      <th></th>\n",
       "      <th>chrom</th>\n",
       "      <th>pos</th>\n",
       "      <th>ref</th>\n",
       "      <th>alt</th>\n",
       "      <th>gene</th>\n",
       "      <th>start</th>\n",
       "      <th>end</th>\n",
       "      <th>strand</th>\n",
       "      <th>gene_mask_start</th>\n",
       "      <th>rel_pos</th>\n",
       "      <th>ref_tx</th>\n",
       "      <th>alt_tx</th>\n",
       "      <th>tss_dist</th>\n",
       "    </tr>\n",
       "    <tr>\n",
       "      <th>rsid</th>\n",
       "      <th></th>\n",
       "      <th></th>\n",
       "      <th></th>\n",
       "      <th></th>\n",
       "      <th></th>\n",
       "      <th></th>\n",
       "      <th></th>\n",
       "      <th></th>\n",
       "      <th></th>\n",
       "      <th></th>\n",
       "      <th></th>\n",
       "      <th></th>\n",
       "      <th></th>\n",
       "    </tr>\n",
       "  </thead>\n",
       "  <tbody>\n",
       "    <tr>\n",
       "      <th>rs146254088</th>\n",
       "      <td>chr1</td>\n",
       "      <td>1000018</td>\n",
       "      <td>G</td>\n",
       "      <td>A</td>\n",
       "      <td>ISG15</td>\n",
       "      <td>837298</td>\n",
       "      <td>1361586</td>\n",
       "      <td>+</td>\n",
       "      <td>163840</td>\n",
       "      <td>162720</td>\n",
       "      <td>G</td>\n",
       "      <td>A</td>\n",
       "      <td>-1120</td>\n",
       "    </tr>\n",
       "    <tr>\n",
       "      <th>rs2489000</th>\n",
       "      <td>chr1</td>\n",
       "      <td>1002308</td>\n",
       "      <td>T</td>\n",
       "      <td>C</td>\n",
       "      <td>ISG15</td>\n",
       "      <td>837298</td>\n",
       "      <td>1361586</td>\n",
       "      <td>+</td>\n",
       "      <td>163840</td>\n",
       "      <td>165010</td>\n",
       "      <td>T</td>\n",
       "      <td>C</td>\n",
       "      <td>1170</td>\n",
       "    </tr>\n",
       "    <tr>\n",
       "      <th>rs11101994</th>\n",
       "      <td>chr1</td>\n",
       "      <td>109727471</td>\n",
       "      <td>A</td>\n",
       "      <td>C</td>\n",
       "      <td>GSTM3</td>\n",
       "      <td>109380590</td>\n",
       "      <td>109904878</td>\n",
       "      <td>-</td>\n",
       "      <td>163840</td>\n",
       "      <td>177407</td>\n",
       "      <td>T</td>\n",
       "      <td>G</td>\n",
       "      <td>13567</td>\n",
       "    </tr>\n",
       "    <tr>\n",
       "      <th>rs4540683</th>\n",
       "      <td>chr1</td>\n",
       "      <td>109728286</td>\n",
       "      <td>T</td>\n",
       "      <td>G</td>\n",
       "      <td>GSTM3</td>\n",
       "      <td>109380590</td>\n",
       "      <td>109904878</td>\n",
       "      <td>-</td>\n",
       "      <td>163840</td>\n",
       "      <td>176592</td>\n",
       "      <td>A</td>\n",
       "      <td>C</td>\n",
       "      <td>12752</td>\n",
       "    </tr>\n",
       "    <tr>\n",
       "      <th>rs4970775</th>\n",
       "      <td>chr1</td>\n",
       "      <td>109728807</td>\n",
       "      <td>T</td>\n",
       "      <td>G</td>\n",
       "      <td>GSTM3</td>\n",
       "      <td>109380590</td>\n",
       "      <td>109904878</td>\n",
       "      <td>-</td>\n",
       "      <td>163840</td>\n",
       "      <td>176071</td>\n",
       "      <td>A</td>\n",
       "      <td>C</td>\n",
       "      <td>12231</td>\n",
       "    </tr>\n",
       "  </tbody>\n",
       "</table>\n",
       "</div>"
      ],
      "text/plain": [
       "            chrom        pos ref alt   gene      start        end strand  \\\n",
       "rsid                                                                       \n",
       "rs146254088  chr1    1000018   G   A  ISG15     837298    1361586      +   \n",
       "rs2489000    chr1    1002308   T   C  ISG15     837298    1361586      +   \n",
       "rs11101994   chr1  109727471   A   C  GSTM3  109380590  109904878      -   \n",
       "rs4540683    chr1  109728286   T   G  GSTM3  109380590  109904878      -   \n",
       "rs4970775    chr1  109728807   T   G  GSTM3  109380590  109904878      -   \n",
       "\n",
       "             gene_mask_start  rel_pos ref_tx alt_tx  tss_dist  \n",
       "rsid                                                           \n",
       "rs146254088           163840   162720      G      A     -1120  \n",
       "rs2489000             163840   165010      T      C      1170  \n",
       "rs11101994            163840   177407      T      G     13567  \n",
       "rs4540683             163840   176592      A      C     12752  \n",
       "rs4970775             163840   176071      A      C     12231  "
      ]
     },
     "execution_count": 41,
     "metadata": {},
     "output_type": "execute_result"
    }
   ],
   "source": [
    "preds.obs"
   ]
  },
  {
   "cell_type": "code",
   "execution_count": 42,
   "metadata": {},
   "outputs": [
    {
     "data": {
      "text/html": [
       "<div>\n",
       "<style scoped>\n",
       "    .dataframe tbody tr th:only-of-type {\n",
       "        vertical-align: middle;\n",
       "    }\n",
       "\n",
       "    .dataframe tbody tr th {\n",
       "        vertical-align: top;\n",
       "    }\n",
       "\n",
       "    .dataframe thead th {\n",
       "        text-align: right;\n",
       "    }\n",
       "</style>\n",
       "<table border=\"1\" class=\"dataframe\">\n",
       "  <thead>\n",
       "    <tr style=\"text-align: right;\">\n",
       "      <th></th>\n",
       "      <th>cell_type</th>\n",
       "      <th>tissue</th>\n",
       "      <th>organ</th>\n",
       "      <th>disease</th>\n",
       "      <th>study</th>\n",
       "      <th>dataset</th>\n",
       "      <th>region</th>\n",
       "      <th>subregion</th>\n",
       "      <th>celltype_coarse</th>\n",
       "      <th>n_cells</th>\n",
       "      <th>total_counts</th>\n",
       "      <th>n_genes</th>\n",
       "      <th>size_factor</th>\n",
       "      <th>train_pearson</th>\n",
       "      <th>val_pearson</th>\n",
       "      <th>test_pearson</th>\n",
       "    </tr>\n",
       "  </thead>\n",
       "  <tbody>\n",
       "    <tr>\n",
       "      <th>agg_843</th>\n",
       "      <td>CD8-positive, alpha-beta T cell</td>\n",
       "      <td>blood</td>\n",
       "      <td>blood</td>\n",
       "      <td>NA</td>\n",
       "      <td>GSE128243</td>\n",
       "      <td>scimilarity</td>\n",
       "      <td>nan</td>\n",
       "      <td>nan</td>\n",
       "      <td>NaN</td>\n",
       "      <td>5597</td>\n",
       "      <td>10483704.0</td>\n",
       "      <td>13250</td>\n",
       "      <td>28325.408660</td>\n",
       "      <td>0.941655</td>\n",
       "      <td>0.808412</td>\n",
       "      <td>0.813604</td>\n",
       "    </tr>\n",
       "    <tr>\n",
       "      <th>agg_844</th>\n",
       "      <td>CD8-positive, alpha-beta T cell</td>\n",
       "      <td>blood</td>\n",
       "      <td>blood</td>\n",
       "      <td>NA</td>\n",
       "      <td>GSE132950</td>\n",
       "      <td>scimilarity</td>\n",
       "      <td>nan</td>\n",
       "      <td>nan</td>\n",
       "      <td>NaN</td>\n",
       "      <td>1334</td>\n",
       "      <td>7219685.0</td>\n",
       "      <td>13394</td>\n",
       "      <td>32566.675556</td>\n",
       "      <td>0.964465</td>\n",
       "      <td>0.847792</td>\n",
       "      <td>0.843420</td>\n",
       "    </tr>\n",
       "    <tr>\n",
       "      <th>agg_845</th>\n",
       "      <td>CD8-positive, alpha-beta T cell</td>\n",
       "      <td>blood</td>\n",
       "      <td>blood</td>\n",
       "      <td>NA</td>\n",
       "      <td>GSE135325</td>\n",
       "      <td>scimilarity</td>\n",
       "      <td>nan</td>\n",
       "      <td>nan</td>\n",
       "      <td>NaN</td>\n",
       "      <td>261</td>\n",
       "      <td>612912.0</td>\n",
       "      <td>10905</td>\n",
       "      <td>29777.260442</td>\n",
       "      <td>0.936802</td>\n",
       "      <td>0.808541</td>\n",
       "      <td>0.801103</td>\n",
       "    </tr>\n",
       "    <tr>\n",
       "      <th>agg_847</th>\n",
       "      <td>CD8-positive, alpha-beta T cell</td>\n",
       "      <td>blood</td>\n",
       "      <td>blood</td>\n",
       "      <td>NA</td>\n",
       "      <td>GSE149356</td>\n",
       "      <td>scimilarity</td>\n",
       "      <td>nan</td>\n",
       "      <td>nan</td>\n",
       "      <td>NaN</td>\n",
       "      <td>2054</td>\n",
       "      <td>7534250.0</td>\n",
       "      <td>13387</td>\n",
       "      <td>33923.162424</td>\n",
       "      <td>0.951058</td>\n",
       "      <td>0.818623</td>\n",
       "      <td>0.830627</td>\n",
       "    </tr>\n",
       "    <tr>\n",
       "      <th>agg_849</th>\n",
       "      <td>CD8-positive, alpha-beta T cell</td>\n",
       "      <td>blood</td>\n",
       "      <td>blood</td>\n",
       "      <td>NA</td>\n",
       "      <td>GSE151310</td>\n",
       "      <td>scimilarity</td>\n",
       "      <td>nan</td>\n",
       "      <td>nan</td>\n",
       "      <td>NaN</td>\n",
       "      <td>12443</td>\n",
       "      <td>29209159.0</td>\n",
       "      <td>13809</td>\n",
       "      <td>29807.259230</td>\n",
       "      <td>0.965129</td>\n",
       "      <td>0.829639</td>\n",
       "      <td>0.820742</td>\n",
       "    </tr>\n",
       "  </tbody>\n",
       "</table>\n",
       "</div>"
      ],
      "text/plain": [
       "                               cell_type tissue  organ disease      study  \\\n",
       "agg_843  CD8-positive, alpha-beta T cell  blood  blood      NA  GSE128243   \n",
       "agg_844  CD8-positive, alpha-beta T cell  blood  blood      NA  GSE132950   \n",
       "agg_845  CD8-positive, alpha-beta T cell  blood  blood      NA  GSE135325   \n",
       "agg_847  CD8-positive, alpha-beta T cell  blood  blood      NA  GSE149356   \n",
       "agg_849  CD8-positive, alpha-beta T cell  blood  blood      NA  GSE151310   \n",
       "\n",
       "             dataset region subregion celltype_coarse  n_cells  total_counts  \\\n",
       "agg_843  scimilarity    nan       nan             NaN     5597    10483704.0   \n",
       "agg_844  scimilarity    nan       nan             NaN     1334     7219685.0   \n",
       "agg_845  scimilarity    nan       nan             NaN      261      612912.0   \n",
       "agg_847  scimilarity    nan       nan             NaN     2054     7534250.0   \n",
       "agg_849  scimilarity    nan       nan             NaN    12443    29209159.0   \n",
       "\n",
       "         n_genes   size_factor  train_pearson  val_pearson  test_pearson  \n",
       "agg_843    13250  28325.408660       0.941655     0.808412      0.813604  \n",
       "agg_844    13394  32566.675556       0.964465     0.847792      0.843420  \n",
       "agg_845    10905  29777.260442       0.936802     0.808541      0.801103  \n",
       "agg_847    13387  33923.162424       0.951058     0.818623      0.830627  \n",
       "agg_849    13809  29807.259230       0.965129     0.829639      0.820742  "
      ]
     },
     "execution_count": 42,
     "metadata": {},
     "output_type": "execute_result"
    }
   ],
   "source": [
    "preds.var.head()"
   ]
  },
  {
   "cell_type": "code",
   "execution_count": 43,
   "metadata": {},
   "outputs": [
    {
     "data": {
      "text/plain": [
       "(5, 38)"
      ]
     },
     "execution_count": 43,
     "metadata": {},
     "output_type": "execute_result"
    }
   ],
   "source": [
    "preds.X.shape"
   ]
  }
 ],
 "metadata": {
  "language_info": {
   "name": "python"
  }
 },
 "nbformat": 4,
 "nbformat_minor": 2
}
