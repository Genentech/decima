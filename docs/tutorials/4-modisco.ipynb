{
 "cells": [
  {
   "cell_type": "markdown",
   "id": "675c668e",
   "metadata": {},
   "source": [
    "# Detecting and Clustering Seqlets with Modisco "
   ]
  },
  {
   "cell_type": "markdown",
   "id": "b4df7663",
   "metadata": {},
   "source": [
    "In this tutorial, we will explore how to use Modisco within the Decima framework to detect and cluster seqlets—short, high-scoring regions of DNA that are important for model predictions. Modisco (Motif Discovery from Importance Scores) is a powerful tool designed to analyze attribution scores from deep learning models. It identifies recurring patterns, or \"motifs,\" by first locating seqlets—short subsequences with high attribution—and then clustering these seqlets based on similarity. This process helps uncover biologically meaningful sequence motifs that drive the model's predictions, providing insights into regulatory elements and sequence features learned by the model. We will walk through the steps of running Modisco on attribution data, from detecting seqlets to clustering them into motifs, and interpreting the results.\n"
   ]
  },
  {
   "cell_type": "markdown",
   "id": "611615ee",
   "metadata": {},
   "source": [
    "## CLI API"
   ]
  },
  {
   "cell_type": "markdown",
   "id": "0706c028",
   "metadata": {},
   "source": [
    "In this tutorial, we'll walk through a practical example of using Decima's CLI API to analyze neuronal cells and uncover how they differ from non-neuronal cells based on the major regulators. Let's first list avaliable cell types: "
   ]
  },
  {
   "cell_type": "code",
   "execution_count": 10,
   "id": "2852f3c3",
   "metadata": {},
   "outputs": [
    {
     "name": "stdout",
     "output_type": "stream",
     "text": [
      "\u001b[34m\u001b[1mwandb\u001b[0m: Currently logged in as: \u001b[33mmhcelik\u001b[0m (\u001b[33mmhcw\u001b[0m) to \u001b[32mhttps://api.wandb.ai\u001b[0m. Use \u001b[1m`wandb login --relogin`\u001b[0m to force relogin\n",
      "\u001b[34m\u001b[1mwandb\u001b[0m: Downloading large artifact metadata:latest, 3122.32MB. 1 files... \n",
      "\u001b[34m\u001b[1mwandb\u001b[0m:   1 of 1 files downloaded.  \n",
      "Done. 0:0:1.7 (1842.3MB/s)\n",
      "\tcell_type\ttissue\torgan\tdisease\tstudy\tdataset\tregion\tsubregion\tcelltype_coarse\tn_cells\ttotal_counts\tn_genes\tsize_factor\ttrain_pearson\tval_pearson\ttest_pearson\n",
      "agg_1112\tCGE interneuron\tAmygdala_Amygdala\tCNS\thealthy\tjhpce#tran2021\tbrain_atlas\tAmygdala\tAmygdala\t\t674\t17421456.0\t16954\t42512.927350555474\t0.9454484906394379\t0.8549755331049285\t0.8667663764982964\n",
      "agg_1113\tCGE interneuron\tAmygdala_Basolateral nuclear group (BLN) - lateral nucleus - La\tCNS\thealthy\tSCR_016152\tbrain_atlas\tAmygdala\tBasolateral nuclear group (BLN) - lateral nucleus - La\t\t3653\t43170604.0\t17556\t43343.31426365281\t0.9556543498602063\t0.8580799006688026\t0.8653460664237342\n",
      "agg_1114\tCGE interneuron\tAmygdala_Bed nucleus of stria terminalis and nearby - BNST\tCNS\thealthy\tSCR_016152\tbrain_atlas\tAmygdala\tBed nucleus of stria terminalis and nearby - BNST\t\t618\t6152593.0\t16370\t44713.64203304153\t0.9520635955734341\t0.852188720222159\t0.858968806922992\n",
      "agg_1115\tCGE interneuron\tAmygdala_Central nuclear group - CEN\tCNS\thealthy\tSCR_016152\tbrain_atlas\tAmygdala\tCentral nuclear group - CEN\t\t4146\t49400198.0\t17671\t44026.860058199665\t0.9563052838304861\t0.8593824369699917\t0.8633745639889623\n",
      "agg_1116\tCGE interneuron\tAmygdala_Corticomedial nuclear group (CMN) - anterior cortical nucleus - CoA\tCNS\thealthy\tSCR_016152\tbrain_atlas\tAmygdala\tCorticomedial nuclear group (CMN) - anterior cortical nucleus - CoA\t\t929\t26964535.0\t17136\t42858.8950204464\t0.9550498609794265\t0.8605038580533132\t0.8684496521271442\n",
      "agg_1117\tCGE interneuron\tAmygdala_basolateral nuclear group (BLN) - basolateral nucleus (basal nucleus) - BL\tCNS\thealthy\tSCR_016152\tbrain_atlas\tAmygdala\tbasolateral nuclear group (BLN) - basolateral nucleus (basal nucleus) - BL\t\t4827\t53518064.0\t17716\t44281.06098179032\t0.9559516728570443\t0.8567887668317138\t0.8635709259614972\n",
      "agg_1118\tCGE interneuron\tAmygdala_basolateral nuclear group (BLN) - basomedial nucleus (accessory basal nucleus) - BM\tCNS\thealthy\tSCR_016152\tbrain_atlas\tAmygdala\tbasolateral nuclear group (BLN) - basomedial nucleus (accessory basal nucleus) - BM\t\t3328\t43659654.0\t17730\t45262.446914261665\t0.9542446453364304\t0.8568247176176679\t0.8600818558559432\n",
      "agg_1119\tCGE interneuron\tAmygdala_corticomedial nuclear group - CMN\tCNS\thealthy\tSCR_016152\tbrain_atlas\tAmygdala\tcorticomedial nuclear group - CMN\t\t4434\t51772973.0\t17758\t44807.696973438295\t0.9570021114498952\t0.8556658443449039\t0.8641266258892707\n",
      "agg_1120\tCGE interneuron\tBasal ganglia_Body of the Caudate - CaB\tCNS\thealthy\tSCR_016152\tbrain_atlas\tBasal ganglia\tBody of the Caudate - CaB\t\t187\t3122777.0\t15683\t44838.93941730748\t0.9494639797626426\t0.850804855581977\t0.8553423638918904\n",
      "agg_1121\tCGE interneuron\tBasal ganglia_Globus pallidus (GP) - External segment of globus pallidus - GPe\tCNS\thealthy\tSCR_016152\tbrain_atlas\tBasal ganglia\tGlobus pallidus (GP) - External segment of globus pallidus - GPe\t\t107\t1401962.0\t14986\t44440.308958941176\t0.9432617394411168\t0.8448997012052522\t0.8476170302061452\n",
      "agg_1122\tCGE interneuron\tBasal ganglia_Globus pallidus (GP) - Internal segment of globus pallidus - GPi\tCNS\thealthy\tSCR_016152\tbrain_atlas\tBasal ganglia\tGlobus pallidus (GP) - Internal segment of globus pallidus - GPi\t\t16\t121804.0\t10739\t39259.57497605263\t0.858884474221949\t0.7726171135663182\t0.7644669154369795\n",
      "agg_1123\tCGE interneuron\tBasal ganglia_Nucleus Accumbens - NAC\tCNS\thealthy\tSCR_016152\tbrain_atlas\tBasal ganglia\tNucleus Accumbens - NAC\t\t92\t1157081.0\t14512\t43915.45804097595\t0.9406993659470231\t0.8463012081482822\t0.8484284417222941\n",
      "agg_1124\tCGE interneuron\tBasal ganglia_Nucleus accumbens\tCNS\thealthy\tjhpce#tran2021\tbrain_atlas\tBasal ganglia\tNucleus accumbens\t\t294\t6261733.0\t16363\t44435.4512744186\t0.939417438111905\t0.8392186623819058\t0.8527706997362122\n",
      "agg_1125\tCGE interneuron\tBasal ganglia_Putamen - Pu\tCNS\thealthy\tSCR_016152\tbrain_atlas\tBasal ganglia\tPutamen - Pu\t\t425\t4717570.0\t16183\t45001.20451703623\t0.9514341635683559\t0.8539321245006076\t0.855428781988558\n",
      "agg_1126\tCGE interneuron\tBasal ganglia_septal nuclei - SEP\tCNS\thealthy\tSCR_016152\tbrain_atlas\tBasal ganglia\tseptal nuclei - SEP\t\t1879\t21882302.0\t17497\t46007.24312666675\t0.9527114190907388\t0.8532013539249315\t0.8558978082659188\n",
      "agg_1127\tCGE interneuron\tBasal ganglia_substantia innominata and nearby nuclei - SI\tCNS\thealthy\tSCR_016152\tbrain_atlas\tBasal ganglia\tsubstantia innominata and nearby nuclei - SI\t\t765\t7857686.0\t16676\t45181.13280453827\t0.9528570987403407\t0.8528510578046272\t0.857340287067751\n",
      "agg_1128\tCGE interneuron\tCerebral cortex_Anterior Olfactory Nucleus - AON\tCNS\thealthy\tSCR_016152\tbrain_atlas\tCerebral cortex\tAnterior Olfactory Nucleus - AON\t\t2403\t39067991.0\t17616\t45931.36796447533\t0.9546916552053556\t0.8522756501950615\t0.8582181016005722\n",
      "agg_1130\tCGE interneuron\tCerebral cortex_Anterior cingulate cortex\tCNS\thealthy\tPRJNA434002\tbrain_atlas\tCerebral cortex\tAnterior cingulate cortex\t\t1644\t7947983.0\t15944\t45552.80934538369\t0.899805511496978\t0.8093617097115822\t0.8000548329236696\n",
      "agg_1131\tCGE interneuron\tCerebral cortex_Anterior cingulate cortex - ACC\tCNS\thealthy\tSCR_016152\tbrain_atlas\tCerebral cortex\tAnterior cingulate cortex - ACC\t\t3716\t58054934.0\t17749\t45840.820597657774\t0.9534435475418815\t0.853738798083762\t0.8559544023158703\n",
      "agg_1132\tCGE interneuron\tCerebral cortex_Anterior parahippocampal gyrus (AG) - Lateral entorhinal cortex - LEC\tCNS\thealthy\tSCR_016152\tbrain_atlas\tCerebral cortex\tAnterior parahippocampal gyrus (AG) - Lateral entorhinal cortex - LEC\t\t5912\t81002476.0\t17880\t45675.62135987685\t0.9541385127816103\t0.8500039325320953\t0.8568608826029541\n",
      "agg_1133\tCGE interneuron\tCerebral cortex_Anterior parahippocampal gyrus/posterior part (APH) - Medial entorhinal cortex - MEC\tCNS\thealthy\tSCR_016152\tbrain_atlas\tCerebral cortex\tAnterior parahippocampal gyrus/posterior part (APH) - Medial entorhinal cortex - MEC\t\t11071\t153176261.0\t18055\t44934.06085029526\t0.9564513772455941\t0.8578279194724209\t0.8613450453709655\n",
      "agg_1134\tCGE interneuron\tCerebral cortex_Caudal cingulate gyrus (CgGC) - A23\tCNS\thealthy\tSCR_016152\tbrain_atlas\tCerebral cortex\tCaudal cingulate gyrus (CgGC) - A23\t\t4324\t45019739.0\t17656\t45110.451368021866\t0.9539821503006068\t0.8559550389720095\t0.857177067428263\n",
      "agg_1135\tCGE interneuron\tCerebral cortex_Cingulate gyrus/retrosplenial (CgGrs) - A29-A30\tCNS\thealthy\tSCR_016152\tbrain_atlas\tCerebral cortex\tCingulate gyrus/retrosplenial (CgGrs) - A29-A30\t\t6632\t39702720.0\t17615\t46139.58724353013\t0.9494599332961685\t0.8495667411664938\t0.8459029902797677\n",
      "agg_1136\tCGE interneuron\tCerebral cortex_Cuneus/caudal part - Peristriate Cortex - V2\tCNS\thealthy\tSCR_016152\tbrain_atlas\tCerebral cortex\tCuneus/caudal part - Peristriate Cortex - V2\t\t3560\t45381187.0\t17654\t45224.39627648392\t0.9537145582307842\t0.8516769565904151\t0.8558226304003664\n",
      "agg_1137\tCGE interneuron\tCerebral cortex_Cuneus/rostral part - Area Prostriata - Pro\tCNS\thealthy\tSCR_016152\tbrain_atlas\tCerebral cortex\tCuneus/rostral part - Area Prostriata - Pro\t\t2859\t35796270.0\t17617\t46132.638278870865\t0.953210222113289\t0.8503846763672066\t0.8517721300452203\n",
      "agg_1138\tCGE interneuron\tCerebral cortex_Dorsalateral prefrontal cortex\tCNS\thealthy\thttp://psychencode.org\tbrain_atlas\tCerebral cortex\tDorsalateral prefrontal cortex\t\t1423\t4616796.0\t15660\t48569.99403936421\t0.9117588212407522\t0.7869315086586617\t0.8134432687774173\n",
      "agg_1140\tCGE interneuron\tCerebral cortex_Dorsolateral prefrontal cortex\tCNS\thealthy\tGSE129308\tbrain_atlas\tCerebral cortex\tDorsolateral prefrontal cortex\t\t3811\t7049199.0\t15518\t45472.90946388328\t0.9123433698437873\t0.8126679354513144\t0.8000875424359442\n",
      "agg_1141\tCGE interneuron\tCerebral cortex_Dorsolateral prefrontal cortex\tCNS\thealthy\tSCR_002001\tbrain_atlas\tCerebral cortex\tDorsolateral prefrontal cortex\t\t10725\t68649325.0\t14884\t41705.65745832643\t0.8781713598569268\t0.8191804553888763\t0.799212985469408\n",
      "agg_1142\tCGE interneuron\tCerebral cortex_Dorsolateral prefrontal cortex\tCNS\thealthy\tjhpce#tran2021\tbrain_atlas\tCerebral cortex\tDorsolateral prefrontal cortex\t\t567\t12085629.0\t16977\t43519.60306913432\t0.9478968648853212\t0.8553751683830699\t0.8666560185155503\n",
      "agg_1145\tCGE interneuron\tCerebral cortex_Entorhinal cortex\tCNS\thealthy\tGSE160936\tbrain_atlas\tCerebral cortex\tEntorhinal cortex\t\t1047\t4387962.0\t15399\t40719.46283580456\t0.9286596800224921\t0.8366923122084351\t0.8507547006018672\n",
      "agg_1147\tCGE interneuron\tCerebral cortex_Frontal Cortex\tCNS\thealthy\tGSE163122\tbrain_atlas\tCerebral cortex\tFrontal Cortex\t\t19\t54018.0\t8344\t33326.7485689139\t0.7992434996890754\t0.7329329945323536\t0.7380634826096151\n",
      "agg_1148\tCGE interneuron\tCerebral cortex_Frontal agranular insular cortex - FI\tCNS\thealthy\tSCR_016152\tbrain_atlas\tCerebral cortex\tFrontal agranular insular cortex - FI\t\t4681\t86805040.0\t17857\t44416.26306035089\t0.9557815899225688\t0.8595831773838496\t0.8640557588613347\n",
      "agg_1149\tCGE interneuron\tCerebral cortex_Gyrus rectus (ReG) - Medial orbitofrontal cortex - A14\tCNS\thealthy\tSCR_016152\tbrain_atlas\tCerebral cortex\tGyrus rectus (ReG) - Medial orbitofrontal cortex - A14\t\t1279\t31692146.0\t17425\t45084.21292275218\t0.9550103469929688\t0.8561271654196\t0.8603893866482042\n",
      "agg_1150\tCGE interneuron\tCerebral cortex_Inferior frontal gyrus (IFG) - Ventrolateral prefrontal cortex - A44-A45\tCNS\thealthy\tSCR_016152\tbrain_atlas\tCerebral cortex\tInferior frontal gyrus (IFG) - Ventrolateral prefrontal cortex - A44-A45\t\t5033\t69465714.0\t17848\t45994.239910992255\t0.9554778167568956\t0.8536153597606401\t0.8555734610691637\n",
      "agg_1151\tCGE interneuron\tCerebral cortex_Inferior temporal gyrus - ITG\tCNS\thealthy\tSCR_016152\tbrain_atlas\tCerebral cortex\tInferior temporal gyrus - ITG\t\t5284\t72800988.0\t17847\t45716.37075056562\t0.9536311565746031\t0.8544356903796938\t0.8540222039431139\n",
      "agg_1152\tCGE interneuron\tCerebral cortex_Lingual gyrus (LiG) - Primary Visual Cortex - V1C\tCNS\thealthy\tSCR_016152\tbrain_atlas\tCerebral cortex\tLingual gyrus (LiG) - Primary Visual Cortex - V1C\t\t2183\t22471869.0\t17322\t45577.36171821733\t0.9524809146890161\t0.8516653474121149\t0.8531071638907382\n",
      "agg_1153\tCGE interneuron\tCerebral cortex_Long insular gyri (LIG) - Dysgranular insular cortex - Idg\tCNS\thealthy\tSCR_016152\tbrain_atlas\tCerebral cortex\tLong insular gyri (LIG) - Dysgranular insular cortex - Idg\t\t5126\t82685320.0\t17916\t46218.94033766634\t0.9542202102627187\t0.8510695199936927\t0.8546741809365636\n",
      "agg_1154\tCGE interneuron\tCerebral cortex_Middle Temporal Gyrus - MTG\tCNS\thealthy\tSCR_016152\tbrain_atlas\tCerebral cortex\tMiddle Temporal Gyrus - MTG\t\t11311\t151558742.0\t18010\t45732.36858827974\t0.952730565143899\t0.8519098774464178\t0.8534353362507285\n",
      "agg_1155\tCGE interneuron\tCerebral cortex_Middle frontal gyrus (MFG) - A46\tCNS\thealthy\tSCR_016152\tbrain_atlas\tCerebral cortex\tMiddle frontal gyrus (MFG) - A46\t\t3951\t46477496.0\t17662\t45688.617980936666\t0.953364062745528\t0.851636584925773\t0.8545891176316116\n",
      "agg_1157\tCGE interneuron\tCerebral cortex_Occipital Cortex\tCNS\thealthy\tGSE163122\tbrain_atlas\tCerebral cortex\tOccipital Cortex\t\t171\t212716.0\t12145\t40982.11625428927\t0.8832717415790446\t0.7948885354834843\t0.8225702992204573\n",
      "agg_1158\tCGE interneuron\tCerebral cortex_Occipitotemporal (fusiform) gyrus/temporal part (FuGt) - Temporal area TF\tCNS\thealthy\tSCR_016152\tbrain_atlas\tCerebral cortex\tOccipitotemporal (fusiform) gyrus/temporal part (FuGt) - Temporal area TF\t\t3975\t43199557.0\t17636\t45507.23819226017\t0.9532879143459528\t0.8533294099175049\t0.8554793688418564\n",
      "agg_1159\tCGE interneuron\tCerebral cortex_Parietal lobe\tCNS\thealthy\tPRJNA544731\tbrain_atlas\tCerebral cortex\tParietal lobe\t\t325\t1291000.0\t13938\t39998.241565767414\t0.904521582278289\t0.8193605423836186\t0.8176628902062328\n",
      "agg_1161\tCGE interneuron\tCerebral cortex_Parietal operculum (PaO) - Gustatory cortex - A43\tCNS\thealthy\tSCR_016152\tbrain_atlas\tCerebral cortex\tParietal operculum (PaO) - Gustatory cortex - A43\t\t5024\t78701516.0\t17892\t46142.555314647965\t0.9539450591818139\t0.8525012196667436\t0.855167790430822\n",
      "agg_1162\tCGE interneuron\tCerebral cortex_Perirhinal gyrus (PRG) - A35-A36\tCNS\thealthy\tSCR_016152\tbrain_atlas\tCerebral cortex\tPerirhinal gyrus (PRG) - A35-A36\t\t3012\t51432821.0\t17692\t45131.31805705638\t0.9560632331488161\t0.8555943455175027\t0.8614218812447207\n",
      "agg_1163\tCGE interneuron\tCerebral cortex_Perirhinal gyrus (PRG) -  A35-A36\tCNS\thealthy\tSCR_016152\tbrain_atlas\tCerebral cortex\tPerirhinal gyrus (PRG) -  A35-A36\t\t144\t3077583.0\t15860\t45585.48590990845\t0.94770755111472\t0.8524365900027768\t0.8516278734318256\n",
      "agg_1164\tCGE interneuron\tCerebral cortex_Piriform cortex - Pir\tCNS\thealthy\tSCR_016152\tbrain_atlas\tCerebral cortex\tPiriform cortex - Pir\t\t5304\t73012905.0\t17813\t44873.944335107975\t0.9556997945549233\t0.8548111905904039\t0.860258266899383\n",
      "agg_1165\tCGE interneuron\tCerebral cortex_Post-mortem dosolateral BA9\tCNS\thealthy\tGSE144136\tbrain_atlas\tCerebral cortex\tPost-mortem dosolateral BA9\t\t2570\t5965814.0\t16155\t47522.884224494985\t0.9068086039182727\t0.7989989458092506\t0.7934264404955423\n",
      "agg_1167\tCGE interneuron\tCerebral cortex_Postcentral gyrus (PoCG) - Primary somatosensory cortex - S1C\tCNS\thealthy\tSCR_016152\tbrain_atlas\tCerebral cortex\tPostcentral gyrus (PoCG) - Primary somatosensory cortex - S1C\t\t4884\t62996504.0\t17825\t46019.31193181314\t0.9532354131992904\t0.8507754809917075\t0.8524770203011584\n",
      "agg_1168\tCGE interneuron\tCerebral cortex_Posterior intermediate orbital gyrus (POrG) - Caudal division of OFCi - A13\tCNS\thealthy\tSCR_016152\tbrain_atlas\tCerebral cortex\tPosterior intermediate orbital gyrus (POrG) - Caudal division of OFCi - A13\t\t4262\t52913409.0\t17753\t45998.20253059246\t0.953615905848413\t0.8538107256636154\t0.8558539119476164\n",
      "agg_1169\tCGE interneuron\tCerebral cortex_Posterior parahippocampal gyrus (PPH) - TH-TL\tCNS\thealthy\tSCR_016152\tbrain_atlas\tCerebral cortex\tPosterior parahippocampal gyrus (PPH) - TH-TL\t\t4825\t76436336.0\t17892\t46061.05240538032\t0.9535840982569064\t0.8528944265631686\t0.8547035396100106\n",
      "agg_1170\tCGE interneuron\tCerebral cortex_Precentral gyrus (PrCG) - Primary motor cortex - M1C\tCNS\thealthy\tSCR_016152\tbrain_atlas\tCerebral cortex\tPrecentral gyrus (PrCG) - Primary motor cortex - M1C\t\t12727\t146884792.0\t17963\t44470.47415111472\t0.9547226046429305\t0.8572875463413503\t0.8600483658810508\n",
      "agg_1176\tCGE interneuron\tCerebral cortex_Prefrontal cortex\tCNS\thealthy\tGSE157827\tbrain_atlas\tCerebral cortex\tPrefrontal cortex\t\t5008\t19848445.0\t17304\t45159.62227579555\t0.9393600054559287\t0.8396432923534439\t0.8450459166741539\n",
      "agg_1177\tCGE interneuron\tCerebral cortex_Prefrontal cortex\tCNS\thealthy\tGSE167494\tbrain_atlas\tCerebral cortex\tPrefrontal cortex\t\t1794\t13211024.0\t17409\t45724.65583715663\t0.9469091235910225\t0.8594468461006485\t0.8649022466659783\n",
      "agg_1178\tCGE interneuron\tCerebral cortex_Prefrontal cortex\tCNS\thealthy\tPRJNA434002\tbrain_atlas\tCerebral cortex\tPrefrontal cortex\t\t1665\t9481795.0\t16016\t45621.72012996503\t0.8979547648941134\t0.8073909907070784\t0.7965111186378239\n",
      "agg_1179\tCGE interneuron\tCerebral cortex_Prefrontal cortex\tCNS\thealthy\tPRJNA544731\tbrain_atlas\tCerebral cortex\tPrefrontal cortex\t\t826\t3367041.0\t15274\t43661.14958487554\t0.9051999043253188\t0.8133421639122885\t0.8088287084809244\n",
      "agg_1181\tCGE interneuron\tCerebral cortex_Premotor cortex\tCNS\thealthy\tPRJNA544731\tbrain_atlas\tCerebral cortex\tPremotor cortex\t\t350\t1081458.0\t13948\t41367.59429187521\t0.9021448372916091\t0.8212426090282491\t0.8128519813702438\n",
      "agg_1183\tCGE interneuron\tCerebral cortex_Rostral gyrus (RoG) - Dorsal division of MFC - A32\tCNS\thealthy\tSCR_016152\tbrain_atlas\tCerebral cortex\tRostral gyrus (RoG) - Dorsal division of MFC - A32\t\t5300\t48080151.0\t17740\t45940.14992316566\t0.9534549960902643\t0.8524659349518056\t0.853964641983153\n",
      "agg_1184\tCGE interneuron\tCerebral cortex_Short insular gyri - Granular insular cortex - Ig\tCNS\thealthy\tSCR_016152\tbrain_atlas\tCerebral cortex\tShort insular gyri - Granular insular cortex - Ig\t\t3872\t54863803.0\t17796\t46214.28719021868\t0.9535166883859459\t0.8496326796851502\t0.85317863812959\n",
      "agg_1186\tCGE interneuron\tCerebral cortex_Somatosensory cortex\tCNS\thealthy\tGSE160936\tbrain_atlas\tCerebral cortex\tSomatosensory cortex\t\t582\t2485492.0\t15425\t42287.690403027314\t0.9287968390307827\t0.832253735985677\t0.8485581697182518\n",
      "agg_1187\tCGE interneuron\tCerebral cortex_Subcallosal Gyrus (SCG) - Subgenual (subcallosal) division of MFC - A25\tCNS\thealthy\tSCR_016152\tbrain_atlas\tCerebral cortex\tSubcallosal Gyrus (SCG) - Subgenual (subcallosal) division of MFC - A25\t\t4614\t63037552.0\t17855\t45818.45271602795\t0.9540811285074197\t0.8550988434064752\t0.8573155675073667\n",
      "agg_1188\tCGE interneuron\tCerebral cortex_Subgenual anterior cingulate cortex\tCNS\thealthy\tjhpce#tran2021\tbrain_atlas\tCerebral cortex\tSubgenual anterior cingulate cortex\t\t2103\t51030690.0\t17508\t42976.54360402118\t0.9443716615080814\t0.8547308776338655\t0.8686303762745468\n",
      "agg_1189\tCGE interneuron\tCerebral cortex_Superior Temporal Gyrus - STG\tCNS\thealthy\tSCR_016152\tbrain_atlas\tCerebral cortex\tSuperior Temporal Gyrus - STG\t\t3973\t39680274.0\t17664\t46796.560637020826\t0.9516814599996662\t0.846081904137383\t0.8486666567787549\n",
      "agg_1191\tCGE interneuron\tCerebral cortex_Superior occipital gyrus (SOG) - Areas 19 and MT - A19\tCNS\thealthy\tSCR_016152\tbrain_atlas\tCerebral cortex\tSuperior occipital gyrus (SOG) - Areas 19 and MT - A19\t\t3558\t49128087.0\t17635\t44582.24762740059\t0.9546774331036844\t0.8554153722545857\t0.8592675654958597\n",
      "agg_1192\tCGE interneuron\tCerebral cortex_Supramarginal gyrus (SMG) - A40\tCNS\thealthy\tSCR_016152\tbrain_atlas\tCerebral cortex\tSupramarginal gyrus (SMG) - A40\t\t5683\t70588900.0\t17849\t45684.68704753316\t0.9525630511152248\t0.8524892474699114\t0.856410536999382\n",
      "agg_1193\tCGE interneuron\tCerebral cortex_Supraparietal lobule (SPL) - Posterosuperior (dorsal) parietal cortex - A5-A7\tCNS\thealthy\tSCR_016152\tbrain_atlas\tCerebral cortex\tSupraparietal lobule (SPL) - Posterosuperior (dorsal) parietal cortex - A5-A7\t\t4244\t59929163.0\t17802\t45565.49384897568\t0.9535026029597516\t0.8517910261710867\t0.855050582794054\n",
      "agg_1195\tCGE interneuron\tCerebral cortex_Temporal Cortex\tCNS\thealthy\tGSE163122\tbrain_atlas\tCerebral cortex\tTemporal Cortex\t\t15\t64527.0\t8940\t35023.97356147146\t0.8093981501317319\t0.7433994035544298\t0.7365259401750139\n",
      "agg_1197\tCGE interneuron\tCerebral cortex_Temporal pole (TP) - Temporopolar area - A38\tCNS\thealthy\tSCR_016152\tbrain_atlas\tCerebral cortex\tTemporal pole (TP) - Temporopolar area - A38\t\t5613\t90000762.0\t17933\t45760.61062590786\t0.955041605196879\t0.8539103329628183\t0.8586211004297455\n",
      "agg_1198\tCGE interneuron\tCerebral cortex_Transverse temporal gyrus (TTG) - Primary auditory cortex - A1C\tCNS\thealthy\tSCR_016152\tbrain_atlas\tCerebral cortex\tTransverse temporal gyrus (TTG) - Primary auditory cortex - A1C\t\t3730\t48356883.0\t17721\t45865.96252709382\t0.952933906327049\t0.850614355382243\t0.8530717089075621\n",
      "agg_1199\tCGE interneuron\tCerebral cortex_Unclassified\tCNS\thealthy\tGSE140231\tbrain_atlas\tCerebral cortex\tUnclassified\t\t1284\t5120738.0\t15935\t46875.188661093554\t0.8985067250057941\t0.7975575635821707\t0.787124459767903\n",
      "agg_1201\tCGE interneuron\tCerebral cortex_nan\tCNS\thealthy\tGSE160936\tbrain_atlas\tCerebral cortex\tnan\t\t323\t1134778.0\t14542\t42514.804335946086\t0.9226715988771624\t0.8225061115769186\t0.8428913356673597\n",
      "agg_1203\tCGE interneuron\tCerebral cortex_occipital cortex\tCNS\thealthy\tGSE148822\tbrain_atlas\tCerebral cortex\toccipital cortex\t\t1450\t2365826.0\t15947\t44174.234808531546\t0.9329289198690828\t0.842346530000887\t0.8588884951633767\n",
      "agg_1205\tCGE interneuron\tCerebral cortex_occipitotemporal cortex\tCNS\thealthy\tGSE148822\tbrain_atlas\tCerebral cortex\toccipitotemporal cortex\t\t221\t534585.0\t13874\t42991.07634366376\t0.9140926425122817\t0.8296886259606971\t0.8383202288704407\n",
      "agg_1206\tCGE interneuron\tEpithalamus_ETH\tCNS\thealthy\tSCR_016152\tbrain_atlas\tEpithalamus\tETH\t\t57\t462804.0\t13029\t42272.40776782958\t0.9162630591666623\t0.8259699566888652\t0.8256469609995585\n",
      "agg_1207\tCGE interneuron\tGrey matter_Cla\tCNS\thealthy\tSCR_016152\tbrain_atlas\tGrey matter\tCla\t\t4536\t60807216.0\t17792\t45427.60235087236\t0.9543023070218183\t0.8555569763795798\t0.8561216537911441\n",
      "agg_1210\tCGE interneuron\tGrey matter_Motor cortex\tCNS\thealthy\tGSE174332\tbrain_atlas\tGrey matter\tMotor cortex\t\t2248\t20697132.0\t17490\t45333.17698450644\t0.9493084819108504\t0.8622889159965869\t0.8654712716809753\n",
      "agg_1216\tCGE interneuron\tHippocampus_CA1\tCNS\thealthy\tSCR_016152\tbrain_atlas\tHippocampus\tCA1\t\t1056\t24257946.0\t17319\t44618.662958680216\t0.9555082946462914\t0.8576587816177856\t0.8652458087825374\n",
      "agg_1217\tCGE interneuron\tHippocampus_CA1-3\tCNS\thealthy\tSCR_016152\tbrain_atlas\tHippocampus\tCA1-3\t\t1399\t30321942.0\t17654\t45952.11000641589\t0.9567527824344031\t0.8585671841053573\t0.8649575860777023\n",
      "agg_1218\tCGE interneuron\tHippocampus_CA2-3\tCNS\thealthy\tSCR_016152\tbrain_atlas\tHippocampus\tCA2-3\t\t715\t12822333.0\t17047\t45206.041748648764\t0.9548881672748422\t0.8555328863891355\t0.8598074855657095\n",
      "agg_1219\tCGE interneuron\tHippocampus_Caudal Hippocampus - CA1-CA3\tCNS\thealthy\tSCR_016152\tbrain_atlas\tHippocampus\tCaudal Hippocampus - CA1-CA3\t\t4778\t67753760.0\t17845\t45882.31531766433\t0.955659926282955\t0.8570173925421611\t0.8592597569055781\n",
      "agg_1220\tCGE interneuron\tHippocampus_Caudal Hippocampus - CA4-DGC\tCNS\thealthy\tSCR_016152\tbrain_atlas\tHippocampus\tCaudal Hippocampus - CA4-DGC\t\t3850\t43983979.0\t17665\t44794.33524642079\t0.9556424956632221\t0.8578986973545148\t0.862918582121493\n",
      "agg_1221\tCGE interneuron\tHippocampus_DG-CA4\tCNS\thealthy\tSCR_016152\tbrain_atlas\tHippocampus\tDG-CA4\t\t402\t8642108.0\t16547\t43857.65063083102\t0.9546136843144307\t0.8563669085138821\t0.8665502487018528\n",
      "agg_1222\tCGE interneuron\tHippocampus_Hippocampus\tCNS\thealthy\tjhpce#tran2021\tbrain_atlas\tHippocampus\tHippocampus\t\t198\t5257259.0\t16302\t43694.06764200175\t0.9439521677670791\t0.8483678523458008\t0.8615763326636526\n",
      "agg_1228\tCGE interneuron\tHippocampus_Rostral CA1-2\tCNS\thealthy\tSCR_016152\tbrain_atlas\tHippocampus\tRostral CA1-2\t\t1446\t42457430.0\t17602\t44976.25496962376\t0.956097749881942\t0.8592218643503801\t0.8613344630958334\n",
      "agg_1229\tCGE interneuron\tHippocampus_Rostral CA1-CA3\tCNS\thealthy\tSCR_016152\tbrain_atlas\tHippocampus\tRostral CA1-CA3\t\t2477\t34783394.0\t17644\t45816.66612130956\t0.9537393499883875\t0.8529414960671245\t0.8563138700079675\n",
      "agg_1230\tCGE interneuron\tHippocampus_Rostral CA3\tCNS\thealthy\tSCR_016152\tbrain_atlas\tHippocampus\tRostral CA3\t\t1115\t31640031.0\t17496\t43581.95994388098\t0.9576084197006921\t0.8638239733498098\t0.8756803089236452\n",
      "agg_1231\tCGE interneuron\tHippocampus_Rostral DG-CA4\tCNS\thealthy\tSCR_016152\tbrain_atlas\tHippocampus\tRostral DG-CA4\t\t1250\t19699269.0\t17238\t44342.12441936283\t0.9550084099177176\t0.8575808754008807\t0.8668830226576822\n",
      "agg_1232\tCGE interneuron\tHippocampus_Subicular cortex - Sub\tCNS\thealthy\tSCR_016152\tbrain_atlas\tHippocampus\tSubicular cortex - Sub\t\t3585\t27126836.0\t17514\t45615.54245224047\t0.9544276922096665\t0.8541096440988695\t0.8547769440559505\n",
      "agg_1233\tCGE interneuron\tHippocampus_Uncal CA1-CA3\tCNS\thealthy\tSCR_016152\tbrain_atlas\tHippocampus\tUncal CA1-CA3\t\t4243\t24611820.0\t17555\t46345.80013735496\t0.947789066922996\t0.8475197737330911\t0.8457748240749084\n",
      "agg_1234\tCGE interneuron\tHippocampus_Uncal DG-CA4\tCNS\thealthy\tSCR_016152\tbrain_atlas\tHippocampus\tUncal DG-CA4\t\t1003\t7418678.0\t16817\t46113.96045898331\t0.9466531252449502\t0.8489206492374427\t0.848386075106613\n",
      "agg_1235\tCGE interneuron\tHypothalamus_mammillary region of HTH (HTHma)\tCNS\thealthy\tSCR_016152\tbrain_atlas\tHypothalamus\tmammillary region of HTH (HTHma)\t\t19\t169012.0\t11320\t40121.797006176486\t0.8856662995090161\t0.8037367990593358\t0.802838778687612\n",
      "agg_1236\tCGE interneuron\tHypothalamus_mammillary region of HTH (HTHma) - mammillary nucleus - MN\tCNS\thealthy\tSCR_016152\tbrain_atlas\tHypothalamus\tmammillary region of HTH (HTHma) - mammillary nucleus - MN\t\t25\t779705.0\t13829\t40785.11147595983\t0.9232268717942013\t0.8409818874565197\t0.8450233312927798\n",
      "agg_1237\tCGE interneuron\tHypothalamus_mammillary region of HTH (HTHma) - tuberal region of HTH - HTHtub\tCNS\thealthy\tSCR_016152\tbrain_atlas\tHypothalamus\tmammillary region of HTH (HTHma) - tuberal region of HTH - HTHtub\t\t48\t380963.0\t13326\t43897.297697504284\t0.9182130253389306\t0.82540737747863\t0.8295891460044542\n",
      "agg_1238\tCGE interneuron\tHypothalamus_preoptic region of HTH - HTHpo\tCNS\thealthy\tSCR_016152\tbrain_atlas\tHypothalamus\tpreoptic region of HTH - HTHpo\t\t161\t2149160.0\t14796\t42700.563378464205\t0.9453035875743634\t0.8536411059732548\t0.8555891746642673\n",
      "agg_1239\tCGE interneuron\tHypothalamus_preoptic region of HTH - HTHpo (medial preoptic nucleus/MPN) - supraoptic region of HTH - HTHso (paraventricular nucleus/PV)\tCNS\thealthy\tSCR_016152\tbrain_atlas\tHypothalamus\tpreoptic region of HTH - HTHpo (medial preoptic nucleus/MPN) - supraoptic region of HTH - HTHso (paraventricular nucleus/PV)\t\t174\t1690731.0\t14915\t44460.50946676239\t0.9435625577642032\t0.840635467118368\t0.8449369718665004\n",
      "agg_1240\tCGE interneuron\tHypothalamus_supraoptic region of HTH - HTHso\tCNS\thealthy\tSCR_016152\tbrain_atlas\tHypothalamus\tsupraoptic region of HTH - HTHso\t\t1423\t31295463.0\t17220\t42601.00029777002\t0.9509127659692103\t0.8596009580473339\t0.8682058813568818\n",
      "agg_1241\tCGE interneuron\tHypothalamus_supraoptic region of HTH - HTHso (anterior hypothalamic nucleus/AHN) - tuberal region of HTH - HTHtub (ventromedial and dorsomedial hypothalamic nucleic nuclei/VMH/DMH)\tCNS\thealthy\tSCR_016152\tbrain_atlas\tHypothalamus\tsupraoptic region of HTH - HTHso (anterior hypothalamic nucleus/AHN) - tuberal region of HTH - HTHtub (ventromedial and dorsomedial hypothalamic nucleic nuclei/VMH/DMH)\t\t35\t78228.0\t10009\t38635.09504756012\t0.8334301185707277\t0.7367611888109045\t0.7452785744752756\n",
      "agg_1242\tCGE interneuron\tHypothalamus_supraoptic region of HTH - HTHso (anterior hypothalamic nucleus/AHN) - tuberal region of HTH - HTHtub (ventromedial hypothalamic nucleus/VMH)\tCNS\thealthy\tSCR_016152\tbrain_atlas\tHypothalamus\tsupraoptic region of HTH - HTHso (anterior hypothalamic nucleus/AHN) - tuberal region of HTH - HTHtub (ventromedial hypothalamic nucleus/VMH)\t\t70\t1101865.0\t14717\t45919.72980885698\t0.9365659112653159\t0.8300524413766043\t0.8401280236667859\n",
      "agg_1243\tCGE interneuron\tHypothalamus_tuberal region of hypothalamus - HTHtub\tCNS\thealthy\tSCR_016152\tbrain_atlas\tHypothalamus\ttuberal region of hypothalamus - HTHtub\t\t256\t4585880.0\t15703\t42174.16231383817\t0.9483005087846198\t0.8557045973739881\t0.8668683077339957\n",
      "agg_1244\tCGE interneuron\tMidbrain_Inferior colliculus and nearby nuclei - IC\tCNS\thealthy\tSCR_016152\tbrain_atlas\tMidbrain\tInferior colliculus and nearby nuclei - IC\t\t13\t164176.0\t11372\t40071.06497873283\t0.8783321251348539\t0.7942595405346409\t0.804390317549318\n",
      "agg_1245\tCGE interneuron\tMidbrain_Periaqueductal gray and Dorsal raphe nucleus - PAG-DR\tCNS\thealthy\tSCR_016152\tbrain_atlas\tMidbrain\tPeriaqueductal gray and Dorsal raphe nucleus - PAG-DR\t\t78\t428240.0\t13448\t43645.67688472008\t0.9206388104215625\t0.8297756019894639\t0.8304806953604367\n",
      "agg_1246\tCGE interneuron\tMidbrain_Pretectal region - PTR\tCNS\thealthy\tSCR_016152\tbrain_atlas\tMidbrain\tPretectal region - PTR\t\t48\t586996.0\t13256\t41778.929031273845\t0.9246356299843965\t0.8400121394611224\t0.8391326953328622\n",
      "agg_1247\tCGE interneuron\tMidbrain_Substantia Nigra - SN\tCNS\thealthy\tSCR_016152\tbrain_atlas\tMidbrain\tSubstantia Nigra - SN\t\t186\t1644370.0\t15226\t44739.80581505666\t0.9422287767005032\t0.8413773929990623\t0.850756673157757\n",
      "agg_1248\tCGE interneuron\tMidbrain_Superior colliculus and nearby nuclei - SC\tCNS\thealthy\tSCR_016152\tbrain_atlas\tMidbrain\tSuperior colliculus and nearby nuclei - SC\t\t350\t2935116.0\t15645\t44486.84828813827\t0.948365632376795\t0.8491916359469455\t0.8522610942498586\n",
      "agg_1249\tCGE interneuron\tThalamus_Anterior nuclear complex - ANC\tCNS\thealthy\tSCR_016152\tbrain_atlas\tThalamus\tAnterior nuclear complex - ANC\t\t415\t4628862.0\t15887\t43221.11709124231\t0.9515883777834919\t0.8559015219484319\t0.8618820915379024\n",
      "agg_1250\tCGE interneuron\tThalamus_Lateral nuclear complex (LNC) - ventral anterior nucleus of thalamus - VA\tCNS\thealthy\tSCR_016152\tbrain_atlas\tThalamus\tLateral nuclear complex (LNC) - ventral anterior nucleus of thalamus - VA\t\t148\t2591291.0\t15227\t43776.5705289588\t0.9479673500619797\t0.8515409693913362\t0.8579637148668879\n",
      "agg_1251\tCGE interneuron\tThalamus_Lateral nuclear complex of thalamus (LNC) - ventral group of lateral nucleus - VLN\tCNS\thealthy\tSCR_016152\tbrain_atlas\tThalamus\tLateral nuclear complex of thalamus (LNC) - ventral group of lateral nucleus - VLN\t\t20\t465529.0\t12608\t40458.640982486155\t0.9204919458250058\t0.833472525331988\t0.8363484000790021\n",
      "agg_1252\tCGE interneuron\tThalamus_Subthalamic nucleus and nearby - STH\tCNS\thealthy\tSCR_016152\tbrain_atlas\tThalamus\tSubthalamic nucleus and nearby - STH\t\t12\t48930.0\t8273\t33601.57506628955\t0.7916353056350358\t0.717005097973611\t0.7161454527217833\n",
      "agg_1253\tCGE interneuron\tThalamus_Ventral group of lateral nucleus (VLN) - ventral anterior nucleus of thalamus - VA - ventral lateral nucleus of thalamus - VL\tCNS\thealthy\tSCR_016152\tbrain_atlas\tThalamus\tVentral group of lateral nucleus (VLN) - ventral anterior nucleus of thalamus - VA - ventral lateral nucleus of thalamus - VL\t\t80\t405359.0\t13163\t42754.84355247164\t0.9134407943724896\t0.816077952619879\t0.8215123320289275\n",
      "agg_1254\tCGE interneuron\tThalamus_intralaminar nuclear complex (ILN) - posterior group of intralaminar nuclei (PILN) - centromedian and parafasicular nuclei - CM and Pf\tCNS\thealthy\tSCR_016152\tbrain_atlas\tThalamus\tintralaminar nuclear complex (ILN) - posterior group of intralaminar nuclei (PILN) - centromedian and parafasicular nuclei - CM and Pf\t\t33\t533473.0\t13189\t40753.83942051242\t0.9240632401164864\t0.8358777478158795\t0.8407518009319821\n",
      "agg_1255\tCGE interneuron\tThalamus_lateral nuclear complex of thalamus (LNC) - Pulvinar of thalamus - Pul\tCNS\thealthy\tSCR_016152\tbrain_atlas\tThalamus\tlateral nuclear complex of thalamus (LNC) - Pulvinar of thalamus - Pul\t\t684\t3973754.0\t15983\t43590.08238875969\t0.9445663086463763\t0.8503303286245829\t0.8516656964747131\n",
      "agg_1256\tCGE interneuron\tThalamus_lateral nuclear complex of thalamus (LNC) - lateral posterior nucleus of thalamus - LP\tCNS\thealthy\tSCR_016152\tbrain_atlas\tThalamus\tlateral nuclear complex of thalamus (LNC) - lateral posterior nucleus of thalamus - LP\t\t226\t1410013.0\t14621\t42843.472174328854\t0.9371470188185859\t0.8481872653519125\t0.8463956972968795\n",
      "agg_1257\tCGE interneuron\tThalamus_lateral nuclear complex of thalamus (LNC) - ventral posterior lateral nucleus - VPL\tCNS\thealthy\tSCR_016152\tbrain_atlas\tThalamus\tlateral nuclear complex of thalamus (LNC) - ventral posterior lateral nucleus - VPL\t\t61\t553114.0\t13801\t43686.118597136345\t0.916540300502315\t0.8204999882838292\t0.8167449767586076\n",
      "agg_1258\tCGE interneuron\tThalamus_medial nuclear complex of thalamus (MNC) - mediodorsal nucleus of thalamus + reuniens nucleus (medioventral nucleus) of thalamus - MD + Re\tCNS\thealthy\tSCR_016152\tbrain_atlas\tThalamus\tmedial nuclear complex of thalamus (MNC) - mediodorsal nucleus of thalamus + reuniens nucleus (medioventral nucleus) of thalamus - MD + Re\t\t14\t254289.0\t11620\t39589.30912901781\t0.893805244087664\t0.7964987890849986\t0.7999827705781003\n",
      "agg_1259\tCGE interneuron\tThalamus_medial nuclear complex of thalamus (MNC) - mediodorsal nucleus of thalamus - MD\tCNS\thealthy\tSCR_016152\tbrain_atlas\tThalamus\tmedial nuclear complex of thalamus (MNC) - mediodorsal nucleus of thalamus - MD\t\t68\t891523.0\t14285\t44531.72968036648\t0.9341282492048123\t0.8347986333134049\t0.8409491999172779\n",
      "agg_1260\tCGE interneuron\tThalamus_posterior nuclear complex of thalamus (PoN) - lateral geniculate nucleus (LG)\tCNS\thealthy\tSCR_016152\tbrain_atlas\tThalamus\tposterior nuclear complex of thalamus (PoN) - lateral geniculate nucleus (LG)\t\t1116\t8879856.0\t16606\t43993.94471049856\t0.9451924316131305\t0.8514029501274426\t0.8461715340569704\n",
      "agg_1261\tCGE interneuron\tThalamus_posterior nuclear complex of thalamus (PoN) - medial geniculate nuclei (MG)\tCNS\thealthy\tSCR_016152\tbrain_atlas\tThalamus\tposterior nuclear complex of thalamus (PoN) - medial geniculate nuclei (MG)\t\t355\t2234733.0\t15185\t43529.744792294245\t0.9363821168798473\t0.8477657453423078\t0.8410011875784053\n",
      "agg_1262\tCGE interneuron\tWhite matter_Unclassifed\tCNS\thealthy\tGSE118257\tbrain_atlas\tWhite matter\tUnclassifed\t\t48\t102149.0\t9997\t38110.36556036987\t0.8459352980352427\t0.7713240018194049\t0.7659342353072323\n",
      "agg_1836\tEccentric medium spiny neuron\tAmygdala_Amygdala\tCNS\thealthy\tjhpce#tran2021\tbrain_atlas\tAmygdala\tAmygdala\t\t253\t3498891.0\t15519\t40448.34183203413\t0.9349916890507771\t0.8498156882148697\t0.8717524868530316\n",
      "agg_1837\tEccentric medium spiny neuron\tAmygdala_Basolateral nuclear group (BLN) - lateral nucleus - La\tCNS\thealthy\tSCR_016152\tbrain_atlas\tAmygdala\tBasolateral nuclear group (BLN) - lateral nucleus - La\t\t2614\t37373934.0\t17392\t41638.12221921355\t0.946974437450923\t0.847991661796929\t0.8728311397041211\n",
      "agg_1838\tEccentric medium spiny neuron\tAmygdala_Bed nucleus of stria terminalis and nearby - BNST\tCNS\thealthy\tSCR_016152\tbrain_atlas\tAmygdala\tBed nucleus of stria terminalis and nearby - BNST\t\t4070\t61034153.0\t17725\t43366.55866013142\t0.9449832628069204\t0.8477951141899623\t0.8647579750069853\n",
      "agg_1839\tEccentric medium spiny neuron\tAmygdala_Central nuclear group - CEN\tCNS\thealthy\tSCR_016152\tbrain_atlas\tAmygdala\tCentral nuclear group - CEN\t\t3691\t76250911.0\t17745\t42044.66933888139\t0.9514448017876914\t0.8543214296020579\t0.876937120815823\n",
      "agg_1840\tEccentric medium spiny neuron\tAmygdala_Corticomedial nuclear group (CMN) - anterior cortical nucleus - CoA\tCNS\thealthy\tSCR_016152\tbrain_atlas\tAmygdala\tCorticomedial nuclear group (CMN) - anterior cortical nucleus - CoA\t\t312\t9332001.0\t16304\t41613.063910534125\t0.9461576605204305\t0.8537505332441399\t0.8718902967128986\n",
      "agg_1841\tEccentric medium spiny neuron\tAmygdala_basolateral nuclear group (BLN) - basolateral nucleus (basal nucleus) - BL\tCNS\thealthy\tSCR_016152\tbrain_atlas\tAmygdala\tbasolateral nuclear group (BLN) - basolateral nucleus (basal nucleus) - BL\t\t991\t14693462.0\t17096\t43349.253663206655\t0.9466071511985032\t0.8409559911723744\t0.8654262663177494\n",
      "agg_1842\tEccentric medium spiny neuron\tAmygdala_basolateral nuclear group (BLN) - basomedial nucleus (accessory basal nucleus) - BM\tCNS\thealthy\tSCR_016152\tbrain_atlas\tAmygdala\tbasolateral nuclear group (BLN) - basomedial nucleus (accessory basal nucleus) - BM\t\t2136\t34214943.0\t17486\t43531.78569767113\t0.9456787682949195\t0.8401723315976578\t0.8651359242111114\n",
      "agg_1843\tEccentric medium spiny neuron\tAmygdala_corticomedial nuclear group - CMN\tCNS\thealthy\tSCR_016152\tbrain_atlas\tAmygdala\tcorticomedial nuclear group - CMN\t\t3958\t48755555.0\t17694\t43174.876652443105\t0.9506933018097268\t0.8516551225422615\t0.8731869512180219\n",
      "agg_1844\tEccentric medium spiny neuron\tBasal ganglia_Body of the Caudate - CaB\tCNS\thealthy\tSCR_016152\tbrain_atlas\tBasal ganglia\tBody of the Caudate - CaB\t\t1551\t39202986.0\t17424\t41457.74016252917\t0.9259798424126457\t0.8260169421932617\t0.8447155432709379\n",
      "agg_1845\tEccentric medium spiny neuron\tBasal ganglia_Globus pallidus (GP) - External segment of globus pallidus - GPe\tCNS\thealthy\tSCR_016152\tbrain_atlas\tBasal ganglia\tGlobus pallidus (GP) - External segment of globus pallidus - GPe\t\t1290\t35374546.0\t17372\t41841.67685398771\t0.9374765396080563\t0.8387183698860925\t0.8588994519905235\n",
      "agg_1846\tEccentric medium spiny neuron\tBasal ganglia_Nucleus Accumbens - NAC\tCNS\thealthy\tSCR_016152\tbrain_atlas\tBasal ganglia\tNucleus Accumbens - NAC\t\t2459\t55330510.0\t17609\t42872.9089593033\t0.9373280224975074\t0.8361335100131294\t0.855366592773061\n",
      "agg_1847\tEccentric medium spiny neuron\tBasal ganglia_Nucleus accumbens\tCNS\thealthy\tjhpce#tran2021\tbrain_atlas\tBasal ganglia\tNucleus accumbens\t\t937\t19344324.0\t16952\t41691.59203456692\t0.9292516932598761\t0.8324143458310376\t0.8583836544325235\n",
      "agg_1848\tEccentric medium spiny neuron\tBasal ganglia_Putamen - Pu\tCNS\thealthy\tSCR_016152\tbrain_atlas\tBasal ganglia\tPutamen - Pu\t\t1532\t39824493.0\t17432\t41522.77853413851\t0.9321374825366149\t0.8343397129615645\t0.8558908523690969\n",
      "agg_1849\tEccentric medium spiny neuron\tBasal ganglia_septal nuclei - SEP\tCNS\thealthy\tSCR_016152\tbrain_atlas\tBasal ganglia\tseptal nuclei - SEP\t\t650\t9239985.0\t16787\t43539.592830885056\t0.9348948990808218\t0.8383143024241715\t0.8500947548924618\n",
      "agg_1850\tEccentric medium spiny neuron\tBasal ganglia_substantia innominata and nearby nuclei - SI\tCNS\thealthy\tSCR_016152\tbrain_atlas\tBasal ganglia\tsubstantia innominata and nearby nuclei - SI\t\t5395\t95304701.0\t17845\t42671.29521993991\t0.9418578412657839\t0.8418476785493142\t0.8629907394936818\n",
      "agg_1851\tEccentric medium spiny neuron\tCerebral cortex_Anterior Olfactory Nucleus - AON\tCNS\thealthy\tSCR_016152\tbrain_atlas\tCerebral cortex\tAnterior Olfactory Nucleus - AON\t\t1904\t20326709.0\t17272\t44304.954065111655\t0.9364907667665184\t0.8333917083634919\t0.8547522246345102\n",
      "agg_1852\tEccentric medium spiny neuron\tCerebral cortex_Dorsolateral prefrontal cortex\tCNS\thealthy\tjhpce#tran2021\tbrain_atlas\tCerebral cortex\tDorsolateral prefrontal cortex\t\t91\t3594350.0\t15539\t41081.34436554239\t0.935941817114317\t0.8406435959927373\t0.8686615915475352\n",
      "agg_1853\tEccentric medium spiny neuron\tCerebral cortex_Frontal agranular insular cortex - FI\tCNS\thealthy\tSCR_016152\tbrain_atlas\tCerebral cortex\tFrontal agranular insular cortex - FI\t\t63\t2075917.0\t14566\t40645.474011381564\t0.9323820955609043\t0.833562300525369\t0.8579783672917262\n",
      "agg_1854\tEccentric medium spiny neuron\tCerebral cortex_Long insular gyri (LIG) - Dysgranular insular cortex - Idg\tCNS\thealthy\tSCR_016152\tbrain_atlas\tCerebral cortex\tLong insular gyri (LIG) - Dysgranular insular cortex - Idg\t\t14\t143115.0\t10990\t39309.121330738846\t0.8589666904382315\t0.7575177551708354\t0.7780514721975762\n",
      "agg_1855\tEccentric medium spiny neuron\tCerebral cortex_Perirhinal gyrus (PRG) - A35-A36\tCNS\thealthy\tSCR_016152\tbrain_atlas\tCerebral cortex\tPerirhinal gyrus (PRG) - A35-A36\t\t1123\t18373061.0\t17218\t43361.51675387646\t0.9475325666266081\t0.8421233213753856\t0.8673991051714353\n",
      "agg_1856\tEccentric medium spiny neuron\tCerebral cortex_Piriform cortex - Pir\tCNS\thealthy\tSCR_016152\tbrain_atlas\tCerebral cortex\tPiriform cortex - Pir\t\t946\t26226854.0\t17096\t41729.33133861903\t0.9486876187321196\t0.8511102034939563\t0.8741164177181678\n",
      "agg_1857\tEccentric medium spiny neuron\tCerebral cortex_Precentral gyrus (PrCG) - Primary motor cortex - M1C\tCNS\thealthy\tSCR_016152\tbrain_atlas\tCerebral cortex\tPrecentral gyrus (PrCG) - Primary motor cortex - M1C\t\t15\t100437.0\t10273\t37957.500142213736\t0.8619401611857915\t0.7743646778169242\t0.7940092190534478\n",
      "agg_1858\tEccentric medium spiny neuron\tCerebral cortex_Subgenual anterior cingulate cortex\tCNS\thealthy\tjhpce#tran2021\tbrain_atlas\tCerebral cortex\tSubgenual anterior cingulate cortex\t\t113\t4106180.0\t15885\t41810.112484140525\t0.9295512711427354\t0.8391536584052428\t0.8669023034905983\n",
      "agg_1859\tEccentric medium spiny neuron\tGrey matter_Cla\tCNS\thealthy\tSCR_016152\tbrain_atlas\tGrey matter\tCla\t\t520\t8411038.0\t16478\t43028.1498873797\t0.9447777604776917\t0.8431661644849828\t0.8658352810792844\n",
      "agg_1860\tEccentric medium spiny neuron\tHippocampus_CA1\tCNS\thealthy\tSCR_016152\tbrain_atlas\tHippocampus\tCA1\t\t84\t1689249.0\t14611\t42308.78649896261\t0.9401621388865626\t0.835068666475771\t0.8551525609823153\n",
      "agg_1861\tEccentric medium spiny neuron\tHippocampus_CA1-3\tCNS\thealthy\tSCR_016152\tbrain_atlas\tHippocampus\tCA1-3\t\t13\t293094.0\t12278\t40954.80075031351\t0.8992217596035066\t0.7999397475207897\t0.8231597817826668\n",
      "agg_1862\tEccentric medium spiny neuron\tHippocampus_Caudal Hippocampus - CA4-DGC\tCNS\thealthy\tSCR_016152\tbrain_atlas\tHippocampus\tCaudal Hippocampus - CA4-DGC\t\t47\t608128.0\t12920\t39921.87665797351\t0.8974663323548234\t0.8012118782910058\t0.8178549518262455\n",
      "agg_1863\tEccentric medium spiny neuron\tHippocampus_Hippocampus\tCNS\thealthy\tjhpce#tran2021\tbrain_atlas\tHippocampus\tHippocampus\t\t31\t1109961.0\t14099\t40557.14662520501\t0.9273899109141328\t0.8369796109567048\t0.8600210861459844\n",
      "agg_1864\tEccentric medium spiny neuron\tHypothalamus_preoptic region of HTH - HTHpo\tCNS\thealthy\tSCR_016152\tbrain_atlas\tHypothalamus\tpreoptic region of HTH - HTHpo\t\t2330\t51640744.0\t17503\t42679.76746648039\t0.9409601827280252\t0.840348392620232\t0.8604579519561675\n",
      "agg_1865\tEccentric medium spiny neuron\tHypothalamus_preoptic region of HTH - HTHpo (medial preoptic nucleus/MPN) - supraoptic region of HTH - HTHso (paraventricular nucleus/PV)\tCNS\thealthy\tSCR_016152\tbrain_atlas\tHypothalamus\tpreoptic region of HTH - HTHpo (medial preoptic nucleus/MPN) - supraoptic region of HTH - HTHso (paraventricular nucleus/PV)\t\t565\t8224045.0\t16394\t43923.72334753606\t0.9429273493241412\t0.8372983150424523\t0.8571441075789635\n",
      "agg_1866\tEccentric medium spiny neuron\tHypothalamus_supraoptic region of HTH - HTHso\tCNS\thealthy\tSCR_016152\tbrain_atlas\tHypothalamus\tsupraoptic region of HTH - HTHso\t\t434\t13111606.0\t16456\t40425.4238586538\t0.9385925126325897\t0.8460278149754488\t0.8663811950707332\n",
      "agg_1867\tEccentric medium spiny neuron\tMidbrain_Unclassified\tCNS\thealthy\tGSE157783\tbrain_atlas\tMidbrain\tUnclassified\t\t14\t114917.0\t9818\t36181.714010134245\t0.8416212378179837\t0.7532149744136349\t0.7768524692302888\n",
      "agg_1868\tEccentric medium spiny neuron\tThalamus_Anterior nuclear complex - ANC\tCNS\thealthy\tSCR_016152\tbrain_atlas\tThalamus\tAnterior nuclear complex - ANC\t\t746\t7645113.0\t16381\t42815.79648292055\t0.948484628173975\t0.8495568731460875\t0.8688807125927387\n",
      "agg_1869\tEccentric medium spiny neuron\tThalamus_Lateral nuclear complex (LNC) - ventral anterior nucleus of thalamus - VA\tCNS\thealthy\tSCR_016152\tbrain_atlas\tThalamus\tLateral nuclear complex (LNC) - ventral anterior nucleus of thalamus - VA\t\t541\t15930108.0\t16787\t41523.0893320909\t0.9357186759722748\t0.83560064088399\t0.8572971207166471\n",
      "agg_1870\tEccentric medium spiny neuron\tThalamus_Ventral group of lateral nucleus (VLN) - ventral anterior nucleus of thalamus - VA - ventral lateral nucleus of thalamus - VL\tCNS\thealthy\tSCR_016152\tbrain_atlas\tThalamus\tVentral group of lateral nucleus (VLN) - ventral anterior nucleus of thalamus - VA - ventral lateral nucleus of thalamus - VL\t\t20\t117737.0\t10139\t36547.396471567605\t0.8471409795821925\t0.7721611009725091\t0.7850039546751\n",
      "agg_2491\tMGE interneuron\tAmygdala_Amygdala\tCNS\thealthy\tjhpce#tran2021\tbrain_atlas\tAmygdala\tAmygdala\t\t409\t13777101.0\t16660\t41359.14658121449\t0.9444392422568889\t0.8517551977241854\t0.8676209228410131\n",
      "agg_2492\tMGE interneuron\tAmygdala_Basolateral nuclear group (BLN) - lateral nucleus - La\tCNS\thealthy\tSCR_016152\tbrain_atlas\tAmygdala\tBasolateral nuclear group (BLN) - lateral nucleus - La\t\t1061\t21423455.0\t17164\t42654.248115680406\t0.9542965361867625\t0.8613064931579452\t0.868815490419042\n",
      "agg_2493\tMGE interneuron\tAmygdala_Bed nucleus of stria terminalis and nearby - BNST\tCNS\thealthy\tSCR_016152\tbrain_atlas\tAmygdala\tBed nucleus of stria terminalis and nearby - BNST\t\t166\t1827695.0\t15158\t43981.651675853434\t0.9448787686524807\t0.8490275914218958\t0.8533418570610546\n",
      "agg_2494\tMGE interneuron\tAmygdala_Central nuclear group - CEN\tCNS\thealthy\tSCR_016152\tbrain_atlas\tAmygdala\tCentral nuclear group - CEN\t\t1760\t31053477.0\t17481\t43462.3208404647\t0.9543411948300998\t0.8600122768296773\t0.8660896683249071\n",
      "agg_2495\tMGE interneuron\tAmygdala_Corticomedial nuclear group (CMN) - anterior cortical nucleus - CoA\tCNS\thealthy\tSCR_016152\tbrain_atlas\tAmygdala\tCorticomedial nuclear group (CMN) - anterior cortical nucleus - CoA\t\t609\t21863245.0\t16897\t41904.97759631928\t0.9501737063270455\t0.8554128895476135\t0.8624338319882185\n",
      "agg_2496\tMGE interneuron\tAmygdala_basolateral nuclear group (BLN) - basolateral nucleus (basal nucleus) - BL\tCNS\thealthy\tSCR_016152\tbrain_atlas\tAmygdala\tbasolateral nuclear group (BLN) - basolateral nucleus (basal nucleus) - BL\t\t1057\t19917276.0\t17161\t42604.6862273155\t0.953798483025166\t0.860651590728001\t0.8698212056355575\n",
      "agg_2497\tMGE interneuron\tAmygdala_basolateral nuclear group (BLN) - basomedial nucleus (accessory basal nucleus) - BM\tCNS\thealthy\tSCR_016152\tbrain_atlas\tAmygdala\tbasolateral nuclear group (BLN) - basomedial nucleus (accessory basal nucleus) - BM\t\t1784\t33119571.0\t17549\t43902.96306371541\t0.9523415202656087\t0.8535747260467098\t0.8655401478053812\n",
      "agg_2498\tMGE interneuron\tAmygdala_corticomedial nuclear group - CMN\tCNS\thealthy\tSCR_016152\tbrain_atlas\tAmygdala\tcorticomedial nuclear group - CMN\t\t1555\t28602412.0\t17506\t43937.34054944343\t0.9549364812212998\t0.8576155015973854\t0.8657168111994817\n",
      "agg_2499\tMGE interneuron\tBasal ganglia_Globus pallidus (GP) - External segment of globus pallidus - GPe\tCNS\thealthy\tSCR_016152\tbrain_atlas\tBasal ganglia\tGlobus pallidus (GP) - External segment of globus pallidus - GPe\t\t14\t363931.0\t12637\t41928.980123337795\t0.9143027592379037\t0.8152885964659543\t0.8212241300910318\n",
      "agg_2500\tMGE interneuron\tBasal ganglia_Nucleus Accumbens - NAC\tCNS\thealthy\tSCR_016152\tbrain_atlas\tBasal ganglia\tNucleus Accumbens - NAC\t\t20\t385277.0\t12598\t41170.36162415581\t0.9153758703420793\t0.8200220156948643\t0.8221207128459207\n",
      "agg_2501\tMGE interneuron\tBasal ganglia_Nucleus accumbens\tCNS\thealthy\tjhpce#tran2021\tbrain_atlas\tBasal ganglia\tNucleus accumbens\t\t266\t5258847.0\t16159\t43224.232978201646\t0.9409286116998999\t0.8403845442432132\t0.8558643354101686\n",
      "agg_2502\tMGE interneuron\tBasal ganglia_Putamen - Pu\tCNS\thealthy\tSCR_016152\tbrain_atlas\tBasal ganglia\tPutamen - Pu\t\t191\t2779299.0\t15551\t43920.63540976047\t0.9463633844002965\t0.8496883400190438\t0.8552019086045802\n",
      "agg_2503\tMGE interneuron\tBasal ganglia_septal nuclei - SEP\tCNS\thealthy\tSCR_016152\tbrain_atlas\tBasal ganglia\tseptal nuclei - SEP\t\t1429\t24924668.0\t17445\t45173.37928793731\t0.9503952330645382\t0.8491060071505037\t0.8559314584907406\n",
      "agg_2504\tMGE interneuron\tBasal ganglia_substantia innominata and nearby nuclei - SI\tCNS\thealthy\tSCR_016152\tbrain_atlas\tBasal ganglia\tsubstantia innominata and nearby nuclei - SI\t\t667\t7412740.0\t16709\t44750.547047095344\t0.948134097855488\t0.8506282530575365\t0.8574254005579075\n",
      "agg_2505\tMGE interneuron\tCerebral cortex_Anterior Olfactory Nucleus - AON\tCNS\thealthy\tSCR_016152\tbrain_atlas\tCerebral cortex\tAnterior Olfactory Nucleus - AON\t\t3318\t59973053.0\t17718\t44512.25053592313\t0.9511866844152911\t0.849120218442955\t0.8591664689334718\n",
      "agg_2507\tMGE interneuron\tCerebral cortex_Anterior cingulate cortex\tCNS\thealthy\tPRJNA434002\tbrain_atlas\tCerebral cortex\tAnterior cingulate cortex\t\t1995\t11117873.0\t16081\t45179.21648388019\t0.8965089340148632\t0.804985295590617\t0.7957027783688826\n",
      "agg_2508\tMGE interneuron\tCerebral cortex_Anterior cingulate cortex - ACC\tCNS\thealthy\tSCR_016152\tbrain_atlas\tCerebral cortex\tAnterior cingulate cortex - ACC\t\t5271\t97368705.0\t17869\t44188.58976478878\t0.9524429055696558\t0.8495093943622023\t0.8596610836215051\n",
      "agg_2509\tMGE interneuron\tCerebral cortex_Anterior parahippocampal gyrus (AG) - Lateral entorhinal cortex - LEC\tCNS\thealthy\tSCR_016152\tbrain_atlas\tCerebral cortex\tAnterior parahippocampal gyrus (AG) - Lateral entorhinal cortex - LEC\t\t3996\t84774183.0\t17847\t44195.27877407958\t0.9517972268850551\t0.8516456686194328\t0.85921931245538\n",
      "agg_2510\tMGE interneuron\tCerebral cortex_Anterior parahippocampal gyrus/posterior part (APH) - Medial entorhinal cortex - MEC\tCNS\thealthy\tSCR_016152\tbrain_atlas\tCerebral cortex\tAnterior parahippocampal gyrus/posterior part (APH) - Medial entorhinal cortex - MEC\t\t6404\t140078426.0\t17986\t43152.00095627089\t0.952323864729667\t0.8540251497533076\t0.8637559144241678\n",
      "agg_2511\tMGE interneuron\tCerebral cortex_Caudal cingulate gyrus (CgGC) - A23\tCNS\thealthy\tSCR_016152\tbrain_atlas\tCerebral cortex\tCaudal cingulate gyrus (CgGC) - A23\t\t5856\t63802214.0\t17702\t43234.31566597916\t0.9507374146769353\t0.8492333031420335\t0.8580253936548816\n",
      "agg_2512\tMGE interneuron\tCerebral cortex_Cingulate gyrus/retrosplenial (CgGrs) - A29-A30\tCNS\thealthy\tSCR_016152\tbrain_atlas\tCerebral cortex\tCingulate gyrus/retrosplenial (CgGrs) - A29-A30\t\t7676\t52516030.0\t17650\t44293.80571524706\t0.9452372411663391\t0.8405991797504577\t0.8473866556985994\n",
      "agg_2513\tMGE interneuron\tCerebral cortex_Cuneus/caudal part - Peristriate Cortex - V2\tCNS\thealthy\tSCR_016152\tbrain_atlas\tCerebral cortex\tCuneus/caudal part - Peristriate Cortex - V2\t\t4257\t65645451.0\t17659\t43356.56955307287\t0.9483045548496131\t0.843814478212617\t0.8552982910193211\n",
      "agg_2514\tMGE interneuron\tCerebral cortex_Cuneus/rostral part - Area Prostriata - Pro\tCNS\thealthy\tSCR_016152\tbrain_atlas\tCerebral cortex\tCuneus/rostral part - Area Prostriata - Pro\t\t3639\t53268136.0\t17665\t44440.51460839505\t0.950149158075856\t0.8446572675414704\t0.8568222450605039\n",
      "agg_2515\tMGE interneuron\tCerebral cortex_Dorsalateral prefrontal cortex\tCNS\thealthy\thttp://psychencode.org\tbrain_atlas\tCerebral cortex\tDorsalateral prefrontal cortex\t\t1922\t7247656.0\t15683\t47343.60549703765\t0.9155669978972271\t0.7944935628936163\t0.8164209537442745\n",
      "agg_2517\tMGE interneuron\tCerebral cortex_Dorsolateral prefrontal cortex\tCNS\thealthy\tGSE129308\tbrain_atlas\tCerebral cortex\tDorsolateral prefrontal cortex\t\t5070\t11510390.0\t15658\t44053.416859390476\t0.9083339555317534\t0.807084771763412\t0.7952863358833439\n",
      "agg_2518\tMGE interneuron\tCerebral cortex_Dorsolateral prefrontal cortex\tCNS\thealthy\tSCR_002001\tbrain_atlas\tCerebral cortex\tDorsolateral prefrontal cortex\t\t11974\t89196550.0\t14877\t40375.335298792466\t0.8811452953190944\t0.8184790850728295\t0.8016645574481662\n",
      "agg_2519\tMGE interneuron\tCerebral cortex_Dorsolateral prefrontal cortex\tCNS\thealthy\tjhpce#tran2021\tbrain_atlas\tCerebral cortex\tDorsolateral prefrontal cortex\t\t645\t15038497.0\t17036\t42352.93122873921\t0.9442194590303734\t0.849789285525842\t0.8665266730067818\n",
      "agg_2522\tMGE interneuron\tCerebral cortex_Entorhinal cortex\tCNS\thealthy\tGSE160936\tbrain_atlas\tCerebral cortex\tEntorhinal cortex\t\t302\t581183.0\t12130\t36486.8464868359\t0.8895516477549692\t0.8149478849985895\t0.8337704432932246\n",
      "agg_2524\tMGE interneuron\tCerebral cortex_Frontal Cortex\tCNS\thealthy\tGSE163122\tbrain_atlas\tCerebral cortex\tFrontal Cortex\t\t16\t70172.0\t8799\t33974.63233778857\t0.8118763535481881\t0.7528303424561195\t0.7481303580267099\n",
      "agg_2525\tMGE interneuron\tCerebral cortex_Frontal agranular insular cortex - FI\tCNS\thealthy\tSCR_016152\tbrain_atlas\tCerebral cortex\tFrontal agranular insular cortex - FI\t\t5772\t124639119.0\t17927\t43459.7015170545\t0.9524032671776039\t0.8534952362370954\t0.8636876625391701\n",
      "agg_2526\tMGE interneuron\tCerebral cortex_Gyrus rectus (ReG) - Medial orbitofrontal cortex - A14\tCNS\thealthy\tSCR_016152\tbrain_atlas\tCerebral cortex\tGyrus rectus (ReG) - Medial orbitofrontal cortex - A14\t\t2060\t50795925.0\t17579\t43698.71965590766\t0.9513325519725236\t0.8504598599771258\t0.8580272600405687\n",
      "agg_2527\tMGE interneuron\tCerebral cortex_Inferior frontal gyrus (IFG) - Ventrolateral prefrontal cortex - A44-A45\tCNS\thealthy\tSCR_016152\tbrain_atlas\tCerebral cortex\tInferior frontal gyrus (IFG) - Ventrolateral prefrontal cortex - A44-A45\t\t6389\t105812032.0\t17893\t44449.831210324366\t0.9508588269489653\t0.8461769145046513\t0.8547104807046153\n",
      "agg_2528\tMGE interneuron\tCerebral cortex_Inferior temporal gyrus - ITG\tCNS\thealthy\tSCR_016152\tbrain_atlas\tCerebral cortex\tInferior temporal gyrus - ITG\t\t5185\t75602611.0\t17783\t43909.19926818126\t0.950810125857405\t0.8496421991852124\t0.8581300377260784\n",
      "agg_2529\tMGE interneuron\tCerebral cortex_Lingual gyrus (LiG) - Primary Visual Cortex - V1C\tCNS\thealthy\tSCR_016152\tbrain_atlas\tCerebral cortex\tLingual gyrus (LiG) - Primary Visual Cortex - V1C\t\t3677\t55232602.0\t17614\t43708.35031940854\t0.9456104506863592\t0.8400672253493853\t0.8503765007105082\n",
      "agg_2530\tMGE interneuron\tCerebral cortex_Long insular gyri (LIG) - Dysgranular insular cortex - Idg\tCNS\thealthy\tSCR_016152\tbrain_atlas\tCerebral cortex\tLong insular gyri (LIG) - Dysgranular insular cortex - Idg\t\t5713\t102196545.0\t17903\t44538.74990246346\t0.9521999741486603\t0.8494205945292841\t0.8579708150521901\n",
      "agg_2531\tMGE interneuron\tCerebral cortex_Middle Temporal Gyrus - MTG\tCNS\thealthy\tSCR_016152\tbrain_atlas\tCerebral cortex\tMiddle Temporal Gyrus - MTG\t\t12656\t191746732.0\t18000\t44044.23377219539\t0.9502693570547087\t0.8466137046651626\t0.8555071247129131\n",
      "agg_2532\tMGE interneuron\tCerebral cortex_Middle frontal gyrus (MFG) - A46\tCNS\thealthy\tSCR_016152\tbrain_atlas\tCerebral cortex\tMiddle frontal gyrus (MFG) - A46\t\t5268\t68233967.0\t17711\t43971.19142937117\t0.9492405306461207\t0.8451499686861522\t0.8537464653796999\n",
      "agg_2534\tMGE interneuron\tCerebral cortex_Occipitotemporal (fusiform) gyrus/temporal part (FuGt) - Temporal area TF\tCNS\thealthy\tSCR_016152\tbrain_atlas\tCerebral cortex\tOccipitotemporal (fusiform) gyrus/temporal part (FuGt) - Temporal area TF\t\t5450\t64323983.0\t17726\t43720.55794484247\t0.9515917735720116\t0.8483050792693729\t0.8589048783884909\n",
      "agg_2535\tMGE interneuron\tCerebral cortex_Parietal lobe\tCNS\thealthy\tPRJNA544731\tbrain_atlas\tCerebral cortex\tParietal lobe\t\t133\t569401.0\t12468\t37595.49960109785\t0.8907326466742803\t0.8061940525939209\t0.8092373729309823\n",
      "agg_2537\tMGE interneuron\tCerebral cortex_Parietal operculum (PaO) - Gustatory cortex - A43\tCNS\thealthy\tSCR_016152\tbrain_atlas\tCerebral cortex\tParietal operculum (PaO) - Gustatory cortex - A43\t\t7115\t120047210.0\t17919\t44437.09301091113\t0.9512477871447569\t0.8451452826679898\t0.8548666563138005\n",
      "agg_2538\tMGE interneuron\tCerebral cortex_Perirhinal gyrus (PRG) - A35-A36\tCNS\thealthy\tSCR_016152\tbrain_atlas\tCerebral cortex\tPerirhinal gyrus (PRG) - A35-A36\t\t1932\t37490198.0\t17465\t43259.31944751696\t0.9541909686514075\t0.8540303396121026\t0.8654366180531673\n",
      "agg_2539\tMGE interneuron\tCerebral cortex_Perirhinal gyrus (PRG) -  A35-A36\tCNS\thealthy\tSCR_016152\tbrain_atlas\tCerebral cortex\tPerirhinal gyrus (PRG) -  A35-A36\t\t117\t3034731.0\t15605\t43526.22006701818\t0.9473644788454095\t0.8522954168059347\t0.8593673572726558\n",
      "agg_2540\tMGE interneuron\tCerebral cortex_Piriform cortex - Pir\tCNS\thealthy\tSCR_016152\tbrain_atlas\tCerebral cortex\tPiriform cortex - Pir\t\t3217\t57727120.0\t17686\t43762.436474795206\t0.9543255676211085\t0.8545999342708804\t0.863564845394952\n",
      "agg_2541\tMGE interneuron\tCerebral cortex_Post-mortem dosolateral BA9\tCNS\thealthy\tGSE144136\tbrain_atlas\tCerebral cortex\tPost-mortem dosolateral BA9\t\t3575\t10164175.0\t16325\t46806.33140707459\t0.9069971617382123\t0.7983175743353382\t0.794815684585161\n",
      "agg_2543\tMGE interneuron\tCerebral cortex_Postcentral gyrus (PoCG) - Primary somatosensory cortex - S1C\tCNS\thealthy\tSCR_016152\tbrain_atlas\tCerebral cortex\tPostcentral gyrus (PoCG) - Primary somatosensory cortex - S1C\t\t6470\t100713734.0\t17875\t44372.39965330401\t0.9497085444141861\t0.8450959161936977\t0.8535719902493208\n",
      "agg_2544\tMGE interneuron\tCerebral cortex_Posterior intermediate orbital gyrus (POrG) - Caudal division of OFCi - A13\tCNS\thealthy\tSCR_016152\tbrain_atlas\tCerebral cortex\tPosterior intermediate orbital gyrus (POrG) - Caudal division of OFCi - A13\t\t5366\t77974838.0\t17815\t44405.45901697979\t0.9502945552662591\t0.8463296941825013\t0.8550375784224905\n",
      "agg_2545\tMGE interneuron\tCerebral cortex_Posterior parahippocampal gyrus (PPH) - TH-TL\tCNS\thealthy\tSCR_016152\tbrain_atlas\tCerebral cortex\tPosterior parahippocampal gyrus (PPH) - TH-TL\t\t5263\t87475500.0\t17852\t44327.56466231888\t0.9519923289438857\t0.8498492615752189\t0.859266978972963\n",
      "agg_2546\tMGE interneuron\tCerebral cortex_Precentral gyrus (PrCG) - Primary motor cortex - M1C\tCNS\thealthy\tSCR_016152\tbrain_atlas\tCerebral cortex\tPrecentral gyrus (PrCG) - Primary motor cortex - M1C\t\t17544\t263351574.0\t18021\t42751.448907934544\t0.948569107423063\t0.8463142396680147\t0.8559714261188668\n",
      "agg_2552\tMGE interneuron\tCerebral cortex_Prefrontal cortex\tCNS\thealthy\tGSE157827\tbrain_atlas\tCerebral cortex\tPrefrontal cortex\t\t4610\t21482625.0\t17270\t43731.54224890505\t0.9363855712351603\t0.8318806432247126\t0.8412160935393553\n",
      "agg_2553\tMGE interneuron\tCerebral cortex_Prefrontal cortex\tCNS\thealthy\tGSE167494\tbrain_atlas\tCerebral cortex\tPrefrontal cortex\t\t1247\t10376072.0\t17204\t44361.72553538063\t0.9442885914414952\t0.8517201236785358\t0.8648145466877852\n",
      "agg_2554\tMGE interneuron\tCerebral cortex_Prefrontal cortex\tCNS\thealthy\tPRJNA434002\tbrain_atlas\tCerebral cortex\tPrefrontal cortex\t\t2511\t14863691.0\t16162\t44673.20279790643\t0.8989195129049853\t0.8071982631305372\t0.8006890898756347\n",
      "agg_2555\tMGE interneuron\tCerebral cortex_Prefrontal cortex\tCNS\thealthy\tPRJNA544731\tbrain_atlas\tCerebral cortex\tPrefrontal cortex\t\t852\t4039365.0\t15379\t43450.098832422605\t0.9008645464806034\t0.8076373172845014\t0.8072548879496675\n",
      "agg_2557\tMGE interneuron\tCerebral cortex_Premotor cortex\tCNS\thealthy\tPRJNA544731\tbrain_atlas\tCerebral cortex\tPremotor cortex\t\t311\t1072054.0\t13778\t39874.7813160123\t0.9016052282501837\t0.8194735601775744\t0.8136381571982871\n",
      "agg_2559\tMGE interneuron\tCerebral cortex_Rostral gyrus (RoG) - Dorsal division of MFC - A32\tCNS\thealthy\tSCR_016152\tbrain_atlas\tCerebral cortex\tRostral gyrus (RoG) - Dorsal division of MFC - A32\t\t4570\t58857880.0\t17731\t44069.06350483119\t0.9511720782778857\t0.8463203838471274\t0.8560199802608556\n",
      "agg_2560\tMGE interneuron\tCerebral cortex_Short insular gyri - Granular insular cortex - Ig\tCNS\thealthy\tSCR_016152\tbrain_atlas\tCerebral cortex\tShort insular gyri - Granular insular cortex - Ig\t\t5331\t82650726.0\t17824\t44394.120871907326\t0.9509583744999757\t0.8462445133654821\t0.8571241887907932\n",
      "agg_2562\tMGE interneuron\tCerebral cortex_Somatosensory cortex\tCNS\thealthy\tGSE160936\tbrain_atlas\tCerebral cortex\tSomatosensory cortex\t\t138\t253647.0\t11822\t38266.141208792615\t0.8767841346625923\t0.7936019959715973\t0.8134006209715183\n",
      "agg_2563\tMGE interneuron\tCerebral cortex_Subcallosal Gyrus (SCG) - Subgenual (subcallosal) division of MFC - A25\tCNS\thealthy\tSCR_016152\tbrain_atlas\tCerebral cortex\tSubcallosal Gyrus (SCG) - Subgenual (subcallosal) division of MFC - A25\t\t6738\t111747047.0\t17933\t44140.288432463174\t0.9526334893013195\t0.8515236536431087\t0.8602446595188639\n",
      "agg_2564\tMGE interneuron\tCerebral cortex_Subgenual anterior cingulate cortex\tCNS\thealthy\tjhpce#tran2021\tbrain_atlas\tCerebral cortex\tSubgenual anterior cingulate cortex\t\t1435\t33906681.0\t17248\t41894.99018499041\t0.9415120732425849\t0.8510166771030189\t0.8651258505145446\n",
      "agg_2565\tMGE interneuron\tCerebral cortex_Superior Temporal Gyrus - STG\tCNS\thealthy\tSCR_016152\tbrain_atlas\tCerebral cortex\tSuperior Temporal Gyrus - STG\t\t4693\t53745497.0\t17740\t45035.09601291676\t0.9482478863607943\t0.8418675581822387\t0.8511996261886916\n",
      "agg_2567\tMGE interneuron\tCerebral cortex_Superior occipital gyrus (SOG) - Areas 19 and MT - A19\tCNS\thealthy\tSCR_016152\tbrain_atlas\tCerebral cortex\tSuperior occipital gyrus (SOG) - Areas 19 and MT - A19\t\t4640\t67271109.0\t17631\t42831.45523317643\t0.9503792869302212\t0.8486348220775979\t0.859360564195124\n",
      "agg_2568\tMGE interneuron\tCerebral cortex_Supramarginal gyrus (SMG) - A40\tCNS\thealthy\tSCR_016152\tbrain_atlas\tCerebral cortex\tSupramarginal gyrus (SMG) - A40\t\t7155\t95138168.0\t17848\t43973.385161914906\t0.9504336303557819\t0.8461929748397125\t0.8578464760178754\n",
      "agg_2569\tMGE interneuron\tCerebral cortex_Supraparietal lobule (SPL) - Posterosuperior (dorsal) parietal cortex - A5-A7\tCNS\thealthy\tSCR_016152\tbrain_atlas\tCerebral cortex\tSupraparietal lobule (SPL) - Posterosuperior (dorsal) parietal cortex - A5-A7\t\t5630\t80193333.0\t17797\t43742.70207026511\t0.9512327178952547\t0.8461941179433469\t0.8579482598163595\n",
      "agg_2572\tMGE interneuron\tCerebral cortex_Temporal pole (TP) - Temporopolar area - A38\tCNS\thealthy\tSCR_016152\tbrain_atlas\tCerebral cortex\tTemporal pole (TP) - Temporopolar area - A38\t\t5665\t110350485.0\t17940\t44086.89577677079\t0.953708858544873\t0.8513824540838272\t0.8602810204886354\n",
      "agg_2573\tMGE interneuron\tCerebral cortex_Transverse temporal gyrus (TTG) - Primary auditory cortex - A1C\tCNS\thealthy\tSCR_016152\tbrain_atlas\tCerebral cortex\tTransverse temporal gyrus (TTG) - Primary auditory cortex - A1C\t\t4799\t73523279.0\t17770\t43918.33248256951\t0.9502853491865487\t0.8458671001525015\t0.858757045378173\n",
      "agg_2574\tMGE interneuron\tCerebral cortex_Unclassified\tCNS\thealthy\tGSE140231\tbrain_atlas\tCerebral cortex\tUnclassified\t\t1219\t5729012.0\t15984\t45916.35535647439\t0.8957775348525301\t0.797054655931438\t0.7889163143857955\n",
      "agg_2575\tMGE interneuron\tCerebral cortex_nan\tCNS\thealthy\tGSE160936\tbrain_atlas\tCerebral cortex\tnan\t\t39\t82069.0\t9206\t34840.24746186593\t0.8190571869697097\t0.7306144898877015\t0.7292907453780283\n",
      "agg_2577\tMGE interneuron\tCerebral cortex_occipital cortex\tCNS\thealthy\tGSE148822\tbrain_atlas\tCerebral cortex\toccipital cortex\t\t117\t246364.0\t12197\t40372.85168056861\t0.88745766532023\t0.7948783763579894\t0.821386649779637\n",
      "agg_2579\tMGE interneuron\tCerebral cortex_occipitotemporal cortex\tCNS\thealthy\tGSE148822\tbrain_atlas\tCerebral cortex\toccipitotemporal cortex\t\t70\t189834.0\t11628\t39769.16515969363\t0.8818384749014652\t0.8031748269991748\t0.814351561311026\n",
      "agg_2580\tMGE interneuron\tEpithalamus_ETH\tCNS\thealthy\tSCR_016152\tbrain_atlas\tEpithalamus\tETH\t\t12\t71885.0\t9527\t36809.85853759243\t0.824422869787946\t0.7440895655139182\t0.7553679675372315\n",
      "agg_2581\tMGE interneuron\tGrey matter_Cla\tCNS\thealthy\tSCR_016152\tbrain_atlas\tGrey matter\tCla\t\t3513\t60764194.0\t17729\t44332.18321962197\t0.9527358283259111\t0.8525521251468033\t0.859701251466556\n",
      "agg_2584\tMGE interneuron\tGrey matter_Motor cortex\tCNS\thealthy\tGSE174332\tbrain_atlas\tGrey matter\tMotor cortex\t\t3176\t40684160.0\t17707\t43957.55438189328\t0.9446516045218407\t0.8563721111404717\t0.8618527207167933\n",
      "agg_2590\tMGE interneuron\tHippocampus_CA1\tCNS\thealthy\tSCR_016152\tbrain_atlas\tHippocampus\tCA1\t\t1542\t50256065.0\t17586\t43026.10606620708\t0.9497570037975281\t0.8548983714813951\t0.862305286905649\n",
      "agg_2591\tMGE interneuron\tHippocampus_CA1-3\tCNS\thealthy\tSCR_016152\tbrain_atlas\tHippocampus\tCA1-3\t\t955\t32592685.0\t17658\t44364.0592027126\t0.952760200558601\t0.858208550001937\t0.8654308552711507\n",
      "agg_2592\tMGE interneuron\tHippocampus_CA2-3\tCNS\thealthy\tSCR_016152\tbrain_atlas\tHippocampus\tCA2-3\t\t405\t12427466.0\t16877\t43427.36652371909\t0.9479364599220131\t0.8507258501619306\t0.8597478080960826\n",
      "agg_2593\tMGE interneuron\tHippocampus_Caudal Hippocampus - CA1-CA3\tCNS\thealthy\tSCR_016152\tbrain_atlas\tHippocampus\tCaudal Hippocampus - CA1-CA3\t\t2761\t52247733.0\t17723\t44356.44255419876\t0.9482748850948762\t0.8491246279731572\t0.8545886489562906\n",
      "agg_2594\tMGE interneuron\tHippocampus_Caudal Hippocampus - CA4-DGC\tCNS\thealthy\tSCR_016152\tbrain_atlas\tHippocampus\tCaudal Hippocampus - CA4-DGC\t\t1176\t20323114.0\t17216\t43747.53358399856\t0.9473473754132059\t0.8467759551726008\t0.8565315424490701\n",
      "agg_2595\tMGE interneuron\tHippocampus_DG-CA4\tCNS\thealthy\tSCR_016152\tbrain_atlas\tHippocampus\tDG-CA4\t\t79\t2492901.0\t15246\t41900.67343524716\t0.9395119838587522\t0.8493514298178396\t0.8589159044795706\n",
      "agg_2596\tMGE interneuron\tHippocampus_Hippocampus\tCNS\thealthy\tjhpce#tran2021\tbrain_atlas\tHippocampus\tHippocampus\t\t59\t2189102.0\t15324\t42472.04317459105\t0.9370775068073622\t0.8447930718708813\t0.8564417124517391\n",
      "agg_2602\tMGE interneuron\tHippocampus_Rostral CA1-2\tCNS\thealthy\tSCR_016152\tbrain_atlas\tHippocampus\tRostral CA1-2\t\t955\t41524730.0\t17477\t43171.938875131724\t0.9497339744218967\t0.8531800823276372\t0.8629519962286984\n",
      "agg_2603\tMGE interneuron\tHippocampus_Rostral CA1-CA3\tCNS\thealthy\tSCR_016152\tbrain_atlas\tHippocampus\tRostral CA1-CA3\t\t2237\t48236091.0\t17688\t44226.34157174449\t0.9488678749901845\t0.8499180831182793\t0.8572963944833775\n",
      "agg_2604\tMGE interneuron\tHippocampus_Rostral CA3\tCNS\thealthy\tSCR_016152\tbrain_atlas\tHippocampus\tRostral CA3\t\t447\t16772147.0\t17103\t42318.88302627937\t0.9465119706715757\t0.8572332937695742\t0.8677509453487087\n",
      "agg_2605\tMGE interneuron\tHippocampus_Rostral DG-CA4\tCNS\thealthy\tSCR_016152\tbrain_atlas\tHippocampus\tRostral DG-CA4\t\t277\t7865435.0\t16546\t42430.00131802814\t0.9441027592674103\t0.8494269573509831\t0.8637403065288809\n",
      "agg_2606\tMGE interneuron\tHippocampus_Subicular cortex - Sub\tCNS\thealthy\tSCR_016152\tbrain_atlas\tHippocampus\tSubicular cortex - Sub\t\t4153\t46428577.0\t17703\t44106.187747494434\t0.9523849166612751\t0.8547240397425142\t0.8596520862346101\n",
      "agg_2607\tMGE interneuron\tHippocampus_Uncal CA1-CA3\tCNS\thealthy\tSCR_016152\tbrain_atlas\tHippocampus\tUncal CA1-CA3\t\t2465\t21980770.0\t17489\t44863.81070779017\t0.9447083817652235\t0.8462578379895598\t0.8490324522059823\n",
      "agg_2608\tMGE interneuron\tHippocampus_Uncal DG-CA4\tCNS\thealthy\tSCR_016152\tbrain_atlas\tHippocampus\tUncal DG-CA4\t\t335\t3643860.0\t16148\t44055.05574062089\t0.9406193799345944\t0.8432095721836758\t0.8484634729799445\n",
      "agg_2609\tMGE interneuron\tHypothalamus_preoptic region of HTH - HTHpo\tCNS\thealthy\tSCR_016152\tbrain_atlas\tHypothalamus\tpreoptic region of HTH - HTHpo\t\t22\t453470.0\t12617\t40599.60295443444\t0.9219576086495076\t0.8291191541534322\t0.8337400408636516\n",
      "agg_2610\tMGE interneuron\tHypothalamus_preoptic region of HTH - HTHpo (medial preoptic nucleus/MPN) - supraoptic region of HTH - HTHso (paraventricular nucleus/PV)\tCNS\thealthy\tSCR_016152\tbrain_atlas\tHypothalamus\tpreoptic region of HTH - HTHpo (medial preoptic nucleus/MPN) - supraoptic region of HTH - HTHso (paraventricular nucleus/PV)\t\t16\t201362.0\t11334\t39197.85979581934\t0.8912937813689751\t0.8032225542810923\t0.8073296298291398\n",
      "agg_2611\tMGE interneuron\tHypothalamus_supraoptic region of HTH - HTHso\tCNS\thealthy\tSCR_016152\tbrain_atlas\tHypothalamus\tsupraoptic region of HTH - HTHso\t\t1291\t34587509.0\t17244\t41775.70339134899\t0.947695036391916\t0.8568901031945508\t0.8623938798420291\n",
      "agg_2612\tMGE interneuron\tHypothalamus_supraoptic region of HTH - HTHso (anterior hypothalamic nucleus/AHN) - tuberal region of HTH - HTHtub (ventromedial hypothalamic nucleus/VMH)\tCNS\thealthy\tSCR_016152\tbrain_atlas\tHypothalamus\tsupraoptic region of HTH - HTHso (anterior hypothalamic nucleus/AHN) - tuberal region of HTH - HTHtub (ventromedial hypothalamic nucleus/VMH)\t\t13\t201539.0\t11989\t42042.031681340275\t0.8926159239254491\t0.7900437896326049\t0.7976018773826827\n",
      "agg_2613\tMGE interneuron\tHypothalamus_tuberal region of hypothalamus - HTHtub\tCNS\thealthy\tSCR_016152\tbrain_atlas\tHypothalamus\ttuberal region of hypothalamus - HTHtub\t\t42\t1250352.0\t13813\t39859.463099401524\t0.9325616164071415\t0.8405974496687145\t0.8524085965817827\n",
      "agg_2614\tMGE interneuron\tMidbrain_Periaqueductal gray and Dorsal raphe nucleus - PAG-DR\tCNS\thealthy\tSCR_016152\tbrain_atlas\tMidbrain\tPeriaqueductal gray and Dorsal raphe nucleus - PAG-DR\t\t48\t279415.0\t12088\t40422.48239700562\t0.9015998774703433\t0.8083821951494623\t0.8145886349206347\n",
      "agg_2615\tMGE interneuron\tMidbrain_Substantia Nigra - SN\tCNS\thealthy\tSCR_016152\tbrain_atlas\tMidbrain\tSubstantia Nigra - SN\t\t24\t645604.0\t13566\t41518.8703956369\t0.9212646512029814\t0.8310832019975152\t0.8374969841343043\n",
      "agg_2616\tMGE interneuron\tMidbrain_Superior colliculus and nearby nuclei - SC\tCNS\thealthy\tSCR_016152\tbrain_atlas\tMidbrain\tSuperior colliculus and nearby nuclei - SC\t\t79\t869016.0\t13900\t41943.6713340587\t0.9335775223214702\t0.836230212994662\t0.8410600633997231\n",
      "agg_2617\tMGE interneuron\tThalamus_Anterior nuclear complex - ANC\tCNS\thealthy\tSCR_016152\tbrain_atlas\tThalamus\tAnterior nuclear complex - ANC\t\t63\t1689760.0\t14392\t40935.765146316844\t0.9385291782898756\t0.8460285020935135\t0.854094876359309\n",
      "agg_2618\tMGE interneuron\tThalamus_Lateral nuclear complex (LNC) - ventral anterior nucleus of thalamus - VA\tCNS\thealthy\tSCR_016152\tbrain_atlas\tThalamus\tLateral nuclear complex (LNC) - ventral anterior nucleus of thalamus - VA\t\t23\t483935.0\t12795\t41330.96925666164\t0.9202418171464944\t0.8261269502174232\t0.8253395913468182\n",
      "agg_2619\tMGE interneuron\tThalamus_Lateral nuclear complex of thalamus (LNC) - ventral group of lateral nucleus - VLN\tCNS\thealthy\tSCR_016152\tbrain_atlas\tThalamus\tLateral nuclear complex of thalamus (LNC) - ventral group of lateral nucleus - VLN\t\t15\t644299.0\t12682\t38988.345127600296\t0.9101440823448651\t0.820951753505128\t0.8290122191651943\n",
      "agg_2620\tMGE interneuron\tThalamus_lateral nuclear complex of thalamus (LNC) - Pulvinar of thalamus - Pul\tCNS\thealthy\tSCR_016152\tbrain_atlas\tThalamus\tlateral nuclear complex of thalamus (LNC) - Pulvinar of thalamus - Pul\t\t59\t907181.0\t14156\t42737.54158697253\t0.9230276788817333\t0.8260353938939361\t0.8272422303517075\n",
      "agg_2621\tMGE interneuron\tThalamus_lateral nuclear complex of thalamus (LNC) - lateral posterior nucleus of thalamus - LP\tCNS\thealthy\tSCR_016152\tbrain_atlas\tThalamus\tlateral nuclear complex of thalamus (LNC) - lateral posterior nucleus of thalamus - LP\t\t34\t339865.0\t12131\t39372.36226065725\t0.9034367683239668\t0.8112611977762655\t0.8142495801086926\n",
      "agg_2622\tMGE interneuron\tThalamus_medial nuclear complex of thalamus (MNC) - mediodorsal nucleus of thalamus - MD\tCNS\thealthy\tSCR_016152\tbrain_atlas\tThalamus\tmedial nuclear complex of thalamus (MNC) - mediodorsal nucleus of thalamus - MD\t\t20\t414741.0\t12853\t41547.316148435246\t0.9089247248871526\t0.813595574745492\t0.8152544778775622\n",
      "agg_2623\tMGE interneuron\tThalamus_posterior nuclear complex of thalamus (PoN) - lateral geniculate nucleus (LG)\tCNS\thealthy\tSCR_016152\tbrain_atlas\tThalamus\tposterior nuclear complex of thalamus (PoN) - lateral geniculate nucleus (LG)\t\t57\t768227.0\t13434\t40339.8513441331\t0.9219632514083475\t0.8263116083745812\t0.8349479724650578\n",
      "agg_2624\tMGE interneuron\tWhite matter_Unclassifed\tCNS\thealthy\tGSE118257\tbrain_atlas\tWhite matter\tUnclassifed\t\t94\t289790.0\t11627\t41098.134330016575\t0.8867654909586433\t0.8059356433623136\t0.7851502438087337\n",
      "agg_2653\tMedium spiny neuron\tAmygdala_Amygdala\tCNS\thealthy\tjhpce#tran2021\tbrain_atlas\tAmygdala\tAmygdala\t\t855\t16257020.0\t16794\t40209.40354842709\t0.9307548981959526\t0.8488615811730392\t0.8689605369066653\n",
      "agg_2654\tMedium spiny neuron\tAmygdala_Basolateral nuclear group (BLN) - lateral nucleus - La\tCNS\thealthy\tSCR_016152\tbrain_atlas\tAmygdala\tBasolateral nuclear group (BLN) - lateral nucleus - La\t\t330\t4992951.0\t15782\t40919.21981550283\t0.9427614178501177\t0.8466272519178762\t0.8656673560635975\n",
      "agg_2655\tMedium spiny neuron\tAmygdala_Bed nucleus of stria terminalis and nearby - BNST\tCNS\thealthy\tSCR_016152\tbrain_atlas\tAmygdala\tBed nucleus of stria terminalis and nearby - BNST\t\t14834\t231645818.0\t18115\t44026.663188107996\t0.9453419860163621\t0.8461001317058413\t0.8674271490373949\n",
      "agg_2656\tMedium spiny neuron\tAmygdala_Central nuclear group - CEN\tCNS\thealthy\tSCR_016152\tbrain_atlas\tAmygdala\tCentral nuclear group - CEN\t\t4702\t152024109.0\t17933\t41825.65400418454\t0.9506498903765198\t0.8583036078560143\t0.87445330234001\n",
      "agg_2657\tMedium spiny neuron\tAmygdala_Corticomedial nuclear group (CMN) - anterior cortical nucleus - CoA\tCNS\thealthy\tSCR_016152\tbrain_atlas\tAmygdala\tCorticomedial nuclear group (CMN) - anterior cortical nucleus - CoA\t\t76\t1988757.0\t14473\t41009.37497395409\t0.9374639079699163\t0.8459652724097986\t0.8661217643696482\n",
      "agg_2658\tMedium spiny neuron\tAmygdala_basolateral nuclear group (BLN) - basolateral nucleus (basal nucleus) - BL\tCNS\thealthy\tSCR_016152\tbrain_atlas\tAmygdala\tbasolateral nuclear group (BLN) - basolateral nucleus (basal nucleus) - BL\t\t41\t681582.0\t13700\t42390.62517590265\t0.930301178896936\t0.8335883138129021\t0.8498381291011784\n",
      "agg_2659\tMedium spiny neuron\tAmygdala_basolateral nuclear group (BLN) - basomedial nucleus (accessory basal nucleus) - BM\tCNS\thealthy\tSCR_016152\tbrain_atlas\tAmygdala\tbasolateral nuclear group (BLN) - basomedial nucleus (accessory basal nucleus) - BM\t\t588\t10857517.0\t16752\t43407.2880995957\t0.9413954461547651\t0.8491087638861763\t0.860187656740274\n",
      "agg_2660\tMedium spiny neuron\tAmygdala_corticomedial nuclear group - CMN\tCNS\thealthy\tSCR_016152\tbrain_atlas\tAmygdala\tcorticomedial nuclear group - CMN\t\t1563\t18589476.0\t17293\t43767.421985488276\t0.9475050406764797\t0.8500945691307341\t0.868188681008702\n",
      "agg_2661\tMedium spiny neuron\tBasal ganglia_Body of the Caudate - CaB\tCNS\thealthy\tSCR_016152\tbrain_atlas\tBasal ganglia\tBody of the Caudate - CaB\t\t25597\t734900951.0\t18169\t41031.74091339427\t0.9130017546169741\t0.8094631607687462\t0.8330040905587449\n",
      "agg_2662\tMedium spiny neuron\tBasal ganglia_Globus pallidus (GP) - External segment of globus pallidus - GPe\tCNS\thealthy\tSCR_016152\tbrain_atlas\tBasal ganglia\tGlobus pallidus (GP) - External segment of globus pallidus - GPe\t\t11913\t421587642.0\t18127\t41409.19215617373\t0.9245205942991978\t0.820006356524453\t0.8458336457726571\n",
      "agg_2663\tMedium spiny neuron\tBasal ganglia_Globus pallidus (GP) - Internal segment of globus pallidus - GPi\tCNS\thealthy\tSCR_016152\tbrain_atlas\tBasal ganglia\tGlobus pallidus (GP) - Internal segment of globus pallidus - GPi\t\t91\t3689378.0\t15264\t40334.966924483146\t0.9258738064983694\t0.8220183202800466\t0.8471167198181737\n",
      "agg_2664\tMedium spiny neuron\tBasal ganglia_Nucleus Accumbens - NAC\tCNS\thealthy\tSCR_016152\tbrain_atlas\tBasal ganglia\tNucleus Accumbens - NAC\t\t22095\t556326311.0\t18164\t42779.16646063976\t0.9241007801139076\t0.8160594037096315\t0.8419305863541408\n",
      "agg_2665\tMedium spiny neuron\tBasal ganglia_Nucleus accumbens\tCNS\thealthy\tjhpce#tran2021\tbrain_atlas\tBasal ganglia\tNucleus accumbens\t\t9837\t271665829.0\t17889\t41582.21333344588\t0.919599303144343\t0.8154028670692957\t0.8472977098332947\n",
      "agg_2666\tMedium spiny neuron\tBasal ganglia_Putamen - Pu\tCNS\thealthy\tSCR_016152\tbrain_atlas\tBasal ganglia\tPutamen - Pu\t\t26169\t694166058.0\t18170\t40849.22367869802\t0.9127313224001196\t0.8084587312170607\t0.8346523973425407\n",
      "agg_2667\tMedium spiny neuron\tBasal ganglia_septal nuclei - SEP\tCNS\thealthy\tSCR_016152\tbrain_atlas\tBasal ganglia\tseptal nuclei - SEP\t\t3686\t70583279.0\t17863\t42869.752774801855\t0.9221592113278905\t0.8179030901469408\t0.8415064589677047\n",
      "agg_2668\tMedium spiny neuron\tBasal ganglia_substantia innominata and nearby nuclei - SI\tCNS\thealthy\tSCR_016152\tbrain_atlas\tBasal ganglia\tsubstantia innominata and nearby nuclei - SI\t\t20978\t406430174.0\t18152\t43171.70819204389\t0.9356278573993547\t0.8355914647959416\t0.8580501444882963\n",
      "agg_2669\tMedium spiny neuron\tCerebral cortex_Anterior Olfactory Nucleus - AON\tCNS\thealthy\tSCR_016152\tbrain_atlas\tCerebral cortex\tAnterior Olfactory Nucleus - AON\t\t7146\t83678191.0\t17914\t43899.304433061516\t0.9197892629833866\t0.8118279846788765\t0.838725791865812\n",
      "agg_2670\tMedium spiny neuron\tCerebral cortex_Frontal agranular insular cortex - FI\tCNS\thealthy\tSCR_016152\tbrain_atlas\tCerebral cortex\tFrontal agranular insular cortex - FI\t\t47\t1673650.0\t14282\t40604.468196450885\t0.9310316824387254\t0.8387474025258079\t0.8630838302859096\n",
      "agg_2671\tMedium spiny neuron\tCerebral cortex_Perirhinal gyrus (PRG) - A35-A36\tCNS\thealthy\tSCR_016152\tbrain_atlas\tCerebral cortex\tPerirhinal gyrus (PRG) - A35-A36\t\t60\t1311204.0\t14729\t43400.63525982828\t0.9426515623287082\t0.8452776244969754\t0.8631129728359953\n",
      "agg_2672\tMedium spiny neuron\tCerebral cortex_Piriform cortex - Pir\tCNS\thealthy\tSCR_016152\tbrain_atlas\tCerebral cortex\tPiriform cortex - Pir\t\t528\t13895788.0\t16601\t41718.898509735314\t0.9449645834556754\t0.8544810746353554\t0.8773903973083115\n",
      "agg_2673\tMedium spiny neuron\tCerebral cortex_Precentral gyrus (PrCG) - Primary motor cortex - M1C\tCNS\thealthy\tSCR_016152\tbrain_atlas\tCerebral cortex\tPrecentral gyrus (PrCG) - Primary motor cortex - M1C\t\t13\t214428.0\t11454\t38695.26349160653\t0.8924953155417973\t0.7998199730247992\t0.8148967949524837\n",
      "agg_2674\tMedium spiny neuron\tCerebral cortex_Subcallosal Gyrus (SCG) - Subgenual (subcallosal) division of MFC - A25\tCNS\thealthy\tSCR_016152\tbrain_atlas\tCerebral cortex\tSubcallosal Gyrus (SCG) - Subgenual (subcallosal) division of MFC - A25\t\t30\t418073.0\t13063\t41585.729968004634\t0.8871186460605669\t0.7821038738334904\t0.816336464253731\n",
      "agg_2675\tMedium spiny neuron\tCerebral cortex_Subgenual anterior cingulate cortex\tCNS\thealthy\tjhpce#tran2021\tbrain_atlas\tCerebral cortex\tSubgenual anterior cingulate cortex\t\t456\t24338636.0\t17126\t41522.34752505473\t0.9333821901136405\t0.8462980778537625\t0.8674585783450169\n",
      "agg_2677\tMedium spiny neuron\tGrey matter_Cla\tCNS\thealthy\tSCR_016152\tbrain_atlas\tGrey matter\tCla\t\t441\t9430332.0\t16466\t41163.602945269886\t0.921979391685106\t0.8201910372875032\t0.842843688151027\n",
      "agg_2678\tMedium spiny neuron\tHippocampus_CA1\tCNS\thealthy\tSCR_016152\tbrain_atlas\tHippocampus\tCA1\t\t40\t1049125.0\t13959\t42169.675836731396\t0.9349494469318459\t0.8391200271799821\t0.8542758399265774\n",
      "agg_2679\tMedium spiny neuron\tHippocampus_Caudal Hippocampus - CA4-DGC\tCNS\thealthy\tSCR_016152\tbrain_atlas\tHippocampus\tCaudal Hippocampus - CA4-DGC\t\t430\t6612281.0\t15981\t41097.34699445523\t0.9098959524061087\t0.8090072110159198\t0.8280726832719776\n",
      "agg_2680\tMedium spiny neuron\tHippocampus_Rostral DG-CA4\tCNS\thealthy\tSCR_016152\tbrain_atlas\tHippocampus\tRostral DG-CA4\t\t17\t222139.0\t11847\t39862.89795022213\t0.8691071021059862\t0.7714996002895943\t0.7962472128461958\n",
      "agg_2681\tMedium spiny neuron\tHypothalamus_preoptic region of HTH - HTHpo\tCNS\thealthy\tSCR_016152\tbrain_atlas\tHypothalamus\tpreoptic region of HTH - HTHpo\t\t5346\t128564800.0\t17878\t43046.84627750286\t0.9441056048503704\t0.8421353341456254\t0.866689965845226\n",
      "agg_2682\tMedium spiny neuron\tHypothalamus_preoptic region of HTH - HTHpo (medial preoptic nucleus/MPN) - supraoptic region of HTH - HTHso (paraventricular nucleus/PV)\tCNS\thealthy\tSCR_016152\tbrain_atlas\tHypothalamus\tpreoptic region of HTH - HTHpo (medial preoptic nucleus/MPN) - supraoptic region of HTH - HTHso (paraventricular nucleus/PV)\t\t1202\t21586591.0\t17227\t44983.99150274918\t0.9507961158008243\t0.8480169975890431\t0.8669422509999024\n",
      "agg_2683\tMedium spiny neuron\tHypothalamus_supraoptic region of HTH - HTHso\tCNS\thealthy\tSCR_016152\tbrain_atlas\tHypothalamus\tsupraoptic region of HTH - HTHso\t\t435\t13475264.0\t16512\t40730.18309280418\t0.9328893799640929\t0.8411270417125518\t0.8653686705020206\n",
      "agg_2684\tMedium spiny neuron\tMidbrain_Unclassified\tCNS\thealthy\tGSE157783\tbrain_atlas\tMidbrain\tUnclassified\t\t13\t138924.0\t10081\t36049.57615815546\t0.8472115551978691\t0.7544352004514613\t0.7771766770288353\n",
      "agg_2685\tMedium spiny neuron\tThalamus_Anterior nuclear complex - ANC\tCNS\thealthy\tSCR_016152\tbrain_atlas\tThalamus\tAnterior nuclear complex - ANC\t\t926\t12027800.0\t16849\t43612.739817779046\t0.9535465002330261\t0.861691575979908\t0.8753609519126483\n",
      "agg_2686\tMedium spiny neuron\tThalamus_Lateral nuclear complex (LNC) - ventral anterior nucleus of thalamus - VA\tCNS\thealthy\tSCR_016152\tbrain_atlas\tThalamus\tLateral nuclear complex (LNC) - ventral anterior nucleus of thalamus - VA\t\t2743\t114224823.0\t17803\t40855.63847966631\t0.9268757598914684\t0.8230943566844251\t0.848168195849154\n",
      "agg_2687\tMedium spiny neuron\tThalamus_Ventral group of lateral nucleus (VLN) - ventral anterior nucleus of thalamus - VA - ventral lateral nucleus of thalamus - VL\tCNS\thealthy\tSCR_016152\tbrain_atlas\tThalamus\tVentral group of lateral nucleus (VLN) - ventral anterior nucleus of thalamus - VA - ventral lateral nucleus of thalamus - VL\t\t14\t108117.0\t10209\t37484.94947048898\t0.8438314846351331\t0.7444397677227123\t0.766869932545645\n",
      "\n",
      "\u001b[0m"
     ]
    }
   ],
   "source": [
    "! decima query-cell \"cell_type.str.contains('neuron') and organ == 'CNS' and disease == 'healthy'\""
   ]
  },
  {
   "cell_type": "markdown",
   "id": "edf0b0a8",
   "metadata": {},
   "source": [
    "The main arguments for the `decima modisco` CLI command allow you to customize motif discovery for your specific biological question. The `--top-n-markers` argument restricts the analysis to the top N marker genes, focusing on the most distinguishing genes for the selected cell types if not provided all genes are used. The `--max-seqlets` parameter sets an upper limit on the number of seqlets (short, high-scoring regions) extracted per metacluster, which can help manage memory usage and computation time. The `--tss-distance` option defines the window size (in base pairs) around the transcription start site to consider for motif discovery. \n",
    "\n",
    " The `--tasks` argument lets you specify cell types or conditions of interest using a query string, such as `\"cell_type.str.contains('neuron') and organ == 'CNS' and disease == 'healthy'\"` to select healthy CNS neurons. The `--transform` argument determines how attributions are aggregated or contrasted. For example, `\"specificity\"` compares the selected tasks (e.g., neurons) against the background (e.g., all other cells), highlighting features specific to the chosen group. Alternatively, `\"aggregate\"` simply sums attributions across the selected tasks.\n",
    "\n",
    "The `--batch-size` and `--num-workers` options control parallelization and resource usage during computation. The `--model` argument selects which model replicate or checkpoint to use, and the `-o` or `--output-prefix` sets the path prefix for output files and reports."
   ]
  },
  {
   "cell_type": "code",
   "execution_count": null,
   "id": "f80d9e7e",
   "metadata": {},
   "outputs": [
    {
     "name": "stdout",
     "output_type": "stream",
     "text": [
      "decima - INFO - Using device: cuda\n",
      "decima - INFO - Loading model and metadata to compute attributions...\n",
      "\u001b[34m\u001b[1mwandb\u001b[0m: Currently logged in as: \u001b[33mmhcelik\u001b[0m (\u001b[33mmhcw\u001b[0m) to \u001b[32mhttps://api.wandb.ai\u001b[0m. Use \u001b[1m`wandb login --relogin`\u001b[0m to force relogin\n",
      "\u001b[34m\u001b[1mwandb\u001b[0m: Downloading large artifact metadata:latest, 3122.32MB. 1 files... \n",
      "\u001b[34m\u001b[1mwandb\u001b[0m:   1 of 1 files downloaded.  \n",
      "Done. 0:0:1.7 (1802.9MB/s)\n",
      "\u001b[34m\u001b[1mwandb\u001b[0m: Downloading large artifact metadata:latest, 3122.32MB. 1 files... \n",
      "\u001b[34m\u001b[1mwandb\u001b[0m:   1 of 1 files downloaded.  \n",
      "Done. 0:0:1.7 (1860.8MB/s)\n",
      "\u001b[34m\u001b[1mwandb\u001b[0m: Downloading large artifact rep0:latest, 720.03MB. 1 files... \n",
      "\u001b[34m\u001b[1mwandb\u001b[0m:   1 of 1 files downloaded.  \n",
      "Done. 0:0:1.7 (418.6MB/s)\n",
      "/home/celikm5/Projects/decima/src/decima/interpret/attributer.py:43: UserWarning: `off_tasks` is not provided. Using all other tasks as off_tasks.\n",
      "100%|████████████████████████████████████████████| 1/1 [00:00<00:00, 295.08it/s]\n",
      "Computing attributions...:   8%|█▎               | 4/50 [00:04<00:46,  1.01s/it]decima - WARNING - Gene XRCC5 has low correlation with the model. Pearson: 0.4621304058925145. Be careful with the predictions of the model for this gene. Check `DecimaResult.load().gene_metadata['pearson']` to see the correlation of the gene with the model.\n",
      "Computing attributions...:  10%|█▋               | 5/50 [00:05<00:43,  1.04it/s]decima - WARNING - Gene FNIP1 has low correlation with the model. Pearson: 0.044592478397006044. Be careful with the predictions of the model for this gene. Check `DecimaResult.load().gene_metadata['pearson']` to see the correlation of the gene with the model.\n",
      "Computing attributions...:  40%|██████▍         | 20/50 [00:18<00:26,  1.14it/s]decima - WARNING - Gene LRRFIP1 has low correlation with the model. Pearson: 0.4621130932978845. Be careful with the predictions of the model for this gene. Check `DecimaResult.load().gene_metadata['pearson']` to see the correlation of the gene with the model.\n",
      "Computing attributions...:  70%|███████████▏    | 35/50 [00:31<00:13,  1.14it/s]decima - WARNING - Gene CHD4 has low correlation with the model. Pearson: 0.27165706153002717. Be careful with the predictions of the model for this gene. Check `DecimaResult.load().gene_metadata['pearson']` to see the correlation of the gene with the model.\n",
      "Computing attributions...: 100%|████████████████| 50/50 [00:44<00:00,  1.11it/s]\n",
      "decima - INFO - Loading metadata\n",
      "\u001b[34m\u001b[1mwandb\u001b[0m: Downloading large artifact metadata:latest, 3122.32MB. 1 files... \n",
      "\u001b[34m\u001b[1mwandb\u001b[0m:   1 of 1 files downloaded.  \n",
      "Done. 0:0:1.7 (1818.0MB/s)\n",
      "100%|████████████████████████████████████████████| 1/1 [00:00<00:00, 316.03it/s]\n",
      "Loading attributions and sequences...: 100%|████| 50/50 [00:02<00:00, 21.45it/s]\n",
      "2025-10-06 10:26:59,580 - modisco-lite - INFO - Running TFMoDISco version 2.4.0\n",
      "2025-10-06 10:26:59,583 - modisco-lite - INFO - Extracting seqlets for 50 tasks:\n",
      "2025-10-06 10:26:59,583 - modisco-lite - INFO - - Smoothing and splitting tracks\n",
      "2025-10-06 10:26:59,620 - modisco-lite - INFO - - Computing null values with Laplacian null model\n",
      "2025-10-06 10:26:59,679 - modisco-lite - INFO - - Computing isotonic thresholds\n",
      "2025-10-06 10:26:59,701 - modisco-lite - INFO - - Refining thresholds\n",
      "2025-10-06 10:26:59,999 - modisco-lite - INFO - - Extracting seqlets\n",
      "2025-10-06 10:27:00,048 - modisco-lite - INFO - - Extracting 1300 positive seqlets\n",
      "2025-10-06 10:27:00,055 - modisco-lite - INFO - - Round 0: Generating coarse resolution affinity matrix for 1300 seqlets\n",
      "100%|██████████████████████████████████████| 1300/1300 [00:05<00:00, 218.21it/s]\n",
      "2025-10-06 10:27:13,633 - modisco-lite - INFO - - Round 0: Generating fine resolution affinity matrix for 1300 seqlets and 1300 neighbors\n",
      "100%|██████████████████████████████████████| 1300/1300 [00:02<00:00, 559.64it/s]\n",
      "100%|██████████████████████████████████████| 1300/1300 [00:02<00:00, 557.36it/s]\n",
      "2025-10-06 10:27:18,390 - modisco-lite - INFO - - Round 0: Filtering seqlets by correlation\n",
      "2025-10-06 10:27:19,094 - modisco-lite - INFO - - Round 0: Density adaptation\n",
      "2025-10-06 10:27:21,693 - modisco-lite - INFO - - Round 0: Clustering with Leiden algorithm\n",
      "[Parallel(n_jobs=8)]: Using backend LokyBackend with 8 concurrent workers.\n",
      "[Parallel(n_jobs=8)]: Done   1 tasks      | elapsed:    9.0s\n",
      "[Parallel(n_jobs=8)]: Done   2 out of  16 | elapsed:    9.5s remaining:  1.1min\n",
      "[Parallel(n_jobs=8)]: Done   3 out of  16 | elapsed:    9.5s remaining:   41.2s\n",
      "[Parallel(n_jobs=8)]: Done   4 out of  16 | elapsed:    9.6s remaining:   28.7s\n",
      "[Parallel(n_jobs=8)]: Done   5 out of  16 | elapsed:    9.6s remaining:   21.0s\n",
      "[Parallel(n_jobs=8)]: Done   6 out of  16 | elapsed:    9.9s remaining:   16.5s\n",
      "[Parallel(n_jobs=8)]: Done   7 out of  16 | elapsed:    9.9s remaining:   12.8s\n",
      "[Parallel(n_jobs=8)]: Done   8 out of  16 | elapsed:   10.0s remaining:   10.0s\n",
      "[Parallel(n_jobs=8)]: Done   9 out of  16 | elapsed:   11.7s remaining:    9.1s\n",
      "[Parallel(n_jobs=8)]: Done  10 out of  16 | elapsed:   12.0s remaining:    7.2s\n",
      "[Parallel(n_jobs=8)]: Done  11 out of  16 | elapsed:   12.2s remaining:    5.6s\n",
      "[Parallel(n_jobs=8)]: Done  12 out of  16 | elapsed:   12.3s remaining:    4.1s\n",
      "[Parallel(n_jobs=8)]: Done  13 out of  16 | elapsed:   13.0s remaining:    3.0s\n",
      "[Parallel(n_jobs=8)]: Done  14 out of  16 | elapsed:   13.3s remaining:    1.9s\n",
      "[Parallel(n_jobs=8)]: Done  16 out of  16 | elapsed:   14.3s finished\n",
      "2025-10-06 10:27:36,075 - modisco-lite - INFO - Leiden clustering quality for seed 0: 0.1646968690389451\n",
      "2025-10-06 10:27:36,075 - modisco-lite - INFO - Leiden clustering quality for seed 1: 0.1646968690389451\n",
      "2025-10-06 10:27:36,075 - modisco-lite - INFO - Leiden clustering quality for seed 2: 0.1646968690389451\n",
      "2025-10-06 10:27:36,075 - modisco-lite - INFO - Leiden clustering quality for seed 3: 0.16468593856466973\n",
      "2025-10-06 10:27:36,075 - modisco-lite - INFO - Leiden clustering quality for seed 4: 0.16468593856466973\n",
      "2025-10-06 10:27:36,075 - modisco-lite - INFO - Leiden clustering quality for seed 5: 0.16377292460972134\n",
      "2025-10-06 10:27:36,075 - modisco-lite - INFO - Leiden clustering quality for seed 6: 0.16468828375575995\n",
      "2025-10-06 10:27:36,075 - modisco-lite - INFO - Leiden clustering quality for seed 7: 0.1646968690389451\n",
      "2025-10-06 10:27:36,075 - modisco-lite - INFO - Leiden clustering quality for seed 8: 0.16468593856466973\n",
      "2025-10-06 10:27:36,075 - modisco-lite - INFO - Leiden clustering quality for seed 9: 0.1646968690389451\n",
      "2025-10-06 10:27:36,075 - modisco-lite - INFO - Leiden clustering quality for seed 10: 0.1646968690389451\n",
      "2025-10-06 10:27:36,075 - modisco-lite - INFO - Leiden clustering quality for seed 11: 0.1646968690389451\n",
      "2025-10-06 10:27:36,075 - modisco-lite - INFO - Leiden clustering quality for seed 12: 0.1646968690389451\n",
      "2025-10-06 10:27:36,075 - modisco-lite - INFO - Leiden clustering quality for seed 13: 0.1646968690389451\n",
      "2025-10-06 10:27:36,075 - modisco-lite - INFO - Leiden clustering quality for seed 14: 0.1646968690389451\n",
      "2025-10-06 10:27:36,075 - modisco-lite - INFO - Leiden clustering quality for seed 15: 0.16468828375575995\n",
      "2025-10-06 10:27:36,076 - modisco-lite - INFO - - Round 0: Generating patterns from clusters\n",
      "Generating patterns from clusters:: 100%|█████████| 3/3 [00:05<00:00,  1.78s/it]\n",
      "2025-10-06 10:27:41,414 - modisco-lite - INFO - - Round 1: Generating coarse resolution affinity matrix for 1185 seqlets\n",
      "100%|█████████████████████████████████████| 1185/1185 [00:00<00:00, 1271.38it/s]\n",
      "2025-10-06 10:27:42,698 - modisco-lite - INFO - - Round 1: Generating fine resolution affinity matrix for 1185 seqlets and 1185 neighbors\n",
      "100%|██████████████████████████████████████| 1185/1185 [00:06<00:00, 193.55it/s]\n",
      "100%|██████████████████████████████████████| 1185/1185 [00:06<00:00, 193.05it/s]\n",
      "2025-10-06 10:27:55,064 - modisco-lite - INFO - - Round 1: Density adaptation\n",
      "2025-10-06 10:27:57,534 - modisco-lite - INFO - - Round 1: Clustering with Leiden algorithm\n",
      "[Parallel(n_jobs=8)]: Using backend LokyBackend with 8 concurrent workers.\n",
      "[Parallel(n_jobs=8)]: Done   1 tasks      | elapsed:    2.1s\n",
      "[Parallel(n_jobs=8)]: Done   2 out of  16 | elapsed:    2.5s remaining:   17.4s\n",
      "[Parallel(n_jobs=8)]: Done   3 out of  16 | elapsed:    2.6s remaining:   11.2s\n",
      "[Parallel(n_jobs=8)]: Done   4 out of  16 | elapsed:    2.7s remaining:    8.1s\n",
      "[Parallel(n_jobs=8)]: Done   5 out of  16 | elapsed:    2.9s remaining:    6.3s\n",
      "[Parallel(n_jobs=8)]: Done   6 out of  16 | elapsed:    3.0s remaining:    5.0s\n",
      "[Parallel(n_jobs=8)]: Done   7 out of  16 | elapsed:    3.0s remaining:    3.9s\n",
      "[Parallel(n_jobs=8)]: Done   8 out of  16 | elapsed:    3.1s remaining:    3.1s\n",
      "[Parallel(n_jobs=8)]: Done   9 out of  16 | elapsed:    4.4s remaining:    3.4s\n",
      "[Parallel(n_jobs=8)]: Done  10 out of  16 | elapsed:    5.1s remaining:    3.0s\n",
      "[Parallel(n_jobs=8)]: Done  11 out of  16 | elapsed:    5.2s remaining:    2.4s\n",
      "[Parallel(n_jobs=8)]: Done  12 out of  16 | elapsed:    5.4s remaining:    1.8s\n",
      "[Parallel(n_jobs=8)]: Done  13 out of  16 | elapsed:    5.6s remaining:    1.3s\n",
      "[Parallel(n_jobs=8)]: Done  14 out of  16 | elapsed:    5.6s remaining:    0.8s\n",
      "[Parallel(n_jobs=8)]: Done  16 out of  16 | elapsed:    7.4s finished\n",
      "2025-10-06 10:28:05,005 - modisco-lite - INFO - Leiden clustering quality for seed 0: 0.1447236813116312\n",
      "2025-10-06 10:28:05,005 - modisco-lite - INFO - Leiden clustering quality for seed 1: 0.1447236813116312\n",
      "2025-10-06 10:28:05,005 - modisco-lite - INFO - Leiden clustering quality for seed 2: 0.1447236813116312\n",
      "2025-10-06 10:28:05,005 - modisco-lite - INFO - Leiden clustering quality for seed 3: 0.1447236813116312\n",
      "2025-10-06 10:28:05,005 - modisco-lite - INFO - Leiden clustering quality for seed 4: 0.1447236813116312\n",
      "2025-10-06 10:28:05,005 - modisco-lite - INFO - Leiden clustering quality for seed 5: 0.1447236813116312\n",
      "2025-10-06 10:28:05,005 - modisco-lite - INFO - Leiden clustering quality for seed 6: 0.1447236813116312\n",
      "2025-10-06 10:28:05,005 - modisco-lite - INFO - Leiden clustering quality for seed 7: 0.1447236813116312\n",
      "2025-10-06 10:28:05,005 - modisco-lite - INFO - Leiden clustering quality for seed 8: 0.1447236813116312\n",
      "2025-10-06 10:28:05,005 - modisco-lite - INFO - Leiden clustering quality for seed 9: 0.1447236813116312\n",
      "2025-10-06 10:28:05,005 - modisco-lite - INFO - Leiden clustering quality for seed 10: 0.1447236813116312\n",
      "2025-10-06 10:28:05,005 - modisco-lite - INFO - Leiden clustering quality for seed 11: 0.1447236813116312\n",
      "2025-10-06 10:28:05,005 - modisco-lite - INFO - Leiden clustering quality for seed 12: 0.1447236813116312\n",
      "2025-10-06 10:28:05,005 - modisco-lite - INFO - Leiden clustering quality for seed 13: 0.1447236813116312\n",
      "2025-10-06 10:28:05,005 - modisco-lite - INFO - Leiden clustering quality for seed 14: 0.1447236813116312\n",
      "2025-10-06 10:28:05,005 - modisco-lite - INFO - Leiden clustering quality for seed 15: 0.1447236813116312\n",
      "2025-10-06 10:28:05,005 - modisco-lite - INFO - - Round 1: Generating patterns from clusters\n",
      "Generating patterns from clusters:: 100%|█████████| 3/3 [00:05<00:00,  1.77s/it]\n",
      "2025-10-06 10:28:10,304 - modisco-lite - INFO - Detecting spurious merging of patterns\n",
      "Detecting spurious merging of patterns:: 100%|████| 3/3 [00:16<00:00,  5.66s/it]\u001b[0m\u001b[0m\u001b[0m\u001b[0m\u001b[0m\u001b[0m\u001b[0m\u001b[0m\n",
      "2025-10-06 10:28:36,203 - modisco-lite - INFO - Filtering and merging patterns\n",
      "Filtering patterns:: 100%|███████████████████| 26/26 [00:00<00:00, 15400.64it/s]\n",
      "Computing subpatterns:: 100%|███████████████████| 21/21 [00:00<00:00, 23.69it/s]\n",
      "2025-10-06 10:28:37,094 - modisco-lite - INFO - - Extracting 2179 negative seqlets\n",
      "2025-10-06 10:28:37,107 - modisco-lite - INFO - - Round 0: Generating coarse resolution affinity matrix for 2179 seqlets\n",
      "100%|██████████████████████████████████████| 2179/2179 [00:02<00:00, 759.06it/s]\n",
      "2025-10-06 10:28:41,409 - modisco-lite - INFO - - Round 0: Generating fine resolution affinity matrix for 2179 seqlets and 2179 neighbors\n",
      "100%|██████████████████████████████████████| 2179/2179 [00:03<00:00, 549.49it/s]\n",
      "100%|██████████████████████████████████████| 2179/2179 [00:03<00:00, 555.47it/s]\n",
      "2025-10-06 10:28:49,466 - modisco-lite - INFO - - Round 0: Filtering seqlets by correlation\n",
      "2025-10-06 10:28:50,642 - modisco-lite - INFO - - Round 0: Density adaptation\n",
      "2025-10-06 10:28:55,022 - modisco-lite - INFO - - Round 0: Clustering with Leiden algorithm\n",
      "\u001b[0m\u001b[0m\u001b[0m\u001b[0m\u001b[0m\u001b[0m\u001b[0m\u001b[0m[Parallel(n_jobs=8)]: Using backend LokyBackend with 8 concurrent workers.\n",
      "[Parallel(n_jobs=8)]: Done   1 tasks      | elapsed:   12.1s\n",
      "[Parallel(n_jobs=8)]: Done   2 out of  16 | elapsed:   12.4s remaining:  1.4min\n",
      "[Parallel(n_jobs=8)]: Done   3 out of  16 | elapsed:   12.9s remaining:   56.0s\n",
      "[Parallel(n_jobs=8)]: Done   4 out of  16 | elapsed:   13.0s remaining:   39.0s\n",
      "[Parallel(n_jobs=8)]: Done   5 out of  16 | elapsed:   13.0s remaining:   28.6s\n",
      "[Parallel(n_jobs=8)]: Done   6 out of  16 | elapsed:   13.2s remaining:   22.1s\n",
      "[Parallel(n_jobs=8)]: Done   7 out of  16 | elapsed:   15.0s remaining:   19.2s\n",
      "[Parallel(n_jobs=8)]: Done   8 out of  16 | elapsed:   16.9s remaining:   16.9s\n",
      "[Parallel(n_jobs=8)]: Done   9 out of  16 | elapsed:   17.9s remaining:   13.9s\n",
      "[Parallel(n_jobs=8)]: Done  10 out of  16 | elapsed:   19.0s remaining:   11.4s\n",
      "[Parallel(n_jobs=8)]: Done  11 out of  16 | elapsed:   19.1s remaining:    8.7s\n",
      "[Parallel(n_jobs=8)]: Done  12 out of  16 | elapsed:   19.5s remaining:    6.5s\n",
      "[Parallel(n_jobs=8)]: Done  13 out of  16 | elapsed:   19.6s remaining:    4.5s\n",
      "[Parallel(n_jobs=8)]: Done  14 out of  16 | elapsed:   20.6s remaining:    2.9s\n",
      "[Parallel(n_jobs=8)]: Done  16 out of  16 | elapsed:   21.9s finished\n",
      "2025-10-06 10:29:17,003 - modisco-lite - INFO - Leiden clustering quality for seed 0: 0.23181184941890648\n",
      "2025-10-06 10:29:17,003 - modisco-lite - INFO - Leiden clustering quality for seed 1: 0.23184146969421768\n",
      "2025-10-06 10:29:17,003 - modisco-lite - INFO - Leiden clustering quality for seed 2: 0.23184146969421768\n",
      "2025-10-06 10:29:17,003 - modisco-lite - INFO - Leiden clustering quality for seed 3: 0.23184095848063233\n",
      "2025-10-06 10:29:17,003 - modisco-lite - INFO - Leiden clustering quality for seed 4: 0.23181879129667568\n",
      "2025-10-06 10:29:17,003 - modisco-lite - INFO - Leiden clustering quality for seed 5: 0.23184095848063233\n",
      "2025-10-06 10:29:17,003 - modisco-lite - INFO - Leiden clustering quality for seed 6: 0.23066065746101844\n",
      "2025-10-06 10:29:17,003 - modisco-lite - INFO - Leiden clustering quality for seed 7: 0.23184095848063233\n",
      "2025-10-06 10:29:17,003 - modisco-lite - INFO - Leiden clustering quality for seed 8: 0.23179422289645368\n",
      "2025-10-06 10:29:17,003 - modisco-lite - INFO - Leiden clustering quality for seed 9: 0.23184054137243731\n",
      "2025-10-06 10:29:17,003 - modisco-lite - INFO - Leiden clustering quality for seed 10: 0.23184237532370044\n",
      "2025-10-06 10:29:17,003 - modisco-lite - INFO - Leiden clustering quality for seed 11: 0.23179422289645368\n",
      "2025-10-06 10:29:17,003 - modisco-lite - INFO - Leiden clustering quality for seed 12: 0.2318425961250881\n",
      "2025-10-06 10:29:17,003 - modisco-lite - INFO - Leiden clustering quality for seed 13: 0.2306421194753479\n",
      "2025-10-06 10:29:17,003 - modisco-lite - INFO - Leiden clustering quality for seed 14: 0.23184146969421768\n",
      "2025-10-06 10:29:17,003 - modisco-lite - INFO - Leiden clustering quality for seed 15: 0.23180437648381458\n",
      "2025-10-06 10:29:17,003 - modisco-lite - INFO - - Round 0: Generating patterns from clusters\n",
      "Generating patterns from clusters:: 100%|█████████| 4/4 [00:04<00:00,  1.14s/it]\n",
      "2025-10-06 10:29:21,548 - modisco-lite - INFO - - Round 1: Generating coarse resolution affinity matrix for 1866 seqlets\n",
      "100%|██████████████████████████████████████| 1866/1866 [00:01<00:00, 934.64it/s]\n",
      "2025-10-06 10:29:24,082 - modisco-lite - INFO - - Round 1: Generating fine resolution affinity matrix for 1866 seqlets and 1866 neighbors\n",
      "100%|██████████████████████████████████████| 1866/1866 [00:09<00:00, 193.42it/s]\n",
      "100%|██████████████████████████████████████| 1866/1866 [00:09<00:00, 193.65it/s]\n",
      "2025-10-06 10:29:43,529 - modisco-lite - INFO - - Round 1: Density adaptation\n",
      "2025-10-06 10:29:47,620 - modisco-lite - INFO - - Round 1: Clustering with Leiden algorithm\n",
      "[Parallel(n_jobs=8)]: Using backend LokyBackend with 8 concurrent workers.\n",
      "[Parallel(n_jobs=8)]: Done   1 tasks      | elapsed:    3.6s\n",
      "[Parallel(n_jobs=8)]: Done   2 out of  16 | elapsed:    4.2s remaining:   29.3s\n",
      "[Parallel(n_jobs=8)]: Done   3 out of  16 | elapsed:    4.5s remaining:   19.6s\n",
      "[Parallel(n_jobs=8)]: Done   4 out of  16 | elapsed:    4.7s remaining:   14.2s\n",
      "[Parallel(n_jobs=8)]: Done   5 out of  16 | elapsed:    5.6s remaining:   12.4s\n",
      "[Parallel(n_jobs=8)]: Done   6 out of  16 | elapsed:    6.4s remaining:   10.6s\n",
      "[Parallel(n_jobs=8)]: Done   7 out of  16 | elapsed:    6.5s remaining:    8.4s\n",
      "[Parallel(n_jobs=8)]: Done   8 out of  16 | elapsed:    7.1s remaining:    7.1s\n",
      "[Parallel(n_jobs=8)]: Done   9 out of  16 | elapsed:    7.9s remaining:    6.1s\n",
      "[Parallel(n_jobs=8)]: Done  10 out of  16 | elapsed:    9.0s remaining:    5.4s\n",
      "[Parallel(n_jobs=8)]: Done  11 out of  16 | elapsed:    9.1s remaining:    4.1s\n",
      "[Parallel(n_jobs=8)]: Done  12 out of  16 | elapsed:   10.3s remaining:    3.4s\n",
      "[Parallel(n_jobs=8)]: Done  13 out of  16 | elapsed:   10.5s remaining:    2.4s\n",
      "[Parallel(n_jobs=8)]: Done  14 out of  16 | elapsed:   11.0s remaining:    1.6s\n",
      "[Parallel(n_jobs=8)]: Done  16 out of  16 | elapsed:   13.1s finished\n",
      "2025-10-06 10:30:00,793 - modisco-lite - INFO - Leiden clustering quality for seed 0: 0.19642208321503218\n",
      "2025-10-06 10:30:00,793 - modisco-lite - INFO - Leiden clustering quality for seed 1: 0.19645519080864812\n",
      "2025-10-06 10:30:00,793 - modisco-lite - INFO - Leiden clustering quality for seed 2: 0.1964546385546664\n",
      "2025-10-06 10:30:00,793 - modisco-lite - INFO - Leiden clustering quality for seed 3: 0.19640213963417552\n",
      "2025-10-06 10:30:00,793 - modisco-lite - INFO - Leiden clustering quality for seed 4: 0.19645519080864812\n",
      "2025-10-06 10:30:00,793 - modisco-lite - INFO - Leiden clustering quality for seed 5: 0.19639717078576602\n",
      "2025-10-06 10:30:00,793 - modisco-lite - INFO - Leiden clustering quality for seed 6: 0.19646935425451065\n",
      "2025-10-06 10:30:00,793 - modisco-lite - INFO - Leiden clustering quality for seed 7: 0.1964585874585927\n",
      "2025-10-06 10:30:00,793 - modisco-lite - INFO - Leiden clustering quality for seed 8: 0.19639717078576602\n",
      "2025-10-06 10:30:00,793 - modisco-lite - INFO - Leiden clustering quality for seed 9: 0.19639717078576602\n",
      "2025-10-06 10:30:00,793 - modisco-lite - INFO - Leiden clustering quality for seed 10: 0.19647132160678013\n",
      "2025-10-06 10:30:00,793 - modisco-lite - INFO - Leiden clustering quality for seed 11: 0.19646917667389605\n",
      "2025-10-06 10:30:00,793 - modisco-lite - INFO - Leiden clustering quality for seed 12: 0.19647132160678013\n",
      "2025-10-06 10:30:00,793 - modisco-lite - INFO - Leiden clustering quality for seed 13: 0.19647132160678013\n",
      "2025-10-06 10:30:00,793 - modisco-lite - INFO - Leiden clustering quality for seed 14: 0.19647132160678013\n",
      "2025-10-06 10:30:00,793 - modisco-lite - INFO - Leiden clustering quality for seed 15: 0.19647234353742565\n",
      "2025-10-06 10:30:00,793 - modisco-lite - INFO - - Round 1: Generating patterns from clusters\n",
      "Generating patterns from clusters:: 100%|█████████| 4/4 [00:03<00:00,  1.08it/s]\n",
      "2025-10-06 10:30:04,505 - modisco-lite - INFO - Detecting spurious merging of patterns\n",
      "Detecting spurious merging of patterns:: 100%|████| 4/4 [00:19<00:00,  4.82s/it]\u001b[0m\u001b[0m\u001b[0m\u001b[0m\u001b[0m\u001b[0m\u001b[0m\u001b[0m\n",
      "2025-10-06 10:30:39,298 - modisco-lite - INFO - Filtering and merging patterns\n",
      "Filtering patterns:: 100%|███████████████████| 26/26 [00:00<00:00, 14885.60it/s]\n",
      "Computing subpatterns:: 100%|███████████████████| 22/22 [00:02<00:00,  9.44it/s]\n",
      "Creating modisco logos for pos_patterns: 100%|██| 21/21 [00:31<00:00,  1.52s/it]\n",
      "Creating modisco logos for neg_patterns: 100%|██| 22/22 [00:48<00:00,  2.23s/it]\n",
      "Generating patterns dataframe: 100%|█████████████| 2/2 [00:00<00:00, 197.28it/s]\n",
      "Reading patterns for pos_patterns: 100%|██████| 21/21 [00:00<00:00, 3236.82it/s]\n",
      "Reading patterns for neg_patterns: 100%|██████| 22/22 [00:00<00:00, 3260.13it/s]\n",
      "\u001b[0m\u001b[0m\u001b[0m\u001b[0m\u001b[0m\u001b[0m\u001b[0m\u001b[0m[Parallel(n_jobs=8)]: Using backend LokyBackend with 8 concurrent workers.\n",
      "[Parallel(n_jobs=8)]: Done   1 tasks      | elapsed:    7.9s\n",
      "[Parallel(n_jobs=8)]: Done   2 tasks      | elapsed:    7.9s\n",
      "[Parallel(n_jobs=8)]: Done   3 tasks      | elapsed:    8.1s\n",
      "[Parallel(n_jobs=8)]: Done   4 tasks      | elapsed:    9.3s\n",
      "[Parallel(n_jobs=8)]: Done   5 tasks      | elapsed:   10.9s\n",
      "[Parallel(n_jobs=8)]: Done   6 tasks      | elapsed:   12.5s\n",
      "[Parallel(n_jobs=8)]: Done   7 tasks      | elapsed:   13.4s\n",
      "[Parallel(n_jobs=8)]: Done   8 tasks      | elapsed:   14.1s\n",
      "[Parallel(n_jobs=8)]: Done   9 tasks      | elapsed:   25.2s\n",
      "[Parallel(n_jobs=8)]: Done  10 tasks      | elapsed:   25.6s\n",
      "[Parallel(n_jobs=8)]: Done  11 tasks      | elapsed:   27.4s\n",
      "[Parallel(n_jobs=8)]: Done  12 tasks      | elapsed:   33.9s\n",
      "[Parallel(n_jobs=8)]: Done  13 tasks      | elapsed:   34.6s\n",
      "[Parallel(n_jobs=8)]: Done  14 tasks      | elapsed:   38.8s\n",
      "[Parallel(n_jobs=8)]: Done  15 tasks      | elapsed:   39.7s\n",
      "[Parallel(n_jobs=8)]: Done  16 tasks      | elapsed:   47.6s\n",
      "[Parallel(n_jobs=8)]: Done  17 tasks      | elapsed:   48.5s\n",
      "[Parallel(n_jobs=8)]: Done  18 tasks      | elapsed:   50.0s\n",
      "[Parallel(n_jobs=8)]: Done  19 tasks      | elapsed:  1.0min\n",
      "[Parallel(n_jobs=8)]: Done  20 tasks      | elapsed:  1.0min\n",
      "[Parallel(n_jobs=8)]: Done  21 tasks      | elapsed:  1.3min\n",
      "[Parallel(n_jobs=8)]: Done  22 tasks      | elapsed:  1.3min\n",
      "[Parallel(n_jobs=8)]: Done  23 tasks      | elapsed:  1.4min\n",
      "[Parallel(n_jobs=8)]: Done  24 tasks      | elapsed:  1.5min\n",
      "[Parallel(n_jobs=8)]: Done  25 tasks      | elapsed:  1.6min\n",
      "[Parallel(n_jobs=8)]: Done  26 tasks      | elapsed:  1.8min\n",
      "[Parallel(n_jobs=8)]: Done  27 tasks      | elapsed:  1.9min\n",
      "[Parallel(n_jobs=8)]: Done  28 tasks      | elapsed:  1.9min\n",
      "[Parallel(n_jobs=8)]: Done  29 out of  43 | elapsed:  1.9min remaining:   54.4s\n",
      "[Parallel(n_jobs=8)]: Done  30 out of  43 | elapsed:  1.9min remaining:   49.1s\n",
      "[Parallel(n_jobs=8)]: Done  31 out of  43 | elapsed:  2.1min remaining:   48.2s\n",
      "[Parallel(n_jobs=8)]: Done  32 out of  43 | elapsed:  2.1min remaining:   42.8s\n",
      "[Parallel(n_jobs=8)]: Done  33 out of  43 | elapsed:  2.2min remaining:   40.8s\n",
      "[Parallel(n_jobs=8)]: Done  34 out of  43 | elapsed:  2.3min remaining:   36.6s\n",
      "[Parallel(n_jobs=8)]: Done  35 out of  43 | elapsed:  2.3min remaining:   31.8s\n",
      "[Parallel(n_jobs=8)]: Done  36 out of  43 | elapsed:  2.3min remaining:   27.3s\n",
      "[Parallel(n_jobs=8)]: Done  37 out of  43 | elapsed:  2.4min remaining:   23.2s\n",
      "[Parallel(n_jobs=8)]: Done  38 out of  43 | elapsed:  2.5min remaining:   20.0s\n",
      "[Parallel(n_jobs=8)]: Done  39 out of  43 | elapsed:  2.6min remaining:   15.9s\n",
      "[Parallel(n_jobs=8)]: Done  40 out of  43 | elapsed:  2.7min remaining:   12.1s\n",
      "[Parallel(n_jobs=8)]: Done  41 out of  43 | elapsed:  2.8min remaining:    8.1s\n",
      "[Parallel(n_jobs=8)]: Done  43 out of  43 | elapsed:  3.3min finished\n",
      "\u001b[34m\u001b[1mwandb\u001b[0m: Downloading large artifact metadata:latest, 3122.32MB. 1 files... \n",
      "\u001b[34m\u001b[1mwandb\u001b[0m:   1 of 1 files downloaded.  \n",
      "Done. 0:0:1.7 (1845.4MB/s)\n",
      "Processing pos_patterns patterns...: 100%|█████| 21/21 [00:00<00:00, 589.83it/s]\n",
      "Processing neg_patterns patterns...: 100%|█████| 22/22 [00:00<00:00, 572.37it/s]\n",
      "\u001b[0m\u001b[0m\u001b[0m\u001b[0m\u001b[0m\u001b[0m\u001b[0m\u001b[0m\u001b[0m"
     ]
    }
   ],
   "source": [
    "! decima modisco  \\\n",
    "    --top-n-markers 50 \\\n",
    "    --max-seqlets 5000 \\\n",
    "    --tss-distance 5000  \\\n",
    "    --tasks \"cell_type.str.contains('neuron') and organ == 'CNS' and disease == 'healthy'\" \\\n",
    "    --transform \"specificity\" \\\n",
    "    --batch-size 1 \\\n",
    "    --model 0 \\\n",
    "    --num-workers 8 \\\n",
    "    -o example/modisco_neurons"
   ]
  },
  {
   "cell_type": "markdown",
   "id": "8650e7ab",
   "metadata": {},
   "source": [
    " The analysis creates the following files:\n",
    " - `example/modisco_neurons.h5`: HDF5 file containing the discovered motifs and seqlets generated by modisco.\n",
    " - `example/modisco_neurons_patterns.h5`: HDF5 file with processed motif patterns generated by TF-Modisco see TF-modisco API.\n",
    " - `example/modisco_neurons_report/`: Directory containing HTML and image reports of discovered motifs.\n",
    " - `example/modisco_neurons_seqlets.bed`: BED file with genomic locations of seqlets.\n",
    " - `example/modisco_neurons_*.attributions.h5`: HDF5 file containing the raw attribution scores for each input sequence and gene for each replicate. This file is used as input for motif discovery and can be inspected to understand which regions of the genome are most important for model predictions.\n",
    " - `example/modisco_neurons_*.attributions.bigwig`: Average attribution scores for each base across all input sequences, stored in BigWig format for visualization in genome browsers."
   ]
  },
  {
   "cell_type": "code",
   "execution_count": 3,
   "id": "736a6be2",
   "metadata": {},
   "outputs": [
    {
     "name": "stdout",
     "output_type": "stream",
     "text": [
      "example/modisco_neurons_0.attributions.bigwig\n",
      "example/modisco_neurons_0.attributions.h5\n",
      "example/modisco_neurons_0.warnings.qc.log\n",
      "example/modisco_neurons_1.attributions.bigwig\n",
      "example/modisco_neurons_1.attributions.h5\n",
      "example/modisco_neurons_1.warnings.qc.log\n",
      "example/modisco_neurons.attributions.bigwig\n",
      "example/modisco_neurons.attributions.h5\n",
      "example/modisco_neurons.modisco.h5\n",
      "example/modisco_neurons.seqlets.bed\n",
      "example/modisco_neurons.warnings.qc.log\n",
      "\n",
      "example/modisco_neurons_report:\n",
      "ATF1.H13CORE.1.P.B.png\t       REST.H13CORE.0.P.B.png\n",
      "ATF2.H13CORE.0.PSM.A.png       RXRA.H13CORE.3.P.B.png\n",
      "ATF2.H13CORE.1.P.B.png\t       SATB1.H13CORE.0.P.B.png\n",
      "ATF3.H13CORE.2.P.B.png\t       SNAI2.H13CORE.0.PSM.A.png\n",
      "ATF4.H13CORE.2.SM.B.png        SP2.H13CORE.1.P.B.png\n",
      "ATMIN.H13CORE.0.P.B.png        SP3.H13CORE.0.P.B.png\n",
      "CPEB1.H13CORE.1.S.B.png        SP4.H13CORE.2.P.B.png\n",
      "CREB1.H13CORE.0.PSM.A.png      SPDEF.H13CORE.1.SM.B.png\n",
      "CREB5.H13CORE.0.P.B.png        SPI1.H13CORE.0.P.B.png\n",
      "CREB5.H13CORE.1.SM.B.png       SPIB.H13CORE.0.P.B.png\n",
      "CTCFL.H13CORE.0.P.B.png        SPIB.H13CORE.2.SM.B.png\n",
      "DMRTA.H13CORE.0.SM.B.png       STAT1.H13CORE.1.P.B.png\n",
      "ELF1.H13CORE.0.PSM.A.png       STAT2.H13CORE.0.P.B.png\n",
      "ELF4.H13CORE.0.PS.A.png        TAF1.H13CORE.0.P.B.png\n",
      "ELK3.H13CORE.0.PSM.A.png       TCF21.H13CORE.0.PS.A.png\n",
      "ELK4.H13CORE.0.PSM.A.png       TF7L1.H13CORE.2.S.C.png\n",
      "ERG.H13CORE.0.P.B.png\t       trimmed_logos\n",
      "ERR1.H13CORE.0.PSM.A.png       VEZF1.H13CORE.1.P.B.png\n",
      "ERR3.H13CORE.0.PSM.A.png       Z585A.H13CORE.0.P.C.png\n",
      "ETV5.H13CORE.1.PM.A.png        ZBT14.H13CORE.0.P.C.png\n",
      "ETV6.H13CORE.0.PS.A.png        ZBT14.H13CORE.1.S.B.png\n",
      "FAM200B.H13CORE.0.PSGIB.A.png  ZEB1.H13CORE.0.P.B.png\n",
      "FEV.H13CORE.0.S.B.png\t       ZEB2.H13CORE.0.P.B.png\n",
      "FOSB.H13CORE.0.P.B.png\t       ZKSC5.H13CORE.0.P.C.png\n",
      "FOS.H13CORE.2.S.C.png\t       ZN100.H13CORE.1.P.B.png\n",
      "FOSL1.H13CORE.0.P.B.png        ZN223.H13CORE.0.P.C.png\n",
      "FOSL2.H13CORE.0.P.B.png        ZN250.H13CORE.0.P.C.png\n",
      "FOXC1.H13CORE.1.S.C.png        ZN331.H13CORE.0.P.B.png\n",
      "FOXC2.H13CORE.0.SM.B.png       ZN362.H13CORE.0.P.C.png\n",
      "FOXI1.H13CORE.0.SM.B.png       ZN454.H13CORE.1.SM.B.png\n",
      "FOXL1.H13CORE.0.S.B.png        ZN467.H13CORE.0.P.C.png\n",
      "GRHL1.H13CORE.0.PSM.A.png      ZN510.H13CORE.0.P.C.png\n",
      "IRF1.H13CORE.0.P.B.png\t       ZN519.H13CORE.0.P.C.png\n",
      "IRF4.H13CORE.0.P.B.png\t       ZN580.H13CORE.0.SM.B.png\n",
      "IRF4.H13CORE.1.S.B.png\t       ZN587.H13CORE.0.P.C.png\n",
      "IRF8.H13CORE.0.P.B.png\t       ZN616.H13CORE.0.P.C.png\n",
      "ITF2.H13CORE.1.PSM.A.png       ZN660.H13CORE.0.SM.B.png\n",
      "JDP2.H13CORE.0.SM.B.png        ZN662.H13CORE.0.P.C.png\n",
      "JUNB.H13CORE.0.PM.A.png        ZN664.H13CORE.0.P.C.png\n",
      "JUND.H13CORE.0.PM.A.png        ZN681.H13CORE.0.P.C.png\n",
      "JUN.H13CORE.0.P.B.png\t       ZN682.H13CORE.1.P.B.png\n",
      "JUN.H13CORE.1.S.C.png\t       ZN730.H13CORE.0.P.C.png\n",
      "KLF12.H13CORE.0.P.C.png        ZN766.H13CORE.0.P.B.png\n",
      "KLF13.H13CORE.1.P.C.png        ZN768.H13CORE.0.P.B.png\n",
      "KLF16.H13CORE.1.P.B.png        ZN770.H13CORE.1.P.B.png\n",
      "KLF6.H13CORE.0.P.B.png\t       ZN784.H13CORE.0.SM.B.png\n",
      "KLF9.H13CORE.1.P.B.png\t       ZN823.H13CORE.0.P.C.png\n",
      "KMT2A.H13CORE.0.P.B.png        ZN875.H13CORE.0.P.C.png\n",
      "KMT2B.H13CORE.0.P.B.png        ZNF12.H13CORE.1.M.C.png\n",
      "motifs.html\t\t       ZNF160.H13CORE.0.SG.A.png\n",
      "MYT1.H13CORE.0.SG.A.png        ZNF43.H13CORE.0.PSGI.A.png\n",
      "MYT1L.H13CORE.0.P.C.png        ZNF470.H13CORE.0.PSG.A.png\n",
      "NR1I2.H13CORE.1.S.C.png        ZNF618.H13CORE.0.G.B.png\n",
      "NR1I3.H13CORE.1.PSM.A.png      ZNF66.H13CORE.0.PG.A.png\n",
      "NR5A2.H13CORE.0.PSM.A.png      ZNF746.H13CORE.0.PSG.A.png\n",
      "NRF1.H13CORE.0.PS.A.png        ZNF800.H13CORE.0.PSG.A.png\n",
      "ONEC2.H13CORE.3.P.B.png        ZNF813.H13CORE.0.SG.A.png\n",
      "PATZ1.H13CORE.0.P.B.png        ZNF841.H13CORE.0.PSGI.A.png\n",
      "PRGR.H13CORE.0.P.B.png\t       ZNF85.H13CORE.1.P.B.png\n",
      "RARG.H13CORE.0.P.B.png\n"
     ]
    }
   ],
   "source": [
    "! ls example/modisco_neurons*"
   ]
  },
  {
   "cell_type": "markdown",
   "id": "79947605",
   "metadata": {},
   "source": [
    "The following file generates an HTML report with motif visualizations and detailed statistics for each discovered pattern."
   ]
  },
  {
   "cell_type": "code",
   "execution_count": 16,
   "id": "caf89100",
   "metadata": {},
   "outputs": [
    {
     "data": {
      "text/html": [
       "<table border=\"1\" class=\"dataframe\">\n",
       "  <thead>\n",
       "    <tr style=\"text-align: right;\">\n",
       "      <th>pattern</th>\n",
       "      <th>num_seqlets</th>\n",
       "      <th>modisco_cwm_fwd</th>\n",
       "      <th>modisco_cwm_rev</th>\n",
       "      <th>match0</th>\n",
       "      <th>qval0</th>\n",
       "      <th>match0_logo</th>\n",
       "      <th>match1</th>\n",
       "      <th>qval1</th>\n",
       "      <th>match1_logo</th>\n",
       "      <th>match2</th>\n",
       "      <th>qval2</th>\n",
       "      <th>match2_logo</th>\n",
       "    </tr>\n",
       "  </thead>\n",
       "  <tbody>\n",
       "    <tr>\n",
       "      <td>pos_patterns.pattern_0</td>\n",
       "      <td>79</td>\n",
       "      <td><img src=\"trimmed_logos/pos_patterns.pattern_0.cwm.fwd.png\" width=\"240\" ></td>\n",
       "      <td><img src=\"trimmed_logos/pos_patterns.pattern_0.cwm.rev.png\" width=\"240\" ></td>\n",
       "      <td>ZN362.H13CORE.0.P.C</td>\n",
       "      <td>2.147410e-02</td>\n",
       "      <td><img src=\"ZN362.H13CORE.0.P.C.png\" width=\"240\" ></td>\n",
       "      <td>Z585A.H13CORE.0.P.C</td>\n",
       "      <td>1.015950e-01</td>\n",
       "      <td><img src=\"Z585A.H13CORE.0.P.C.png\" width=\"240\" ></td>\n",
       "      <td>FOXC1.H13CORE.1.S.C</td>\n",
       "      <td>1.015950e-01</td>\n",
       "      <td><img src=\"FOXC1.H13CORE.1.S.C.png\" width=\"240\" ></td>\n",
       "    </tr>\n",
       "    <tr>\n",
       "      <td>pos_patterns.pattern_1</td>\n",
       "      <td>75</td>\n",
       "      <td><img src=\"trimmed_logos/pos_patterns.pattern_1.cwm.fwd.png\" width=\"240\" ></td>\n",
       "      <td><img src=\"trimmed_logos/pos_patterns.pattern_1.cwm.rev.png\" width=\"240\" ></td>\n",
       "      <td>JUN.H13CORE.1.S.C</td>\n",
       "      <td>1.000000e+00</td>\n",
       "      <td><img src=\"JUN.H13CORE.1.S.C.png\" width=\"240\" ></td>\n",
       "      <td>TF7L1.H13CORE.2.S.C</td>\n",
       "      <td>1.000000e+00</td>\n",
       "      <td><img src=\"TF7L1.H13CORE.2.S.C.png\" width=\"240\" ></td>\n",
       "      <td>SPDEF.H13CORE.1.SM.B</td>\n",
       "      <td>1.000000e+00</td>\n",
       "      <td><img src=\"SPDEF.H13CORE.1.SM.B.png\" width=\"240\" ></td>\n",
       "    </tr>\n",
       "    <tr>\n",
       "      <td>pos_patterns.pattern_2</td>\n",
       "      <td>61</td>\n",
       "      <td><img src=\"trimmed_logos/pos_patterns.pattern_2.cwm.fwd.png\" width=\"240\" ></td>\n",
       "      <td><img src=\"trimmed_logos/pos_patterns.pattern_2.cwm.rev.png\" width=\"240\" ></td>\n",
       "      <td>ZEB2.H13CORE.0.P.B</td>\n",
       "      <td>2.037100e-02</td>\n",
       "      <td><img src=\"ZEB2.H13CORE.0.P.B.png\" width=\"240\" ></td>\n",
       "      <td>ITF2.H13CORE.1.PSM.A</td>\n",
       "      <td>2.037100e-02</td>\n",
       "      <td><img src=\"ITF2.H13CORE.1.PSM.A.png\" width=\"240\" ></td>\n",
       "      <td>SNAI2.H13CORE.0.PSM.A</td>\n",
       "      <td>2.037100e-02</td>\n",
       "      <td><img src=\"SNAI2.H13CORE.0.PSM.A.png\" width=\"240\" ></td>\n",
       "    </tr>\n",
       "    <tr>\n",
       "      <td>pos_patterns.pattern_3</td>\n",
       "      <td>58</td>\n",
       "      <td><img src=\"trimmed_logos/pos_patterns.pattern_3.cwm.fwd.png\" width=\"240\" ></td>\n",
       "      <td><img src=\"trimmed_logos/pos_patterns.pattern_3.cwm.rev.png\" width=\"240\" ></td>\n",
       "      <td>ZNF85.H13CORE.1.P.B</td>\n",
       "      <td>7.257980e-01</td>\n",
       "      <td><img src=\"ZNF85.H13CORE.1.P.B.png\" width=\"240\" ></td>\n",
       "      <td>ZN766.H13CORE.0.P.B</td>\n",
       "      <td>7.257980e-01</td>\n",
       "      <td><img src=\"ZN766.H13CORE.0.P.B.png\" width=\"240\" ></td>\n",
       "      <td>ZN250.H13CORE.0.P.C</td>\n",
       "      <td>7.257980e-01</td>\n",
       "      <td><img src=\"ZN250.H13CORE.0.P.C.png\" width=\"240\" ></td>\n",
       "    </tr>\n",
       "    <tr>\n",
       "      <td>pos_patterns.pattern_4</td>\n",
       "      <td>56</td>\n",
       "      <td><img src=\"trimmed_logos/pos_patterns.pattern_4.cwm.fwd.png\" width=\"240\" ></td>\n",
       "      <td><img src=\"trimmed_logos/pos_patterns.pattern_4.cwm.rev.png\" width=\"240\" ></td>\n",
       "      <td>ZN519.H13CORE.0.P.C</td>\n",
       "      <td>3.222360e-01</td>\n",
       "      <td><img src=\"ZN519.H13CORE.0.P.C.png\" width=\"240\" ></td>\n",
       "      <td>ZNF43.H13CORE.0.PSGI.A</td>\n",
       "      <td>3.222360e-01</td>\n",
       "      <td><img src=\"ZNF43.H13CORE.0.PSGI.A.png\" width=\"240\" ></td>\n",
       "      <td>FAM200B.H13CORE.0.PSGIB.A</td>\n",
       "      <td>3.222360e-01</td>\n",
       "      <td><img src=\"FAM200B.H13CORE.0.PSGIB.A.png\" width=\"240\" ></td>\n",
       "    </tr>\n",
       "    <tr>\n",
       "      <td>pos_patterns.pattern_5</td>\n",
       "      <td>55</td>\n",
       "      <td><img src=\"trimmed_logos/pos_patterns.pattern_5.cwm.fwd.png\" width=\"240\" ></td>\n",
       "      <td><img src=\"trimmed_logos/pos_patterns.pattern_5.cwm.rev.png\" width=\"240\" ></td>\n",
       "      <td>KMT2A.H13CORE.0.P.B</td>\n",
       "      <td>2.974570e-01</td>\n",
       "      <td><img src=\"KMT2A.H13CORE.0.P.B.png\" width=\"240\" ></td>\n",
       "      <td>ZN519.H13CORE.0.P.C</td>\n",
       "      <td>3.238500e-01</td>\n",
       "      <td><img src=\"ZN519.H13CORE.0.P.C.png\" width=\"240\" ></td>\n",
       "      <td>ZNF66.H13CORE.0.PG.A</td>\n",
       "      <td>6.090510e-01</td>\n",
       "      <td><img src=\"ZNF66.H13CORE.0.PG.A.png\" width=\"240\" ></td>\n",
       "    </tr>\n",
       "    <tr>\n",
       "      <td>pos_patterns.pattern_6</td>\n",
       "      <td>54</td>\n",
       "      <td><img src=\"trimmed_logos/pos_patterns.pattern_6.cwm.fwd.png\" width=\"240\" ></td>\n",
       "      <td><img src=\"trimmed_logos/pos_patterns.pattern_6.cwm.rev.png\" width=\"240\" ></td>\n",
       "      <td>KMT2A.H13CORE.0.P.B</td>\n",
       "      <td>6.289190e-06</td>\n",
       "      <td><img src=\"KMT2A.H13CORE.0.P.B.png\" width=\"240\" ></td>\n",
       "      <td>ZN519.H13CORE.0.P.C</td>\n",
       "      <td>4.988970e-05</td>\n",
       "      <td><img src=\"ZN519.H13CORE.0.P.C.png\" width=\"240\" ></td>\n",
       "      <td>SP2.H13CORE.1.P.B</td>\n",
       "      <td>1.925710e-02</td>\n",
       "      <td><img src=\"SP2.H13CORE.1.P.B.png\" width=\"240\" ></td>\n",
       "    </tr>\n",
       "    <tr>\n",
       "      <td>pos_patterns.pattern_7</td>\n",
       "      <td>54</td>\n",
       "      <td><img src=\"trimmed_logos/pos_patterns.pattern_7.cwm.fwd.png\" width=\"240\" ></td>\n",
       "      <td><img src=\"trimmed_logos/pos_patterns.pattern_7.cwm.rev.png\" width=\"240\" ></td>\n",
       "      <td>ZEB2.H13CORE.0.P.B</td>\n",
       "      <td>9.978340e-01</td>\n",
       "      <td><img src=\"ZEB2.H13CORE.0.P.B.png\" width=\"240\" ></td>\n",
       "      <td>ZEB1.H13CORE.0.P.B</td>\n",
       "      <td>9.978340e-01</td>\n",
       "      <td><img src=\"ZEB1.H13CORE.0.P.B.png\" width=\"240\" ></td>\n",
       "      <td>ZN784.H13CORE.0.SM.B</td>\n",
       "      <td>9.978340e-01</td>\n",
       "      <td><img src=\"ZN784.H13CORE.0.SM.B.png\" width=\"240\" ></td>\n",
       "    </tr>\n",
       "    <tr>\n",
       "      <td>pos_patterns.pattern_8</td>\n",
       "      <td>52</td>\n",
       "      <td><img src=\"trimmed_logos/pos_patterns.pattern_8.cwm.fwd.png\" width=\"240\" ></td>\n",
       "      <td><img src=\"trimmed_logos/pos_patterns.pattern_8.cwm.rev.png\" width=\"240\" ></td>\n",
       "      <td>SATB1.H13CORE.0.P.B</td>\n",
       "      <td>1.405690e-01</td>\n",
       "      <td><img src=\"SATB1.H13CORE.0.P.B.png\" width=\"240\" ></td>\n",
       "      <td>FOXC2.H13CORE.0.SM.B</td>\n",
       "      <td>2.268190e-01</td>\n",
       "      <td><img src=\"FOXC2.H13CORE.0.SM.B.png\" width=\"240\" ></td>\n",
       "      <td>CPEB1.H13CORE.1.S.B</td>\n",
       "      <td>3.961930e-01</td>\n",
       "      <td><img src=\"CPEB1.H13CORE.1.S.B.png\" width=\"240\" ></td>\n",
       "    </tr>\n",
       "    <tr>\n",
       "      <td>pos_patterns.pattern_9</td>\n",
       "      <td>51</td>\n",
       "      <td><img src=\"trimmed_logos/pos_patterns.pattern_9.cwm.fwd.png\" width=\"240\" ></td>\n",
       "      <td><img src=\"trimmed_logos/pos_patterns.pattern_9.cwm.rev.png\" width=\"240\" ></td>\n",
       "      <td>ATF3.H13CORE.2.P.B</td>\n",
       "      <td>9.799360e-03</td>\n",
       "      <td><img src=\"ATF3.H13CORE.2.P.B.png\" width=\"240\" ></td>\n",
       "      <td>CREB5.H13CORE.1.SM.B</td>\n",
       "      <td>9.799360e-03</td>\n",
       "      <td><img src=\"CREB5.H13CORE.1.SM.B.png\" width=\"240\" ></td>\n",
       "      <td>CREB1.H13CORE.0.PSM.A</td>\n",
       "      <td>9.799360e-03</td>\n",
       "      <td><img src=\"CREB1.H13CORE.0.PSM.A.png\" width=\"240\" ></td>\n",
       "    </tr>\n",
       "    <tr>\n",
       "      <td>pos_patterns.pattern_10</td>\n",
       "      <td>51</td>\n",
       "      <td><img src=\"trimmed_logos/pos_patterns.pattern_10.cwm.fwd.png\" width=\"240\" ></td>\n",
       "      <td><img src=\"trimmed_logos/pos_patterns.pattern_10.cwm.rev.png\" width=\"240\" ></td>\n",
       "      <td>KMT2A.H13CORE.0.P.B</td>\n",
       "      <td>1.162170e-05</td>\n",
       "      <td><img src=\"KMT2A.H13CORE.0.P.B.png\" width=\"240\" ></td>\n",
       "      <td>ZN519.H13CORE.0.P.C</td>\n",
       "      <td>7.242570e-03</td>\n",
       "      <td><img src=\"ZN519.H13CORE.0.P.C.png\" width=\"240\" ></td>\n",
       "      <td>KLF9.H13CORE.1.P.B</td>\n",
       "      <td>9.900230e-03</td>\n",
       "      <td><img src=\"KLF9.H13CORE.1.P.B.png\" width=\"240\" ></td>\n",
       "    </tr>\n",
       "    <tr>\n",
       "      <td>pos_patterns.pattern_11</td>\n",
       "      <td>46</td>\n",
       "      <td><img src=\"trimmed_logos/pos_patterns.pattern_11.cwm.fwd.png\" width=\"240\" ></td>\n",
       "      <td><img src=\"trimmed_logos/pos_patterns.pattern_11.cwm.rev.png\" width=\"240\" ></td>\n",
       "      <td>ZNF813.H13CORE.0.SG.A</td>\n",
       "      <td>1.251000e-01</td>\n",
       "      <td><img src=\"ZNF813.H13CORE.0.SG.A.png\" width=\"240\" ></td>\n",
       "      <td>ZN681.H13CORE.0.P.C</td>\n",
       "      <td>1.290180e-01</td>\n",
       "      <td><img src=\"ZN681.H13CORE.0.P.C.png\" width=\"240\" ></td>\n",
       "      <td>RXRA.H13CORE.3.P.B</td>\n",
       "      <td>1.290180e-01</td>\n",
       "      <td><img src=\"RXRA.H13CORE.3.P.B.png\" width=\"240\" ></td>\n",
       "    </tr>\n",
       "    <tr>\n",
       "      <td>pos_patterns.pattern_12</td>\n",
       "      <td>44</td>\n",
       "      <td><img src=\"trimmed_logos/pos_patterns.pattern_12.cwm.fwd.png\" width=\"240\" ></td>\n",
       "      <td><img src=\"trimmed_logos/pos_patterns.pattern_12.cwm.rev.png\" width=\"240\" ></td>\n",
       "      <td>ERR3.H13CORE.0.PSM.A</td>\n",
       "      <td>4.260500e-04</td>\n",
       "      <td><img src=\"ERR3.H13CORE.0.PSM.A.png\" width=\"240\" ></td>\n",
       "      <td>NR5A2.H13CORE.0.PSM.A</td>\n",
       "      <td>7.454720e-04</td>\n",
       "      <td><img src=\"NR5A2.H13CORE.0.PSM.A.png\" width=\"240\" ></td>\n",
       "      <td>ERR1.H13CORE.0.PSM.A</td>\n",
       "      <td>8.555690e-04</td>\n",
       "      <td><img src=\"ERR1.H13CORE.0.PSM.A.png\" width=\"240\" ></td>\n",
       "    </tr>\n",
       "    <tr>\n",
       "      <td>pos_patterns.pattern_13</td>\n",
       "      <td>43</td>\n",
       "      <td><img src=\"trimmed_logos/pos_patterns.pattern_13.cwm.fwd.png\" width=\"240\" ></td>\n",
       "      <td><img src=\"trimmed_logos/pos_patterns.pattern_13.cwm.rev.png\" width=\"240\" ></td>\n",
       "      <td>NRF1.H13CORE.0.PS.A</td>\n",
       "      <td>1.698700e-02</td>\n",
       "      <td><img src=\"NRF1.H13CORE.0.PS.A.png\" width=\"240\" ></td>\n",
       "      <td>ZBT14.H13CORE.0.P.C</td>\n",
       "      <td>1.773560e-02</td>\n",
       "      <td><img src=\"ZBT14.H13CORE.0.P.C.png\" width=\"240\" ></td>\n",
       "      <td>ZN454.H13CORE.1.SM.B</td>\n",
       "      <td>1.026430e-01</td>\n",
       "      <td><img src=\"ZN454.H13CORE.1.SM.B.png\" width=\"240\" ></td>\n",
       "    </tr>\n",
       "    <tr>\n",
       "      <td>pos_patterns.pattern_14</td>\n",
       "      <td>37</td>\n",
       "      <td><img src=\"trimmed_logos/pos_patterns.pattern_14.cwm.fwd.png\" width=\"240\" ></td>\n",
       "      <td><img src=\"trimmed_logos/pos_patterns.pattern_14.cwm.rev.png\" width=\"240\" ></td>\n",
       "      <td>KMT2B.H13CORE.0.P.B</td>\n",
       "      <td>4.570050e-02</td>\n",
       "      <td><img src=\"KMT2B.H13CORE.0.P.B.png\" width=\"240\" ></td>\n",
       "      <td>ZN100.H13CORE.1.P.B</td>\n",
       "      <td>4.570050e-02</td>\n",
       "      <td><img src=\"ZN100.H13CORE.1.P.B.png\" width=\"240\" ></td>\n",
       "      <td>ZN519.H13CORE.0.P.C</td>\n",
       "      <td>1.034090e-01</td>\n",
       "      <td><img src=\"ZN519.H13CORE.0.P.C.png\" width=\"240\" ></td>\n",
       "    </tr>\n",
       "    <tr>\n",
       "      <td>pos_patterns.pattern_15</td>\n",
       "      <td>35</td>\n",
       "      <td><img src=\"trimmed_logos/pos_patterns.pattern_15.cwm.fwd.png\" width=\"240\" ></td>\n",
       "      <td><img src=\"trimmed_logos/pos_patterns.pattern_15.cwm.rev.png\" width=\"240\" ></td>\n",
       "      <td>JUNB.H13CORE.0.PM.A</td>\n",
       "      <td>8.438550e-02</td>\n",
       "      <td><img src=\"JUNB.H13CORE.0.PM.A.png\" width=\"240\" ></td>\n",
       "      <td>FOSB.H13CORE.0.P.B</td>\n",
       "      <td>9.620290e-02</td>\n",
       "      <td><img src=\"FOSB.H13CORE.0.P.B.png\" width=\"240\" ></td>\n",
       "      <td>FOSL1.H13CORE.0.P.B</td>\n",
       "      <td>1.398950e-01</td>\n",
       "      <td><img src=\"FOSL1.H13CORE.0.P.B.png\" width=\"240\" ></td>\n",
       "    </tr>\n",
       "    <tr>\n",
       "      <td>pos_patterns.pattern_16</td>\n",
       "      <td>29</td>\n",
       "      <td><img src=\"trimmed_logos/pos_patterns.pattern_16.cwm.fwd.png\" width=\"240\" ></td>\n",
       "      <td><img src=\"trimmed_logos/pos_patterns.pattern_16.cwm.rev.png\" width=\"240\" ></td>\n",
       "      <td>KLF6.H13CORE.0.P.B</td>\n",
       "      <td>2.727660e-01</td>\n",
       "      <td><img src=\"KLF6.H13CORE.0.P.B.png\" width=\"240\" ></td>\n",
       "      <td>ZNF800.H13CORE.0.PSG.A</td>\n",
       "      <td>2.727660e-01</td>\n",
       "      <td><img src=\"ZNF800.H13CORE.0.PSG.A.png\" width=\"240\" ></td>\n",
       "      <td>KLF13.H13CORE.1.P.C</td>\n",
       "      <td>3.620790e-01</td>\n",
       "      <td><img src=\"KLF13.H13CORE.1.P.C.png\" width=\"240\" ></td>\n",
       "    </tr>\n",
       "    <tr>\n",
       "      <td>pos_patterns.pattern_17</td>\n",
       "      <td>25</td>\n",
       "      <td><img src=\"trimmed_logos/pos_patterns.pattern_17.cwm.fwd.png\" width=\"240\" ></td>\n",
       "      <td><img src=\"trimmed_logos/pos_patterns.pattern_17.cwm.rev.png\" width=\"240\" ></td>\n",
       "      <td>CTCFL.H13CORE.0.P.B</td>\n",
       "      <td>7.259900e-03</td>\n",
       "      <td><img src=\"CTCFL.H13CORE.0.P.B.png\" width=\"240\" ></td>\n",
       "      <td>KMT2A.H13CORE.0.P.B</td>\n",
       "      <td>2.273880e-02</td>\n",
       "      <td><img src=\"KMT2A.H13CORE.0.P.B.png\" width=\"240\" ></td>\n",
       "      <td>SP2.H13CORE.1.P.B</td>\n",
       "      <td>2.332960e-02</td>\n",
       "      <td><img src=\"SP2.H13CORE.1.P.B.png\" width=\"240\" ></td>\n",
       "    </tr>\n",
       "    <tr>\n",
       "      <td>pos_patterns.pattern_18</td>\n",
       "      <td>25</td>\n",
       "      <td><img src=\"trimmed_logos/pos_patterns.pattern_18.cwm.fwd.png\" width=\"240\" ></td>\n",
       "      <td><img src=\"trimmed_logos/pos_patterns.pattern_18.cwm.rev.png\" width=\"240\" ></td>\n",
       "      <td>KMT2A.H13CORE.0.P.B</td>\n",
       "      <td>3.588490e-02</td>\n",
       "      <td><img src=\"KMT2A.H13CORE.0.P.B.png\" width=\"240\" ></td>\n",
       "      <td>KLF9.H13CORE.1.P.B</td>\n",
       "      <td>1.058890e-01</td>\n",
       "      <td><img src=\"KLF9.H13CORE.1.P.B.png\" width=\"240\" ></td>\n",
       "      <td>KLF16.H13CORE.1.P.B</td>\n",
       "      <td>1.103100e-01</td>\n",
       "      <td><img src=\"KLF16.H13CORE.1.P.B.png\" width=\"240\" ></td>\n",
       "    </tr>\n",
       "    <tr>\n",
       "      <td>pos_patterns.pattern_19</td>\n",
       "      <td>23</td>\n",
       "      <td><img src=\"trimmed_logos/pos_patterns.pattern_19.cwm.fwd.png\" width=\"240\" ></td>\n",
       "      <td><img src=\"trimmed_logos/pos_patterns.pattern_19.cwm.rev.png\" width=\"240\" ></td>\n",
       "      <td>KLF12.H13CORE.0.P.C</td>\n",
       "      <td>2.011500e-04</td>\n",
       "      <td><img src=\"KLF12.H13CORE.0.P.C.png\" width=\"240\" ></td>\n",
       "      <td>KMT2A.H13CORE.0.P.B</td>\n",
       "      <td>2.011500e-04</td>\n",
       "      <td><img src=\"KMT2A.H13CORE.0.P.B.png\" width=\"240\" ></td>\n",
       "      <td>KLF9.H13CORE.1.P.B</td>\n",
       "      <td>2.011500e-04</td>\n",
       "      <td><img src=\"KLF9.H13CORE.1.P.B.png\" width=\"240\" ></td>\n",
       "    </tr>\n",
       "    <tr>\n",
       "      <td>pos_patterns.pattern_20</td>\n",
       "      <td>20</td>\n",
       "      <td><img src=\"trimmed_logos/pos_patterns.pattern_20.cwm.fwd.png\" width=\"240\" ></td>\n",
       "      <td><img src=\"trimmed_logos/pos_patterns.pattern_20.cwm.rev.png\" width=\"240\" ></td>\n",
       "      <td>ZN331.H13CORE.0.P.B</td>\n",
       "      <td>5.969900e-02</td>\n",
       "      <td><img src=\"ZN331.H13CORE.0.P.B.png\" width=\"240\" ></td>\n",
       "      <td>ITF2.H13CORE.1.PSM.A</td>\n",
       "      <td>7.167000e-02</td>\n",
       "      <td><img src=\"ITF2.H13CORE.1.PSM.A.png\" width=\"240\" ></td>\n",
       "      <td>ZEB2.H13CORE.0.P.B</td>\n",
       "      <td>7.167000e-02</td>\n",
       "      <td><img src=\"ZEB2.H13CORE.0.P.B.png\" width=\"240\" ></td>\n",
       "    </tr>\n",
       "    <tr>\n",
       "      <td>neg_patterns.pattern_0</td>\n",
       "      <td>287</td>\n",
       "      <td><img src=\"trimmed_logos/neg_patterns.pattern_0.cwm.fwd.png\" width=\"240\" ></td>\n",
       "      <td><img src=\"trimmed_logos/neg_patterns.pattern_0.cwm.rev.png\" width=\"240\" ></td>\n",
       "      <td>ELK4.H13CORE.0.PSM.A</td>\n",
       "      <td>1.988280e-03</td>\n",
       "      <td><img src=\"ELK4.H13CORE.0.PSM.A.png\" width=\"240\" ></td>\n",
       "      <td>ERG.H13CORE.0.P.B</td>\n",
       "      <td>1.988280e-03</td>\n",
       "      <td><img src=\"ERG.H13CORE.0.P.B.png\" width=\"240\" ></td>\n",
       "      <td>ETV5.H13CORE.1.PM.A</td>\n",
       "      <td>1.988280e-03</td>\n",
       "      <td><img src=\"ETV5.H13CORE.1.PM.A.png\" width=\"240\" ></td>\n",
       "    </tr>\n",
       "    <tr>\n",
       "      <td>neg_patterns.pattern_1</td>\n",
       "      <td>122</td>\n",
       "      <td><img src=\"trimmed_logos/neg_patterns.pattern_1.cwm.fwd.png\" width=\"240\" ></td>\n",
       "      <td><img src=\"trimmed_logos/neg_patterns.pattern_1.cwm.rev.png\" width=\"240\" ></td>\n",
       "      <td>ZNF618.H13CORE.0.G.B</td>\n",
       "      <td>2.586510e-04</td>\n",
       "      <td><img src=\"ZNF618.H13CORE.0.G.B.png\" width=\"240\" ></td>\n",
       "      <td>ZN362.H13CORE.0.P.C</td>\n",
       "      <td>2.586510e-04</td>\n",
       "      <td><img src=\"ZN362.H13CORE.0.P.C.png\" width=\"240\" ></td>\n",
       "      <td>SATB1.H13CORE.0.P.B</td>\n",
       "      <td>2.586510e-04</td>\n",
       "      <td><img src=\"SATB1.H13CORE.0.P.B.png\" width=\"240\" ></td>\n",
       "    </tr>\n",
       "    <tr>\n",
       "      <td>neg_patterns.pattern_2</td>\n",
       "      <td>120</td>\n",
       "      <td><img src=\"trimmed_logos/neg_patterns.pattern_2.cwm.fwd.png\" width=\"240\" ></td>\n",
       "      <td><img src=\"trimmed_logos/neg_patterns.pattern_2.cwm.rev.png\" width=\"240\" ></td>\n",
       "      <td>MYT1.H13CORE.0.SG.A</td>\n",
       "      <td>1.000000e+00</td>\n",
       "      <td><img src=\"MYT1.H13CORE.0.SG.A.png\" width=\"240\" ></td>\n",
       "      <td>MYT1L.H13CORE.0.P.C</td>\n",
       "      <td>1.000000e+00</td>\n",
       "      <td><img src=\"MYT1L.H13CORE.0.P.C.png\" width=\"240\" ></td>\n",
       "      <td>NR1I3.H13CORE.1.PSM.A</td>\n",
       "      <td>1.000000e+00</td>\n",
       "      <td><img src=\"NR1I3.H13CORE.1.PSM.A.png\" width=\"240\" ></td>\n",
       "    </tr>\n",
       "    <tr>\n",
       "      <td>neg_patterns.pattern_3</td>\n",
       "      <td>100</td>\n",
       "      <td><img src=\"trimmed_logos/neg_patterns.pattern_3.cwm.fwd.png\" width=\"240\" ></td>\n",
       "      <td><img src=\"trimmed_logos/neg_patterns.pattern_3.cwm.rev.png\" width=\"240\" ></td>\n",
       "      <td>JUN.H13CORE.0.P.B</td>\n",
       "      <td>1.000000e+00</td>\n",
       "      <td><img src=\"JUN.H13CORE.0.P.B.png\" width=\"240\" ></td>\n",
       "      <td>ZN660.H13CORE.0.SM.B</td>\n",
       "      <td>1.000000e+00</td>\n",
       "      <td><img src=\"ZN660.H13CORE.0.SM.B.png\" width=\"240\" ></td>\n",
       "      <td>FOSL2.H13CORE.0.P.B</td>\n",
       "      <td>1.000000e+00</td>\n",
       "      <td><img src=\"FOSL2.H13CORE.0.P.B.png\" width=\"240\" ></td>\n",
       "    </tr>\n",
       "    <tr>\n",
       "      <td>neg_patterns.pattern_4</td>\n",
       "      <td>79</td>\n",
       "      <td><img src=\"trimmed_logos/neg_patterns.pattern_4.cwm.fwd.png\" width=\"240\" ></td>\n",
       "      <td><img src=\"trimmed_logos/neg_patterns.pattern_4.cwm.rev.png\" width=\"240\" ></td>\n",
       "      <td>KMT2A.H13CORE.0.P.B</td>\n",
       "      <td>1.266440e-02</td>\n",
       "      <td><img src=\"KMT2A.H13CORE.0.P.B.png\" width=\"240\" ></td>\n",
       "      <td>ZN682.H13CORE.1.P.B</td>\n",
       "      <td>7.867000e-02</td>\n",
       "      <td><img src=\"ZN682.H13CORE.1.P.B.png\" width=\"240\" ></td>\n",
       "      <td>SP3.H13CORE.0.P.B</td>\n",
       "      <td>1.500860e-01</td>\n",
       "      <td><img src=\"SP3.H13CORE.0.P.B.png\" width=\"240\" ></td>\n",
       "    </tr>\n",
       "    <tr>\n",
       "      <td>neg_patterns.pattern_5</td>\n",
       "      <td>75</td>\n",
       "      <td><img src=\"trimmed_logos/neg_patterns.pattern_5.cwm.fwd.png\" width=\"240\" ></td>\n",
       "      <td><img src=\"trimmed_logos/neg_patterns.pattern_5.cwm.rev.png\" width=\"240\" ></td>\n",
       "      <td>ZEB1.H13CORE.0.P.B</td>\n",
       "      <td>1.000000e+00</td>\n",
       "      <td><img src=\"ZEB1.H13CORE.0.P.B.png\" width=\"240\" ></td>\n",
       "      <td>ZKSC5.H13CORE.0.P.C</td>\n",
       "      <td>1.000000e+00</td>\n",
       "      <td><img src=\"ZKSC5.H13CORE.0.P.C.png\" width=\"240\" ></td>\n",
       "      <td>ZN616.H13CORE.0.P.C</td>\n",
       "      <td>1.000000e+00</td>\n",
       "      <td><img src=\"ZN616.H13CORE.0.P.C.png\" width=\"240\" ></td>\n",
       "    </tr>\n",
       "    <tr>\n",
       "      <td>neg_patterns.pattern_6</td>\n",
       "      <td>66</td>\n",
       "      <td><img src=\"trimmed_logos/neg_patterns.pattern_6.cwm.fwd.png\" width=\"240\" ></td>\n",
       "      <td><img src=\"trimmed_logos/neg_patterns.pattern_6.cwm.rev.png\" width=\"240\" ></td>\n",
       "      <td>KLF9.H13CORE.1.P.B</td>\n",
       "      <td>8.956970e-09</td>\n",
       "      <td><img src=\"KLF9.H13CORE.1.P.B.png\" width=\"240\" ></td>\n",
       "      <td>SP2.H13CORE.1.P.B</td>\n",
       "      <td>1.211690e-08</td>\n",
       "      <td><img src=\"SP2.H13CORE.1.P.B.png\" width=\"240\" ></td>\n",
       "      <td>KLF16.H13CORE.1.P.B</td>\n",
       "      <td>3.388310e-07</td>\n",
       "      <td><img src=\"KLF16.H13CORE.1.P.B.png\" width=\"240\" ></td>\n",
       "    </tr>\n",
       "    <tr>\n",
       "      <td>neg_patterns.pattern_7</td>\n",
       "      <td>60</td>\n",
       "      <td><img src=\"trimmed_logos/neg_patterns.pattern_7.cwm.fwd.png\" width=\"240\" ></td>\n",
       "      <td><img src=\"trimmed_logos/neg_patterns.pattern_7.cwm.rev.png\" width=\"240\" ></td>\n",
       "      <td>KLF16.H13CORE.1.P.B</td>\n",
       "      <td>6.887900e-10</td>\n",
       "      <td><img src=\"KLF16.H13CORE.1.P.B.png\" width=\"240\" ></td>\n",
       "      <td>SP2.H13CORE.1.P.B</td>\n",
       "      <td>1.595690e-09</td>\n",
       "      <td><img src=\"SP2.H13CORE.1.P.B.png\" width=\"240\" ></td>\n",
       "      <td>KLF9.H13CORE.1.P.B</td>\n",
       "      <td>1.994810e-09</td>\n",
       "      <td><img src=\"KLF9.H13CORE.1.P.B.png\" width=\"240\" ></td>\n",
       "    </tr>\n",
       "    <tr>\n",
       "      <td>neg_patterns.pattern_8</td>\n",
       "      <td>58</td>\n",
       "      <td><img src=\"trimmed_logos/neg_patterns.pattern_8.cwm.fwd.png\" width=\"240\" ></td>\n",
       "      <td><img src=\"trimmed_logos/neg_patterns.pattern_8.cwm.rev.png\" width=\"240\" ></td>\n",
       "      <td>KMT2A.H13CORE.0.P.B</td>\n",
       "      <td>5.301210e-03</td>\n",
       "      <td><img src=\"KMT2A.H13CORE.0.P.B.png\" width=\"240\" ></td>\n",
       "      <td>KLF9.H13CORE.1.P.B</td>\n",
       "      <td>2.810640e-02</td>\n",
       "      <td><img src=\"KLF9.H13CORE.1.P.B.png\" width=\"240\" ></td>\n",
       "      <td>PATZ1.H13CORE.0.P.B</td>\n",
       "      <td>3.475440e-02</td>\n",
       "      <td><img src=\"PATZ1.H13CORE.0.P.B.png\" width=\"240\" ></td>\n",
       "    </tr>\n",
       "    <tr>\n",
       "      <td>neg_patterns.pattern_9</td>\n",
       "      <td>54</td>\n",
       "      <td><img src=\"trimmed_logos/neg_patterns.pattern_9.cwm.fwd.png\" width=\"240\" ></td>\n",
       "      <td><img src=\"trimmed_logos/neg_patterns.pattern_9.cwm.rev.png\" width=\"240\" ></td>\n",
       "      <td>MYT1L.H13CORE.0.P.C</td>\n",
       "      <td>1.000000e+00</td>\n",
       "      <td><img src=\"MYT1L.H13CORE.0.P.C.png\" width=\"240\" ></td>\n",
       "      <td>Z585A.H13CORE.0.P.C</td>\n",
       "      <td>1.000000e+00</td>\n",
       "      <td><img src=\"Z585A.H13CORE.0.P.C.png\" width=\"240\" ></td>\n",
       "      <td>ZN768.H13CORE.0.P.B</td>\n",
       "      <td>1.000000e+00</td>\n",
       "      <td><img src=\"ZN768.H13CORE.0.P.B.png\" width=\"240\" ></td>\n",
       "    </tr>\n",
       "    <tr>\n",
       "      <td>neg_patterns.pattern_10</td>\n",
       "      <td>53</td>\n",
       "      <td><img src=\"trimmed_logos/neg_patterns.pattern_10.cwm.fwd.png\" width=\"240\" ></td>\n",
       "      <td><img src=\"trimmed_logos/neg_patterns.pattern_10.cwm.rev.png\" width=\"240\" ></td>\n",
       "      <td>KMT2A.H13CORE.0.P.B</td>\n",
       "      <td>9.252870e-03</td>\n",
       "      <td><img src=\"KMT2A.H13CORE.0.P.B.png\" width=\"240\" ></td>\n",
       "      <td>KLF9.H13CORE.1.P.B</td>\n",
       "      <td>1.345110e-02</td>\n",
       "      <td><img src=\"KLF9.H13CORE.1.P.B.png\" width=\"240\" ></td>\n",
       "      <td>ZBT14.H13CORE.0.P.C</td>\n",
       "      <td>3.046580e-02</td>\n",
       "      <td><img src=\"ZBT14.H13CORE.0.P.C.png\" width=\"240\" ></td>\n",
       "    </tr>\n",
       "    <tr>\n",
       "      <td>neg_patterns.pattern_11</td>\n",
       "      <td>49</td>\n",
       "      <td><img src=\"trimmed_logos/neg_patterns.pattern_11.cwm.fwd.png\" width=\"240\" ></td>\n",
       "      <td><img src=\"trimmed_logos/neg_patterns.pattern_11.cwm.rev.png\" width=\"240\" ></td>\n",
       "      <td>KMT2A.H13CORE.0.P.B</td>\n",
       "      <td>4.197120e-04</td>\n",
       "      <td><img src=\"KMT2A.H13CORE.0.P.B.png\" width=\"240\" ></td>\n",
       "      <td>KLF16.H13CORE.1.P.B</td>\n",
       "      <td>1.990510e-03</td>\n",
       "      <td><img src=\"KLF16.H13CORE.1.P.B.png\" width=\"240\" ></td>\n",
       "      <td>KLF9.H13CORE.1.P.B</td>\n",
       "      <td>3.379880e-03</td>\n",
       "      <td><img src=\"KLF9.H13CORE.1.P.B.png\" width=\"240\" ></td>\n",
       "    </tr>\n",
       "    <tr>\n",
       "      <td>neg_patterns.pattern_12</td>\n",
       "      <td>49</td>\n",
       "      <td><img src=\"trimmed_logos/neg_patterns.pattern_12.cwm.fwd.png\" width=\"240\" ></td>\n",
       "      <td><img src=\"trimmed_logos/neg_patterns.pattern_12.cwm.rev.png\" width=\"240\" ></td>\n",
       "      <td>FOXI1.H13CORE.0.SM.B</td>\n",
       "      <td>9.116190e-01</td>\n",
       "      <td><img src=\"FOXI1.H13CORE.0.SM.B.png\" width=\"240\" ></td>\n",
       "      <td>MYT1.H13CORE.0.SG.A</td>\n",
       "      <td>9.116190e-01</td>\n",
       "      <td><img src=\"MYT1.H13CORE.0.SG.A.png\" width=\"240\" ></td>\n",
       "      <td>GRHL1.H13CORE.0.PSM.A</td>\n",
       "      <td>9.116190e-01</td>\n",
       "      <td><img src=\"GRHL1.H13CORE.0.PSM.A.png\" width=\"240\" ></td>\n",
       "    </tr>\n",
       "    <tr>\n",
       "      <td>neg_patterns.pattern_13</td>\n",
       "      <td>45</td>\n",
       "      <td><img src=\"trimmed_logos/neg_patterns.pattern_13.cwm.fwd.png\" width=\"240\" ></td>\n",
       "      <td><img src=\"trimmed_logos/neg_patterns.pattern_13.cwm.rev.png\" width=\"240\" ></td>\n",
       "      <td>STAT2.H13CORE.0.P.B</td>\n",
       "      <td>6.372390e-04</td>\n",
       "      <td><img src=\"STAT2.H13CORE.0.P.B.png\" width=\"240\" ></td>\n",
       "      <td>STAT1.H13CORE.1.P.B</td>\n",
       "      <td>2.162320e-03</td>\n",
       "      <td><img src=\"STAT1.H13CORE.1.P.B.png\" width=\"240\" ></td>\n",
       "      <td>IRF1.H13CORE.0.P.B</td>\n",
       "      <td>3.034750e-02</td>\n",
       "      <td><img src=\"IRF1.H13CORE.0.P.B.png\" width=\"240\" ></td>\n",
       "    </tr>\n",
       "    <tr>\n",
       "      <td>neg_patterns.pattern_14</td>\n",
       "      <td>44</td>\n",
       "      <td><img src=\"trimmed_logos/neg_patterns.pattern_14.cwm.fwd.png\" width=\"240\" ></td>\n",
       "      <td><img src=\"trimmed_logos/neg_patterns.pattern_14.cwm.rev.png\" width=\"240\" ></td>\n",
       "      <td>KMT2A.H13CORE.0.P.B</td>\n",
       "      <td>3.299920e-07</td>\n",
       "      <td><img src=\"KMT2A.H13CORE.0.P.B.png\" width=\"240\" ></td>\n",
       "      <td>KLF16.H13CORE.1.P.B</td>\n",
       "      <td>8.833780e-04</td>\n",
       "      <td><img src=\"KLF16.H13CORE.1.P.B.png\" width=\"240\" ></td>\n",
       "      <td>KLF9.H13CORE.1.P.B</td>\n",
       "      <td>8.833780e-04</td>\n",
       "      <td><img src=\"KLF9.H13CORE.1.P.B.png\" width=\"240\" ></td>\n",
       "    </tr>\n",
       "    <tr>\n",
       "      <td>neg_patterns.pattern_15</td>\n",
       "      <td>44</td>\n",
       "      <td><img src=\"trimmed_logos/neg_patterns.pattern_15.cwm.fwd.png\" width=\"240\" ></td>\n",
       "      <td><img src=\"trimmed_logos/neg_patterns.pattern_15.cwm.rev.png\" width=\"240\" ></td>\n",
       "      <td>FOSL2.H13CORE.0.P.B</td>\n",
       "      <td>1.462900e-03</td>\n",
       "      <td><img src=\"FOSL2.H13CORE.0.P.B.png\" width=\"240\" ></td>\n",
       "      <td>JUN.H13CORE.0.P.B</td>\n",
       "      <td>1.462900e-03</td>\n",
       "      <td><img src=\"JUN.H13CORE.0.P.B.png\" width=\"240\" ></td>\n",
       "      <td>JUND.H13CORE.0.PM.A</td>\n",
       "      <td>1.462900e-03</td>\n",
       "      <td><img src=\"JUND.H13CORE.0.PM.A.png\" width=\"240\" ></td>\n",
       "    </tr>\n",
       "    <tr>\n",
       "      <td>neg_patterns.pattern_16</td>\n",
       "      <td>38</td>\n",
       "      <td><img src=\"trimmed_logos/neg_patterns.pattern_16.cwm.fwd.png\" width=\"240\" ></td>\n",
       "      <td><img src=\"trimmed_logos/neg_patterns.pattern_16.cwm.rev.png\" width=\"240\" ></td>\n",
       "      <td>IRF8.H13CORE.0.P.B</td>\n",
       "      <td>2.335030e-02</td>\n",
       "      <td><img src=\"IRF8.H13CORE.0.P.B.png\" width=\"240\" ></td>\n",
       "      <td>IRF4.H13CORE.0.P.B</td>\n",
       "      <td>2.335030e-02</td>\n",
       "      <td><img src=\"IRF4.H13CORE.0.P.B.png\" width=\"240\" ></td>\n",
       "      <td>IRF1.H13CORE.0.P.B</td>\n",
       "      <td>1.059590e-01</td>\n",
       "      <td><img src=\"IRF1.H13CORE.0.P.B.png\" width=\"240\" ></td>\n",
       "    </tr>\n",
       "    <tr>\n",
       "      <td>neg_patterns.pattern_17</td>\n",
       "      <td>37</td>\n",
       "      <td><img src=\"trimmed_logos/neg_patterns.pattern_17.cwm.fwd.png\" width=\"240\" ></td>\n",
       "      <td><img src=\"trimmed_logos/neg_patterns.pattern_17.cwm.rev.png\" width=\"240\" ></td>\n",
       "      <td>IRF4.H13CORE.1.S.B</td>\n",
       "      <td>1.474470e-01</td>\n",
       "      <td><img src=\"IRF4.H13CORE.1.S.B.png\" width=\"240\" ></td>\n",
       "      <td>SPIB.H13CORE.0.P.B</td>\n",
       "      <td>1.474470e-01</td>\n",
       "      <td><img src=\"SPIB.H13CORE.0.P.B.png\" width=\"240\" ></td>\n",
       "      <td>SP4.H13CORE.2.P.B</td>\n",
       "      <td>1.474470e-01</td>\n",
       "      <td><img src=\"SP4.H13CORE.2.P.B.png\" width=\"240\" ></td>\n",
       "    </tr>\n",
       "    <tr>\n",
       "      <td>neg_patterns.pattern_18</td>\n",
       "      <td>35</td>\n",
       "      <td><img src=\"trimmed_logos/neg_patterns.pattern_18.cwm.fwd.png\" width=\"240\" ></td>\n",
       "      <td><img src=\"trimmed_logos/neg_patterns.pattern_18.cwm.rev.png\" width=\"240\" ></td>\n",
       "      <td>KMT2A.H13CORE.0.P.B</td>\n",
       "      <td>3.329330e-05</td>\n",
       "      <td><img src=\"KMT2A.H13CORE.0.P.B.png\" width=\"240\" ></td>\n",
       "      <td>KLF9.H13CORE.1.P.B</td>\n",
       "      <td>3.723430e-03</td>\n",
       "      <td><img src=\"KLF9.H13CORE.1.P.B.png\" width=\"240\" ></td>\n",
       "      <td>ZN519.H13CORE.0.P.C</td>\n",
       "      <td>7.556750e-03</td>\n",
       "      <td><img src=\"ZN519.H13CORE.0.P.C.png\" width=\"240\" ></td>\n",
       "    </tr>\n",
       "    <tr>\n",
       "      <td>neg_patterns.pattern_19</td>\n",
       "      <td>30</td>\n",
       "      <td><img src=\"trimmed_logos/neg_patterns.pattern_19.cwm.fwd.png\" width=\"240\" ></td>\n",
       "      <td><img src=\"trimmed_logos/neg_patterns.pattern_19.cwm.rev.png\" width=\"240\" ></td>\n",
       "      <td>MYT1L.H13CORE.0.P.C</td>\n",
       "      <td>1.000000e+00</td>\n",
       "      <td><img src=\"MYT1L.H13CORE.0.P.C.png\" width=\"240\" ></td>\n",
       "      <td>TCF21.H13CORE.0.PS.A</td>\n",
       "      <td>1.000000e+00</td>\n",
       "      <td><img src=\"TCF21.H13CORE.0.PS.A.png\" width=\"240\" ></td>\n",
       "      <td>PRGR.H13CORE.0.P.B</td>\n",
       "      <td>1.000000e+00</td>\n",
       "      <td><img src=\"PRGR.H13CORE.0.P.B.png\" width=\"240\" ></td>\n",
       "    </tr>\n",
       "    <tr>\n",
       "      <td>neg_patterns.pattern_20</td>\n",
       "      <td>29</td>\n",
       "      <td><img src=\"trimmed_logos/neg_patterns.pattern_20.cwm.fwd.png\" width=\"240\" ></td>\n",
       "      <td><img src=\"trimmed_logos/neg_patterns.pattern_20.cwm.rev.png\" width=\"240\" ></td>\n",
       "      <td>KLF9.H13CORE.1.P.B</td>\n",
       "      <td>1.010330e-01</td>\n",
       "      <td><img src=\"KLF9.H13CORE.1.P.B.png\" width=\"240\" ></td>\n",
       "      <td>ZN587.H13CORE.0.P.C</td>\n",
       "      <td>1.010330e-01</td>\n",
       "      <td><img src=\"ZN587.H13CORE.0.P.C.png\" width=\"240\" ></td>\n",
       "      <td>KMT2A.H13CORE.0.P.B</td>\n",
       "      <td>1.010330e-01</td>\n",
       "      <td><img src=\"KMT2A.H13CORE.0.P.B.png\" width=\"240\" ></td>\n",
       "    </tr>\n",
       "    <tr>\n",
       "      <td>neg_patterns.pattern_21</td>\n",
       "      <td>29</td>\n",
       "      <td><img src=\"trimmed_logos/neg_patterns.pattern_21.cwm.fwd.png\" width=\"240\" ></td>\n",
       "      <td><img src=\"trimmed_logos/neg_patterns.pattern_21.cwm.rev.png\" width=\"240\" ></td>\n",
       "      <td>CREB5.H13CORE.1.SM.B</td>\n",
       "      <td>5.706230e-03</td>\n",
       "      <td><img src=\"CREB5.H13CORE.1.SM.B.png\" width=\"240\" ></td>\n",
       "      <td>CREB1.H13CORE.0.PSM.A</td>\n",
       "      <td>6.479550e-03</td>\n",
       "      <td><img src=\"CREB1.H13CORE.0.PSM.A.png\" width=\"240\" ></td>\n",
       "      <td>ATF2.H13CORE.0.PSM.A</td>\n",
       "      <td>8.492830e-03</td>\n",
       "      <td><img src=\"ATF2.H13CORE.0.PSM.A.png\" width=\"240\" ></td>\n",
       "    </tr>\n",
       "  </tbody>\n",
       "</table>"
      ],
      "text/plain": [
       "<IPython.core.display.HTML object>"
      ]
     },
     "execution_count": 16,
     "metadata": {},
     "output_type": "execute_result"
    }
   ],
   "source": [
    "from IPython.display import HTML, Image\n",
    "\n",
    "HTML(filename=\"example/modisco_neurons_report/motifs.html\")"
   ]
  },
  {
   "cell_type": "code",
   "execution_count": 18,
   "id": "41a34957",
   "metadata": {},
   "outputs": [
    {
     "data": {
      "image/png": "[encoded data removed]",
      "text/plain": [
       "<IPython.core.display.Image object>"
      ]
     },
     "execution_count": 18,
     "metadata": {},
     "output_type": "execute_result"
    }
   ],
   "source": [
    "Image(filename=\"example/modisco_neurons_report/MYT1.H13CORE.0.SG.A.png\")"
   ]
  },
  {
   "cell_type": "markdown",
   "id": "4e5caa87",
   "metadata": {},
   "source": [
    "### CLI Subcommands "
   ]
  },
  {
   "cell_type": "markdown",
   "id": "cce65dd7",
   "metadata": {},
   "source": [
    "The Modisco API provides several subcommands to perform motif discovery and analysis in a stepwise manner.\n",
    "Here is a detailed explanation of each step:\n",
    "\n",
    "1. `modisco-attributions`: This subcommand computes attribution scores for each input sequence and gene. You can parallelize this step by running it on multiple GPUs. This is the only step that requires GPUs.\n",
    "\n",
    "2. `modisco-patterns`: After computing attributions, this subcommand discovers motifs (patterns) by clustering\n",
    "   the attribution scores using TF-Modisco. See the documentation of Modisco for the details of the output format.\n",
    "\n",
    "3. `modisco-report`: This subcommand run tomtom to find motif matches for patterns motif images from the discovered patterns.\n",
    "\n",
    "4. `modisco-seqlet-bed`: This subcommand extracts the genomic locations of seqlets (short, high-scoring\n",
    "   regions) from the modisco results and writes them to a BED file. This allows for downstream analysis\n",
    "   or visualization in genome browsers.\n",
    "\n",
    "By running these subcommands in sequence, you can go from raw model predictions to interpretable motif\n",
    "discovery, visualization, and downstream analysis."
   ]
  },
  {
   "cell_type": "markdown",
   "id": "32b3b6e3",
   "metadata": {},
   "source": [
    "Let's generate attributions for first replicate:"
   ]
  },
  {
   "cell_type": "code",
   "execution_count": 2,
   "id": "3b3faf06",
   "metadata": {},
   "outputs": [
    {
     "name": "stdout",
     "output_type": "stream",
     "text": [
      "decima - INFO - Using device: cuda\n",
      "decima - INFO - Loading model and metadata to compute attributions...\n",
      "\u001b[34m\u001b[1mwandb\u001b[0m: Currently logged in as: \u001b[33mmhcelik\u001b[0m (\u001b[33mmhcw\u001b[0m) to \u001b[32mhttps://api.wandb.ai\u001b[0m. Use \u001b[1m`wandb login --relogin`\u001b[0m to force relogin\n",
      "\u001b[34m\u001b[1mwandb\u001b[0m: Downloading large artifact metadata:latest, 3122.32MB. 1 files... \n",
      "\u001b[34m\u001b[1mwandb\u001b[0m:   1 of 1 files downloaded.  \n",
      "Done. 0:0:1.9 (1684.6MB/s)\n",
      "\u001b[34m\u001b[1mwandb\u001b[0m: Downloading large artifact metadata:latest, 3122.32MB. 1 files... \n",
      "\u001b[34m\u001b[1mwandb\u001b[0m:   1 of 1 files downloaded.  \n",
      "Done. 0:0:1.7 (1859.3MB/s)\n",
      "\u001b[34m\u001b[1mwandb\u001b[0m: Downloading large artifact rep0:latest, 720.03MB. 1 files... \n",
      "\u001b[34m\u001b[1mwandb\u001b[0m:   1 of 1 files downloaded.  \n",
      "Done. 0:0:0.6 (1204.6MB/s)\n",
      "/home/celikm5/Projects/decima/src/decima/interpret/attributer.py:43: UserWarning: `off_tasks` is not provided. Using all other tasks as off_tasks.\n",
      "100%|████████████████████████████████████████████| 1/1 [00:00<00:00, 360.24it/s]\n",
      "Computing attributions...:   8%|█▎               | 4/50 [00:04<00:47,  1.02s/it]decima - WARNING - Gene XRCC5 has low correlation with the model. Pearson: 0.4621304058925145. Be careful with the predictions of the model for this gene. Check `DecimaResult.load().gene_metadata['pearson']` to see the correlation of the gene with the model.\n",
      "Computing attributions...:  10%|█▋               | 5/50 [00:05<00:43,  1.03it/s]decima - WARNING - Gene FNIP1 has low correlation with the model. Pearson: 0.044592478397006044. Be careful with the predictions of the model for this gene. Check `DecimaResult.load().gene_metadata['pearson']` to see the correlation of the gene with the model.\n",
      "Computing attributions...:  40%|██████▍         | 20/50 [00:18<00:26,  1.14it/s]decima - WARNING - Gene LRRFIP1 has low correlation with the model. Pearson: 0.4621130932978845. Be careful with the predictions of the model for this gene. Check `DecimaResult.load().gene_metadata['pearson']` to see the correlation of the gene with the model.\n",
      "Computing attributions...:  70%|███████████▏    | 35/50 [00:31<00:13,  1.14it/s]decima - WARNING - Gene CHD4 has low correlation with the model. Pearson: 0.27165706153002717. Be careful with the predictions of the model for this gene. Check `DecimaResult.load().gene_metadata['pearson']` to see the correlation of the gene with the model.\n",
      "Computing attributions...: 100%|████████████████| 50/50 [00:44<00:00,  1.11it/s]\n",
      "\u001b[0m"
     ]
    }
   ],
   "source": [
    "! decima modisco-attributions \\\n",
    "    --top-n-markers 50 \\\n",
    "    --tasks \"cell_type.str.contains('neuron') and organ == 'CNS' and disease == 'healthy'\" \\\n",
    "    --batch-size 1 \\\n",
    "    --model 0 \\\n",
    "    --num-workers 8 \\\n",
    "    -o example/modisco_subcommands/modisco_neurons_0"
   ]
  },
  {
   "cell_type": "markdown",
   "id": "bc622b7f",
   "metadata": {},
   "source": [
    "end second replicate:"
   ]
  },
  {
   "cell_type": "code",
   "execution_count": 4,
   "id": "dffdc854",
   "metadata": {},
   "outputs": [
    {
     "name": "stdout",
     "output_type": "stream",
     "text": [
      "decima - INFO - Using device: cuda\n",
      "decima - INFO - Loading model and metadata to compute attributions...\n",
      "\u001b[34m\u001b[1mwandb\u001b[0m: Currently logged in as: \u001b[33mmhcelik\u001b[0m (\u001b[33mmhcw\u001b[0m) to \u001b[32mhttps://api.wandb.ai\u001b[0m. Use \u001b[1m`wandb login --relogin`\u001b[0m to force relogin\n",
      "\u001b[34m\u001b[1mwandb\u001b[0m: Downloading large artifact metadata:latest, 3122.32MB. 1 files... \n",
      "\u001b[34m\u001b[1mwandb\u001b[0m:   1 of 1 files downloaded.  \n",
      "Done. 0:0:1.7 (1831.2MB/s)\n",
      "\u001b[34m\u001b[1mwandb\u001b[0m: Downloading large artifact metadata:latest, 3122.32MB. 1 files... \n",
      "\u001b[34m\u001b[1mwandb\u001b[0m:   1 of 1 files downloaded.  \n",
      "Done. 0:0:1.7 (1823.6MB/s)\n",
      "\u001b[34m\u001b[1mwandb\u001b[0m: Downloading large artifact rep1:latest, 720.03MB. 1 files... \n",
      "\u001b[34m\u001b[1mwandb\u001b[0m:   1 of 1 files downloaded.  \n",
      "Done. 0:0:1.7 (417.2MB/s)\n",
      "/home/celikm5/Projects/decima/src/decima/interpret/attributer.py:43: UserWarning: `off_tasks` is not provided. Using all other tasks as off_tasks.\n",
      "100%|████████████████████████████████████████████| 1/1 [00:00<00:00, 323.39it/s]\n",
      "Computing attributions...:   8%|█▎               | 4/50 [00:04<00:46,  1.02s/it]decima - WARNING - Gene XRCC5 has low correlation with the model. Pearson: 0.4621304058925145. Be careful with the predictions of the model for this gene. Check `DecimaResult.load().gene_metadata['pearson']` to see the correlation of the gene with the model.\n",
      "Computing attributions...:  10%|█▋               | 5/50 [00:05<00:43,  1.03it/s]decima - WARNING - Gene FNIP1 has low correlation with the model. Pearson: 0.044592478397006044. Be careful with the predictions of the model for this gene. Check `DecimaResult.load().gene_metadata['pearson']` to see the correlation of the gene with the model.\n",
      "Computing attributions...:  40%|██████▍         | 20/50 [00:18<00:26,  1.14it/s]decima - WARNING - Gene LRRFIP1 has low correlation with the model. Pearson: 0.4621130932978845. Be careful with the predictions of the model for this gene. Check `DecimaResult.load().gene_metadata['pearson']` to see the correlation of the gene with the model.\n",
      "Computing attributions...:  70%|███████████▏    | 35/50 [00:31<00:13,  1.14it/s]decima - WARNING - Gene CHD4 has low correlation with the model. Pearson: 0.27165706153002717. Be careful with the predictions of the model for this gene. Check `DecimaResult.load().gene_metadata['pearson']` to see the correlation of the gene with the model.\n",
      "Computing attributions...: 100%|████████████████| 50/50 [00:45<00:00,  1.11it/s]\n",
      "\u001b[0m"
     ]
    }
   ],
   "source": [
    "! decima modisco-attributions \\\n",
    "    --top-n-markers 50 \\\n",
    "    --tasks \"cell_type.str.contains('neuron') and organ == 'CNS' and disease == 'healthy'\" \\\n",
    "    --batch-size 1 \\\n",
    "    --model 1 \\\n",
    "    --num-workers 8 \\\n",
    "    -o example/modisco_subcommands/modisco_neurons_1"
   ]
  },
  {
   "cell_type": "code",
   "execution_count": 6,
   "id": "a9808dc8",
   "metadata": {},
   "outputs": [
    {
     "name": "stdout",
     "output_type": "stream",
     "text": [
      "example/modisco_subcommands/modisco_neurons_0.attributions.bigwig\n",
      "example/modisco_subcommands/modisco_neurons_0.attributions.h5\n",
      "example/modisco_subcommands/modisco_neurons_0.warnings.qc.log\n",
      "example/modisco_subcommands/modisco_neurons_1.attributions.bigwig\n",
      "example/modisco_subcommands/modisco_neurons_1.attributions.h5\n",
      "example/modisco_subcommands/modisco_neurons_1.warnings.qc.log\n",
      "example/modisco_subcommands/modisco_neurons.attributions.bigwig\n",
      "example/modisco_subcommands/modisco_neurons.attributions.h5\n",
      "example/modisco_subcommands/modisco_neurons.warnings.qc.log\n"
     ]
    }
   ],
   "source": [
    "! ls example/modisco_subcommands/modisco_neurons*"
   ]
  },
  {
   "cell_type": "markdown",
   "id": "505d7e5f",
   "metadata": {},
   "source": [
    "Next, we will use the generated attributions as input for the pattern discovery step with MoDISco.\n",
    "The `--attributions` argument expects a comma-separated list of attribution files (one per replicate or model),\n",
    "which we produced in the previous step. These files contain the importance scores for each base in the input sequences,\n",
    "and are required for MoDISco to identify recurring patterns (motifs)."
   ]
  },
  {
   "cell_type": "code",
   "execution_count": 8,
   "id": "025b6519",
   "metadata": {},
   "outputs": [
    {
     "name": "stdout",
     "output_type": "stream",
     "text": [
      "decima - INFO - Loading metadata\n",
      "\u001b[34m\u001b[1mwandb\u001b[0m: Currently logged in as: \u001b[33mmhcelik\u001b[0m (\u001b[33mmhcw\u001b[0m) to \u001b[32mhttps://api.wandb.ai\u001b[0m. Use \u001b[1m`wandb login --relogin`\u001b[0m to force relogin\n",
      "\u001b[34m\u001b[1mwandb\u001b[0m: Downloading large artifact metadata:latest, 3122.32MB. 1 files... \n",
      "\u001b[34m\u001b[1mwandb\u001b[0m:   1 of 1 files downloaded.  \n",
      "Done. 0:0:1.7 (1833.5MB/s)\n",
      "100%|████████████████████████████████████████████| 1/1 [00:00<00:00, 359.72it/s]\n",
      "Loading attributions and sequences...: 100%|████| 50/50 [00:05<00:00,  9.94it/s]\n",
      "2025-10-06 11:09:35,941 - modisco-lite - INFO - Running TFMoDISco version 2.4.0\n",
      "2025-10-06 11:09:35,943 - modisco-lite - INFO - Extracting seqlets for 50 tasks:\n",
      "2025-10-06 11:09:35,944 - modisco-lite - INFO - - Smoothing and splitting tracks\n",
      "2025-10-06 11:09:35,980 - modisco-lite - INFO - - Computing null values with Laplacian null model\n",
      "2025-10-06 11:09:36,039 - modisco-lite - INFO - - Computing isotonic thresholds\n",
      "2025-10-06 11:09:36,060 - modisco-lite - INFO - - Refining thresholds\n",
      "2025-10-06 11:09:36,361 - modisco-lite - INFO - - Extracting seqlets\n",
      "2025-10-06 11:09:36,409 - modisco-lite - INFO - - Extracting 1381 positive seqlets\n",
      "2025-10-06 11:09:36,416 - modisco-lite - INFO - - Round 0: Generating coarse resolution affinity matrix for 1381 seqlets\n",
      "100%|██████████████████████████████████████| 1381/1381 [00:05<00:00, 232.84it/s]\n",
      "2025-10-06 11:09:50,133 - modisco-lite - INFO - - Round 0: Generating fine resolution affinity matrix for 1381 seqlets and 1381 neighbors\n",
      "100%|██████████████████████████████████████| 1381/1381 [00:02<00:00, 561.49it/s]\n",
      "100%|██████████████████████████████████████| 1381/1381 [00:02<00:00, 558.80it/s]\n",
      "2025-10-06 11:09:55,173 - modisco-lite - INFO - - Round 0: Filtering seqlets by correlation\n",
      "2025-10-06 11:09:55,911 - modisco-lite - INFO - - Round 0: Density adaptation\n",
      "2025-10-06 11:09:58,670 - modisco-lite - INFO - - Round 0: Clustering with Leiden algorithm\n",
      "[Parallel(n_jobs=8)]: Using backend LokyBackend with 8 concurrent workers.\n",
      "[Parallel(n_jobs=8)]: Done   1 tasks      | elapsed:    9.0s\n",
      "[Parallel(n_jobs=8)]: Done   2 out of  16 | elapsed:    9.0s remaining:  1.1min\n",
      "[Parallel(n_jobs=8)]: Done   3 out of  16 | elapsed:    9.1s remaining:   39.6s\n",
      "[Parallel(n_jobs=8)]: Done   4 out of  16 | elapsed:    9.5s remaining:   28.4s\n",
      "[Parallel(n_jobs=8)]: Done   5 out of  16 | elapsed:    9.6s remaining:   21.1s\n",
      "[Parallel(n_jobs=8)]: Done   6 out of  16 | elapsed:    9.7s remaining:   16.2s\n",
      "[Parallel(n_jobs=8)]: Done   7 out of  16 | elapsed:    9.9s remaining:   12.7s\n",
      "[Parallel(n_jobs=8)]: Done   8 out of  16 | elapsed:   10.1s remaining:   10.1s\n",
      "[Parallel(n_jobs=8)]: Done   9 out of  16 | elapsed:   11.7s remaining:    9.1s\n",
      "[Parallel(n_jobs=8)]: Done  10 out of  16 | elapsed:   12.0s remaining:    7.2s\n",
      "[Parallel(n_jobs=8)]: Done  11 out of  16 | elapsed:   12.2s remaining:    5.5s\n",
      "[Parallel(n_jobs=8)]: Done  12 out of  16 | elapsed:   12.3s remaining:    4.1s\n",
      "[Parallel(n_jobs=8)]: Done  13 out of  16 | elapsed:   12.5s remaining:    2.9s\n",
      "[Parallel(n_jobs=8)]: Done  14 out of  16 | elapsed:   12.6s remaining:    1.8s\n",
      "[Parallel(n_jobs=8)]: Done  16 out of  16 | elapsed:   12.8s finished\n",
      "2025-10-06 11:10:11,573 - modisco-lite - INFO - Leiden clustering quality for seed 0: 0.1909180465007868\n",
      "2025-10-06 11:10:11,573 - modisco-lite - INFO - Leiden clustering quality for seed 1: 0.1909180465007868\n",
      "2025-10-06 11:10:11,573 - modisco-lite - INFO - Leiden clustering quality for seed 2: 0.1909180465007868\n",
      "2025-10-06 11:10:11,573 - modisco-lite - INFO - Leiden clustering quality for seed 3: 0.1909180465007868\n",
      "2025-10-06 11:10:11,573 - modisco-lite - INFO - Leiden clustering quality for seed 4: 0.1909180465007868\n",
      "2025-10-06 11:10:11,573 - modisco-lite - INFO - Leiden clustering quality for seed 5: 0.19091861254544126\n",
      "2025-10-06 11:10:11,573 - modisco-lite - INFO - Leiden clustering quality for seed 6: 0.19091861254544126\n",
      "2025-10-06 11:10:11,573 - modisco-lite - INFO - Leiden clustering quality for seed 7: 0.19091861254544126\n",
      "2025-10-06 11:10:11,573 - modisco-lite - INFO - Leiden clustering quality for seed 8: 0.19091861254544126\n",
      "2025-10-06 11:10:11,573 - modisco-lite - INFO - Leiden clustering quality for seed 9: 0.19091861254544126\n",
      "2025-10-06 11:10:11,573 - modisco-lite - INFO - Leiden clustering quality for seed 10: 0.1909180465007868\n",
      "2025-10-06 11:10:11,573 - modisco-lite - INFO - Leiden clustering quality for seed 11: 0.1909180465007868\n",
      "2025-10-06 11:10:11,573 - modisco-lite - INFO - Leiden clustering quality for seed 12: 0.1909180465007868\n",
      "2025-10-06 11:10:11,573 - modisco-lite - INFO - Leiden clustering quality for seed 13: 0.1909180465007868\n",
      "2025-10-06 11:10:11,573 - modisco-lite - INFO - Leiden clustering quality for seed 14: 0.19091861254544126\n",
      "2025-10-06 11:10:11,573 - modisco-lite - INFO - Leiden clustering quality for seed 15: 0.1909180465007868\n",
      "2025-10-06 11:10:11,576 - modisco-lite - INFO - - Round 0: Generating patterns from clusters\n",
      "Generating patterns from clusters:: 100%|█████████| 3/3 [00:02<00:00,  1.25it/s]\n",
      "2025-10-06 11:10:13,977 - modisco-lite - INFO - - Round 1: Generating coarse resolution affinity matrix for 1243 seqlets\n",
      "100%|█████████████████████████████████████| 1243/1243 [00:00<00:00, 1412.11it/s]\n",
      "2025-10-06 11:10:15,217 - modisco-lite - INFO - - Round 1: Generating fine resolution affinity matrix for 1243 seqlets and 1243 neighbors\n",
      "100%|██████████████████████████████████████| 1243/1243 [00:06<00:00, 195.27it/s]\n",
      "100%|██████████████████████████████████████| 1243/1243 [00:06<00:00, 192.70it/s]\n",
      "2025-10-06 11:10:28,149 - modisco-lite - INFO - - Round 1: Density adaptation\n",
      "2025-10-06 11:10:30,807 - modisco-lite - INFO - - Round 1: Clustering with Leiden algorithm\n",
      "[Parallel(n_jobs=8)]: Using backend LokyBackend with 8 concurrent workers.\n",
      "[Parallel(n_jobs=8)]: Done   1 tasks      | elapsed:    2.3s\n",
      "[Parallel(n_jobs=8)]: Done   2 out of  16 | elapsed:    2.4s remaining:   16.7s\n",
      "[Parallel(n_jobs=8)]: Done   3 out of  16 | elapsed:    2.4s remaining:   10.4s\n",
      "[Parallel(n_jobs=8)]: Done   4 out of  16 | elapsed:    2.6s remaining:    7.7s\n",
      "[Parallel(n_jobs=8)]: Done   5 out of  16 | elapsed:    2.7s remaining:    6.0s\n",
      "[Parallel(n_jobs=8)]: Done   6 out of  16 | elapsed:    3.1s remaining:    5.2s\n",
      "[Parallel(n_jobs=8)]: Done   7 out of  16 | elapsed:    3.2s remaining:    4.1s\n",
      "[Parallel(n_jobs=8)]: Done   8 out of  16 | elapsed:    3.9s remaining:    3.9s\n",
      "[Parallel(n_jobs=8)]: Done   9 out of  16 | elapsed:    4.9s remaining:    3.8s\n",
      "[Parallel(n_jobs=8)]: Done  10 out of  16 | elapsed:    5.5s remaining:    3.3s\n",
      "[Parallel(n_jobs=8)]: Done  11 out of  16 | elapsed:    5.8s remaining:    2.6s\n",
      "[Parallel(n_jobs=8)]: Done  12 out of  16 | elapsed:    5.9s remaining:    2.0s\n",
      "[Parallel(n_jobs=8)]: Done  13 out of  16 | elapsed:    6.0s remaining:    1.4s\n",
      "[Parallel(n_jobs=8)]: Done  14 out of  16 | elapsed:    6.2s remaining:    0.9s\n",
      "[Parallel(n_jobs=8)]: Done  16 out of  16 | elapsed:    6.6s finished\n",
      "2025-10-06 11:10:37,493 - modisco-lite - INFO - Leiden clustering quality for seed 0: 0.16244580961606636\n",
      "2025-10-06 11:10:37,493 - modisco-lite - INFO - Leiden clustering quality for seed 1: 0.16244580961606636\n",
      "2025-10-06 11:10:37,493 - modisco-lite - INFO - Leiden clustering quality for seed 2: 0.1624362681795782\n",
      "2025-10-06 11:10:37,493 - modisco-lite - INFO - Leiden clustering quality for seed 3: 0.16244401853104182\n",
      "2025-10-06 11:10:37,493 - modisco-lite - INFO - Leiden clustering quality for seed 4: 0.16244476881502096\n",
      "2025-10-06 11:10:37,493 - modisco-lite - INFO - Leiden clustering quality for seed 5: 0.16244490347064755\n",
      "2025-10-06 11:10:37,493 - modisco-lite - INFO - Leiden clustering quality for seed 6: 0.16244476881502096\n",
      "2025-10-06 11:10:37,493 - modisco-lite - INFO - Leiden clustering quality for seed 7: 0.16244580961606636\n",
      "2025-10-06 11:10:37,493 - modisco-lite - INFO - Leiden clustering quality for seed 8: 0.16244774126381895\n",
      "2025-10-06 11:10:37,493 - modisco-lite - INFO - Leiden clustering quality for seed 9: 0.16244774126381895\n",
      "2025-10-06 11:10:37,493 - modisco-lite - INFO - Leiden clustering quality for seed 10: 0.16244401853104182\n",
      "2025-10-06 11:10:37,493 - modisco-lite - INFO - Leiden clustering quality for seed 11: 0.16244580961606636\n",
      "2025-10-06 11:10:37,493 - modisco-lite - INFO - Leiden clustering quality for seed 12: 0.16244476881502096\n",
      "2025-10-06 11:10:37,493 - modisco-lite - INFO - Leiden clustering quality for seed 13: 0.1624362681795782\n",
      "2025-10-06 11:10:37,493 - modisco-lite - INFO - Leiden clustering quality for seed 14: 0.1624362681795782\n",
      "2025-10-06 11:10:37,493 - modisco-lite - INFO - Leiden clustering quality for seed 15: 0.16244580961606636\n",
      "2025-10-06 11:10:37,496 - modisco-lite - INFO - - Round 1: Generating patterns from clusters\n",
      "Generating patterns from clusters:: 100%|█████████| 3/3 [00:01<00:00,  1.53it/s]\n",
      "2025-10-06 11:10:39,464 - modisco-lite - INFO - Detecting spurious merging of patterns\n",
      "Detecting spurious merging of patterns:: 100%|████| 3/3 [00:16<00:00,  5.63s/it]\u001b[0m\u001b[0m\u001b[0m\u001b[0m\u001b[0m\u001b[0m\u001b[0m\u001b[0m\n",
      "2025-10-06 11:11:04,245 - modisco-lite - INFO - Filtering and merging patterns\n",
      "Filtering patterns:: 100%|███████████████████| 21/21 [00:00<00:00, 13219.33it/s]\n",
      "Computing subpatterns:: 100%|███████████████████| 18/18 [00:01<00:00, 16.44it/s]\n",
      "2025-10-06 11:11:05,342 - modisco-lite - INFO - - Extracting 2245 negative seqlets\n",
      "2025-10-06 11:11:05,356 - modisco-lite - INFO - - Round 0: Generating coarse resolution affinity matrix for 2245 seqlets\n",
      "100%|██████████████████████████████████████| 2245/2245 [00:03<00:00, 723.88it/s]\n",
      "2025-10-06 11:11:09,810 - modisco-lite - INFO - - Round 0: Generating fine resolution affinity matrix for 2245 seqlets and 2245 neighbors\n",
      "100%|██████████████████████████████████████| 2245/2245 [00:04<00:00, 550.75it/s]\n",
      "100%|██████████████████████████████████████| 2245/2245 [00:04<00:00, 557.49it/s]\n",
      "2025-10-06 11:11:18,089 - modisco-lite - INFO - - Round 0: Filtering seqlets by correlation\n",
      "2025-10-06 11:11:19,309 - modisco-lite - INFO - - Round 0: Density adaptation\n",
      "2025-10-06 11:11:23,973 - modisco-lite - INFO - - Round 0: Clustering with Leiden algorithm\n",
      "\u001b[0m\u001b[0m\u001b[0m\u001b[0m\u001b[0m\u001b[0m\u001b[0m\u001b[0m[Parallel(n_jobs=8)]: Using backend LokyBackend with 8 concurrent workers.\n",
      "[Parallel(n_jobs=8)]: Done   1 tasks      | elapsed:   11.8s\n",
      "[Parallel(n_jobs=8)]: Done   2 out of  16 | elapsed:   12.2s remaining:  1.4min\n",
      "[Parallel(n_jobs=8)]: Done   3 out of  16 | elapsed:   12.4s remaining:   53.9s\n",
      "[Parallel(n_jobs=8)]: Done   4 out of  16 | elapsed:   13.9s remaining:   41.7s\n",
      "[Parallel(n_jobs=8)]: Done   5 out of  16 | elapsed:   14.3s remaining:   31.5s\n",
      "[Parallel(n_jobs=8)]: Done   6 out of  16 | elapsed:   14.4s remaining:   24.0s\n",
      "[Parallel(n_jobs=8)]: Done   7 out of  16 | elapsed:   14.5s remaining:   18.7s\n",
      "[Parallel(n_jobs=8)]: Done   8 out of  16 | elapsed:   15.8s remaining:   15.8s\n",
      "[Parallel(n_jobs=8)]: Done   9 out of  16 | elapsed:   18.9s remaining:   14.7s\n",
      "[Parallel(n_jobs=8)]: Done  10 out of  16 | elapsed:   19.4s remaining:   11.7s\n",
      "[Parallel(n_jobs=8)]: Done  11 out of  16 | elapsed:   19.5s remaining:    8.9s\n",
      "[Parallel(n_jobs=8)]: Done  12 out of  16 | elapsed:   20.8s remaining:    6.9s\n",
      "[Parallel(n_jobs=8)]: Done  13 out of  16 | elapsed:   20.9s remaining:    4.8s\n",
      "[Parallel(n_jobs=8)]: Done  14 out of  16 | elapsed:   21.1s remaining:    3.0s\n",
      "[Parallel(n_jobs=8)]: Done  16 out of  16 | elapsed:   23.2s finished\n",
      "2025-10-06 11:11:47,320 - modisco-lite - INFO - Leiden clustering quality for seed 0: 0.24321691671687068\n",
      "2025-10-06 11:11:47,320 - modisco-lite - INFO - Leiden clustering quality for seed 1: 0.24319041549731021\n",
      "2025-10-06 11:11:47,320 - modisco-lite - INFO - Leiden clustering quality for seed 2: 0.24321691671687068\n",
      "2025-10-06 11:11:47,320 - modisco-lite - INFO - Leiden clustering quality for seed 3: 0.24319289414836717\n",
      "2025-10-06 11:11:47,320 - modisco-lite - INFO - Leiden clustering quality for seed 4: 0.24319766197141385\n",
      "2025-10-06 11:11:47,320 - modisco-lite - INFO - Leiden clustering quality for seed 5: 0.24272769482516707\n",
      "2025-10-06 11:11:47,320 - modisco-lite - INFO - Leiden clustering quality for seed 6: 0.24319516585924073\n",
      "2025-10-06 11:11:47,320 - modisco-lite - INFO - Leiden clustering quality for seed 7: 0.24319454173648977\n",
      "2025-10-06 11:11:47,320 - modisco-lite - INFO - Leiden clustering quality for seed 8: 0.2432134283873644\n",
      "2025-10-06 11:11:47,320 - modisco-lite - INFO - Leiden clustering quality for seed 9: 0.2432143002042254\n",
      "2025-10-06 11:11:47,320 - modisco-lite - INFO - Leiden clustering quality for seed 10: 0.24319766197141385\n",
      "2025-10-06 11:11:47,321 - modisco-lite - INFO - Leiden clustering quality for seed 11: 0.24321691671687068\n",
      "2025-10-06 11:11:47,321 - modisco-lite - INFO - Leiden clustering quality for seed 12: 0.24321691671687068\n",
      "2025-10-06 11:11:47,321 - modisco-lite - INFO - Leiden clustering quality for seed 13: 0.24321691671687068\n",
      "2025-10-06 11:11:47,321 - modisco-lite - INFO - Leiden clustering quality for seed 14: 0.24319516585924073\n",
      "2025-10-06 11:11:47,321 - modisco-lite - INFO - Leiden clustering quality for seed 15: 0.24319454173648977\n",
      "2025-10-06 11:11:47,322 - modisco-lite - INFO - - Round 0: Generating patterns from clusters\n",
      "Generating patterns from clusters:: 100%|█████████| 4/4 [00:04<00:00,  1.23s/it]\n",
      "2025-10-06 11:11:52,242 - modisco-lite - INFO - - Round 1: Generating coarse resolution affinity matrix for 1908 seqlets\n",
      "100%|██████████████████████████████████████| 1908/1908 [00:02<00:00, 939.08it/s]\n",
      "2025-10-06 11:11:54,770 - modisco-lite - INFO - - Round 1: Generating fine resolution affinity matrix for 1908 seqlets and 1908 neighbors\n",
      "100%|██████████████████████████████████████| 1908/1908 [00:09<00:00, 196.68it/s]\n",
      "100%|██████████████████████████████████████| 1908/1908 [00:09<00:00, 195.64it/s]\n",
      "2025-10-06 11:12:14,398 - modisco-lite - INFO - - Round 1: Density adaptation\n",
      "2025-10-06 11:12:18,764 - modisco-lite - INFO - - Round 1: Clustering with Leiden algorithm\n",
      "[Parallel(n_jobs=8)]: Using backend LokyBackend with 8 concurrent workers.\n",
      "[Parallel(n_jobs=8)]: Done   1 tasks      | elapsed:    4.6s\n",
      "[Parallel(n_jobs=8)]: Done   2 out of  16 | elapsed:    4.8s remaining:   33.8s\n",
      "[Parallel(n_jobs=8)]: Done   3 out of  16 | elapsed:    5.0s remaining:   21.5s\n",
      "[Parallel(n_jobs=8)]: Done   4 out of  16 | elapsed:    5.1s remaining:   15.4s\n",
      "[Parallel(n_jobs=8)]: Done   5 out of  16 | elapsed:    6.6s remaining:   14.5s\n",
      "[Parallel(n_jobs=8)]: Done   6 out of  16 | elapsed:    6.9s remaining:   11.4s\n",
      "[Parallel(n_jobs=8)]: Done   7 out of  16 | elapsed:    7.5s remaining:    9.7s\n",
      "[Parallel(n_jobs=8)]: Done   8 out of  16 | elapsed:    8.8s remaining:    8.8s\n",
      "[Parallel(n_jobs=8)]: Done   9 out of  16 | elapsed:   11.0s remaining:    8.5s\n",
      "[Parallel(n_jobs=8)]: Done  10 out of  16 | elapsed:   11.0s remaining:    6.6s\n",
      "[Parallel(n_jobs=8)]: Done  11 out of  16 | elapsed:   11.8s remaining:    5.4s\n",
      "[Parallel(n_jobs=8)]: Done  12 out of  16 | elapsed:   12.9s remaining:    4.3s\n",
      "[Parallel(n_jobs=8)]: Done  13 out of  16 | elapsed:   13.0s remaining:    3.0s\n",
      "[Parallel(n_jobs=8)]: Done  14 out of  16 | elapsed:   13.4s remaining:    1.9s\n",
      "[Parallel(n_jobs=8)]: Done  16 out of  16 | elapsed:   14.8s finished\n",
      "2025-10-06 11:12:33,631 - modisco-lite - INFO - Leiden clustering quality for seed 0: 0.1964854074309556\n",
      "2025-10-06 11:12:33,631 - modisco-lite - INFO - Leiden clustering quality for seed 1: 0.19708009479161454\n",
      "2025-10-06 11:12:33,631 - modisco-lite - INFO - Leiden clustering quality for seed 2: 0.1970347002260257\n",
      "2025-10-06 11:12:33,631 - modisco-lite - INFO - Leiden clustering quality for seed 3: 0.1970719073220813\n",
      "2025-10-06 11:12:33,631 - modisco-lite - INFO - Leiden clustering quality for seed 4: 0.19706807930037878\n",
      "2025-10-06 11:12:33,631 - modisco-lite - INFO - Leiden clustering quality for seed 5: 0.19710320331929443\n",
      "2025-10-06 11:12:33,631 - modisco-lite - INFO - Leiden clustering quality for seed 6: 0.19649090179343903\n",
      "2025-10-06 11:12:33,631 - modisco-lite - INFO - Leiden clustering quality for seed 7: 0.19708787969518912\n",
      "2025-10-06 11:12:33,631 - modisco-lite - INFO - Leiden clustering quality for seed 8: 0.19649196976106514\n",
      "2025-10-06 11:12:33,631 - modisco-lite - INFO - Leiden clustering quality for seed 9: 0.19649196976106514\n",
      "2025-10-06 11:12:33,631 - modisco-lite - INFO - Leiden clustering quality for seed 10: 0.19589979138080835\n",
      "2025-10-06 11:12:33,631 - modisco-lite - INFO - Leiden clustering quality for seed 11: 0.19649090179343903\n",
      "2025-10-06 11:12:33,631 - modisco-lite - INFO - Leiden clustering quality for seed 12: 0.19709496100658516\n",
      "2025-10-06 11:12:33,631 - modisco-lite - INFO - Leiden clustering quality for seed 13: 0.19709080388309483\n",
      "2025-10-06 11:12:33,631 - modisco-lite - INFO - Leiden clustering quality for seed 14: 0.19707540188328013\n",
      "2025-10-06 11:12:33,631 - modisco-lite - INFO - Leiden clustering quality for seed 15: 0.19706748023467258\n",
      "2025-10-06 11:12:33,633 - modisco-lite - INFO - - Round 1: Generating patterns from clusters\n",
      "Generating patterns from clusters:: 100%|█████████| 4/4 [00:06<00:00,  1.60s/it]\n",
      "2025-10-06 11:12:40,024 - modisco-lite - INFO - Detecting spurious merging of patterns\n",
      "Detecting spurious merging of patterns:: 100%|████| 4/4 [00:20<00:00,  5.10s/it]\u001b[0m\u001b[0m\u001b[0m\u001b[0m\u001b[0m\u001b[0m\u001b[0m\u001b[0m\n",
      "2025-10-06 11:13:20,175 - modisco-lite - INFO - Filtering and merging patterns\n",
      "Filtering patterns:: 100%|███████████████████| 26/26 [00:00<00:00, 16883.71it/s]\n",
      "Computing subpatterns:: 100%|███████████████████| 19/19 [00:02<00:00,  6.96it/s]\n",
      "\u001b[0m\u001b[0m\u001b[0m\u001b[0m\u001b[0m\u001b[0m\u001b[0m\u001b[0m\u001b[0m"
     ]
    }
   ],
   "source": [
    "! decima modisco-patterns \\\n",
    "    --attributions example/modisco_subcommands/modisco_neurons_0.attributions.h5,example/modisco_subcommands/modisco_neurons_1.attributions.h5 \\\n",
    "    --top-n-markers 50 \\\n",
    "    --max-seqlets 5000 \\\n",
    "    --tss-distance 5000  \\\n",
    "    --tasks \"cell_type.str.contains('neuron') and organ == 'CNS' and disease == 'healthy'\" \\\n",
    "    --num-workers 8 \\\n",
    "    -o example/modisco_subcommands/modisco_neurons"
   ]
  },
  {
   "cell_type": "markdown",
   "id": "223558ba",
   "metadata": {},
   "source": [
    "This step generates modisco.h5 file with discovered motifs and processed patterns."
   ]
  },
  {
   "cell_type": "code",
   "execution_count": null,
   "id": "2f7726a6",
   "metadata": {},
   "outputs": [],
   "source": [
    "! ls example/modisco_subcommands/modisco_neurons*"
   ]
  },
  {
   "cell_type": "code",
   "execution_count": 17,
   "id": "ba160a3c",
   "metadata": {},
   "outputs": [
    {
     "name": "stdout",
     "output_type": "stream",
     "text": [
      "\u001b[34m\u001b[1mwandb\u001b[0m: Currently logged in as: \u001b[33mmhcelik\u001b[0m (\u001b[33mmhcw\u001b[0m) to \u001b[32mhttps://api.wandb.ai\u001b[0m. Use \u001b[1m`wandb login --relogin`\u001b[0m to force relogin\n",
      "\u001b[34m\u001b[1mwandb\u001b[0m: Downloading large artifact metadata:latest, 3122.32MB. 1 files... \n",
      "\u001b[34m\u001b[1mwandb\u001b[0m:   1 of 1 files downloaded.  \n",
      "Done. 0:0:1.7 (1792.1MB/s)\n",
      "Processing pos_patterns patterns...: 100%|█████| 18/18 [00:00<00:00, 586.01it/s]\n",
      "Processing neg_patterns patterns...: 100%|█████| 19/19 [00:00<00:00, 591.46it/s]\n",
      "\u001b[0m"
     ]
    }
   ],
   "source": [
    "! decima modisco-seqlet-bed \\\n",
    "    --modisco-h5 example/modisco_subcommands/modisco_neurons.modisco.h5 \\\n",
    "    -o example/modisco_subcommands/modisco_neurons"
   ]
  },
  {
   "cell_type": "markdown",
   "id": "5cbf8dfc",
   "metadata": {},
   "source": [
    "Extracting seqlets used in motif detection:\n",
    "\n",
    "The `.seqlets.bed` file contains the genomic coordinates of all seqlets (short, high-scoring subsequences)\n",
    "that were used by MoDISco to identify motifs. Each line in the BED file follows\n",
    "the standard BED format:\n",
    "\n",
    "  chrom    start    end    name    score    strand\n",
    "\n",
    "- `chrom`: Chromosome name (e.g., \"chr1\")\n",
    "- `start`: 0-based start position of the seqlet\n",
    "- `end`: End position (not included)\n",
    "- `name`: Identifier for the seqlet (often includes pattern/cluster info)\n",
    "- `score`: Score assigned to the seqlet (e.g., importance or cluster assignment)\n",
    "- `strand`: \"+\" or \"-\" indicating the DNA strand\n",
    "- `core motif start`: The starting position of the core motif within the seqlet, relative to the seqlet's start coordinate.\n",
    "- `core motif end`: The ending position of the core motif within the seqlet, relative to the seqlet's start coordinate.\n",
    "- `color`: An optional field indicating the color used to visualize the seqlet or motif in genome browsers.\n",
    "\n",
    "This file can be loaded in genome browsers or used for downstream analyses to visualize or further process the discovered seqlets."
   ]
  },
  {
   "cell_type": "code",
   "execution_count": 19,
   "id": "0bdfb51a",
   "metadata": {},
   "outputs": [
    {
     "name": "stdout",
     "output_type": "stream",
     "text": [
      "chr1\t51514321\t51514371\tneg_patterns.pattern_3.seqlet_113.EPS15\t-0.10036751271172761\t-\t51514339\t51514355\t65,105,225\n",
      "chr1\t51514389\t51514439\tpos_patterns.pattern_1.seqlet_48.EPS15\t-0.021704078276343353\t-\t51514415\t51514428\t65,105,225\n",
      "chr1\t51514856\t51514906\tpos_patterns.pattern_4.seqlet_50.EPS15\t0.20430506747379695\t-\t51514858\t51514906\t65,105,225\n",
      "chr1\t51515007\t51515057\tpos_patterns.pattern_4.seqlet_36.EPS15\t0.11181213204145024\t-\t51515018\t51515066\t65,105,225\n",
      "chr1\t51515026\t51515076\tpos_patterns.pattern_2.seqlet_2.EPS15\t-0.39258043596782954\t+\t51515021\t51515067\t65,105,225\n",
      "chr1\t51515047\t51515097\tneg_patterns.pattern_3.seqlet_7.EPS15\t-0.5587078251555795\t+\t51515064\t51515080\t65,105,225\n",
      "chr1\t51515082\t51515132\tpos_patterns.pattern_2.seqlet_44.EPS15\t0.19132944994089485\t-\t51515082\t51515128\t65,105,225\n",
      "chr1\t51515174\t51515224\tpos_patterns.pattern_4.seqlet_70.EPS15\t0.12646874649226447\t+\t51515175\t51515223\t65,105,225\n",
      "chr1\t51517345\t51517395\tpos_patterns.pattern_12.seqlet_38.EPS15\t0.08596134528943367\t+\t51517351\t51517387\t65,105,225\n",
      "chr1\t51517444\t51517494\tpos_patterns.pattern_15.seqlet_25.EPS15\t0.10319471855837037\t+\t51517448\t51517494\t65,105,225\n"
     ]
    }
   ],
   "source": [
    "! head example/modisco_subcommands/modisco_neurons.seqlets.bed"
   ]
  },
  {
   "cell_type": "markdown",
   "id": "b96240a9",
   "metadata": {},
   "source": [
    "Tomtom is a computational tool from the MEME Suite that compares discovered motifs (such as those output by MoDISco)\n",
    "to a database of known motifs, identifying statistically significant matches. This helps annotate de novo motifs\n",
    "by suggesting potential transcription factors or motif families they correspond to.\n",
    "\n",
    "In the MoDISco workflow, Tomtom is typically run on the discovered motif position weight matrices (PWMs) to\n",
    "find similar motifs in reference databases (e.g., JASPAR, HOCOMOCO). The output includes a ranked list of\n",
    "matches for each motif, along with similarity scores and p-values, which can be used to interpret the biological\n",
    "relevance of the discovered patterns.\n",
    "\n",
    "Tomtom can be run via the command line or through integrated pipelines, and its results are often included in\n",
    "MoDISco reports for downstream analysis and visualization."
   ]
  },
  {
   "cell_type": "code",
   "execution_count": 16,
   "id": "88ca4c53",
   "metadata": {},
   "outputs": [
    {
     "name": "stdout",
     "output_type": "stream",
     "text": [
      "Creating modisco logos for pos_patterns: 100%|██| 18/18 [00:25<00:00,  1.40s/it]\n",
      "Creating modisco logos for neg_patterns: 100%|██| 19/19 [00:37<00:00,  1.98s/it]\n",
      "Generating patterns dataframe: 100%|█████████████| 2/2 [00:00<00:00, 231.81it/s]\n",
      "Reading patterns for pos_patterns: 100%|██████| 18/18 [00:00<00:00, 3287.79it/s]\n",
      "Reading patterns for neg_patterns: 100%|██████| 19/19 [00:00<00:00, 3329.93it/s]\n",
      "[Parallel(n_jobs=4)]: Using backend LokyBackend with 4 concurrent workers.\n",
      "[Parallel(n_jobs=4)]: Done   1 tasks      | elapsed:    7.0s\n",
      "[Parallel(n_jobs=4)]: Done   2 tasks      | elapsed:    7.2s\n",
      "[Parallel(n_jobs=4)]: Done   3 tasks      | elapsed:   12.4s\n",
      "[Parallel(n_jobs=4)]: Done   4 tasks      | elapsed:   13.3s\n",
      "[Parallel(n_jobs=4)]: Done   5 tasks      | elapsed:   16.0s\n",
      "[Parallel(n_jobs=4)]: Done   6 tasks      | elapsed:   16.8s\n",
      "[Parallel(n_jobs=4)]: Done   7 tasks      | elapsed:  1.2min\n",
      "[Parallel(n_jobs=4)]: Done   8 tasks      | elapsed:  1.2min\n",
      "[Parallel(n_jobs=4)]: Done   9 tasks      | elapsed:  1.3min\n",
      "[Parallel(n_jobs=4)]: Done  10 tasks      | elapsed:  1.3min\n",
      "[Parallel(n_jobs=4)]: Done  11 tasks      | elapsed:  1.4min\n",
      "[Parallel(n_jobs=4)]: Done  12 tasks      | elapsed:  1.7min\n",
      "[Parallel(n_jobs=4)]: Done  13 tasks      | elapsed:  1.7min\n",
      "[Parallel(n_jobs=4)]: Done  14 tasks      | elapsed:  1.7min\n",
      "[Parallel(n_jobs=4)]: Done  15 tasks      | elapsed:  1.8min\n",
      "[Parallel(n_jobs=4)]: Done  16 tasks      | elapsed:  1.8min\n",
      "[Parallel(n_jobs=4)]: Done  17 tasks      | elapsed:  1.8min\n",
      "[Parallel(n_jobs=4)]: Done  18 tasks      | elapsed:  1.9min\n",
      "[Parallel(n_jobs=4)]: Done  19 tasks      | elapsed:  1.9min\n",
      "[Parallel(n_jobs=4)]: Done  20 tasks      | elapsed:  1.9min\n",
      "[Parallel(n_jobs=4)]: Done  21 tasks      | elapsed:  2.4min\n",
      "[Parallel(n_jobs=4)]: Done  22 tasks      | elapsed:  2.6min\n",
      "[Parallel(n_jobs=4)]: Done  23 tasks      | elapsed:  2.9min\n",
      "[Parallel(n_jobs=4)]: Done  24 tasks      | elapsed:  2.9min\n",
      "[Parallel(n_jobs=4)]: Done  25 tasks      | elapsed:  3.0min\n",
      "[Parallel(n_jobs=4)]: Done  26 tasks      | elapsed:  3.0min\n",
      "[Parallel(n_jobs=4)]: Done  27 tasks      | elapsed:  3.2min\n",
      "[Parallel(n_jobs=4)]: Done  28 tasks      | elapsed:  3.6min\n",
      "[Parallel(n_jobs=4)]: Done  29 tasks      | elapsed:  3.6min\n",
      "[Parallel(n_jobs=4)]: Done  30 tasks      | elapsed:  3.7min\n",
      "[Parallel(n_jobs=4)]: Done  31 out of  37 | elapsed:  3.7min remaining:   43.2s\n",
      "[Parallel(n_jobs=4)]: Done  32 out of  37 | elapsed:  3.9min remaining:   36.8s\n",
      "[Parallel(n_jobs=4)]: Done  33 out of  37 | elapsed:  4.0min remaining:   29.2s\n",
      "[Parallel(n_jobs=4)]: Done  34 out of  37 | elapsed:  4.0min remaining:   21.3s\n",
      "[Parallel(n_jobs=4)]: Done  35 out of  37 | elapsed:  4.1min remaining:   14.1s\n",
      "[Parallel(n_jobs=4)]: Done  37 out of  37 | elapsed:  4.3min finished\n",
      "\u001b[0m\u001b[0m\u001b[0m\u001b[0m\u001b[0m"
     ]
    }
   ],
   "source": [
    "! decima modisco-reports \\\n",
    "    --modisco-h5 example/modisco_subcommands/modisco_neurons.modisco.h5 \\\n",
    "    -o example/modisco_subcommands/modisco_neurons"
   ]
  },
  {
   "cell_type": "markdown",
   "id": "25297b06",
   "metadata": {},
   "source": [
    "## Python User API"
   ]
  },
  {
   "cell_type": "markdown",
   "id": "6206f4b5",
   "metadata": {},
   "source": [
    "MoDISco can also be run programmatically from Python using the Decima API.\n",
    "The Python API provides more flexibility and allows you to integrate MoDISco directly into your analysis pipelines.\n",
    " \n",
    "Notably, both the CLI and Python API support the `--off-task` (or `off_tasks` in Python) argument, which enables you to specify a contrasting set of tasks or conditions.\n",
    "This allows you to perform contrastive motif discovery, identifying patterns that are specific to your target condition (e.g., a particular cell type or tissue)\n",
    "by comparing against a background or \"off\" condition. This is useful for highlighting motifs that are enriched or specific to your biological question of interest."
   ]
  },
  {
   "cell_type": "code",
   "execution_count": 3,
   "id": "2b1d0936",
   "metadata": {},
   "outputs": [
    {
     "name": "stderr",
     "output_type": "stream",
     "text": [
      "\u001b[34m\u001b[1mwandb\u001b[0m: Currently logged in as: \u001b[33mmhcelik\u001b[0m (\u001b[33mmhcw\u001b[0m) to \u001b[32mhttps://api.wandb.ai\u001b[0m. Use \u001b[1m`wandb login --relogin`\u001b[0m to force relogin\n",
      "\u001b[34m\u001b[1mwandb\u001b[0m: Downloading large artifact rep0:latest, 720.03MB. 1 files... \n",
      "\u001b[34m\u001b[1mwandb\u001b[0m:   1 of 1 files downloaded.  \n",
      "Done. 0:0:1.8 (399.4MB/s)\n",
      "\u001b[34m\u001b[1mwandb\u001b[0m: Downloading large artifact metadata:latest, 3122.32MB. 1 files... \n",
      "\u001b[34m\u001b[1mwandb\u001b[0m:   1 of 1 files downloaded.  \n",
      "Done. 0:0:1.7 (1814.6MB/s)\n",
      "\u001b[34m\u001b[1mwandb\u001b[0m: Downloading large artifact metadata:latest, 3122.32MB. 1 files... \n",
      "\u001b[34m\u001b[1mwandb\u001b[0m:   1 of 1 files downloaded.  \n",
      "Done. 0:0:1.7 (1851.5MB/s)\n"
     ]
    },
    {
     "data": {
      "application/vnd.jupyter.widget-view+json": {
       "model_id": "8aa63e2b882d468c9a0ef8d7b851b248",
       "version_major": 2,
       "version_minor": 0
      },
      "text/plain": [
       "  0%|          | 0/2 [00:00<?, ?it/s]"
      ]
     },
     "metadata": {},
     "output_type": "display_data"
    },
    {
     "name": "stderr",
     "output_type": "stream",
     "text": [
      "Computing attributions...: 100%|██████████| 15/15 [00:16<00:00,  1.13s/it]\n",
      "\u001b[34m\u001b[1mwandb\u001b[0m: Downloading large artifact metadata:latest, 3122.32MB. 1 files... \n",
      "\u001b[34m\u001b[1mwandb\u001b[0m:   1 of 1 files downloaded.  \n",
      "Done. 0:0:1.7 (1871.4MB/s)\n"
     ]
    },
    {
     "data": {
      "application/vnd.jupyter.widget-view+json": {
       "model_id": "f8130c94af3a4508b4a3323467862947",
       "version_major": 2,
       "version_minor": 0
      },
      "text/plain": [
       "  0%|          | 0/2 [00:00<?, ?it/s]"
      ]
     },
     "metadata": {},
     "output_type": "display_data"
    },
    {
     "name": "stderr",
     "output_type": "stream",
     "text": [
      "Loading attributions and sequences...: 100%|██████████| 15/15 [00:00<00:00, 21.31it/s]\n",
      "2025-10-06 18:11:34,796 - modisco-lite - INFO - Running TFMoDISco version 2.4.0\n",
      "2025-10-06 18:11:34,797 - modisco-lite - INFO - Extracting seqlets for 15 tasks:\n",
      "2025-10-06 18:11:34,798 - modisco-lite - INFO - - Smoothing and splitting tracks\n",
      "2025-10-06 18:11:34,808 - modisco-lite - INFO - - Computing null values with Laplacian null model\n",
      "2025-10-06 18:11:34,854 - modisco-lite - INFO - - Computing isotonic thresholds\n",
      "2025-10-06 18:11:34,863 - modisco-lite - INFO - - Refining thresholds\n",
      "2025-10-06 18:11:34,943 - modisco-lite - INFO - - Extracting seqlets\n",
      "2025-10-06 18:11:34,953 - modisco-lite - INFO - - Extracting 384 positive seqlets\n",
      "2025-10-06 18:11:34,956 - modisco-lite - INFO - - Round 0: Generating coarse resolution affinity matrix for 384 seqlets\n"
     ]
    },
    {
     "data": {
      "application/vnd.jupyter.widget-view+json": {
       "model_id": "37cb7d6446064c82b9405af4d00df6fa",
       "version_major": 2,
       "version_minor": 0
      },
      "text/plain": [
       "  0%|          | 0/384 [00:00<?, ?it/s]"
      ]
     },
     "metadata": {},
     "output_type": "display_data"
    },
    {
     "name": "stderr",
     "output_type": "stream",
     "text": [
      "2025-10-06 18:11:47,047 - modisco-lite - INFO - - Round 0: Generating fine resolution affinity matrix for 384 seqlets and 384 neighbors\n"
     ]
    },
    {
     "data": {
      "application/vnd.jupyter.widget-view+json": {
       "model_id": "dad57a94f54a4334a6380abe48abfbd7",
       "version_major": 2,
       "version_minor": 0
      },
      "text/plain": [
       "  0%|          | 0/384 [00:00<?, ?it/s]"
      ]
     },
     "metadata": {},
     "output_type": "display_data"
    },
    {
     "data": {
      "application/vnd.jupyter.widget-view+json": {
       "model_id": "015a8689e88f46e98fe818ab4015d735",
       "version_major": 2,
       "version_minor": 0
      },
      "text/plain": [
       "  0%|          | 0/384 [00:00<?, ?it/s]"
      ]
     },
     "metadata": {},
     "output_type": "display_data"
    },
    {
     "name": "stderr",
     "output_type": "stream",
     "text": [
      "2025-10-06 18:11:49,025 - modisco-lite - INFO - - Round 0: Filtering seqlets by correlation\n",
      "2025-10-06 18:11:49,205 - modisco-lite - INFO - - Round 0: Density adaptation\n",
      "2025-10-06 18:11:49,648 - modisco-lite - INFO - - Round 0: Clustering with Leiden algorithm\n"
     ]
    },
    {
     "name": "stdout",
     "output_type": "stream",
     "text": [
      "[Parallel(n_jobs=8)]: Using backend LokyBackend with 8 concurrent workers.\n",
      "[Parallel(n_jobs=8)]: Done   1 tasks      | elapsed:    6.7s\n",
      "[Parallel(n_jobs=8)]: Done   2 out of  16 | elapsed:    6.9s remaining:   48.0s\n",
      "[Parallel(n_jobs=8)]: Done   3 out of  16 | elapsed:    6.9s remaining:   29.9s\n",
      "[Parallel(n_jobs=8)]: Done   4 out of  16 | elapsed:    7.0s remaining:   21.0s\n",
      "[Parallel(n_jobs=8)]: Done   5 out of  16 | elapsed:    7.1s remaining:   15.6s\n",
      "[Parallel(n_jobs=8)]: Done   6 out of  16 | elapsed:    7.1s remaining:   11.8s\n",
      "[Parallel(n_jobs=8)]: Done   7 out of  16 | elapsed:    7.1s remaining:    9.1s\n",
      "[Parallel(n_jobs=8)]: Done   8 out of  16 | elapsed:    7.1s remaining:    7.1s\n",
      "[Parallel(n_jobs=8)]: Done   9 out of  16 | elapsed:    7.2s remaining:    5.6s\n",
      "[Parallel(n_jobs=8)]: Done  10 out of  16 | elapsed:    7.3s remaining:    4.4s\n",
      "[Parallel(n_jobs=8)]: Done  11 out of  16 | elapsed:    7.4s remaining:    3.3s\n",
      "[Parallel(n_jobs=8)]: Done  12 out of  16 | elapsed:    7.5s remaining:    2.5s\n",
      "[Parallel(n_jobs=8)]: Done  13 out of  16 | elapsed:    7.5s remaining:    1.7s\n",
      "[Parallel(n_jobs=8)]: Done  14 out of  16 | elapsed:    7.5s remaining:    1.1s\n"
     ]
    },
    {
     "name": "stderr",
     "output_type": "stream",
     "text": [
      "2025-10-06 18:11:57,387 - modisco-lite - INFO - Leiden clustering quality for seed 0: 0.02360483048930951\n",
      "2025-10-06 18:11:57,388 - modisco-lite - INFO - Leiden clustering quality for seed 1: 0.02361723253834695\n",
      "2025-10-06 18:11:57,388 - modisco-lite - INFO - Leiden clustering quality for seed 2: 0.02361364332247759\n",
      "2025-10-06 18:11:57,388 - modisco-lite - INFO - Leiden clustering quality for seed 3: 0.02360315002202235\n",
      "2025-10-06 18:11:57,388 - modisco-lite - INFO - Leiden clustering quality for seed 4: 0.023621841682633215\n",
      "2025-10-06 18:11:57,389 - modisco-lite - INFO - Leiden clustering quality for seed 5: 0.023621841682633215\n",
      "2025-10-06 18:11:57,389 - modisco-lite - INFO - Leiden clustering quality for seed 6: 0.023613449615038574\n",
      "2025-10-06 18:11:57,389 - modisco-lite - INFO - Leiden clustering quality for seed 7: 0.02361364332247759\n",
      "2025-10-06 18:11:57,389 - modisco-lite - INFO - Leiden clustering quality for seed 8: 0.023615291366812573\n",
      "2025-10-06 18:11:57,390 - modisco-lite - INFO - Leiden clustering quality for seed 9: 0.02360315002202235\n",
      "2025-10-06 18:11:57,390 - modisco-lite - INFO - Leiden clustering quality for seed 10: 0.02360315002202235\n",
      "2025-10-06 18:11:57,390 - modisco-lite - INFO - Leiden clustering quality for seed 11: 0.023614627921386563\n",
      "2025-10-06 18:11:57,390 - modisco-lite - INFO - Leiden clustering quality for seed 12: 0.02360315002202235\n",
      "2025-10-06 18:11:57,390 - modisco-lite - INFO - Leiden clustering quality for seed 13: 0.02360970287066969\n",
      "2025-10-06 18:11:57,391 - modisco-lite - INFO - Leiden clustering quality for seed 14: 0.0236142640559574\n",
      "2025-10-06 18:11:57,391 - modisco-lite - INFO - Leiden clustering quality for seed 15: 0.023606972537531266\n",
      "2025-10-06 18:11:57,391 - modisco-lite - INFO - - Round 0: Generating patterns from clusters\n"
     ]
    },
    {
     "name": "stdout",
     "output_type": "stream",
     "text": [
      "[Parallel(n_jobs=8)]: Done  16 out of  16 | elapsed:    7.7s finished\n"
     ]
    },
    {
     "name": "stderr",
     "output_type": "stream",
     "text": [
      "Generating patterns from clusters:: 100%|██████████| 6/6 [00:01<00:00,  3.25it/s]\n",
      "2025-10-06 18:11:59,240 - modisco-lite - INFO - - Round 1: Generating coarse resolution affinity matrix for 332 seqlets\n"
     ]
    },
    {
     "data": {
      "application/vnd.jupyter.widget-view+json": {
       "model_id": "714129c674814573bd61d460a09e567a",
       "version_major": 2,
       "version_minor": 0
      },
      "text/plain": [
       "  0%|          | 0/332 [00:00<?, ?it/s]"
      ]
     },
     "metadata": {},
     "output_type": "display_data"
    },
    {
     "name": "stderr",
     "output_type": "stream",
     "text": [
      "2025-10-06 18:11:59,420 - modisco-lite - INFO - - Round 1: Generating fine resolution affinity matrix for 332 seqlets and 332 neighbors\n"
     ]
    },
    {
     "data": {
      "application/vnd.jupyter.widget-view+json": {
       "model_id": "58fec8c99b984b2eadf1cf717116b54b",
       "version_major": 2,
       "version_minor": 0
      },
      "text/plain": [
       "  0%|          | 0/332 [00:00<?, ?it/s]"
      ]
     },
     "metadata": {},
     "output_type": "display_data"
    },
    {
     "data": {
      "application/vnd.jupyter.widget-view+json": {
       "model_id": "3b6c2f6ae07a4f97aa842edfc9c13bf0",
       "version_major": 2,
       "version_minor": 0
      },
      "text/plain": [
       "  0%|          | 0/332 [00:00<?, ?it/s]"
      ]
     },
     "metadata": {},
     "output_type": "display_data"
    },
    {
     "name": "stderr",
     "output_type": "stream",
     "text": [
      "2025-10-06 18:12:01,732 - modisco-lite - INFO - - Round 1: Density adaptation\n",
      "2025-10-06 18:12:02,149 - modisco-lite - INFO - - Round 1: Clustering with Leiden algorithm\n"
     ]
    },
    {
     "name": "stdout",
     "output_type": "stream",
     "text": [
      "[Parallel(n_jobs=8)]: Using backend LokyBackend with 8 concurrent workers.\n",
      "[Parallel(n_jobs=8)]: Done   1 tasks      | elapsed:    0.4s\n",
      "[Parallel(n_jobs=8)]: Done   2 out of  16 | elapsed:    0.4s remaining:    2.8s\n",
      "[Parallel(n_jobs=8)]: Done   3 out of  16 | elapsed:    0.4s remaining:    1.8s\n",
      "[Parallel(n_jobs=8)]: Done   4 out of  16 | elapsed:    0.4s remaining:    1.3s\n",
      "[Parallel(n_jobs=8)]: Done   5 out of  16 | elapsed:    0.5s remaining:    1.1s\n",
      "[Parallel(n_jobs=8)]: Done   6 out of  16 | elapsed:    0.5s remaining:    0.9s\n",
      "[Parallel(n_jobs=8)]: Done   7 out of  16 | elapsed:    0.6s remaining:    0.7s\n",
      "[Parallel(n_jobs=8)]: Done   8 out of  16 | elapsed:    0.7s remaining:    0.7s\n",
      "[Parallel(n_jobs=8)]: Done   9 out of  16 | elapsed:    0.7s remaining:    0.6s\n",
      "[Parallel(n_jobs=8)]: Done  10 out of  16 | elapsed:    0.8s remaining:    0.5s\n",
      "[Parallel(n_jobs=8)]: Done  11 out of  16 | elapsed:    0.8s remaining:    0.4s\n",
      "[Parallel(n_jobs=8)]: Done  12 out of  16 | elapsed:    0.9s remaining:    0.3s\n",
      "[Parallel(n_jobs=8)]: Done  13 out of  16 | elapsed:    0.9s remaining:    0.2s\n",
      "[Parallel(n_jobs=8)]: Done  14 out of  16 | elapsed:    1.0s remaining:    0.1s\n"
     ]
    },
    {
     "name": "stderr",
     "output_type": "stream",
     "text": [
      "2025-10-06 18:12:03,644 - modisco-lite - INFO - Leiden clustering quality for seed 0: 0.026548278897844335\n",
      "2025-10-06 18:12:03,644 - modisco-lite - INFO - Leiden clustering quality for seed 1: 0.026548278897844335\n",
      "2025-10-06 18:12:03,645 - modisco-lite - INFO - Leiden clustering quality for seed 2: 0.026520905736640198\n",
      "2025-10-06 18:12:03,645 - modisco-lite - INFO - Leiden clustering quality for seed 3: 0.026539255688272402\n",
      "2025-10-06 18:12:03,645 - modisco-lite - INFO - Leiden clustering quality for seed 4: 0.026535249101320407\n",
      "2025-10-06 18:12:03,645 - modisco-lite - INFO - Leiden clustering quality for seed 5: 0.026528099158945256\n",
      "2025-10-06 18:12:03,646 - modisco-lite - INFO - Leiden clustering quality for seed 6: 0.026511587839415075\n",
      "2025-10-06 18:12:03,646 - modisco-lite - INFO - Leiden clustering quality for seed 7: 0.026401092795887534\n",
      "2025-10-06 18:12:03,646 - modisco-lite - INFO - Leiden clustering quality for seed 8: 0.02656779223573837\n",
      "2025-10-06 18:12:03,646 - modisco-lite - INFO - Leiden clustering quality for seed 9: 0.02652991091394142\n",
      "2025-10-06 18:12:03,647 - modisco-lite - INFO - Leiden clustering quality for seed 10: 0.02652052727856517\n",
      "2025-10-06 18:12:03,647 - modisco-lite - INFO - Leiden clustering quality for seed 11: 0.026391695973984147\n",
      "2025-10-06 18:12:03,647 - modisco-lite - INFO - Leiden clustering quality for seed 12: 0.026535249101320407\n",
      "2025-10-06 18:12:03,647 - modisco-lite - INFO - Leiden clustering quality for seed 13: 0.026525402801011476\n",
      "2025-10-06 18:12:03,647 - modisco-lite - INFO - Leiden clustering quality for seed 14: 0.026535249101320407\n",
      "2025-10-06 18:12:03,648 - modisco-lite - INFO - Leiden clustering quality for seed 15: 0.026539255688272402\n",
      "2025-10-06 18:12:03,648 - modisco-lite - INFO - - Round 1: Generating patterns from clusters\n"
     ]
    },
    {
     "name": "stdout",
     "output_type": "stream",
     "text": [
      "[Parallel(n_jobs=8)]: Done  16 out of  16 | elapsed:    1.5s finished\n"
     ]
    },
    {
     "name": "stderr",
     "output_type": "stream",
     "text": [
      "Generating patterns from clusters:: 100%|██████████| 6/6 [00:01<00:00,  3.04it/s]\n",
      "2025-10-06 18:12:05,624 - modisco-lite - INFO - Detecting spurious merging of patterns\n",
      "Detecting spurious merging of patterns:: 100%|██████████| 6/6 [00:10<00:00,  1.81s/it]\n",
      "2025-10-06 18:12:17,634 - modisco-lite - INFO - Filtering and merging patterns\n",
      "Filtering patterns:: 100%|██████████| 14/14 [00:00<00:00, 16302.13it/s]\n",
      "Computing subpatterns:: 100%|██████████| 9/9 [00:00<00:00, 51.30it/s]\n",
      "2025-10-06 18:12:17,813 - modisco-lite - INFO - - Extracting 340 negative seqlets\n",
      "2025-10-06 18:12:17,816 - modisco-lite - INFO - - Round 0: Generating coarse resolution affinity matrix for 340 seqlets\n"
     ]
    },
    {
     "data": {
      "application/vnd.jupyter.widget-view+json": {
       "model_id": "9ee3085d0e3c4e06989f099104cb5346",
       "version_major": 2,
       "version_minor": 0
      },
      "text/plain": [
       "  0%|          | 0/340 [00:00<?, ?it/s]"
      ]
     },
     "metadata": {},
     "output_type": "display_data"
    },
    {
     "name": "stderr",
     "output_type": "stream",
     "text": [
      "2025-10-06 18:12:18,024 - modisco-lite - INFO - - Round 0: Generating fine resolution affinity matrix for 340 seqlets and 340 neighbors\n"
     ]
    },
    {
     "data": {
      "application/vnd.jupyter.widget-view+json": {
       "model_id": "b558b7056f4d47f7afcf77faaeef439d",
       "version_major": 2,
       "version_minor": 0
      },
      "text/plain": [
       "  0%|          | 0/340 [00:00<?, ?it/s]"
      ]
     },
     "metadata": {},
     "output_type": "display_data"
    },
    {
     "data": {
      "application/vnd.jupyter.widget-view+json": {
       "model_id": "ab7a6576e6c34bfc84a58ec0acc4c4e3",
       "version_major": 2,
       "version_minor": 0
      },
      "text/plain": [
       "  0%|          | 0/340 [00:00<?, ?it/s]"
      ]
     },
     "metadata": {},
     "output_type": "display_data"
    },
    {
     "name": "stderr",
     "output_type": "stream",
     "text": [
      "2025-10-06 18:12:19,624 - modisco-lite - INFO - - Round 0: Filtering seqlets by correlation\n",
      "2025-10-06 18:12:19,776 - modisco-lite - INFO - - Round 0: Density adaptation\n",
      "2025-10-06 18:12:20,101 - modisco-lite - INFO - - Round 0: Clustering with Leiden algorithm\n"
     ]
    },
    {
     "name": "stdout",
     "output_type": "stream",
     "text": [
      "[Parallel(n_jobs=8)]: Using backend LokyBackend with 8 concurrent workers.\n",
      "[Parallel(n_jobs=8)]: Done   1 tasks      | elapsed:    7.3s\n",
      "[Parallel(n_jobs=8)]: Done   2 out of  16 | elapsed:    7.3s remaining:   51.4s\n",
      "[Parallel(n_jobs=8)]: Done   3 out of  16 | elapsed:    7.4s remaining:   32.0s\n",
      "[Parallel(n_jobs=8)]: Done   4 out of  16 | elapsed:    7.4s remaining:   22.2s\n",
      "[Parallel(n_jobs=8)]: Done   5 out of  16 | elapsed:    7.4s remaining:   16.3s\n",
      "[Parallel(n_jobs=8)]: Done   6 out of  16 | elapsed:    7.4s remaining:   12.4s\n",
      "[Parallel(n_jobs=8)]: Done   7 out of  16 | elapsed:    7.5s remaining:    9.6s\n",
      "[Parallel(n_jobs=8)]: Done   8 out of  16 | elapsed:    7.5s remaining:    7.5s\n",
      "[Parallel(n_jobs=8)]: Done   9 out of  16 | elapsed:    7.7s remaining:    6.0s\n",
      "[Parallel(n_jobs=8)]: Done  10 out of  16 | elapsed:    7.7s remaining:    4.6s\n",
      "[Parallel(n_jobs=8)]: Done  11 out of  16 | elapsed:    7.7s remaining:    3.5s\n",
      "[Parallel(n_jobs=8)]: Done  12 out of  16 | elapsed:    7.8s remaining:    2.6s\n",
      "[Parallel(n_jobs=8)]: Done  13 out of  16 | elapsed:    7.8s remaining:    1.8s\n",
      "[Parallel(n_jobs=8)]: Done  14 out of  16 | elapsed:    7.8s remaining:    1.1s\n"
     ]
    },
    {
     "name": "stderr",
     "output_type": "stream",
     "text": [
      "2025-10-06 18:12:28,067 - modisco-lite - INFO - Leiden clustering quality for seed 0: 0.023850872058533996\n",
      "2025-10-06 18:12:28,067 - modisco-lite - INFO - Leiden clustering quality for seed 1: 0.023768839260606318\n",
      "2025-10-06 18:12:28,067 - modisco-lite - INFO - Leiden clustering quality for seed 2: 0.02385681078512026\n",
      "2025-10-06 18:12:28,068 - modisco-lite - INFO - Leiden clustering quality for seed 3: 0.02387438972443567\n",
      "2025-10-06 18:12:28,068 - modisco-lite - INFO - Leiden clustering quality for seed 4: 0.023876162687244136\n",
      "2025-10-06 18:12:28,068 - modisco-lite - INFO - Leiden clustering quality for seed 5: 0.02386819542812389\n",
      "2025-10-06 18:12:28,068 - modisco-lite - INFO - Leiden clustering quality for seed 6: 0.023585021130662808\n",
      "2025-10-06 18:12:28,069 - modisco-lite - INFO - Leiden clustering quality for seed 7: 0.023854051195930443\n",
      "2025-10-06 18:12:28,069 - modisco-lite - INFO - Leiden clustering quality for seed 8: 0.023659598169893423\n",
      "2025-10-06 18:12:28,069 - modisco-lite - INFO - Leiden clustering quality for seed 9: 0.02378579897047768\n",
      "2025-10-06 18:12:28,069 - modisco-lite - INFO - Leiden clustering quality for seed 10: 0.023863969323479898\n",
      "2025-10-06 18:12:28,069 - modisco-lite - INFO - Leiden clustering quality for seed 11: 0.023795712308034282\n",
      "2025-10-06 18:12:28,070 - modisco-lite - INFO - Leiden clustering quality for seed 12: 0.02387438972443567\n",
      "2025-10-06 18:12:28,070 - modisco-lite - INFO - Leiden clustering quality for seed 13: 0.023852623184908793\n",
      "2025-10-06 18:12:28,070 - modisco-lite - INFO - Leiden clustering quality for seed 14: 0.02387438972443567\n",
      "2025-10-06 18:12:28,070 - modisco-lite - INFO - Leiden clustering quality for seed 15: 0.02377755429507505\n",
      "2025-10-06 18:12:28,071 - modisco-lite - INFO - - Round 0: Generating patterns from clusters\n"
     ]
    },
    {
     "name": "stdout",
     "output_type": "stream",
     "text": [
      "[Parallel(n_jobs=8)]: Done  16 out of  16 | elapsed:    8.0s finished\n"
     ]
    },
    {
     "name": "stderr",
     "output_type": "stream",
     "text": [
      "Generating patterns from clusters:: 100%|██████████| 5/5 [00:00<00:00, 11.39it/s]\n",
      "2025-10-06 18:12:28,512 - modisco-lite - INFO - - Round 1: Generating coarse resolution affinity matrix for 283 seqlets\n"
     ]
    },
    {
     "data": {
      "application/vnd.jupyter.widget-view+json": {
       "model_id": "80f124ca5742441887e5af95a6bbbb94",
       "version_major": 2,
       "version_minor": 0
      },
      "text/plain": [
       "  0%|          | 0/283 [00:00<?, ?it/s]"
      ]
     },
     "metadata": {},
     "output_type": "display_data"
    },
    {
     "name": "stderr",
     "output_type": "stream",
     "text": [
      "2025-10-06 18:12:28,665 - modisco-lite - INFO - - Round 1: Generating fine resolution affinity matrix for 283 seqlets and 283 neighbors\n"
     ]
    },
    {
     "data": {
      "application/vnd.jupyter.widget-view+json": {
       "model_id": "5f7ce980c4294e479925cb865e83e05c",
       "version_major": 2,
       "version_minor": 0
      },
      "text/plain": [
       "  0%|          | 0/283 [00:00<?, ?it/s]"
      ]
     },
     "metadata": {},
     "output_type": "display_data"
    },
    {
     "data": {
      "application/vnd.jupyter.widget-view+json": {
       "model_id": "1185c2c90bf74f2783cc975d00595094",
       "version_major": 2,
       "version_minor": 0
      },
      "text/plain": [
       "  0%|          | 0/283 [00:00<?, ?it/s]"
      ]
     },
     "metadata": {},
     "output_type": "display_data"
    },
    {
     "name": "stderr",
     "output_type": "stream",
     "text": [
      "2025-10-06 18:12:30,404 - modisco-lite - INFO - - Round 1: Density adaptation\n",
      "2025-10-06 18:12:30,720 - modisco-lite - INFO - - Round 1: Clustering with Leiden algorithm\n"
     ]
    },
    {
     "name": "stdout",
     "output_type": "stream",
     "text": [
      "[Parallel(n_jobs=8)]: Using backend LokyBackend with 8 concurrent workers.\n",
      "[Parallel(n_jobs=8)]: Done   1 tasks      | elapsed:    0.3s\n",
      "[Parallel(n_jobs=8)]: Done   2 out of  16 | elapsed:    0.3s remaining:    1.9s\n",
      "[Parallel(n_jobs=8)]: Done   3 out of  16 | elapsed:    0.3s remaining:    1.2s\n",
      "[Parallel(n_jobs=8)]: Done   4 out of  16 | elapsed:    0.3s remaining:    0.9s\n",
      "[Parallel(n_jobs=8)]: Done   5 out of  16 | elapsed:    0.3s remaining:    0.7s\n",
      "[Parallel(n_jobs=8)]: Done   6 out of  16 | elapsed:    0.3s remaining:    0.6s\n",
      "[Parallel(n_jobs=8)]: Done   7 out of  16 | elapsed:    0.4s remaining:    0.5s\n",
      "[Parallel(n_jobs=8)]: Done   8 out of  16 | elapsed:    0.4s remaining:    0.4s\n",
      "[Parallel(n_jobs=8)]: Done   9 out of  16 | elapsed:    0.5s remaining:    0.4s\n",
      "[Parallel(n_jobs=8)]: Done  10 out of  16 | elapsed:    0.5s remaining:    0.3s\n",
      "[Parallel(n_jobs=8)]: Done  11 out of  16 | elapsed:    0.6s remaining:    0.3s\n",
      "[Parallel(n_jobs=8)]: Done  12 out of  16 | elapsed:    0.6s remaining:    0.2s\n",
      "[Parallel(n_jobs=8)]: Done  13 out of  16 | elapsed:    0.6s remaining:    0.1s\n",
      "[Parallel(n_jobs=8)]: Done  14 out of  16 | elapsed:    0.6s remaining:    0.1s\n"
     ]
    },
    {
     "name": "stderr",
     "output_type": "stream",
     "text": [
      "2025-10-06 18:12:31,664 - modisco-lite - INFO - Leiden clustering quality for seed 0: 0.026586659803832666\n",
      "2025-10-06 18:12:31,664 - modisco-lite - INFO - Leiden clustering quality for seed 1: 0.026586659803832666\n",
      "2025-10-06 18:12:31,665 - modisco-lite - INFO - Leiden clustering quality for seed 2: 0.02660104643456792\n",
      "2025-10-06 18:12:31,665 - modisco-lite - INFO - Leiden clustering quality for seed 3: 0.026634521581033865\n",
      "2025-10-06 18:12:31,665 - modisco-lite - INFO - Leiden clustering quality for seed 4: 0.026616418993762592\n",
      "2025-10-06 18:12:31,665 - modisco-lite - INFO - Leiden clustering quality for seed 5: 0.026392340322682274\n",
      "2025-10-06 18:12:31,666 - modisco-lite - INFO - Leiden clustering quality for seed 6: 0.026586659803832666\n",
      "2025-10-06 18:12:31,666 - modisco-lite - INFO - Leiden clustering quality for seed 7: 0.026603553780386605\n",
      "2025-10-06 18:12:31,667 - modisco-lite - INFO - Leiden clustering quality for seed 8: 0.02660251974475603\n",
      "2025-10-06 18:12:31,667 - modisco-lite - INFO - Leiden clustering quality for seed 9: 0.026586659803832666\n",
      "2025-10-06 18:12:31,667 - modisco-lite - INFO - Leiden clustering quality for seed 10: 0.02658644850697434\n",
      "2025-10-06 18:12:31,667 - modisco-lite - INFO - Leiden clustering quality for seed 11: 0.02666550122295357\n",
      "2025-10-06 18:12:31,667 - modisco-lite - INFO - Leiden clustering quality for seed 12: 0.026517335933254525\n",
      "2025-10-06 18:12:31,668 - modisco-lite - INFO - Leiden clustering quality for seed 13: 0.026629959060868624\n",
      "2025-10-06 18:12:31,668 - modisco-lite - INFO - Leiden clustering quality for seed 14: 0.026586659803832666\n",
      "2025-10-06 18:12:31,668 - modisco-lite - INFO - Leiden clustering quality for seed 15: 0.026634521581033865\n",
      "2025-10-06 18:12:31,668 - modisco-lite - INFO - - Round 1: Generating patterns from clusters\n"
     ]
    },
    {
     "name": "stdout",
     "output_type": "stream",
     "text": [
      "[Parallel(n_jobs=8)]: Done  16 out of  16 | elapsed:    0.9s finished\n"
     ]
    },
    {
     "name": "stderr",
     "output_type": "stream",
     "text": [
      "Generating patterns from clusters:: 100%|██████████| 5/5 [00:00<00:00,  7.64it/s]\n",
      "2025-10-06 18:12:32,325 - modisco-lite - INFO - Detecting spurious merging of patterns\n",
      "Detecting spurious merging of patterns:: 100%|██████████| 5/5 [00:07<00:00,  1.56s/it]\n",
      "2025-10-06 18:12:41,110 - modisco-lite - INFO - Filtering and merging patterns\n",
      "Filtering patterns:: 100%|██████████| 13/13 [00:00<00:00, 25952.38it/s]\n",
      "Computing subpatterns:: 100%|██████████| 5/5 [00:00<00:00, 42.82it/s]\n",
      "Creating modisco logos for pos_patterns: 100%|██████████| 9/9 [00:15<00:00,  1.67s/it]\n",
      "Creating modisco logos for neg_patterns: 100%|██████████| 5/5 [00:10<00:00,  2.13s/it]\n",
      "Generating patterns dataframe: 100%|██████████| 2/2 [00:00<00:00, 514.35it/s]\n",
      "Reading patterns for pos_patterns: 100%|██████████| 9/9 [00:00<00:00, 2967.90it/s]\n",
      "Reading patterns for neg_patterns: 100%|██████████| 5/5 [00:00<00:00, 3024.01it/s]\n"
     ]
    },
    {
     "name": "stdout",
     "output_type": "stream",
     "text": [
      "[Parallel(n_jobs=8)]: Using backend LokyBackend with 8 concurrent workers.\n",
      "[Parallel(n_jobs=8)]: Done   1 tasks      | elapsed:    8.2s\n",
      "[Parallel(n_jobs=8)]: Done   2 out of  14 | elapsed:   13.3s remaining:  1.3min\n",
      "[Parallel(n_jobs=8)]: Done   3 out of  14 | elapsed:   14.1s remaining:   51.5s\n",
      "[Parallel(n_jobs=8)]: Done   4 out of  14 | elapsed:   14.4s remaining:   35.9s\n",
      "[Parallel(n_jobs=8)]: Done   5 out of  14 | elapsed:   15.6s remaining:   28.0s\n",
      "[Parallel(n_jobs=8)]: Done   6 out of  14 | elapsed:   42.0s remaining:   56.0s\n",
      "[Parallel(n_jobs=8)]: Done   7 out of  14 | elapsed:   52.6s remaining:   52.6s\n",
      "[Parallel(n_jobs=8)]: Done   8 out of  14 | elapsed:  1.1min remaining:   50.0s\n",
      "[Parallel(n_jobs=8)]: Done   9 out of  14 | elapsed:  1.4min remaining:   45.6s\n",
      "[Parallel(n_jobs=8)]: Done  10 out of  14 | elapsed:  1.4min remaining:   33.1s\n",
      "[Parallel(n_jobs=8)]: Done  11 out of  14 | elapsed:  1.4min remaining:   22.6s\n",
      "[Parallel(n_jobs=8)]: Done  12 out of  14 | elapsed:  1.4min remaining:   13.9s\n",
      "[Parallel(n_jobs=8)]: Done  14 out of  14 | elapsed:  1.5min finished\n"
     ]
    },
    {
     "name": "stderr",
     "output_type": "stream",
     "text": [
      "\u001b[34m\u001b[1mwandb\u001b[0m: Downloading large artifact metadata:latest, 3122.32MB. 1 files... \n",
      "\u001b[34m\u001b[1mwandb\u001b[0m:   1 of 1 files downloaded.  \n",
      "Done. 0:0:1.7 (1849.3MB/s)\n",
      "Processing pos_patterns patterns...: 100%|██████████| 9/9 [00:00<00:00, 594.76it/s]\n",
      "Processing neg_patterns patterns...: 100%|██████████| 5/5 [00:00<00:00, 621.42it/s]\n"
     ]
    }
   ],
   "source": [
    "from decima.hub import load_decima_model\n",
    "from decima.interpret.modisco import modisco\n",
    "\n",
    "\n",
    "model = load_decima_model(\"rep0\", device=0)  # or 0, 1, 2, 3, \"ensemble\"\n",
    "\n",
    "modisco(\n",
    "    output_prefix=\"example/modisco_python/modisco_fibroblast\",\n",
    "    tasks=\"cell_type == 'fibroblast' and organ == 'heart'\",\n",
    "    off_tasks=\"cell_type == 'fibroblast' and organ != 'heart'\",\n",
    "    top_n_markers=15,\n",
    "    model=model,\n",
    "    num_workers=8,\n",
    "    batch_size=1,\n",
    "    max_seqlets_per_metacluster=500,\n",
    "    tss_distance=5000,\n",
    ")"
   ]
  },
  {
   "cell_type": "markdown",
   "id": "cbe74f7d",
   "metadata": {},
   "source": [
    "The function above consists of the following functions:"
   ]
  },
  {
   "cell_type": "code",
   "execution_count": 4,
   "id": "a32613a8",
   "metadata": {},
   "outputs": [],
   "source": [
    "from decima.interpret.modisco import (\n",
    "    predict_save_modisco_attributions,\n",
    "    modisco_patterns,\n",
    "    modisco_reports,\n",
    "    modisco_seqlet_bed,\n",
    ")"
   ]
  },
  {
   "cell_type": "markdown",
   "id": "6711f35b",
   "metadata": {},
   "source": [
    "`predict_save_modisco_attributions` computes and saves attributions for the specified tasks and model."
   ]
  },
  {
   "cell_type": "code",
   "execution_count": 5,
   "id": "88fd6bd2",
   "metadata": {},
   "outputs": [
    {
     "name": "stderr",
     "output_type": "stream",
     "text": [
      "\u001b[34m\u001b[1mwandb\u001b[0m: Downloading large artifact metadata:latest, 3122.32MB. 1 files... \n",
      "\u001b[34m\u001b[1mwandb\u001b[0m:   1 of 1 files downloaded.  \n",
      "Done. 0:0:1.6 (1894.8MB/s)\n",
      "\u001b[34m\u001b[1mwandb\u001b[0m: Downloading large artifact metadata:latest, 3122.32MB. 1 files... \n",
      "\u001b[34m\u001b[1mwandb\u001b[0m:   1 of 1 files downloaded.  \n",
      "Done. 0:0:1.8 (1742.1MB/s)\n"
     ]
    },
    {
     "data": {
      "application/vnd.jupyter.widget-view+json": {
       "model_id": "5e93a492fffc456f94bd315b24e56949",
       "version_major": 2,
       "version_minor": 0
      },
      "text/plain": [
       "  0%|          | 0/2 [00:00<?, ?it/s]"
      ]
     },
     "metadata": {},
     "output_type": "display_data"
    },
    {
     "name": "stderr",
     "output_type": "stream",
     "text": [
      "Computing attributions...: 100%|██████████| 15/15 [00:13<00:00,  1.10it/s]\n"
     ]
    }
   ],
   "source": [
    "predict_save_modisco_attributions(\n",
    "    output_prefix=\"example/modisco_python_subcommands/modisco_fibroblast_0\",\n",
    "    tasks=\"cell_type == 'fibroblast' and organ == 'heart'\",\n",
    "    off_tasks=\"cell_type == 'fibroblast' and organ != 'heart'\",\n",
    "    top_n_markers=15,\n",
    "    model=model,\n",
    "    batch_size=1,\n",
    ")"
   ]
  },
  {
   "cell_type": "markdown",
   "id": "cecfe355",
   "metadata": {},
   "source": [
    "Lets run it for the second replicate:"
   ]
  },
  {
   "cell_type": "code",
   "execution_count": 6,
   "id": "8049bc6d",
   "metadata": {},
   "outputs": [
    {
     "name": "stderr",
     "output_type": "stream",
     "text": [
      "\u001b[34m\u001b[1mwandb\u001b[0m: Downloading large artifact metadata:latest, 3122.32MB. 1 files... \n",
      "\u001b[34m\u001b[1mwandb\u001b[0m:   1 of 1 files downloaded.  \n",
      "Done. 0:0:1.7 (1835.3MB/s)\n",
      "\u001b[34m\u001b[1mwandb\u001b[0m: Downloading large artifact metadata:latest, 3122.32MB. 1 files... \n",
      "\u001b[34m\u001b[1mwandb\u001b[0m:   1 of 1 files downloaded.  \n",
      "Done. 0:0:1.8 (1744.2MB/s)\n",
      "\u001b[34m\u001b[1mwandb\u001b[0m: Downloading large artifact rep1:latest, 720.03MB. 1 files... \n",
      "\u001b[34m\u001b[1mwandb\u001b[0m:   1 of 1 files downloaded.  \n",
      "Done. 0:0:0.5 (1415.1MB/s)\n"
     ]
    },
    {
     "data": {
      "application/vnd.jupyter.widget-view+json": {
       "model_id": "247b6a546d8248a89fde1430940a62e6",
       "version_major": 2,
       "version_minor": 0
      },
      "text/plain": [
       "  0%|          | 0/2 [00:00<?, ?it/s]"
      ]
     },
     "metadata": {},
     "output_type": "display_data"
    },
    {
     "name": "stderr",
     "output_type": "stream",
     "text": [
      "Computing attributions...: 100%|██████████| 15/15 [00:13<00:00,  1.10it/s]\n"
     ]
    }
   ],
   "source": [
    "predict_save_modisco_attributions(\n",
    "    output_prefix=\"example/modisco_python_subcommands/modisco_fibroblast_1\",\n",
    "    tasks=\"cell_type == 'fibroblast' and organ == 'heart'\",\n",
    "    off_tasks=\"cell_type == 'fibroblast' and organ != 'heart'\",\n",
    "    top_n_markers=15,\n",
    "    model=1,\n",
    "    batch_size=1,\n",
    ")"
   ]
  },
  {
   "cell_type": "markdown",
   "id": "d2e4af92",
   "metadata": {},
   "source": [
    "`AttributionResult` allows you to load and work with attribution results saved in HDF5 format.\n",
    "It provides convenient access to gene names, sequences, and attributions for downstream analysis.\n",
    "`agg_func` specifies how to aggregate attributions across multiple replicates or samples (e.g., 'mean', 'sum' or None) If None, attributions are not aggregated but retuned as new dimension.\n",
    "`num_workers` sets the number of parallel worker processes to use for loading and processing data, which can speed up computation.\n",
    "`correct_grad` determines whether to apply gradient correction to the attributions, which can improve interpretability in some cases."
   ]
  },
  {
   "cell_type": "code",
   "execution_count": 7,
   "id": "79f74f82",
   "metadata": {},
   "outputs": [
    {
     "name": "stdout",
     "output_type": "stream",
     "text": [
      "Genes:  ['ANKRD1', 'CASQ2', 'TBX20', 'MYOZ2', 'HSPB3', 'PLN', 'NPPA', 'SMCO1', 'POPDC2', 'TNNI3', 'MYL7', 'ASB11', 'RBM24', 'NPPB', 'MIR133A1HG']\n"
     ]
    },
    {
     "name": "stderr",
     "output_type": "stream",
     "text": [
      "Loading attributions and sequences...: 100%|██████████| 5/5 [00:00<00:00,  7.59it/s]\n"
     ]
    },
    {
     "name": "stdout",
     "output_type": "stream",
     "text": [
      "Seqs:  [[[1. 1. 1. ... 1. 0. 0.]\n",
      "  [0. 0. 0. ... 0. 1. 1.]\n",
      "  [0. 0. 0. ... 0. 0. 0.]\n",
      "  [0. 0. 0. ... 0. 0. 0.]]\n",
      "\n",
      " [[1. 0. 0. ... 1. 0. 0.]\n",
      "  [0. 1. 1. ... 0. 0. 1.]\n",
      "  [0. 0. 0. ... 0. 1. 0.]\n",
      "  [0. 0. 0. ... 0. 0. 0.]]\n",
      "\n",
      " [[1. 0. 0. ... 0. 1. 0.]\n",
      "  [0. 0. 1. ... 0. 0. 0.]\n",
      "  [0. 1. 0. ... 1. 0. 1.]\n",
      "  [0. 0. 0. ... 0. 0. 0.]]\n",
      "\n",
      " [[0. 0. 0. ... 0. 0. 1.]\n",
      "  [0. 1. 0. ... 1. 0. 0.]\n",
      "  [0. 0. 0. ... 0. 0. 0.]\n",
      "  [1. 0. 1. ... 0. 1. 0.]]\n",
      "\n",
      " [[0. 0. 0. ... 1. 0. 0.]\n",
      "  [0. 0. 1. ... 0. 0. 0.]\n",
      "  [0. 1. 0. ... 0. 0. 1.]\n",
      "  [1. 0. 0. ... 0. 1. 0.]]]\n",
      "Attrs:  [[[ 3.76145852e-06  3.03478555e-06  7.44035424e-06 ... -6.63653460e-04\n",
      "    4.05797458e-04  3.16523459e-04]\n",
      "  [ 7.55026849e-06  1.63838381e-05 -2.46401214e-06 ...  1.20408889e-03\n",
      "   -5.13944813e-04 -1.87091660e-04]\n",
      "  [-3.95166535e-06  2.12123268e-07 -1.75476748e-05 ... -3.38858253e-04\n",
      "   -3.90247933e-05  1.54834273e-04]\n",
      "  [ 1.02410469e-05  7.77581295e-06  4.79289201e-06 ...  2.04334607e-04\n",
      "    4.03160076e-04  2.12350627e-04]]\n",
      "\n",
      " [[-6.97570385e-07 -8.62505237e-06 -1.01505470e-05 ...  3.63982608e-04\n",
      "   -1.68484687e-04 -1.93401925e-05]\n",
      "  [ 2.71305908e-07  6.53875031e-06  2.02391934e-05 ... -1.00724553e-04\n",
      "   -4.64807979e-04  3.70103153e-05]\n",
      "  [-5.30066410e-06  8.39225697e-06  1.32523191e-05 ... -5.41917134e-04\n",
      "    1.13812412e-04  1.41916771e-04]\n",
      "  [-8.00210637e-06 -1.03028333e-05 -1.16753581e-05 ...  1.12934016e-04\n",
      "    1.06018910e-04 -3.66433733e-05]]\n",
      "\n",
      " [[ 6.05896548e-06 -2.37663748e-06  3.92000197e-06 ...  1.28393280e-04\n",
      "   -4.03863789e-05  3.67814645e-05]\n",
      "  [-8.24177278e-07 -5.30091552e-06  1.56831456e-05 ...  1.82856207e-04\n",
      "   -8.50484323e-05  1.96156452e-06]\n",
      "  [-1.29727255e-06 -5.29163117e-07 -1.32918512e-05 ... -2.37111172e-04\n",
      "    5.91923515e-05  5.48859017e-05]\n",
      "  [-3.15958550e-06 -8.84019664e-06  2.15492656e-06 ...  4.88488713e-05\n",
      "    1.35330674e-04 -8.76247659e-05]]\n",
      "\n",
      " [[-1.36014714e-05 -5.10507289e-06  8.32582373e-07 ...  3.51886756e-05\n",
      "    1.81178373e-05 -4.24103380e-05]\n",
      "  [ 2.71168137e-05  2.33376031e-05  8.80534026e-06 ... -5.07025675e-05\n",
      "    5.13899267e-05 -1.40666293e-05]\n",
      "  [-2.49464001e-05 -6.53428560e-06 -3.16726541e-05 ...  2.62546517e-05\n",
      "   -5.01153640e-05 -3.02389981e-06]\n",
      "  [ 1.54220847e-05 -9.85898259e-06  6.44845568e-06 ...  6.47796769e-05\n",
      "   -1.97882077e-05  1.18930311e-05]]\n",
      "\n",
      " [[-5.95685299e-06 -5.18014940e-06  6.04994420e-06 ... -2.10653108e-05\n",
      "    2.29634907e-05 -9.31743455e-06]\n",
      "  [ 5.62206424e-06  2.47596017e-06  6.78692459e-06 ...  1.00820489e-05\n",
      "    1.86815123e-06  4.94928190e-06]\n",
      "  [-1.69323505e-05  1.77675711e-05  3.42523000e-05 ...  1.01751598e-05\n",
      "    3.79442545e-05  6.58590238e-06]\n",
      "  [ 7.81596327e-07 -1.10149963e-05 -8.36851143e-06 ...  2.38808170e-05\n",
      "   -4.04723414e-05  2.38439338e-05]]]\n"
     ]
    }
   ],
   "source": [
    "from decima.interpret.attributions import AttributionResult\n",
    "\n",
    "with AttributionResult(\n",
    "    [\n",
    "        \"example/modisco_python_subcommands/modisco_fibroblast_0.attributions.h5\",\n",
    "        \"example/modisco_python_subcommands/modisco_fibroblast_1.attributions.h5\",\n",
    "    ],\n",
    "    correct_grad=False,\n",
    "    num_workers=8,\n",
    "    agg_func=\"mean\",\n",
    ") as ar:\n",
    "    genes = ar.genes\n",
    "    print(\"Genes: \", genes)\n",
    "\n",
    "    seqs, attrs = ar.load(genes[:5])\n",
    "    print(\"Seqs: \", seqs)\n",
    "    print(\"Attrs: \", attrs)"
   ]
  },
  {
   "cell_type": "markdown",
   "id": "3ece2186",
   "metadata": {},
   "source": [
    "`modisco_patterns` runs modisco and cluster seqlets into patterns:"
   ]
  },
  {
   "cell_type": "code",
   "execution_count": 8,
   "id": "220cc74d",
   "metadata": {},
   "outputs": [
    {
     "name": "stderr",
     "output_type": "stream",
     "text": [
      "\u001b[34m\u001b[1mwandb\u001b[0m: Downloading large artifact metadata:latest, 3122.32MB. 1 files... \n"
     ]
    },
    {
     "name": "stderr",
     "output_type": "stream",
     "text": [
      "\u001b[34m\u001b[1mwandb\u001b[0m:   1 of 1 files downloaded.  \n",
      "Done. 0:0:1.8 (1769.2MB/s)\n"
     ]
    },
    {
     "data": {
      "application/vnd.jupyter.widget-view+json": {
       "model_id": "8cba5c8ca6dc4d48bf502c2421c986bd",
       "version_major": 2,
       "version_minor": 0
      },
      "text/plain": [
       "  0%|          | 0/2 [00:00<?, ?it/s]"
      ]
     },
     "metadata": {},
     "output_type": "display_data"
    },
    {
     "name": "stderr",
     "output_type": "stream",
     "text": [
      "Loading attributions and sequences...: 100%|██████████| 15/15 [00:01<00:00, 10.76it/s]\n",
      "2025-10-06 18:16:03,703 - modisco-lite - INFO - Running TFMoDISco version 2.4.0\n",
      "2025-10-06 18:16:03,703 - modisco-lite - INFO - Running TFMoDISco version 2.4.0\n",
      "2025-10-06 18:16:03,704 - modisco-lite - INFO - Extracting seqlets for 15 tasks:\n",
      "2025-10-06 18:16:03,704 - modisco-lite - INFO - Extracting seqlets for 15 tasks:\n",
      "2025-10-06 18:16:03,705 - modisco-lite - INFO - - Smoothing and splitting tracks\n",
      "2025-10-06 18:16:03,705 - modisco-lite - INFO - - Smoothing and splitting tracks\n",
      "2025-10-06 18:16:03,716 - modisco-lite - INFO - - Computing null values with Laplacian null model\n",
      "2025-10-06 18:16:03,716 - modisco-lite - INFO - - Computing null values with Laplacian null model\n",
      "2025-10-06 18:16:03,762 - modisco-lite - INFO - - Computing isotonic thresholds\n",
      "2025-10-06 18:16:03,762 - modisco-lite - INFO - - Computing isotonic thresholds\n",
      "2025-10-06 18:16:03,771 - modisco-lite - INFO - - Refining thresholds\n",
      "2025-10-06 18:16:03,771 - modisco-lite - INFO - - Refining thresholds\n",
      "2025-10-06 18:16:03,851 - modisco-lite - INFO - - Extracting seqlets\n",
      "2025-10-06 18:16:03,851 - modisco-lite - INFO - - Extracting seqlets\n",
      "2025-10-06 18:16:03,863 - modisco-lite - INFO - - Extracting 454 positive seqlets\n",
      "2025-10-06 18:16:03,863 - modisco-lite - INFO - - Extracting 454 positive seqlets\n",
      "2025-10-06 18:16:03,866 - modisco-lite - INFO - - Round 0: Generating coarse resolution affinity matrix for 454 seqlets\n",
      "2025-10-06 18:16:03,866 - modisco-lite - INFO - - Round 0: Generating coarse resolution affinity matrix for 454 seqlets\n"
     ]
    },
    {
     "data": {
      "application/vnd.jupyter.widget-view+json": {
       "model_id": "dcd3b8ebdf454718b6bdbb3f794b5fe7",
       "version_major": 2,
       "version_minor": 0
      },
      "text/plain": [
       "  0%|          | 0/454 [00:00<?, ?it/s]"
      ]
     },
     "metadata": {},
     "output_type": "display_data"
    },
    {
     "name": "stderr",
     "output_type": "stream",
     "text": [
      "2025-10-06 18:16:04,194 - modisco-lite - INFO - - Round 0: Generating fine resolution affinity matrix for 454 seqlets and 454 neighbors\n",
      "2025-10-06 18:16:04,194 - modisco-lite - INFO - - Round 0: Generating fine resolution affinity matrix for 454 seqlets and 454 neighbors\n"
     ]
    },
    {
     "data": {
      "application/vnd.jupyter.widget-view+json": {
       "model_id": "c4a371939c0c45be90f1bc849637dc5c",
       "version_major": 2,
       "version_minor": 0
      },
      "text/plain": [
       "  0%|          | 0/454 [00:00<?, ?it/s]"
      ]
     },
     "metadata": {},
     "output_type": "display_data"
    },
    {
     "data": {
      "application/vnd.jupyter.widget-view+json": {
       "model_id": "3fedc310d36e41ae8ad95bd14d41cf26",
       "version_major": 2,
       "version_minor": 0
      },
      "text/plain": [
       "  0%|          | 0/454 [00:00<?, ?it/s]"
      ]
     },
     "metadata": {},
     "output_type": "display_data"
    },
    {
     "name": "stderr",
     "output_type": "stream",
     "text": [
      "2025-10-06 18:16:06,868 - modisco-lite - INFO - - Round 0: Filtering seqlets by correlation\n",
      "2025-10-06 18:16:06,868 - modisco-lite - INFO - - Round 0: Filtering seqlets by correlation\n",
      "2025-10-06 18:16:07,102 - modisco-lite - INFO - - Round 0: Density adaptation\n",
      "2025-10-06 18:16:07,102 - modisco-lite - INFO - - Round 0: Density adaptation\n",
      "2025-10-06 18:16:07,782 - modisco-lite - INFO - - Round 0: Clustering with Leiden algorithm\n",
      "2025-10-06 18:16:07,782 - modisco-lite - INFO - - Round 0: Clustering with Leiden algorithm\n"
     ]
    },
    {
     "name": "stdout",
     "output_type": "stream",
     "text": [
      "[Parallel(n_jobs=8)]: Using backend LokyBackend with 8 concurrent workers.\n",
      "[Parallel(n_jobs=8)]: Done   1 tasks      | elapsed:   12.2s\n",
      "[Parallel(n_jobs=8)]: Done   2 out of  16 | elapsed:   12.2s remaining:  1.4min\n",
      "[Parallel(n_jobs=8)]: Done   3 out of  16 | elapsed:   12.2s remaining:   52.8s\n",
      "[Parallel(n_jobs=8)]: Done   4 out of  16 | elapsed:   12.3s remaining:   36.8s\n",
      "[Parallel(n_jobs=8)]: Done   5 out of  16 | elapsed:   12.3s remaining:   27.2s\n",
      "[Parallel(n_jobs=8)]: Done   6 out of  16 | elapsed:   12.4s remaining:   20.7s\n",
      "[Parallel(n_jobs=8)]: Done   7 out of  16 | elapsed:   12.4s remaining:   16.0s\n",
      "[Parallel(n_jobs=8)]: Done   8 out of  16 | elapsed:   12.5s remaining:   12.5s\n",
      "[Parallel(n_jobs=8)]: Done   9 out of  16 | elapsed:   12.8s remaining:   10.0s\n",
      "[Parallel(n_jobs=8)]: Done  10 out of  16 | elapsed:   13.0s remaining:    7.8s\n",
      "[Parallel(n_jobs=8)]: Done  11 out of  16 | elapsed:   13.1s remaining:    6.0s\n",
      "[Parallel(n_jobs=8)]: Done  12 out of  16 | elapsed:   13.2s remaining:    4.4s\n",
      "[Parallel(n_jobs=8)]: Done  13 out of  16 | elapsed:   13.2s remaining:    3.1s\n",
      "[Parallel(n_jobs=8)]: Done  14 out of  16 | elapsed:   13.4s remaining:    1.9s\n",
      "[Parallel(n_jobs=8)]: Done  16 out of  16 | elapsed:   13.5s finished\n"
     ]
    },
    {
     "name": "stderr",
     "output_type": "stream",
     "text": [
      "2025-10-06 18:16:21,397 - modisco-lite - INFO - Leiden clustering quality for seed 0: 0.02092204286706559\n",
      "2025-10-06 18:16:21,397 - modisco-lite - INFO - Leiden clustering quality for seed 0: 0.02092204286706559\n",
      "2025-10-06 18:16:21,398 - modisco-lite - INFO - Leiden clustering quality for seed 1: 0.020929666377409343\n",
      "2025-10-06 18:16:21,398 - modisco-lite - INFO - Leiden clustering quality for seed 1: 0.020929666377409343\n",
      "2025-10-06 18:16:21,398 - modisco-lite - INFO - Leiden clustering quality for seed 2: 0.020363825585150153\n",
      "2025-10-06 18:16:21,398 - modisco-lite - INFO - Leiden clustering quality for seed 2: 0.020363825585150153\n",
      "2025-10-06 18:16:21,398 - modisco-lite - INFO - Leiden clustering quality for seed 3: 0.020905953578916604\n",
      "2025-10-06 18:16:21,398 - modisco-lite - INFO - Leiden clustering quality for seed 3: 0.020905953578916604\n",
      "2025-10-06 18:16:21,399 - modisco-lite - INFO - Leiden clustering quality for seed 4: 0.020790482063174655\n",
      "2025-10-06 18:16:21,399 - modisco-lite - INFO - Leiden clustering quality for seed 4: 0.020790482063174655\n",
      "2025-10-06 18:16:21,399 - modisco-lite - INFO - Leiden clustering quality for seed 5: 0.02092843901868041\n",
      "2025-10-06 18:16:21,399 - modisco-lite - INFO - Leiden clustering quality for seed 5: 0.02092843901868041\n",
      "2025-10-06 18:16:21,400 - modisco-lite - INFO - Leiden clustering quality for seed 6: 0.020802270889506792\n",
      "2025-10-06 18:16:21,400 - modisco-lite - INFO - Leiden clustering quality for seed 6: 0.020802270889506792\n",
      "2025-10-06 18:16:21,400 - modisco-lite - INFO - Leiden clustering quality for seed 7: 0.020795473460761105\n",
      "2025-10-06 18:16:21,400 - modisco-lite - INFO - Leiden clustering quality for seed 7: 0.020795473460761105\n",
      "2025-10-06 18:16:21,401 - modisco-lite - INFO - Leiden clustering quality for seed 8: 0.02079413413859788\n",
      "2025-10-06 18:16:21,401 - modisco-lite - INFO - Leiden clustering quality for seed 8: 0.02079413413859788\n",
      "2025-10-06 18:16:21,401 - modisco-lite - INFO - Leiden clustering quality for seed 9: 0.020929666377409343\n",
      "2025-10-06 18:16:21,401 - modisco-lite - INFO - Leiden clustering quality for seed 9: 0.020929666377409343\n",
      "2025-10-06 18:16:21,402 - modisco-lite - INFO - Leiden clustering quality for seed 10: 0.020811249046675816\n",
      "2025-10-06 18:16:21,402 - modisco-lite - INFO - Leiden clustering quality for seed 10: 0.020811249046675816\n",
      "2025-10-06 18:16:21,402 - modisco-lite - INFO - Leiden clustering quality for seed 11: 0.020873329768449297\n",
      "2025-10-06 18:16:21,402 - modisco-lite - INFO - Leiden clustering quality for seed 11: 0.020873329768449297\n",
      "2025-10-06 18:16:21,403 - modisco-lite - INFO - Leiden clustering quality for seed 12: 0.020928540590008378\n",
      "2025-10-06 18:16:21,403 - modisco-lite - INFO - Leiden clustering quality for seed 12: 0.020928540590008378\n",
      "2025-10-06 18:16:21,403 - modisco-lite - INFO - Leiden clustering quality for seed 13: 0.020797440246157855\n",
      "2025-10-06 18:16:21,403 - modisco-lite - INFO - Leiden clustering quality for seed 13: 0.020797440246157855\n",
      "2025-10-06 18:16:21,403 - modisco-lite - INFO - Leiden clustering quality for seed 14: 0.02092204286706559\n",
      "2025-10-06 18:16:21,403 - modisco-lite - INFO - Leiden clustering quality for seed 14: 0.02092204286706559\n",
      "2025-10-06 18:16:21,404 - modisco-lite - INFO - Leiden clustering quality for seed 15: 0.020923814801806766\n",
      "2025-10-06 18:16:21,404 - modisco-lite - INFO - Leiden clustering quality for seed 15: 0.020923814801806766\n",
      "2025-10-06 18:16:21,404 - modisco-lite - INFO - - Round 0: Generating patterns from clusters\n",
      "2025-10-06 18:16:21,404 - modisco-lite - INFO - - Round 0: Generating patterns from clusters\n",
      "Generating patterns from clusters:: 100%|██████████| 5/5 [00:02<00:00,  2.34it/s]\n",
      "2025-10-06 18:16:23,545 - modisco-lite - INFO - - Round 1: Generating coarse resolution affinity matrix for 407 seqlets\n",
      "2025-10-06 18:16:23,545 - modisco-lite - INFO - - Round 1: Generating coarse resolution affinity matrix for 407 seqlets\n"
     ]
    },
    {
     "data": {
      "application/vnd.jupyter.widget-view+json": {
       "model_id": "0f1d86d10d1e48bb9ce27b29f10eeeb9",
       "version_major": 2,
       "version_minor": 0
      },
      "text/plain": [
       "  0%|          | 0/407 [00:00<?, ?it/s]"
      ]
     },
     "metadata": {},
     "output_type": "display_data"
    },
    {
     "name": "stderr",
     "output_type": "stream",
     "text": [
      "2025-10-06 18:16:23,788 - modisco-lite - INFO - - Round 1: Generating fine resolution affinity matrix for 407 seqlets and 407 neighbors\n",
      "2025-10-06 18:16:23,788 - modisco-lite - INFO - - Round 1: Generating fine resolution affinity matrix for 407 seqlets and 407 neighbors\n"
     ]
    },
    {
     "data": {
      "application/vnd.jupyter.widget-view+json": {
       "model_id": "0ebc915da7884d8f99e3d6fb067e4896",
       "version_major": 2,
       "version_minor": 0
      },
      "text/plain": [
       "  0%|          | 0/407 [00:00<?, ?it/s]"
      ]
     },
     "metadata": {},
     "output_type": "display_data"
    },
    {
     "data": {
      "application/vnd.jupyter.widget-view+json": {
       "model_id": "8955f0ef77ee47b0ba5af658db3c65e8",
       "version_major": 2,
       "version_minor": 0
      },
      "text/plain": [
       "  0%|          | 0/407 [00:00<?, ?it/s]"
      ]
     },
     "metadata": {},
     "output_type": "display_data"
    },
    {
     "name": "stderr",
     "output_type": "stream",
     "text": [
      "2025-10-06 18:16:27,265 - modisco-lite - INFO - - Round 1: Density adaptation\n",
      "2025-10-06 18:16:27,265 - modisco-lite - INFO - - Round 1: Density adaptation\n",
      "2025-10-06 18:16:27,911 - modisco-lite - INFO - - Round 1: Clustering with Leiden algorithm\n",
      "2025-10-06 18:16:27,911 - modisco-lite - INFO - - Round 1: Clustering with Leiden algorithm\n"
     ]
    },
    {
     "name": "stdout",
     "output_type": "stream",
     "text": [
      "[Parallel(n_jobs=8)]: Using backend LokyBackend with 8 concurrent workers.\n",
      "[Parallel(n_jobs=8)]: Done   1 tasks      | elapsed:    0.5s\n",
      "[Parallel(n_jobs=8)]: Done   2 out of  16 | elapsed:    0.6s remaining:    3.9s\n",
      "[Parallel(n_jobs=8)]: Done   3 out of  16 | elapsed:    0.6s remaining:    2.8s\n",
      "[Parallel(n_jobs=8)]: Done   4 out of  16 | elapsed:    0.7s remaining:    2.1s\n",
      "[Parallel(n_jobs=8)]: Done   5 out of  16 | elapsed:    0.7s remaining:    1.5s\n",
      "[Parallel(n_jobs=8)]: Done   6 out of  16 | elapsed:    0.7s remaining:    1.2s\n",
      "[Parallel(n_jobs=8)]: Done   7 out of  16 | elapsed:    0.8s remaining:    1.0s\n",
      "[Parallel(n_jobs=8)]: Done   8 out of  16 | elapsed:    1.0s remaining:    1.0s\n",
      "[Parallel(n_jobs=8)]: Done   9 out of  16 | elapsed:    1.2s remaining:    0.9s\n",
      "[Parallel(n_jobs=8)]: Done  10 out of  16 | elapsed:    1.2s remaining:    0.7s\n",
      "[Parallel(n_jobs=8)]: Done  11 out of  16 | elapsed:    1.4s remaining:    0.6s\n",
      "[Parallel(n_jobs=8)]: Done  12 out of  16 | elapsed:    1.6s remaining:    0.5s\n",
      "[Parallel(n_jobs=8)]: Done  13 out of  16 | elapsed:    1.7s remaining:    0.4s\n",
      "[Parallel(n_jobs=8)]: Done  14 out of  16 | elapsed:    1.8s remaining:    0.3s\n"
     ]
    },
    {
     "name": "stderr",
     "output_type": "stream",
     "text": [
      "2025-10-06 18:16:29,979 - modisco-lite - INFO - Leiden clustering quality for seed 0: 0.025002069983353303\n",
      "2025-10-06 18:16:29,979 - modisco-lite - INFO - Leiden clustering quality for seed 0: 0.025002069983353303\n",
      "2025-10-06 18:16:29,980 - modisco-lite - INFO - Leiden clustering quality for seed 1: 0.02508670994886661\n",
      "2025-10-06 18:16:29,980 - modisco-lite - INFO - Leiden clustering quality for seed 1: 0.02508670994886661\n",
      "2025-10-06 18:16:29,981 - modisco-lite - INFO - Leiden clustering quality for seed 2: 0.024970708770517408\n",
      "2025-10-06 18:16:29,981 - modisco-lite - INFO - Leiden clustering quality for seed 2: 0.024970708770517408\n",
      "2025-10-06 18:16:29,981 - modisco-lite - INFO - Leiden clustering quality for seed 3: 0.02513240247110472\n",
      "2025-10-06 18:16:29,981 - modisco-lite - INFO - Leiden clustering quality for seed 3: 0.02513240247110472\n",
      "2025-10-06 18:16:29,982 - modisco-lite - INFO - Leiden clustering quality for seed 4: 0.02514310327023221\n",
      "2025-10-06 18:16:29,982 - modisco-lite - INFO - Leiden clustering quality for seed 4: 0.02514310327023221\n",
      "2025-10-06 18:16:29,982 - modisco-lite - INFO - Leiden clustering quality for seed 5: 0.02499615731307966\n",
      "2025-10-06 18:16:29,982 - modisco-lite - INFO - Leiden clustering quality for seed 5: 0.02499615731307966\n",
      "2025-10-06 18:16:29,983 - modisco-lite - INFO - Leiden clustering quality for seed 6: 0.025149450184890565\n",
      "2025-10-06 18:16:29,983 - modisco-lite - INFO - Leiden clustering quality for seed 6: 0.025149450184890565\n",
      "2025-10-06 18:16:29,983 - modisco-lite - INFO - Leiden clustering quality for seed 7: 0.02508670994886661\n",
      "2025-10-06 18:16:29,983 - modisco-lite - INFO - Leiden clustering quality for seed 7: 0.02508670994886661\n",
      "2025-10-06 18:16:29,984 - modisco-lite - INFO - Leiden clustering quality for seed 8: 0.024964847410963064\n",
      "2025-10-06 18:16:29,984 - modisco-lite - INFO - Leiden clustering quality for seed 8: 0.024964847410963064\n",
      "2025-10-06 18:16:29,985 - modisco-lite - INFO - Leiden clustering quality for seed 9: 0.025146262320554554\n",
      "2025-10-06 18:16:29,985 - modisco-lite - INFO - Leiden clustering quality for seed 9: 0.025146262320554554\n",
      "2025-10-06 18:16:29,985 - modisco-lite - INFO - Leiden clustering quality for seed 10: 0.024962589681733253\n",
      "2025-10-06 18:16:29,985 - modisco-lite - INFO - Leiden clustering quality for seed 10: 0.024962589681733253\n",
      "2025-10-06 18:16:29,986 - modisco-lite - INFO - Leiden clustering quality for seed 11: 0.02508628049478435\n",
      "2025-10-06 18:16:29,986 - modisco-lite - INFO - Leiden clustering quality for seed 11: 0.02508628049478435\n",
      "2025-10-06 18:16:29,986 - modisco-lite - INFO - Leiden clustering quality for seed 12: 0.02513924665524891\n",
      "2025-10-06 18:16:29,986 - modisco-lite - INFO - Leiden clustering quality for seed 12: 0.02513924665524891\n",
      "2025-10-06 18:16:29,987 - modisco-lite - INFO - Leiden clustering quality for seed 13: 0.025084922401764815\n",
      "2025-10-06 18:16:29,987 - modisco-lite - INFO - Leiden clustering quality for seed 13: 0.025084922401764815\n",
      "2025-10-06 18:16:29,987 - modisco-lite - INFO - Leiden clustering quality for seed 14: 0.025131177812629434\n",
      "2025-10-06 18:16:29,987 - modisco-lite - INFO - Leiden clustering quality for seed 14: 0.025131177812629434\n",
      "2025-10-06 18:16:29,988 - modisco-lite - INFO - Leiden clustering quality for seed 15: 0.02499565203161923\n",
      "2025-10-06 18:16:29,988 - modisco-lite - INFO - Leiden clustering quality for seed 15: 0.02499565203161923\n",
      "2025-10-06 18:16:29,988 - modisco-lite - INFO - - Round 1: Generating patterns from clusters\n",
      "2025-10-06 18:16:29,988 - modisco-lite - INFO - - Round 1: Generating patterns from clusters\n"
     ]
    },
    {
     "name": "stdout",
     "output_type": "stream",
     "text": [
      "[Parallel(n_jobs=8)]: Done  16 out of  16 | elapsed:    2.0s finished\n"
     ]
    },
    {
     "name": "stderr",
     "output_type": "stream",
     "text": [
      "Generating patterns from clusters:: 100%|██████████| 6/6 [00:02<00:00,  2.59it/s]\n",
      "2025-10-06 18:16:32,307 - modisco-lite - INFO - Detecting spurious merging of patterns\n",
      "2025-10-06 18:16:32,307 - modisco-lite - INFO - Detecting spurious merging of patterns\n",
      "Detecting spurious merging of patterns:: 100%|██████████| 5/5 [00:07<00:00,  1.59s/it]\n",
      "2025-10-06 18:16:41,865 - modisco-lite - INFO - Filtering and merging patterns\n",
      "2025-10-06 18:16:41,865 - modisco-lite - INFO - Filtering and merging patterns\n",
      "Filtering patterns:: 100%|██████████| 11/11 [00:00<00:00, 13007.43it/s]\n",
      "Computing subpatterns:: 100%|██████████| 9/9 [00:00<00:00, 38.31it/s]\n",
      "2025-10-06 18:16:42,104 - modisco-lite - INFO - - Extracting 329 negative seqlets\n",
      "2025-10-06 18:16:42,104 - modisco-lite - INFO - - Extracting 329 negative seqlets\n",
      "2025-10-06 18:16:42,107 - modisco-lite - INFO - - Round 0: Generating coarse resolution affinity matrix for 329 seqlets\n",
      "2025-10-06 18:16:42,107 - modisco-lite - INFO - - Round 0: Generating coarse resolution affinity matrix for 329 seqlets\n"
     ]
    },
    {
     "data": {
      "application/vnd.jupyter.widget-view+json": {
       "model_id": "8985cc5d207a4055bf042d80eaa613d0",
       "version_major": 2,
       "version_minor": 0
      },
      "text/plain": [
       "  0%|          | 0/329 [00:00<?, ?it/s]"
      ]
     },
     "metadata": {},
     "output_type": "display_data"
    },
    {
     "name": "stderr",
     "output_type": "stream",
     "text": [
      "2025-10-06 18:16:42,352 - modisco-lite - INFO - - Round 0: Generating fine resolution affinity matrix for 329 seqlets and 329 neighbors\n",
      "2025-10-06 18:16:42,352 - modisco-lite - INFO - - Round 0: Generating fine resolution affinity matrix for 329 seqlets and 329 neighbors\n"
     ]
    },
    {
     "data": {
      "application/vnd.jupyter.widget-view+json": {
       "model_id": "b161f4e6fabb4e52a2c7224c53f6ee91",
       "version_major": 2,
       "version_minor": 0
      },
      "text/plain": [
       "  0%|          | 0/329 [00:00<?, ?it/s]"
      ]
     },
     "metadata": {},
     "output_type": "display_data"
    },
    {
     "data": {
      "application/vnd.jupyter.widget-view+json": {
       "model_id": "b0ceb430551f41718a3745b90b1dfbd1",
       "version_major": 2,
       "version_minor": 0
      },
      "text/plain": [
       "  0%|          | 0/329 [00:00<?, ?it/s]"
      ]
     },
     "metadata": {},
     "output_type": "display_data"
    },
    {
     "name": "stderr",
     "output_type": "stream",
     "text": [
      "2025-10-06 18:16:43,824 - modisco-lite - INFO - - Round 0: Filtering seqlets by correlation\n",
      "2025-10-06 18:16:43,824 - modisco-lite - INFO - - Round 0: Filtering seqlets by correlation\n",
      "2025-10-06 18:16:43,971 - modisco-lite - INFO - - Round 0: Density adaptation\n",
      "2025-10-06 18:16:43,971 - modisco-lite - INFO - - Round 0: Density adaptation\n",
      "2025-10-06 18:16:44,298 - modisco-lite - INFO - - Round 0: Clustering with Leiden algorithm\n",
      "2025-10-06 18:16:44,298 - modisco-lite - INFO - - Round 0: Clustering with Leiden algorithm\n"
     ]
    },
    {
     "name": "stdout",
     "output_type": "stream",
     "text": [
      "[Parallel(n_jobs=8)]: Using backend LokyBackend with 8 concurrent workers.\n",
      "[Parallel(n_jobs=8)]: Done   1 tasks      | elapsed:    7.2s\n",
      "[Parallel(n_jobs=8)]: Done   2 out of  16 | elapsed:    7.4s remaining:   51.5s\n",
      "[Parallel(n_jobs=8)]: Done   3 out of  16 | elapsed:    7.4s remaining:   32.2s\n",
      "[Parallel(n_jobs=8)]: Done   4 out of  16 | elapsed:    7.5s remaining:   22.6s\n",
      "[Parallel(n_jobs=8)]: Done   5 out of  16 | elapsed:    7.6s remaining:   16.7s\n",
      "[Parallel(n_jobs=8)]: Done   6 out of  16 | elapsed:    7.6s remaining:   12.6s\n",
      "[Parallel(n_jobs=8)]: Done   7 out of  16 | elapsed:    7.6s remaining:    9.8s\n",
      "[Parallel(n_jobs=8)]: Done   8 out of  16 | elapsed:    7.6s remaining:    7.6s\n",
      "[Parallel(n_jobs=8)]: Done   9 out of  16 | elapsed:    7.7s remaining:    6.0s\n",
      "[Parallel(n_jobs=8)]: Done  10 out of  16 | elapsed:    7.9s remaining:    4.7s\n",
      "[Parallel(n_jobs=8)]: Done  11 out of  16 | elapsed:    7.9s remaining:    3.6s\n",
      "[Parallel(n_jobs=8)]: Done  12 out of  16 | elapsed:    8.0s remaining:    2.7s\n",
      "[Parallel(n_jobs=8)]: Done  13 out of  16 | elapsed:    8.0s remaining:    1.8s\n",
      "[Parallel(n_jobs=8)]: Done  14 out of  16 | elapsed:    8.0s remaining:    1.1s\n"
     ]
    },
    {
     "name": "stderr",
     "output_type": "stream",
     "text": [
      "2025-10-06 18:16:52,494 - modisco-lite - INFO - Leiden clustering quality for seed 0: 0.026763578635124848\n",
      "2025-10-06 18:16:52,494 - modisco-lite - INFO - Leiden clustering quality for seed 0: 0.026763578635124848\n",
      "2025-10-06 18:16:52,495 - modisco-lite - INFO - Leiden clustering quality for seed 1: 0.0265094500699511\n",
      "2025-10-06 18:16:52,495 - modisco-lite - INFO - Leiden clustering quality for seed 1: 0.0265094500699511\n",
      "2025-10-06 18:16:52,496 - modisco-lite - INFO - Leiden clustering quality for seed 2: 0.02654428903412237\n",
      "2025-10-06 18:16:52,496 - modisco-lite - INFO - Leiden clustering quality for seed 2: 0.02654428903412237\n",
      "2025-10-06 18:16:52,496 - modisco-lite - INFO - Leiden clustering quality for seed 3: 0.026721538949614872\n",
      "2025-10-06 18:16:52,496 - modisco-lite - INFO - Leiden clustering quality for seed 3: 0.026721538949614872\n",
      "2025-10-06 18:16:52,497 - modisco-lite - INFO - Leiden clustering quality for seed 4: 0.026735509288973492\n",
      "2025-10-06 18:16:52,497 - modisco-lite - INFO - Leiden clustering quality for seed 4: 0.026735509288973492\n",
      "2025-10-06 18:16:52,497 - modisco-lite - INFO - Leiden clustering quality for seed 5: 0.02667227717530735\n",
      "2025-10-06 18:16:52,497 - modisco-lite - INFO - Leiden clustering quality for seed 5: 0.02667227717530735\n",
      "2025-10-06 18:16:52,498 - modisco-lite - INFO - Leiden clustering quality for seed 6: 0.02657103680991128\n",
      "2025-10-06 18:16:52,498 - modisco-lite - INFO - Leiden clustering quality for seed 6: 0.02657103680991128\n",
      "2025-10-06 18:16:52,498 - modisco-lite - INFO - Leiden clustering quality for seed 7: 0.026660907084892486\n",
      "2025-10-06 18:16:52,498 - modisco-lite - INFO - Leiden clustering quality for seed 7: 0.026660907084892486\n",
      "2025-10-06 18:16:52,499 - modisco-lite - INFO - Leiden clustering quality for seed 8: 0.026594784402216663\n",
      "2025-10-06 18:16:52,499 - modisco-lite - INFO - Leiden clustering quality for seed 8: 0.026594784402216663\n",
      "2025-10-06 18:16:52,499 - modisco-lite - INFO - Leiden clustering quality for seed 9: 0.0265498166549464\n",
      "2025-10-06 18:16:52,499 - modisco-lite - INFO - Leiden clustering quality for seed 9: 0.0265498166549464\n",
      "2025-10-06 18:16:52,500 - modisco-lite - INFO - Leiden clustering quality for seed 10: 0.026736134589607066\n",
      "2025-10-06 18:16:52,500 - modisco-lite - INFO - Leiden clustering quality for seed 10: 0.026736134589607066\n",
      "2025-10-06 18:16:52,500 - modisco-lite - INFO - Leiden clustering quality for seed 11: 0.026543460372326553\n",
      "2025-10-06 18:16:52,500 - modisco-lite - INFO - Leiden clustering quality for seed 11: 0.026543460372326553\n",
      "2025-10-06 18:16:52,500 - modisco-lite - INFO - Leiden clustering quality for seed 12: 0.026605394300180895\n",
      "2025-10-06 18:16:52,500 - modisco-lite - INFO - Leiden clustering quality for seed 12: 0.026605394300180895\n",
      "2025-10-06 18:16:52,501 - modisco-lite - INFO - Leiden clustering quality for seed 13: 0.02666441289851534\n",
      "2025-10-06 18:16:52,501 - modisco-lite - INFO - Leiden clustering quality for seed 13: 0.02666441289851534\n",
      "2025-10-06 18:16:52,501 - modisco-lite - INFO - Leiden clustering quality for seed 14: 0.026607382962757012\n",
      "2025-10-06 18:16:52,501 - modisco-lite - INFO - Leiden clustering quality for seed 14: 0.026607382962757012\n",
      "2025-10-06 18:16:52,502 - modisco-lite - INFO - Leiden clustering quality for seed 15: 0.026671836351827943\n",
      "2025-10-06 18:16:52,502 - modisco-lite - INFO - Leiden clustering quality for seed 15: 0.026671836351827943\n",
      "2025-10-06 18:16:52,502 - modisco-lite - INFO - - Round 0: Generating patterns from clusters\n",
      "2025-10-06 18:16:52,502 - modisco-lite - INFO - - Round 0: Generating patterns from clusters\n"
     ]
    },
    {
     "name": "stdout",
     "output_type": "stream",
     "text": [
      "[Parallel(n_jobs=8)]: Done  16 out of  16 | elapsed:    8.2s finished\n"
     ]
    },
    {
     "name": "stderr",
     "output_type": "stream",
     "text": [
      "Generating patterns from clusters:: 100%|██████████| 6/6 [00:01<00:00,  4.27it/s]\n",
      "2025-10-06 18:16:53,909 - modisco-lite - INFO - - Round 1: Generating coarse resolution affinity matrix for 232 seqlets\n",
      "2025-10-06 18:16:53,909 - modisco-lite - INFO - - Round 1: Generating coarse resolution affinity matrix for 232 seqlets\n"
     ]
    },
    {
     "data": {
      "application/vnd.jupyter.widget-view+json": {
       "model_id": "46af569105d6453c8326381f66292057",
       "version_major": 2,
       "version_minor": 0
      },
      "text/plain": [
       "  0%|          | 0/232 [00:00<?, ?it/s]"
      ]
     },
     "metadata": {},
     "output_type": "display_data"
    },
    {
     "name": "stderr",
     "output_type": "stream",
     "text": [
      "2025-10-06 18:16:54,025 - modisco-lite - INFO - - Round 1: Generating fine resolution affinity matrix for 232 seqlets and 232 neighbors\n",
      "2025-10-06 18:16:54,025 - modisco-lite - INFO - - Round 1: Generating fine resolution affinity matrix for 232 seqlets and 232 neighbors\n"
     ]
    },
    {
     "data": {
      "application/vnd.jupyter.widget-view+json": {
       "model_id": "d41cbdd7c77b4d5a9e6245f483a4d541",
       "version_major": 2,
       "version_minor": 0
      },
      "text/plain": [
       "  0%|          | 0/232 [00:00<?, ?it/s]"
      ]
     },
     "metadata": {},
     "output_type": "display_data"
    },
    {
     "data": {
      "application/vnd.jupyter.widget-view+json": {
       "model_id": "6943545224ca448487be97135b84be36",
       "version_major": 2,
       "version_minor": 0
      },
      "text/plain": [
       "  0%|          | 0/232 [00:00<?, ?it/s]"
      ]
     },
     "metadata": {},
     "output_type": "display_data"
    },
    {
     "name": "stderr",
     "output_type": "stream",
     "text": [
      "2025-10-06 18:16:55,143 - modisco-lite - INFO - - Round 1: Density adaptation\n",
      "2025-10-06 18:16:55,143 - modisco-lite - INFO - - Round 1: Density adaptation\n",
      "2025-10-06 18:16:55,363 - modisco-lite - INFO - - Round 1: Clustering with Leiden algorithm\n",
      "2025-10-06 18:16:55,363 - modisco-lite - INFO - - Round 1: Clustering with Leiden algorithm\n"
     ]
    },
    {
     "name": "stdout",
     "output_type": "stream",
     "text": [
      "[Parallel(n_jobs=8)]: Using backend LokyBackend with 8 concurrent workers.\n",
      "[Parallel(n_jobs=8)]: Done   1 tasks      | elapsed:    0.2s\n",
      "[Parallel(n_jobs=8)]: Batch computation too fast (0.19564294815063477s.) Setting batch_size=2.\n",
      "[Parallel(n_jobs=8)]: Done   2 out of  16 | elapsed:    0.2s remaining:    1.4s\n",
      "[Parallel(n_jobs=8)]: Done   3 out of  16 | elapsed:    0.2s remaining:    0.9s\n",
      "[Parallel(n_jobs=8)]: Done   4 out of  16 | elapsed:    0.2s remaining:    0.6s\n",
      "[Parallel(n_jobs=8)]: Done   5 out of  16 | elapsed:    0.2s remaining:    0.5s\n",
      "[Parallel(n_jobs=8)]: Done   6 out of  16 | elapsed:    0.2s remaining:    0.4s\n",
      "[Parallel(n_jobs=8)]: Done   7 out of  16 | elapsed:    0.2s remaining:    0.3s\n",
      "[Parallel(n_jobs=8)]: Done   8 out of  16 | elapsed:    0.3s remaining:    0.3s\n",
      "[Parallel(n_jobs=8)]: Done   9 out of  16 | elapsed:    0.4s remaining:    0.3s\n"
     ]
    },
    {
     "name": "stderr",
     "output_type": "stream",
     "text": [
      "2025-10-06 18:16:55,864 - modisco-lite - INFO - Leiden clustering quality for seed 0: 0.036596707967135385\n",
      "2025-10-06 18:16:55,864 - modisco-lite - INFO - Leiden clustering quality for seed 0: 0.036596707967135385\n",
      "2025-10-06 18:16:55,865 - modisco-lite - INFO - Leiden clustering quality for seed 1: 0.036607288086638164\n",
      "2025-10-06 18:16:55,865 - modisco-lite - INFO - Leiden clustering quality for seed 1: 0.036607288086638164\n",
      "2025-10-06 18:16:55,866 - modisco-lite - INFO - Leiden clustering quality for seed 2: 0.03657606307660279\n",
      "2025-10-06 18:16:55,866 - modisco-lite - INFO - Leiden clustering quality for seed 2: 0.03657606307660279\n",
      "2025-10-06 18:16:55,866 - modisco-lite - INFO - Leiden clustering quality for seed 3: 0.03660305121676245\n",
      "2025-10-06 18:16:55,866 - modisco-lite - INFO - Leiden clustering quality for seed 3: 0.03660305121676245\n",
      "2025-10-06 18:16:55,867 - modisco-lite - INFO - Leiden clustering quality for seed 4: 0.036607288086638164\n",
      "2025-10-06 18:16:55,867 - modisco-lite - INFO - Leiden clustering quality for seed 4: 0.036607288086638164\n",
      "2025-10-06 18:16:55,867 - modisco-lite - INFO - Leiden clustering quality for seed 5: 0.03657606307660279\n",
      "2025-10-06 18:16:55,867 - modisco-lite - INFO - Leiden clustering quality for seed 5: 0.03657606307660279\n",
      "2025-10-06 18:16:55,868 - modisco-lite - INFO - Leiden clustering quality for seed 6: 0.036607288086638164\n",
      "2025-10-06 18:16:55,868 - modisco-lite - INFO - Leiden clustering quality for seed 6: 0.036607288086638164\n",
      "2025-10-06 18:16:55,868 - modisco-lite - INFO - Leiden clustering quality for seed 7: 0.03656872531629366\n",
      "2025-10-06 18:16:55,868 - modisco-lite - INFO - Leiden clustering quality for seed 7: 0.03656872531629366\n",
      "2025-10-06 18:16:55,870 - modisco-lite - INFO - Leiden clustering quality for seed 8: 0.03659722894571927\n",
      "2025-10-06 18:16:55,870 - modisco-lite - INFO - Leiden clustering quality for seed 8: 0.03659722894571927\n",
      "2025-10-06 18:16:55,870 - modisco-lite - INFO - Leiden clustering quality for seed 9: 0.03660305121676245\n",
      "2025-10-06 18:16:55,870 - modisco-lite - INFO - Leiden clustering quality for seed 9: 0.03660305121676245\n",
      "2025-10-06 18:16:55,871 - modisco-lite - INFO - Leiden clustering quality for seed 10: 0.036566275851921744\n",
      "2025-10-06 18:16:55,871 - modisco-lite - INFO - Leiden clustering quality for seed 10: 0.036566275851921744\n",
      "2025-10-06 18:16:55,872 - modisco-lite - INFO - Leiden clustering quality for seed 11: 0.03657606307660279\n",
      "2025-10-06 18:16:55,872 - modisco-lite - INFO - Leiden clustering quality for seed 11: 0.03657606307660279\n",
      "2025-10-06 18:16:55,872 - modisco-lite - INFO - Leiden clustering quality for seed 12: 0.036607288086638164\n",
      "2025-10-06 18:16:55,872 - modisco-lite - INFO - Leiden clustering quality for seed 12: 0.036607288086638164\n",
      "2025-10-06 18:16:55,873 - modisco-lite - INFO - Leiden clustering quality for seed 13: 0.036566275851921744\n",
      "2025-10-06 18:16:55,873 - modisco-lite - INFO - Leiden clustering quality for seed 13: 0.036566275851921744\n",
      "2025-10-06 18:16:55,873 - modisco-lite - INFO - Leiden clustering quality for seed 14: 0.036607288086638164\n",
      "2025-10-06 18:16:55,873 - modisco-lite - INFO - Leiden clustering quality for seed 14: 0.036607288086638164\n",
      "2025-10-06 18:16:55,874 - modisco-lite - INFO - Leiden clustering quality for seed 15: 0.036579117967440684\n",
      "2025-10-06 18:16:55,874 - modisco-lite - INFO - Leiden clustering quality for seed 15: 0.036579117967440684\n",
      "2025-10-06 18:16:55,874 - modisco-lite - INFO - - Round 1: Generating patterns from clusters\n",
      "2025-10-06 18:16:55,874 - modisco-lite - INFO - - Round 1: Generating patterns from clusters\n"
     ]
    },
    {
     "name": "stdout",
     "output_type": "stream",
     "text": [
      "[Parallel(n_jobs=8)]: Done  10 out of  16 | elapsed:    0.4s remaining:    0.2s\n",
      "[Parallel(n_jobs=8)]: Done  11 out of  16 | elapsed:    0.4s remaining:    0.2s\n",
      "[Parallel(n_jobs=8)]: Done  12 out of  16 | elapsed:    0.4s remaining:    0.1s\n",
      "[Parallel(n_jobs=8)]: Done  13 out of  16 | elapsed:    0.5s remaining:    0.1s\n",
      "[Parallel(n_jobs=8)]: Done  14 out of  16 | elapsed:    0.5s remaining:    0.1s\n",
      "[Parallel(n_jobs=8)]: Done  16 out of  16 | elapsed:    0.5s finished\n"
     ]
    },
    {
     "name": "stderr",
     "output_type": "stream",
     "text": [
      "Generating patterns from clusters:: 100%|██████████| 6/6 [00:00<00:00,  6.97it/s]\n",
      "2025-10-06 18:16:56,737 - modisco-lite - INFO - Detecting spurious merging of patterns\n",
      "2025-10-06 18:16:56,737 - modisco-lite - INFO - Detecting spurious merging of patterns\n",
      "Detecting spurious merging of patterns:: 100%|██████████| 5/5 [00:07<00:00,  1.51s/it]\n",
      "2025-10-06 18:17:05,761 - modisco-lite - INFO - Filtering and merging patterns\n",
      "2025-10-06 18:17:05,761 - modisco-lite - INFO - Filtering and merging patterns\n",
      "Filtering patterns:: 100%|██████████| 10/10 [00:00<00:00, 17534.72it/s]\n",
      "Computing subpatterns:: 100%|██████████| 6/6 [00:00<00:00, 51.68it/s]\n"
     ]
    }
   ],
   "source": [
    "modisco_patterns(\n",
    "    output_prefix=\"example/modisco_python_subcommands/modisco_fibroblast\",\n",
    "    attributions=[\n",
    "        \"example/modisco_python_subcommands/modisco_fibroblast_0.attributions.h5\",\n",
    "        \"example/modisco_python_subcommands/modisco_fibroblast_1.attributions.h5\",\n",
    "    ],\n",
    "    tasks=\"cell_type == 'fibroblast' and organ == 'heart'\",\n",
    "    off_tasks=\"cell_type == 'fibroblast' and organ != 'heart'\",\n",
    "    top_n_markers=15,\n",
    "    num_workers=8,\n",
    "    max_seqlets_per_metacluster=500,\n",
    "    tss_distance=5000,\n",
    ")"
   ]
  },
  {
   "cell_type": "markdown",
   "id": "93509cab",
   "metadata": {},
   "source": [
    "`modisco_reports` runs tomtom and annotated patterns with now motifs."
   ]
  },
  {
   "cell_type": "code",
   "execution_count": 9,
   "id": "4da0140a",
   "metadata": {},
   "outputs": [
    {
     "name": "stderr",
     "output_type": "stream",
     "text": [
      "Creating modisco logos for pos_patterns: 100%|██████████| 9/9 [00:16<00:00,  1.86s/it]\n",
      "Creating modisco logos for neg_patterns: 100%|██████████| 6/6 [00:15<00:00,  2.62s/it]\n",
      "Generating patterns dataframe: 100%|██████████| 2/2 [00:00<00:00, 457.69it/s]\n",
      "Reading patterns for pos_patterns: 100%|██████████| 9/9 [00:00<00:00, 2909.79it/s]\n",
      "Reading patterns for neg_patterns: 100%|██████████| 6/6 [00:00<00:00, 2932.74it/s]\n"
     ]
    },
    {
     "name": "stdout",
     "output_type": "stream",
     "text": [
      "[Parallel(n_jobs=8)]: Using backend LokyBackend with 8 concurrent workers.\n",
      "[Parallel(n_jobs=8)]: Done   1 tasks      | elapsed:    8.0s\n",
      "[Parallel(n_jobs=8)]: Done   2 out of  15 | elapsed:   15.0s remaining:  1.6min\n",
      "[Parallel(n_jobs=8)]: Done   3 out of  15 | elapsed:   15.7s remaining:  1.0min\n",
      "[Parallel(n_jobs=8)]: Done   4 out of  15 | elapsed:  1.0min remaining:  2.8min\n",
      "[Parallel(n_jobs=8)]: Done   5 out of  15 | elapsed:  1.2min remaining:  2.4min\n",
      "[Parallel(n_jobs=8)]: Done   6 out of  15 | elapsed:  1.2min remaining:  1.9min\n",
      "[Parallel(n_jobs=8)]: Done   7 out of  15 | elapsed:  1.3min remaining:  1.5min\n",
      "[Parallel(n_jobs=8)]: Done   8 out of  15 | elapsed:  1.4min remaining:  1.2min\n",
      "[Parallel(n_jobs=8)]: Done   9 out of  15 | elapsed:  1.4min remaining:   55.7s\n",
      "[Parallel(n_jobs=8)]: Done  10 out of  15 | elapsed:  1.4min remaining:   42.0s\n",
      "[Parallel(n_jobs=8)]: Done  11 out of  15 | elapsed:  1.5min remaining:   33.4s\n",
      "[Parallel(n_jobs=8)]: Done  12 out of  15 | elapsed:  1.9min remaining:   28.5s\n",
      "[Parallel(n_jobs=8)]: Done  13 out of  15 | elapsed:  2.0min remaining:   18.1s\n",
      "[Parallel(n_jobs=8)]: Done  15 out of  15 | elapsed:  2.4min finished\n"
     ]
    }
   ],
   "source": [
    "modisco_reports(\n",
    "    output_prefix=\"example/modisco_python_subcommands/modisco_fibroblast\",\n",
    "    modisco_h5=\"example/modisco_python_subcommands/modisco_fibroblast.modisco.h5\",\n",
    "    num_workers=8,\n",
    ")"
   ]
  },
  {
   "cell_type": "markdown",
   "id": "73eb8989",
   "metadata": {},
   "source": [
    "Seqlet bed extract seqlets from modisco output:"
   ]
  },
  {
   "cell_type": "code",
   "execution_count": 10,
   "id": "e9d35b2b",
   "metadata": {},
   "outputs": [
    {
     "name": "stderr",
     "output_type": "stream",
     "text": [
      "\u001b[34m\u001b[1mwandb\u001b[0m: Downloading large artifact metadata:latest, 3122.32MB. 1 files... \n",
      "\u001b[34m\u001b[1mwandb\u001b[0m:   1 of 1 files downloaded.  \n",
      "Done. 0:0:1.7 (1840.6MB/s)\n",
      "Processing pos_patterns patterns...: 100%|██████████| 9/9 [00:00<00:00, 559.61it/s]\n",
      "Processing neg_patterns patterns...: 100%|██████████| 6/6 [00:00<00:00, 599.99it/s]\n"
     ]
    }
   ],
   "source": [
    "modisco_seqlet_bed(\n",
    "    output_prefix=\"example/modisco_python_subcommands/modisco_fibroblast\",\n",
    "    modisco_h5=\"example/modisco_python_subcommands/modisco_fibroblast.modisco.h5\",\n",
    ")"
   ]
  }
 ],
 "metadata": {
  "kernelspec": {
   "display_name": "decima",
   "language": "python",
   "name": "python3"
  },
  "language_info": {
   "codemirror_mode": {
    "name": "ipython",
    "version": 3
   },
   "file_extension": ".py",
   "mimetype": "text/x-python",
   "name": "python",
   "nbconvert_exporter": "python",
   "pygments_lexer": "ipython3",
   "version": "3.11.12"
  }
 },
 "nbformat": 4,
 "nbformat_minor": 5
}
