{
 "cells": [
  {
   "cell_type": "markdown",
   "id": "10fdb752-2248-4e3a-9678-2e0bf2288790",
   "metadata": {},
   "source": [
    "# Fine-tuning Borzoi to create a Decima model"
   ]
  },
  {
   "cell_type": "code",
   "execution_count": 1,
   "id": "c6dbf5fc-85ca-42a8-b076-ba0313604e91",
   "metadata": {},
   "outputs": [],
   "source": [
    "import scanpy as sc\n",
    "import pandas as pd\n",
    "import bioframe as bf\n",
    "import os"
   ]
  },
  {
   "cell_type": "code",
   "execution_count": 2,
   "id": "a8563bf1-0305-437b-81fa-0584753c5793",
   "metadata": {},
   "outputs": [],
   "source": [
    "outdir = \".\"\n",
    "ad_file_path = os.path.join(outdir, \"data.h5ad\")\n",
    "h5_file_path = os.path.join(outdir, \"data.h5\")"
   ]
  },
  {
   "cell_type": "markdown",
   "id": "4215ffc0-6a14-44b4-b522-7d4322a7cafe",
   "metadata": {},
   "source": [
    "## 1. Load input anndata file"
   ]
  },
  {
   "cell_type": "markdown",
   "id": "f36c3e31-e447-42b8-b785-5d75b1a1007f",
   "metadata": {},
   "source": [
    "The input anndata file needs to be in the format (pseudobulks x genes)."
   ]
  },
  {
   "cell_type": "code",
   "execution_count": 3,
   "id": "83273dca-0622-42e2-a606-b645e0a31f19",
   "metadata": {},
   "outputs": [
    {
     "data": {
      "text/plain": [
       "AnnData object with n_obs × n_vars = 50 × 1000\n",
       "    obs: 'cell_type', 'tissue', 'disease', 'study'\n",
       "    var: 'chrom', 'start', 'end', 'strand'"
      ]
     },
     "execution_count": 3,
     "metadata": {},
     "output_type": "execute_result"
    }
   ],
   "source": [
    "ad = sc.read(\"data/test_data.h5ad\")\n",
    "ad"
   ]
  },
  {
   "cell_type": "markdown",
   "id": "dcb6c9a7-5e97-46fc-a2d3-fe029821c375",
   "metadata": {},
   "source": [
    "`.obs` should be a dataframe with a unique index per pseudobulk. You can also include other columns with metadata about the pseudobulks, e.g. cell type, tissue, disease, study, number of cells, total counts. \n",
    "\n",
    "Note that the original Decima model does NOT separate pseudobulks by sample, i.e. different samples from the same cell type, tissue, disease and study were merged. We also recommend filtering out pseudobulks with few cells or low read count. "
   ]
  },
  {
   "cell_type": "code",
   "execution_count": 4,
   "id": "e29ca0c0-5f61-4146-b187-d11cc57373d0",
   "metadata": {},
   "outputs": [
    {
     "data": {
      "text/html": [
       "<div>\n",
       "<style scoped>\n",
       "    .dataframe tbody tr th:only-of-type {\n",
       "        vertical-align: middle;\n",
       "    }\n",
       "\n",
       "    .dataframe tbody tr th {\n",
       "        vertical-align: top;\n",
       "    }\n",
       "\n",
       "    .dataframe thead th {\n",
       "        text-align: right;\n",
       "    }\n",
       "</style>\n",
       "<table border=\"1\" class=\"dataframe\">\n",
       "  <thead>\n",
       "    <tr style=\"text-align: right;\">\n",
       "      <th></th>\n",
       "      <th>cell_type</th>\n",
       "      <th>tissue</th>\n",
       "      <th>disease</th>\n",
       "      <th>study</th>\n",
       "    </tr>\n",
       "  </thead>\n",
       "  <tbody>\n",
       "    <tr>\n",
       "      <th>pseudobulk_0</th>\n",
       "      <td>ct_0</td>\n",
       "      <td>t_0</td>\n",
       "      <td>d_0</td>\n",
       "      <td>st_0</td>\n",
       "    </tr>\n",
       "    <tr>\n",
       "      <th>pseudobulk_1</th>\n",
       "      <td>ct_0</td>\n",
       "      <td>t_0</td>\n",
       "      <td>d_1</td>\n",
       "      <td>st_0</td>\n",
       "    </tr>\n",
       "    <tr>\n",
       "      <th>pseudobulk_2</th>\n",
       "      <td>ct_0</td>\n",
       "      <td>t_0</td>\n",
       "      <td>d_2</td>\n",
       "      <td>st_1</td>\n",
       "    </tr>\n",
       "    <tr>\n",
       "      <th>pseudobulk_3</th>\n",
       "      <td>ct_0</td>\n",
       "      <td>t_0</td>\n",
       "      <td>d_0</td>\n",
       "      <td>st_1</td>\n",
       "    </tr>\n",
       "    <tr>\n",
       "      <th>pseudobulk_4</th>\n",
       "      <td>ct_0</td>\n",
       "      <td>t_0</td>\n",
       "      <td>d_1</td>\n",
       "      <td>st_2</td>\n",
       "    </tr>\n",
       "  </tbody>\n",
       "</table>\n",
       "</div>"
      ],
      "text/plain": [
       "             cell_type tissue disease study\n",
       "pseudobulk_0      ct_0    t_0     d_0  st_0\n",
       "pseudobulk_1      ct_0    t_0     d_1  st_0\n",
       "pseudobulk_2      ct_0    t_0     d_2  st_1\n",
       "pseudobulk_3      ct_0    t_0     d_0  st_1\n",
       "pseudobulk_4      ct_0    t_0     d_1  st_2"
      ]
     },
     "execution_count": 4,
     "metadata": {},
     "output_type": "execute_result"
    }
   ],
   "source": [
    "ad.obs.head()"
   ]
  },
  {
   "cell_type": "markdown",
   "id": "ab69e185-0d58-41e1-8d04-c60a4ed24ef5",
   "metadata": {},
   "source": [
    "`.var` should be a dataframe with a unique index per gene. The index can be the gene name or Ensembl ID, as long as it is unique. Other essential columns are: chrom, start, end and strand (the gene coordinates).\n",
    "\n",
    "You can also include other columns with metadata about the genes, e.g. Ensembl ID, type of gene."
   ]
  },
  {
   "cell_type": "code",
   "execution_count": 5,
   "id": "a79a70c0-5a33-46dc-b363-4e9df6ab2b8a",
   "metadata": {},
   "outputs": [
    {
     "data": {
      "text/html": [
       "<div>\n",
       "<style scoped>\n",
       "    .dataframe tbody tr th:only-of-type {\n",
       "        vertical-align: middle;\n",
       "    }\n",
       "\n",
       "    .dataframe tbody tr th {\n",
       "        vertical-align: top;\n",
       "    }\n",
       "\n",
       "    .dataframe thead th {\n",
       "        text-align: right;\n",
       "    }\n",
       "</style>\n",
       "<table border=\"1\" class=\"dataframe\">\n",
       "  <thead>\n",
       "    <tr style=\"text-align: right;\">\n",
       "      <th></th>\n",
       "      <th>chrom</th>\n",
       "      <th>start</th>\n",
       "      <th>end</th>\n",
       "      <th>strand</th>\n",
       "    </tr>\n",
       "  </thead>\n",
       "  <tbody>\n",
       "    <tr>\n",
       "      <th>gene_0</th>\n",
       "      <td>chr1</td>\n",
       "      <td>28648600</td>\n",
       "      <td>28648730</td>\n",
       "      <td>+</td>\n",
       "    </tr>\n",
       "    <tr>\n",
       "      <th>gene_1</th>\n",
       "      <td>chr19</td>\n",
       "      <td>39341773</td>\n",
       "      <td>39341945</td>\n",
       "      <td>-</td>\n",
       "    </tr>\n",
       "    <tr>\n",
       "      <th>gene_2</th>\n",
       "      <td>chr1</td>\n",
       "      <td>78004346</td>\n",
       "      <td>78004554</td>\n",
       "      <td>-</td>\n",
       "    </tr>\n",
       "    <tr>\n",
       "      <th>gene_3</th>\n",
       "      <td>chr8</td>\n",
       "      <td>143290399</td>\n",
       "      <td>143290621</td>\n",
       "      <td>-</td>\n",
       "    </tr>\n",
       "    <tr>\n",
       "      <th>gene_4</th>\n",
       "      <td>chr16</td>\n",
       "      <td>1971655</td>\n",
       "      <td>1971896</td>\n",
       "      <td>-</td>\n",
       "    </tr>\n",
       "  </tbody>\n",
       "</table>\n",
       "</div>"
      ],
      "text/plain": [
       "        chrom      start        end strand\n",
       "gene_0   chr1   28648600   28648730      +\n",
       "gene_1  chr19   39341773   39341945      -\n",
       "gene_2   chr1   78004346   78004554      -\n",
       "gene_3   chr8  143290399  143290621      -\n",
       "gene_4  chr16    1971655    1971896      -"
      ]
     },
     "execution_count": 5,
     "metadata": {},
     "output_type": "execute_result"
    }
   ],
   "source": [
    "ad.var.head()"
   ]
  },
  {
   "cell_type": "markdown",
   "id": "55cd3f29-8bf7-47f8-8942-bd906a856ab7",
   "metadata": {},
   "source": [
    "`.X` should contain the total counts per gene and pseudobulk. These should be non-negative integers."
   ]
  },
  {
   "cell_type": "code",
   "execution_count": 6,
   "id": "3fd9bd2a-e728-4dc5-9c90-a9558fab0e27",
   "metadata": {},
   "outputs": [
    {
     "data": {
      "text/plain": [
       "array([[ 0, 36, 82,  0, 53],\n",
       "       [29, 84,  0, 33, 27],\n",
       "       [12, 33, 24, 60, 57],\n",
       "       [32,  0, 51, 77, 42],\n",
       "       [37,  2,  0,  0, 80]])"
      ]
     },
     "execution_count": 6,
     "metadata": {},
     "output_type": "execute_result"
    }
   ],
   "source": [
    "ad.X[:5, :5]"
   ]
  },
  {
   "cell_type": "markdown",
   "id": "9514b0b9-9cc3-48f0-9e70-897c1cb55962",
   "metadata": {},
   "source": [
    "## 2. Normalize and log transform data"
   ]
  },
  {
   "cell_type": "markdown",
   "id": "cbca4273-1752-47dd-9b3a-9b29266787e3",
   "metadata": {},
   "source": [
    "We first transform the counts to log(CPM+1) values. CPM = Counts Per Million."
   ]
  },
  {
   "cell_type": "code",
   "execution_count": 7,
   "id": "34115f7a-aaf8-4ca3-abbb-a4fc552bf5a7",
   "metadata": {},
   "outputs": [],
   "source": [
    "sc.pp.normalize_total(ad, target_sum=1e6)\n",
    "sc.pp.log1p(ad)"
   ]
  },
  {
   "cell_type": "code",
   "execution_count": 8,
   "id": "e42a91c7-ac01-45b3-8d3b-6c99baf7adff",
   "metadata": {},
   "outputs": [
    {
     "data": {
      "text/plain": [
       "array([[0.       , 6.921574 , 7.7442207, 0.       , 7.3080306],\n",
       "       [6.6934667, 7.756176 , 0.       , 6.822528 , 6.6220994],\n",
       "       [5.8283887, 6.838115 , 6.5200634, 7.4354696, 7.3842077],\n",
       "       [6.832712 , 0.       , 7.2984004, 7.7101517, 7.104389 ],\n",
       "       [6.996557 , 4.0946727, 0.       , 0.       , 7.767174 ]],\n",
       "      dtype=float32)"
      ]
     },
     "execution_count": 8,
     "metadata": {},
     "output_type": "execute_result"
    }
   ],
   "source": [
    "ad.X[:5, :5]"
   ]
  },
  {
   "cell_type": "markdown",
   "id": "1556f595-d4c7-4944-905e-060e4ae1c4f6",
   "metadata": {},
   "source": [
    "## 3. Create intervals surrounding genes"
   ]
  },
  {
   "cell_type": "markdown",
   "id": "ff51db62-9c1d-4af7-b188-fed7b038e3fa",
   "metadata": {},
   "source": [
    "Decima is trained on 524,288 bp sequence surrounding the genes. Therefore, we have to take the given gene coordinates and extend them to create intervals of this length."
   ]
  },
  {
   "cell_type": "code",
   "execution_count": 9,
   "id": "86905140-4b30-424b-91ce-090a0a56ebab",
   "metadata": {},
   "outputs": [
    {
     "name": "stderr",
     "output_type": "stream",
     "text": [
      "/opt/conda/lib/python3.11/site-packages/tqdm/auto.py:21: TqdmWarning: IProgress not found. Please update jupyter and ipywidgets. See https://ipywidgets.readthedocs.io/en/stable/user_install.html\n",
      "  from .autonotebook import tqdm as notebook_tqdm\n"
     ]
    }
   ],
   "source": [
    "from decima.data.preprocess import var_to_intervals"
   ]
  },
  {
   "cell_type": "code",
   "execution_count": 10,
   "id": "d027eb23-48d6-40d9-9e30-b5c7691a7c53",
   "metadata": {},
   "outputs": [
    {
     "data": {
      "text/html": [
       "<div>\n",
       "<style scoped>\n",
       "    .dataframe tbody tr th:only-of-type {\n",
       "        vertical-align: middle;\n",
       "    }\n",
       "\n",
       "    .dataframe tbody tr th {\n",
       "        vertical-align: top;\n",
       "    }\n",
       "\n",
       "    .dataframe thead th {\n",
       "        text-align: right;\n",
       "    }\n",
       "</style>\n",
       "<table border=\"1\" class=\"dataframe\">\n",
       "  <thead>\n",
       "    <tr style=\"text-align: right;\">\n",
       "      <th></th>\n",
       "      <th>chrom</th>\n",
       "      <th>start</th>\n",
       "      <th>end</th>\n",
       "      <th>strand</th>\n",
       "    </tr>\n",
       "  </thead>\n",
       "  <tbody>\n",
       "    <tr>\n",
       "      <th>gene_0</th>\n",
       "      <td>chr1</td>\n",
       "      <td>28648600</td>\n",
       "      <td>28648730</td>\n",
       "      <td>+</td>\n",
       "    </tr>\n",
       "    <tr>\n",
       "      <th>gene_1</th>\n",
       "      <td>chr19</td>\n",
       "      <td>39341773</td>\n",
       "      <td>39341945</td>\n",
       "      <td>-</td>\n",
       "    </tr>\n",
       "    <tr>\n",
       "      <th>gene_2</th>\n",
       "      <td>chr1</td>\n",
       "      <td>78004346</td>\n",
       "      <td>78004554</td>\n",
       "      <td>-</td>\n",
       "    </tr>\n",
       "    <tr>\n",
       "      <th>gene_3</th>\n",
       "      <td>chr8</td>\n",
       "      <td>143290399</td>\n",
       "      <td>143290621</td>\n",
       "      <td>-</td>\n",
       "    </tr>\n",
       "    <tr>\n",
       "      <th>gene_4</th>\n",
       "      <td>chr16</td>\n",
       "      <td>1971655</td>\n",
       "      <td>1971896</td>\n",
       "      <td>-</td>\n",
       "    </tr>\n",
       "  </tbody>\n",
       "</table>\n",
       "</div>"
      ],
      "text/plain": [
       "        chrom      start        end strand\n",
       "gene_0   chr1   28648600   28648730      +\n",
       "gene_1  chr19   39341773   39341945      -\n",
       "gene_2   chr1   78004346   78004554      -\n",
       "gene_3   chr8  143290399  143290621      -\n",
       "gene_4  chr16    1971655    1971896      -"
      ]
     },
     "execution_count": 10,
     "metadata": {},
     "output_type": "execute_result"
    }
   ],
   "source": [
    "ad.var.head()"
   ]
  },
  {
   "cell_type": "markdown",
   "id": "0f067d6e-f0d7-48f9-b973-032fac069159",
   "metadata": {},
   "source": [
    "First, we copy the start and end columns to `gene_start` and `gene_end`. We also create a new column `gene_length`. "
   ]
  },
  {
   "cell_type": "code",
   "execution_count": 11,
   "id": "566977ab-041f-4a3d-b10e-9b6fa717c98e",
   "metadata": {},
   "outputs": [],
   "source": [
    "ad.var[\"gene_start\"] = ad.var.start.tolist()\n",
    "ad.var[\"gene_end\"] = ad.var.end.tolist()\n",
    "ad.var[\"gene_length\"] = ad.var[\"gene_end\"] - ad.var[\"gene_start\"]"
   ]
  },
  {
   "cell_type": "code",
   "execution_count": 12,
   "id": "e23e95dd-6616-4f79-8d1b-3a0fe22816d0",
   "metadata": {},
   "outputs": [
    {
     "data": {
      "text/html": [
       "<div>\n",
       "<style scoped>\n",
       "    .dataframe tbody tr th:only-of-type {\n",
       "        vertical-align: middle;\n",
       "    }\n",
       "\n",
       "    .dataframe tbody tr th {\n",
       "        vertical-align: top;\n",
       "    }\n",
       "\n",
       "    .dataframe thead th {\n",
       "        text-align: right;\n",
       "    }\n",
       "</style>\n",
       "<table border=\"1\" class=\"dataframe\">\n",
       "  <thead>\n",
       "    <tr style=\"text-align: right;\">\n",
       "      <th></th>\n",
       "      <th>chrom</th>\n",
       "      <th>start</th>\n",
       "      <th>end</th>\n",
       "      <th>strand</th>\n",
       "      <th>gene_start</th>\n",
       "      <th>gene_end</th>\n",
       "      <th>gene_length</th>\n",
       "    </tr>\n",
       "  </thead>\n",
       "  <tbody>\n",
       "    <tr>\n",
       "      <th>gene_0</th>\n",
       "      <td>chr1</td>\n",
       "      <td>28648600</td>\n",
       "      <td>28648730</td>\n",
       "      <td>+</td>\n",
       "      <td>28648600</td>\n",
       "      <td>28648730</td>\n",
       "      <td>130</td>\n",
       "    </tr>\n",
       "    <tr>\n",
       "      <th>gene_1</th>\n",
       "      <td>chr19</td>\n",
       "      <td>39341773</td>\n",
       "      <td>39341945</td>\n",
       "      <td>-</td>\n",
       "      <td>39341773</td>\n",
       "      <td>39341945</td>\n",
       "      <td>172</td>\n",
       "    </tr>\n",
       "    <tr>\n",
       "      <th>gene_2</th>\n",
       "      <td>chr1</td>\n",
       "      <td>78004346</td>\n",
       "      <td>78004554</td>\n",
       "      <td>-</td>\n",
       "      <td>78004346</td>\n",
       "      <td>78004554</td>\n",
       "      <td>208</td>\n",
       "    </tr>\n",
       "    <tr>\n",
       "      <th>gene_3</th>\n",
       "      <td>chr8</td>\n",
       "      <td>143290399</td>\n",
       "      <td>143290621</td>\n",
       "      <td>-</td>\n",
       "      <td>143290399</td>\n",
       "      <td>143290621</td>\n",
       "      <td>222</td>\n",
       "    </tr>\n",
       "    <tr>\n",
       "      <th>gene_4</th>\n",
       "      <td>chr16</td>\n",
       "      <td>1971655</td>\n",
       "      <td>1971896</td>\n",
       "      <td>-</td>\n",
       "      <td>1971655</td>\n",
       "      <td>1971896</td>\n",
       "      <td>241</td>\n",
       "    </tr>\n",
       "  </tbody>\n",
       "</table>\n",
       "</div>"
      ],
      "text/plain": [
       "        chrom      start        end strand  gene_start   gene_end  gene_length\n",
       "gene_0   chr1   28648600   28648730      +    28648600   28648730          130\n",
       "gene_1  chr19   39341773   39341945      -    39341773   39341945          172\n",
       "gene_2   chr1   78004346   78004554      -    78004346   78004554          208\n",
       "gene_3   chr8  143290399  143290621      -   143290399  143290621          222\n",
       "gene_4  chr16    1971655    1971896      -     1971655    1971896          241"
      ]
     },
     "execution_count": 12,
     "metadata": {},
     "output_type": "execute_result"
    }
   ],
   "source": [
    "ad.var.head()"
   ]
  },
  {
   "cell_type": "markdown",
   "id": "33edbd2f-66f2-48db-ae30-f9aef55c78c3",
   "metadata": {},
   "source": [
    "Now, we extend the gene coordinates to create enclosing intervals:"
   ]
  },
  {
   "cell_type": "code",
   "execution_count": 13,
   "id": "c40ebdb5-2d8c-4cce-9685-61d5db0123f3",
   "metadata": {},
   "outputs": [
    {
     "name": "stderr",
     "output_type": "stream",
     "text": [
      "\u001b[32m20:09:14\u001b[0m \u001b[1m|\u001b[0m \u001b[34mINFO\u001b[0m \u001b[1m|\u001b[0m Downloading assembly summaries from GENCODE\n",
      "\u001b[32m20:09:49\u001b[0m \u001b[1m|\u001b[0m \u001b[34mINFO\u001b[0m \u001b[1m|\u001b[0m Downloading assembly summaries from UCSC\n",
      "\u001b[32m20:09:52\u001b[0m \u001b[1m|\u001b[0m \u001b[34mINFO\u001b[0m \u001b[1m|\u001b[0m Downloading assembly summaries from Ensembl\n",
      "\u001b[32m20:10:02\u001b[0m \u001b[1m|\u001b[0m \u001b[34mINFO\u001b[0m \u001b[1m|\u001b[0m Downloading genome from UCSC. Target URL: https://hgdownload.soe.ucsc.edu/goldenPath/hg38/bigZips/hg38.fa.gz...\n",
      "Download: 100%|████████████████| 938M/938M [00:09<00:00, 104MB/s]\n",
      "\u001b[32m20:10:12\u001b[0m \u001b[1m|\u001b[0m \u001b[34mINFO\u001b[0m \u001b[1m|\u001b[0m Genome download successful, starting post processing...\n",
      "\u001b[32m20:10:28\u001b[0m \u001b[1m|\u001b[0m \u001b[34mINFO\u001b[0m \u001b[1m|\u001b[0m name: hg38\n",
      "\u001b[32m20:10:28\u001b[0m \u001b[1m|\u001b[0m \u001b[34mINFO\u001b[0m \u001b[1m|\u001b[0m local name: hg38\n",
      "\u001b[32m20:10:28\u001b[0m \u001b[1m|\u001b[0m \u001b[34mINFO\u001b[0m \u001b[1m|\u001b[0m fasta: /root/.local/share/genomes/hg38/hg38.fa\n",
      "Filtering Fasta: 64.2M lines [00:20, 3.13M lines/s]\n"
     ]
    },
    {
     "name": "stdout",
     "output_type": "stream",
     "text": [
      "The interval size is 524288 bases. Of these, 163840 will be upstream of the gene start and 360448 will be downstream of the gene start.\n",
      "2 intervals extended beyond the chromosome start and have been shifted\n",
      "0 intervals extended beyond the chromosome end and have been shifted\n",
      "0 intervals did not extend far enough upstream of the TSS and have been dropped\n"
     ]
    }
   ],
   "source": [
    "ad = var_to_intervals(ad, chr_end_pad=10000, genome=\"hg38\")\n",
    "# Replace genome name if necessary"
   ]
  },
  {
   "cell_type": "code",
   "execution_count": 15,
   "id": "191ed1e0-d34f-4aa4-a8e7-bc5919642528",
   "metadata": {},
   "outputs": [
    {
     "data": {
      "text/html": [
       "<div>\n",
       "<style scoped>\n",
       "    .dataframe tbody tr th:only-of-type {\n",
       "        vertical-align: middle;\n",
       "    }\n",
       "\n",
       "    .dataframe tbody tr th {\n",
       "        vertical-align: top;\n",
       "    }\n",
       "\n",
       "    .dataframe thead th {\n",
       "        text-align: right;\n",
       "    }\n",
       "</style>\n",
       "<table border=\"1\" class=\"dataframe\">\n",
       "  <thead>\n",
       "    <tr style=\"text-align: right;\">\n",
       "      <th></th>\n",
       "      <th>chrom</th>\n",
       "      <th>start</th>\n",
       "      <th>end</th>\n",
       "      <th>strand</th>\n",
       "      <th>gene_start</th>\n",
       "      <th>gene_end</th>\n",
       "      <th>gene_length</th>\n",
       "      <th>gene_mask_start</th>\n",
       "      <th>gene_mask_end</th>\n",
       "    </tr>\n",
       "  </thead>\n",
       "  <tbody>\n",
       "    <tr>\n",
       "      <th>gene_0</th>\n",
       "      <td>chr1</td>\n",
       "      <td>28484760</td>\n",
       "      <td>29009048</td>\n",
       "      <td>+</td>\n",
       "      <td>28648600</td>\n",
       "      <td>28648730</td>\n",
       "      <td>130</td>\n",
       "      <td>163840</td>\n",
       "      <td>163970</td>\n",
       "    </tr>\n",
       "    <tr>\n",
       "      <th>gene_1</th>\n",
       "      <td>chr19</td>\n",
       "      <td>38981497</td>\n",
       "      <td>39505785</td>\n",
       "      <td>-</td>\n",
       "      <td>39341773</td>\n",
       "      <td>39341945</td>\n",
       "      <td>172</td>\n",
       "      <td>163840</td>\n",
       "      <td>164012</td>\n",
       "    </tr>\n",
       "    <tr>\n",
       "      <th>gene_2</th>\n",
       "      <td>chr1</td>\n",
       "      <td>77644106</td>\n",
       "      <td>78168394</td>\n",
       "      <td>-</td>\n",
       "      <td>78004346</td>\n",
       "      <td>78004554</td>\n",
       "      <td>208</td>\n",
       "      <td>163840</td>\n",
       "      <td>164048</td>\n",
       "    </tr>\n",
       "    <tr>\n",
       "      <th>gene_3</th>\n",
       "      <td>chr8</td>\n",
       "      <td>142930173</td>\n",
       "      <td>143454461</td>\n",
       "      <td>-</td>\n",
       "      <td>143290399</td>\n",
       "      <td>143290621</td>\n",
       "      <td>222</td>\n",
       "      <td>163840</td>\n",
       "      <td>164062</td>\n",
       "    </tr>\n",
       "    <tr>\n",
       "      <th>gene_4</th>\n",
       "      <td>chr16</td>\n",
       "      <td>1611448</td>\n",
       "      <td>2135736</td>\n",
       "      <td>-</td>\n",
       "      <td>1971655</td>\n",
       "      <td>1971896</td>\n",
       "      <td>241</td>\n",
       "      <td>163840</td>\n",
       "      <td>164081</td>\n",
       "    </tr>\n",
       "  </tbody>\n",
       "</table>\n",
       "</div>"
      ],
      "text/plain": [
       "        chrom      start        end strand  gene_start   gene_end  \\\n",
       "gene_0   chr1   28484760   29009048      +    28648600   28648730   \n",
       "gene_1  chr19   38981497   39505785      -    39341773   39341945   \n",
       "gene_2   chr1   77644106   78168394      -    78004346   78004554   \n",
       "gene_3   chr8  142930173  143454461      -   143290399  143290621   \n",
       "gene_4  chr16    1611448    2135736      -     1971655    1971896   \n",
       "\n",
       "        gene_length  gene_mask_start  gene_mask_end  \n",
       "gene_0          130           163840         163970  \n",
       "gene_1          172           163840         164012  \n",
       "gene_2          208           163840         164048  \n",
       "gene_3          222           163840         164062  \n",
       "gene_4          241           163840         164081  "
      ]
     },
     "execution_count": 15,
     "metadata": {},
     "output_type": "execute_result"
    }
   ],
   "source": [
    "ad.var.head()"
   ]
  },
  {
   "cell_type": "markdown",
   "id": "5733a394-28f5-487e-b967-18aad52cf423",
   "metadata": {},
   "source": [
    "You see that the columns `start` and `end` now contain the start and end coordinates for the 524,288 bp intervals."
   ]
  },
  {
   "cell_type": "markdown",
   "id": "1a8df107-f38e-428b-8bda-47101708ebc7",
   "metadata": {},
   "source": [
    "## 3. Split genes into training, validation and test sets"
   ]
  },
  {
   "cell_type": "markdown",
   "id": "747d3b4b-784f-4735-af81-ab5db4002a9d",
   "metadata": {},
   "source": [
    "We load the coordinates of the genomic regions used to train Borzoi:"
   ]
  },
  {
   "cell_type": "code",
   "execution_count": 16,
   "id": "8f4db77e-71f1-4457-b5cf-8c5f8f98ad06",
   "metadata": {},
   "outputs": [
    {
     "data": {
      "text/html": [
       "<div>\n",
       "<style scoped>\n",
       "    .dataframe tbody tr th:only-of-type {\n",
       "        vertical-align: middle;\n",
       "    }\n",
       "\n",
       "    .dataframe tbody tr th {\n",
       "        vertical-align: top;\n",
       "    }\n",
       "\n",
       "    .dataframe thead th {\n",
       "        text-align: right;\n",
       "    }\n",
       "</style>\n",
       "<table border=\"1\" class=\"dataframe\">\n",
       "  <thead>\n",
       "    <tr style=\"text-align: right;\">\n",
       "      <th></th>\n",
       "      <th>chrom</th>\n",
       "      <th>start</th>\n",
       "      <th>end</th>\n",
       "      <th>fold</th>\n",
       "    </tr>\n",
       "  </thead>\n",
       "  <tbody>\n",
       "    <tr>\n",
       "      <th>0</th>\n",
       "      <td>chr4</td>\n",
       "      <td>82524421</td>\n",
       "      <td>82721029</td>\n",
       "      <td>fold0</td>\n",
       "    </tr>\n",
       "    <tr>\n",
       "      <th>1</th>\n",
       "      <td>chr13</td>\n",
       "      <td>18604798</td>\n",
       "      <td>18801406</td>\n",
       "      <td>fold0</td>\n",
       "    </tr>\n",
       "    <tr>\n",
       "      <th>2</th>\n",
       "      <td>chr2</td>\n",
       "      <td>189923408</td>\n",
       "      <td>190120016</td>\n",
       "      <td>fold0</td>\n",
       "    </tr>\n",
       "    <tr>\n",
       "      <th>3</th>\n",
       "      <td>chr10</td>\n",
       "      <td>59875743</td>\n",
       "      <td>60072351</td>\n",
       "      <td>fold0</td>\n",
       "    </tr>\n",
       "    <tr>\n",
       "      <th>4</th>\n",
       "      <td>chr1</td>\n",
       "      <td>117109467</td>\n",
       "      <td>117306075</td>\n",
       "      <td>fold0</td>\n",
       "    </tr>\n",
       "  </tbody>\n",
       "</table>\n",
       "</div>"
      ],
      "text/plain": [
       "   chrom      start        end   fold\n",
       "0   chr4   82524421   82721029  fold0\n",
       "1  chr13   18604798   18801406  fold0\n",
       "2   chr2  189923408  190120016  fold0\n",
       "3  chr10   59875743   60072351  fold0\n",
       "4   chr1  117109467  117306075  fold0"
      ]
     },
     "execution_count": 16,
     "metadata": {},
     "output_type": "execute_result"
    }
   ],
   "source": [
    "splits_file = \"https://raw.githubusercontent.com/calico/borzoi/main/data/sequences_human.bed.gz\"\n",
    "# replace human with mouse for mm10 splits\n",
    "splits = pd.read_table(splits_file, header=None, names=[\"chrom\", \"start\", \"end\", \"fold\"])\n",
    "splits.head()"
   ]
  },
  {
   "cell_type": "markdown",
   "id": "e7229a5f-d27e-48b3-8590-a23474635542",
   "metadata": {},
   "source": [
    "Now, we overlap our gene intervals with these regions:"
   ]
  },
  {
   "cell_type": "code",
   "execution_count": 17,
   "id": "99d1a382-1384-41ea-b59a-bb4aaa26caba",
   "metadata": {},
   "outputs": [
    {
     "data": {
      "text/html": [
       "<div>\n",
       "<style scoped>\n",
       "    .dataframe tbody tr th:only-of-type {\n",
       "        vertical-align: middle;\n",
       "    }\n",
       "\n",
       "    .dataframe tbody tr th {\n",
       "        vertical-align: top;\n",
       "    }\n",
       "\n",
       "    .dataframe thead th {\n",
       "        text-align: right;\n",
       "    }\n",
       "</style>\n",
       "<table border=\"1\" class=\"dataframe\">\n",
       "  <thead>\n",
       "    <tr style=\"text-align: right;\">\n",
       "      <th></th>\n",
       "      <th>gene</th>\n",
       "      <th>fold_</th>\n",
       "    </tr>\n",
       "  </thead>\n",
       "  <tbody>\n",
       "    <tr>\n",
       "      <th>0</th>\n",
       "      <td>gene_0</td>\n",
       "      <td>fold5</td>\n",
       "    </tr>\n",
       "    <tr>\n",
       "      <th>15</th>\n",
       "      <td>gene_1</td>\n",
       "      <td>fold0</td>\n",
       "    </tr>\n",
       "    <tr>\n",
       "      <th>30</th>\n",
       "      <td>gene_2</td>\n",
       "      <td>fold0</td>\n",
       "    </tr>\n",
       "    <tr>\n",
       "      <th>45</th>\n",
       "      <td>gene_3</td>\n",
       "      <td>fold4</td>\n",
       "    </tr>\n",
       "    <tr>\n",
       "      <th>60</th>\n",
       "      <td>gene_4</td>\n",
       "      <td>fold0</td>\n",
       "    </tr>\n",
       "  </tbody>\n",
       "</table>\n",
       "</div>"
      ],
      "text/plain": [
       "      gene  fold_\n",
       "0   gene_0  fold5\n",
       "15  gene_1  fold0\n",
       "30  gene_2  fold0\n",
       "45  gene_3  fold4\n",
       "60  gene_4  fold0"
      ]
     },
     "execution_count": 17,
     "metadata": {},
     "output_type": "execute_result"
    }
   ],
   "source": [
    "overlaps = bf.overlap(ad.var.reset_index(names=\"gene\"), splits, how=\"left\")\n",
    "overlaps = overlaps[[\"gene\", \"fold_\"]].drop_duplicates().astype(str)\n",
    "overlaps.head()"
   ]
  },
  {
   "cell_type": "markdown",
   "id": "26a1a415-5299-48d6-94e0-7ee008d2bcc3",
   "metadata": {},
   "source": [
    "Based on the overlap, we divide our gene intervals into training, validation and test sets."
   ]
  },
  {
   "cell_type": "code",
   "execution_count": 18,
   "id": "14180e40-c296-4f6f-b353-a07f383a7aae",
   "metadata": {},
   "outputs": [],
   "source": [
    "test_genes = overlaps.gene[overlaps.fold_ == \"fold3\"].tolist()\n",
    "val_genes = overlaps.gene[overlaps.fold_ == \"fold4\"].tolist()\n",
    "train_genes = set(overlaps.gene).difference(set(test_genes).union(val_genes))"
   ]
  },
  {
   "cell_type": "markdown",
   "id": "d6dc73a9-42d2-46c9-8176-34edbd70125d",
   "metadata": {},
   "source": [
    "And add this information back to `ad.var`."
   ]
  },
  {
   "cell_type": "code",
   "execution_count": 19,
   "id": "ed8411d8-aecf-4196-bcc3-7635c1b4f34a",
   "metadata": {},
   "outputs": [
    {
     "name": "stderr",
     "output_type": "stream",
     "text": [
      "/tmp/ipykernel_614/3109841685.py:1: ImplicitModificationWarning: Trying to modify attribute `.var` of view, initializing view as actual.\n"
     ]
    }
   ],
   "source": [
    "ad.var[\"dataset\"] = \"test\"\n",
    "ad.var.loc[ad.var.index.isin(val_genes), \"dataset\"] = \"val\"\n",
    "ad.var.loc[ad.var.index.isin(train_genes), \"dataset\"] = \"train\""
   ]
  },
  {
   "cell_type": "code",
   "execution_count": 20,
   "id": "6e71f3f9-61d5-496d-8b04-661d5e97c2b8",
   "metadata": {},
   "outputs": [
    {
     "data": {
      "text/html": [
       "<div>\n",
       "<style scoped>\n",
       "    .dataframe tbody tr th:only-of-type {\n",
       "        vertical-align: middle;\n",
       "    }\n",
       "\n",
       "    .dataframe tbody tr th {\n",
       "        vertical-align: top;\n",
       "    }\n",
       "\n",
       "    .dataframe thead th {\n",
       "        text-align: right;\n",
       "    }\n",
       "</style>\n",
       "<table border=\"1\" class=\"dataframe\">\n",
       "  <thead>\n",
       "    <tr style=\"text-align: right;\">\n",
       "      <th></th>\n",
       "      <th>chrom</th>\n",
       "      <th>start</th>\n",
       "      <th>end</th>\n",
       "      <th>strand</th>\n",
       "      <th>gene_start</th>\n",
       "      <th>gene_end</th>\n",
       "      <th>gene_length</th>\n",
       "      <th>gene_mask_start</th>\n",
       "      <th>gene_mask_end</th>\n",
       "      <th>dataset</th>\n",
       "    </tr>\n",
       "  </thead>\n",
       "  <tbody>\n",
       "    <tr>\n",
       "      <th>gene_0</th>\n",
       "      <td>chr1</td>\n",
       "      <td>28484760</td>\n",
       "      <td>29009048</td>\n",
       "      <td>+</td>\n",
       "      <td>28648600</td>\n",
       "      <td>28648730</td>\n",
       "      <td>130</td>\n",
       "      <td>163840</td>\n",
       "      <td>163970</td>\n",
       "      <td>train</td>\n",
       "    </tr>\n",
       "    <tr>\n",
       "      <th>gene_1</th>\n",
       "      <td>chr19</td>\n",
       "      <td>38981497</td>\n",
       "      <td>39505785</td>\n",
       "      <td>-</td>\n",
       "      <td>39341773</td>\n",
       "      <td>39341945</td>\n",
       "      <td>172</td>\n",
       "      <td>163840</td>\n",
       "      <td>164012</td>\n",
       "      <td>train</td>\n",
       "    </tr>\n",
       "    <tr>\n",
       "      <th>gene_2</th>\n",
       "      <td>chr1</td>\n",
       "      <td>77644106</td>\n",
       "      <td>78168394</td>\n",
       "      <td>-</td>\n",
       "      <td>78004346</td>\n",
       "      <td>78004554</td>\n",
       "      <td>208</td>\n",
       "      <td>163840</td>\n",
       "      <td>164048</td>\n",
       "      <td>train</td>\n",
       "    </tr>\n",
       "    <tr>\n",
       "      <th>gene_3</th>\n",
       "      <td>chr8</td>\n",
       "      <td>142930173</td>\n",
       "      <td>143454461</td>\n",
       "      <td>-</td>\n",
       "      <td>143290399</td>\n",
       "      <td>143290621</td>\n",
       "      <td>222</td>\n",
       "      <td>163840</td>\n",
       "      <td>164062</td>\n",
       "      <td>val</td>\n",
       "    </tr>\n",
       "    <tr>\n",
       "      <th>gene_4</th>\n",
       "      <td>chr16</td>\n",
       "      <td>1611448</td>\n",
       "      <td>2135736</td>\n",
       "      <td>-</td>\n",
       "      <td>1971655</td>\n",
       "      <td>1971896</td>\n",
       "      <td>241</td>\n",
       "      <td>163840</td>\n",
       "      <td>164081</td>\n",
       "      <td>train</td>\n",
       "    </tr>\n",
       "  </tbody>\n",
       "</table>\n",
       "</div>"
      ],
      "text/plain": [
       "        chrom      start        end strand  gene_start   gene_end  \\\n",
       "gene_0   chr1   28484760   29009048      +    28648600   28648730   \n",
       "gene_1  chr19   38981497   39505785      -    39341773   39341945   \n",
       "gene_2   chr1   77644106   78168394      -    78004346   78004554   \n",
       "gene_3   chr8  142930173  143454461      -   143290399  143290621   \n",
       "gene_4  chr16    1611448    2135736      -     1971655    1971896   \n",
       "\n",
       "        gene_length  gene_mask_start  gene_mask_end dataset  \n",
       "gene_0          130           163840         163970   train  \n",
       "gene_1          172           163840         164012   train  \n",
       "gene_2          208           163840         164048   train  \n",
       "gene_3          222           163840         164062     val  \n",
       "gene_4          241           163840         164081   train  "
      ]
     },
     "execution_count": 20,
     "metadata": {},
     "output_type": "execute_result"
    }
   ],
   "source": [
    "ad.var.head()"
   ]
  },
  {
   "cell_type": "code",
   "execution_count": 21,
   "id": "894e5f6f-1d0b-4c71-8f11-fcea38bea97d",
   "metadata": {},
   "outputs": [
    {
     "data": {
      "text/plain": [
       "dataset\n",
       "train    824\n",
       "test      98\n",
       "val       78\n",
       "Name: count, dtype: int64"
      ]
     },
     "execution_count": 21,
     "metadata": {},
     "output_type": "execute_result"
    }
   ],
   "source": [
    "ad.var.dataset.value_counts()"
   ]
  },
  {
   "cell_type": "markdown",
   "id": "0a99d7e9-6b69-42ed-ae2b-fda6c0229035",
   "metadata": {},
   "source": [
    "We have now divided the 1000 genes in our dataset into separate sets to be used for training, validation and testing."
   ]
  },
  {
   "cell_type": "markdown",
   "id": "c3ce727d-ae1a-4e9b-bf57-c6856e4e21e7",
   "metadata": {},
   "source": [
    "## 4. Save processed anndata"
   ]
  },
  {
   "cell_type": "markdown",
   "id": "f950a054-a749-4a6b-a0c5-11b162e1babe",
   "metadata": {},
   "source": [
    "We will save the processed anndata file containing these intervals and data splits."
   ]
  },
  {
   "cell_type": "code",
   "execution_count": 22,
   "id": "e55d7251-5372-4744-a1f3-411223d4eb35",
   "metadata": {},
   "outputs": [],
   "source": [
    "ad.write_h5ad(ad_file_path)"
   ]
  },
  {
   "cell_type": "markdown",
   "id": "a348fd0c-746f-4f3f-9c22-1cef3220460c",
   "metadata": {},
   "source": [
    "## 5. Create an hdf5 file"
   ]
  },
  {
   "cell_type": "markdown",
   "id": "f5b813a4-ad04-421c-9e13-a5cbb4c4885b",
   "metadata": {},
   "source": [
    "To train Decima, we need to extract the genomic sequences for all the intervals and convert them to one-hot encoded format. We save these one-hot encoded inputs to an hdf5 file."
   ]
  },
  {
   "cell_type": "code",
   "execution_count": 23,
   "id": "3b1473fd-fd72-41e7-a673-92fb474440ec",
   "metadata": {},
   "outputs": [],
   "source": [
    "from decima.data.write_hdf5 import write_hdf5"
   ]
  },
  {
   "cell_type": "code",
   "execution_count": 24,
   "id": "81e3d301-db22-4a00-9cdc-f6ec7c641030",
   "metadata": {},
   "outputs": [
    {
     "name": "stdout",
     "output_type": "stream",
     "text": [
      "Writing metadata\n",
      "Writing task indices\n",
      "Writing genes array of shape: (1000, 2)\n",
      "Writing labels array of shape: (1000, 50, 1)\n",
      "Making gene masks\n",
      "Writing mask array of shape: (1000, 534288)\n",
      "Encoding sequences\n",
      "Writing sequence array of shape: (1000, 534288)\n",
      "Done!\n"
     ]
    }
   ],
   "source": [
    "write_hdf5(file=h5_file_path, ad=ad, pad=5000, genome=\"hg38\")\n",
    "# Change genome name if necessary"
   ]
  },
  {
   "cell_type": "markdown",
   "id": "2e7ebe9c-a523-4aff-8bcd-3faf46917caf",
   "metadata": {},
   "source": [
    "## 6. Set training parameters"
   ]
  },
  {
   "cell_type": "code",
   "execution_count": 25,
   "id": "d9ca9ee3-c90a-4848-b9ed-899f21fbf39e",
   "metadata": {},
   "outputs": [],
   "source": [
    "# Learning rate default=0.001\n",
    "lr = 5e-5\n",
    "# Total weight parameter for the loss function\n",
    "total_weight = 1e-4\n",
    "# Gradient accumulation steps\n",
    "grad = 5\n",
    "# batch-size. default=4\n",
    "bs = 4\n",
    "# max-seq-shift. default=5000\n",
    "shift = 5000\n",
    "# Number of epochs. Default 1\n",
    "epochs = 15\n",
    "\n",
    "# logger\n",
    "logger = \"wandb\"  # Change to csv to save logs locally\n",
    "\n",
    "# Number of workers default=16\n",
    "workers = 16"
   ]
  },
  {
   "cell_type": "markdown",
   "id": "f74beb10-0045-4c3c-9bc3-b5037053241b",
   "metadata": {},
   "source": [
    "## 7. Generate training commands"
   ]
  },
  {
   "cell_type": "code",
   "execution_count": 26,
   "id": "676bba10-feaf-4bcf-ae76-91cf163ac26a",
   "metadata": {},
   "outputs": [],
   "source": [
    "cmds = []\n",
    "\n",
    "for model in range(4):\n",
    "    name = f\"finetune_test_{model}\"\n",
    "    device = model\n",
    "\n",
    "    cmd = (\n",
    "        f\"decima finetune --name {name} \"\n",
    "        + f\"--model {model} --device {device} \"\n",
    "        + f\"--matrix-file {ad_file_path} --h5-file {h5_file_path} \"\n",
    "        + f\"--outdir {outdir} --learning-rate {lr} \"\n",
    "        + f\"--loss-total-weight {total_weight} --gradient-accumulation {grad} \"\n",
    "        + f\"--batch-size {bs} --max-seq-shift {shift} \"\n",
    "        + f\"--epochs {epochs} --logger {logger} --num-workers {workers}\"\n",
    "    )\n",
    "    cmds.append(cmd)"
   ]
  },
  {
   "cell_type": "code",
   "execution_count": 27,
   "id": "6aee97bd-7b06-4af5-834e-c0f08127e75c",
   "metadata": {},
   "outputs": [
    {
     "name": "stdout",
     "output_type": "stream",
     "text": [
      "decima finetune --name finetune_test_0 --model 0 --device 0 --matrix-file ./data.h5ad --h5-file ./data.h5 --outdir . --learning-rate 5e-05 --loss-total-weight 0.0001 --gradient-accumulation 5 --batch-size 4 --max-seq-shift 5000 --epochs 15 --logger wandb --num-workers 16\n",
      "decima finetune --name finetune_test_1 --model 1 --device 1 --matrix-file ./data.h5ad --h5-file ./data.h5 --outdir . --learning-rate 5e-05 --loss-total-weight 0.0001 --gradient-accumulation 5 --batch-size 4 --max-seq-shift 5000 --epochs 15 --logger wandb --num-workers 16\n",
      "decima finetune --name finetune_test_2 --model 2 --device 2 --matrix-file ./data.h5ad --h5-file ./data.h5 --outdir . --learning-rate 5e-05 --loss-total-weight 0.0001 --gradient-accumulation 5 --batch-size 4 --max-seq-shift 5000 --epochs 15 --logger wandb --num-workers 16\n",
      "decima finetune --name finetune_test_3 --model 3 --device 3 --matrix-file ./data.h5ad --h5-file ./data.h5 --outdir . --learning-rate 5e-05 --loss-total-weight 0.0001 --gradient-accumulation 5 --batch-size 4 --max-seq-shift 5000 --epochs 15 --logger wandb --num-workers 16\n"
     ]
    }
   ],
   "source": [
    "for cmd in cmds:\n",
    "    print(cmd)"
   ]
  },
  {
   "cell_type": "code",
   "execution_count": 35,
   "id": "538d1250-8fc2-460b-b5fc-61ec083cca86",
   "metadata": {
    "collapsed": true,
    "jupyter": {
     "outputs_hidden": true
    }
   },
   "outputs": [
    {
     "name": "stderr",
     "output_type": "stream",
     "text": [
      "\u001b[34m\u001b[1mwandb\u001b[0m: You can find your API key in your browser here: https://genentech.wandb.io/authorize\n",
      "\u001b[34m\u001b[1mwandb\u001b[0m: Paste an API key from your profile and hit enter:"
     ]
    },
    {
     "name": "stdin",
     "output_type": "stream",
     "text": [
      "  ········\n"
     ]
    },
    {
     "name": "stderr",
     "output_type": "stream",
     "text": [
      "\u001b[34m\u001b[1mwandb\u001b[0m: \u001b[33mWARNING\u001b[0m If you're specifying your api key in code, ensure this code is not shared publicly.\n",
      "\u001b[34m\u001b[1mwandb\u001b[0m: \u001b[33mWARNING\u001b[0m Consider setting the WANDB_API_KEY environment variable, or running `wandb login` from the command line.\n",
      "\u001b[34m\u001b[1mwandb\u001b[0m: Appending key for genentech.wandb.io to your netrc file: /root/.netrc\n"
     ]
    },
    {
     "data": {
      "text/plain": [
       "True"
      ]
     },
     "execution_count": 35,
     "metadata": {},
     "output_type": "execute_result"
    }
   ],
   "source": [
    "# Uncomment if necessary\n",
    "#import wandb\n",
    "#wandb.login(host=\"https://genentech.wandb.io\", anonymous=\"never\", relogin=True)"
   ]
  },
  {
   "cell_type": "markdown",
   "id": "0ce40323-32c8-4984-9578-3579bafa1436",
   "metadata": {},
   "source": [
    "## 8. Make and evaluate predictions using trained models"
   ]
  },
  {
   "cell_type": "markdown",
   "id": "03c4bc32-afc1-4498-9dcb-20d08bc4f29b",
   "metadata": {},
   "source": [
    "Using the training commands above, we trained two model replicates. Now, we can use these models to predict gene expression:"
   ]
  },
  {
   "cell_type": "code",
   "execution_count": 14,
   "id": "2d04b6e9-373f-4cf4-80ca-662f1dc60a75",
   "metadata": {},
   "outputs": [
    {
     "data": {
      "text/plain": [
       "'lightning_logs/q2kw5y4u/checkpoints/epoch=0-step=42.ckpt,lightning_logs/qg66onfy/checkpoints/epoch=0-step=42.ckpt'"
      ]
     },
     "execution_count": 14,
     "metadata": {},
     "output_type": "execute_result"
    }
   ],
   "source": [
    "checkpoints = [\n",
    "    'lightning_logs/q2kw5y4u/checkpoints/epoch=0-step=42.ckpt',\n",
    "    'lightning_logs/qg66onfy/checkpoints/epoch=0-step=42.ckpt',\n",
    "]\n",
    "\n",
    "# comma-separated list of model checkpoints\n",
    "checkpoint_list = \",\".join(checkpoints)\n",
    "checkpoint_list"
   ]
  },
  {
   "cell_type": "code",
   "execution_count": 30,
   "id": "5b94d98f-7889-4223-8c0a-7cec1a365a73",
   "metadata": {},
   "outputs": [
    {
     "name": "stdout",
     "output_type": "stream",
     "text": [
      "decima - INFO - Using device: cuda:0 and genome: hg38 for prediction.\n",
      "decima - INFO - Making predictions\n",
      "decima - INFO - Initializing weights from Borzoi model using wandb for replicate: 3\n",
      "\u001b[34m\u001b[1mwandb\u001b[0m: Currently logged in as: \u001b[33mavantikalal\u001b[0m (\u001b[33mgrelu\u001b[0m) to \u001b[32mhttps://api.wandb.ai\u001b[0m. Use \u001b[1m`wandb login --relogin`\u001b[0m to force relogin\n",
      "\u001b[34m\u001b[1mwandb\u001b[0m: Downloading large artifact human_state_dict_fold3:latest, 709.30MB. 1 files... \n",
      "\u001b[34m\u001b[1mwandb\u001b[0m:   1 of 1 files downloaded.  \n",
      "Done. 0:0:1.1 (670.6MB/s)\n",
      "/opt/conda/lib/python3.11/site-packages/decima/model/decima_model.py:86: FutureWarning: You are using `torch.load` with `weights_only=False` (the current default value), which uses the default pickle module implicitly. It is possible to construct malicious pickle data which will execute arbitrary code during unpickling (See https://github.com/pytorch/pytorch/blob/main/SECURITY.md#untrusted-models for more details). In a future release, the default value for `weights_only` will be flipped to `True`. This limits the functions that could be executed during unpickling. Arbitrary objects will no longer be allowed to be loaded via this mode unless they are explicitly allowlisted by the user via `torch.serialization.add_safe_globals`. We recommend you start setting `weights_only=True` for any use case where you don't have full control of the loaded file. Please open an issue on GitHub for any issues related to this experimental feature.\n",
      "decima - INFO - Initializing weights from Borzoi model using wandb for replicate: 1\n",
      "\u001b[34m\u001b[1mwandb\u001b[0m: Downloading large artifact human_state_dict_fold1:latest, 709.30MB. 1 files... \n",
      "\u001b[34m\u001b[1mwandb\u001b[0m:   1 of 1 files downloaded.  \n",
      "Done. 0:0:1.1 (648.8MB/s)\n",
      "decima - INFO - Initializing weights from Borzoi model using wandb for replicate: 3\n",
      "\u001b[34m\u001b[1mwandb\u001b[0m: Downloading large artifact human_state_dict_fold3:latest, 709.30MB. 1 files... \n",
      "\u001b[34m\u001b[1mwandb\u001b[0m:   1 of 1 files downloaded.  \n",
      "Done. 0:0:1.1 (638.5MB/s)\n",
      "💡 Tip: For seamless cloud uploads and versioning, try installing [litmodels](https://pypi.org/project/litmodels/) to enable LitModelCheckpoint, which syncs automatically with the Lightning model registry.\n",
      "GPU available: True (cuda), used: True\n",
      "TPU available: False, using: 0 TPU cores\n",
      "HPU available: False, using: 0 HPUs\n",
      "LOCAL_RANK: 0 - CUDA_VISIBLE_DEVICES: [0]\n",
      "Predicting DataLoader 0: 100%|████████████████| 125/125 [03:35<00:00,  0.58it/s]\n",
      "/opt/conda/lib/python3.11/site-packages/torchmetrics/utilities/prints.py:43: UserWarning: The ``compute`` method of metric WarningCounter was called before the ``update`` method which may lead to errors, as metric states have not yet been updated.\n",
      "decima - INFO - Creating anndata\n",
      "decima - INFO - Evaluating performance\n",
      "Performance on genes in the train dataset.\n",
      "Mean Pearson Correlation per gene: Mean: 0.02.\n",
      "Mean Pearson Correlation per gene using size factor (baseline): 0.02.\n",
      "Mean Pearson Correlation per pseudobulk:  0.00\n",
      "\n",
      "Performance on genes in the val dataset.\n",
      "Mean Pearson Correlation per gene: Mean: 0.00.\n",
      "Mean Pearson Correlation per gene using size factor (baseline): 0.05.\n",
      "Mean Pearson Correlation per pseudobulk:  0.00\n",
      "\n",
      "Performance on genes in the test dataset.\n",
      "Mean Pearson Correlation per gene: Mean: -0.02.\n",
      "Mean Pearson Correlation per gene using size factor (baseline): 0.02.\n",
      "Mean Pearson Correlation per pseudobulk: -0.01\n",
      "\n",
      "\u001b[0m"
     ]
    }
   ],
   "source": [
    "! CUDA_VISIBLE_DEVICES=0 decima predict-genes \\\n",
    "--output test_preds.h5ad \\\n",
    "--model {checkpoint_list} \\\n",
    "--metadata data.h5ad \\\n",
    "--device 0 \\\n",
    "--batch-size 8 \\\n",
    "--num-workers 32 \\\n",
    "--max_seq_shift 0 \\\n",
    "--genome hg38 \\\n",
    "--save-replicates"
   ]
  },
  {
   "cell_type": "markdown",
   "id": "b6c253a0-b2d7-4a5d-9c46-32410fbfaecb",
   "metadata": {},
   "source": [
    "We can open the output h5ad file to see the individual predictions and metrics."
   ]
  },
  {
   "cell_type": "code",
   "execution_count": 33,
   "id": "e7bceeb6-5e91-455e-b40f-2b1c02f90d39",
   "metadata": {},
   "outputs": [],
   "source": [
    "ad_out = anndata.read_h5ad(\"test_preds.h5ad\")"
   ]
  },
  {
   "cell_type": "code",
   "execution_count": 34,
   "id": "af5c37c9-53df-439e-9501-e06eed5ae8f7",
   "metadata": {},
   "outputs": [
    {
     "data": {
      "text/plain": [
       "AnnData object with n_obs × n_vars = 50 × 1000\n",
       "    obs: 'cell_type', 'tissue', 'disease', 'study', 'size_factor', 'train_pearson', 'val_pearson', 'test_pearson'\n",
       "    var: 'chrom', 'start', 'end', 'strand', 'gene_start', 'gene_end', 'gene_length', 'gene_mask_start', 'gene_mask_end', 'dataset', 'pearson', 'size_factor_pearson'\n",
       "    layers: 'preds', 'preds_0', 'preds_1'"
      ]
     },
     "execution_count": 34,
     "metadata": {},
     "output_type": "execute_result"
    }
   ],
   "source": [
    "ad_out"
   ]
  },
  {
   "cell_type": "markdown",
   "id": "42f4da2d-33e2-4b0e-ad39-af57c71ea37a",
   "metadata": {},
   "source": [
    "`.layers['preds_0']` and `.layers['preds_1']` contain the predictions made by the individual models whereas `.layers['preds_0']` contains the average predictions. You will see that performance metrics have been added to both `.obs` and `.var`."
   ]
  },
  {
   "cell_type": "code",
   "execution_count": 39,
   "id": "c507929c-a73b-4641-b1de-9f066385a972",
   "metadata": {},
   "outputs": [
    {
     "data": {
      "text/html": [
       "<div>\n",
       "<style scoped>\n",
       "    .dataframe tbody tr th:only-of-type {\n",
       "        vertical-align: middle;\n",
       "    }\n",
       "\n",
       "    .dataframe tbody tr th {\n",
       "        vertical-align: top;\n",
       "    }\n",
       "\n",
       "    .dataframe thead th {\n",
       "        text-align: right;\n",
       "    }\n",
       "</style>\n",
       "<table border=\"1\" class=\"dataframe\">\n",
       "  <thead>\n",
       "    <tr style=\"text-align: right;\">\n",
       "      <th></th>\n",
       "      <th>cell_type</th>\n",
       "      <th>tissue</th>\n",
       "      <th>disease</th>\n",
       "      <th>study</th>\n",
       "      <th>size_factor</th>\n",
       "      <th>train_pearson</th>\n",
       "      <th>val_pearson</th>\n",
       "      <th>test_pearson</th>\n",
       "    </tr>\n",
       "  </thead>\n",
       "  <tbody>\n",
       "    <tr>\n",
       "      <th>pseudobulk_0</th>\n",
       "      <td>ct_0</td>\n",
       "      <td>t_0</td>\n",
       "      <td>d_0</td>\n",
       "      <td>st_0</td>\n",
       "      <td>5091.744141</td>\n",
       "      <td>-0.083996</td>\n",
       "      <td>-0.031970</td>\n",
       "      <td>-0.011314</td>\n",
       "    </tr>\n",
       "    <tr>\n",
       "      <th>pseudobulk_1</th>\n",
       "      <td>ct_0</td>\n",
       "      <td>t_0</td>\n",
       "      <td>d_1</td>\n",
       "      <td>st_0</td>\n",
       "      <td>5043.712402</td>\n",
       "      <td>-0.066893</td>\n",
       "      <td>-0.033715</td>\n",
       "      <td>-0.189346</td>\n",
       "    </tr>\n",
       "    <tr>\n",
       "      <th>pseudobulk_2</th>\n",
       "      <td>ct_0</td>\n",
       "      <td>t_0</td>\n",
       "      <td>d_2</td>\n",
       "      <td>st_1</td>\n",
       "      <td>5080.443848</td>\n",
       "      <td>0.063886</td>\n",
       "      <td>0.132530</td>\n",
       "      <td>-0.084225</td>\n",
       "    </tr>\n",
       "    <tr>\n",
       "      <th>pseudobulk_3</th>\n",
       "      <td>ct_0</td>\n",
       "      <td>t_0</td>\n",
       "      <td>d_0</td>\n",
       "      <td>st_1</td>\n",
       "      <td>5100.675293</td>\n",
       "      <td>0.059963</td>\n",
       "      <td>0.161330</td>\n",
       "      <td>-0.019917</td>\n",
       "    </tr>\n",
       "    <tr>\n",
       "      <th>pseudobulk_4</th>\n",
       "      <td>ct_0</td>\n",
       "      <td>t_0</td>\n",
       "      <td>d_1</td>\n",
       "      <td>st_2</td>\n",
       "      <td>4931.437500</td>\n",
       "      <td>0.018482</td>\n",
       "      <td>0.009018</td>\n",
       "      <td>0.045650</td>\n",
       "    </tr>\n",
       "  </tbody>\n",
       "</table>\n",
       "</div>"
      ],
      "text/plain": [
       "             cell_type tissue disease study  size_factor  train_pearson  \\\n",
       "pseudobulk_0      ct_0    t_0     d_0  st_0  5091.744141      -0.083996   \n",
       "pseudobulk_1      ct_0    t_0     d_1  st_0  5043.712402      -0.066893   \n",
       "pseudobulk_2      ct_0    t_0     d_2  st_1  5080.443848       0.063886   \n",
       "pseudobulk_3      ct_0    t_0     d_0  st_1  5100.675293       0.059963   \n",
       "pseudobulk_4      ct_0    t_0     d_1  st_2  4931.437500       0.018482   \n",
       "\n",
       "              val_pearson  test_pearson  \n",
       "pseudobulk_0    -0.031970     -0.011314  \n",
       "pseudobulk_1    -0.033715     -0.189346  \n",
       "pseudobulk_2     0.132530     -0.084225  \n",
       "pseudobulk_3     0.161330     -0.019917  \n",
       "pseudobulk_4     0.009018      0.045650  "
      ]
     },
     "execution_count": 39,
     "metadata": {},
     "output_type": "execute_result"
    }
   ],
   "source": [
    "ad_out.obs.head()"
   ]
  },
  {
   "cell_type": "code",
   "execution_count": 40,
   "id": "121a7787-4c74-465f-ae93-b529564cc2fa",
   "metadata": {},
   "outputs": [
    {
     "data": {
      "text/html": [
       "<div>\n",
       "<style scoped>\n",
       "    .dataframe tbody tr th:only-of-type {\n",
       "        vertical-align: middle;\n",
       "    }\n",
       "\n",
       "    .dataframe tbody tr th {\n",
       "        vertical-align: top;\n",
       "    }\n",
       "\n",
       "    .dataframe thead th {\n",
       "        text-align: right;\n",
       "    }\n",
       "</style>\n",
       "<table border=\"1\" class=\"dataframe\">\n",
       "  <thead>\n",
       "    <tr style=\"text-align: right;\">\n",
       "      <th></th>\n",
       "      <th>chrom</th>\n",
       "      <th>start</th>\n",
       "      <th>end</th>\n",
       "      <th>strand</th>\n",
       "      <th>gene_start</th>\n",
       "      <th>gene_end</th>\n",
       "      <th>gene_length</th>\n",
       "      <th>gene_mask_start</th>\n",
       "      <th>gene_mask_end</th>\n",
       "      <th>dataset</th>\n",
       "      <th>pearson</th>\n",
       "      <th>size_factor_pearson</th>\n",
       "    </tr>\n",
       "  </thead>\n",
       "  <tbody>\n",
       "    <tr>\n",
       "      <th>gene_0</th>\n",
       "      <td>chr1</td>\n",
       "      <td>28484760</td>\n",
       "      <td>29009048</td>\n",
       "      <td>+</td>\n",
       "      <td>28648600</td>\n",
       "      <td>28648730</td>\n",
       "      <td>130</td>\n",
       "      <td>163840</td>\n",
       "      <td>163970</td>\n",
       "      <td>train</td>\n",
       "      <td>0.050655</td>\n",
       "      <td>-0.092526</td>\n",
       "    </tr>\n",
       "    <tr>\n",
       "      <th>gene_1</th>\n",
       "      <td>chr19</td>\n",
       "      <td>38981497</td>\n",
       "      <td>39505785</td>\n",
       "      <td>-</td>\n",
       "      <td>39341773</td>\n",
       "      <td>39341945</td>\n",
       "      <td>172</td>\n",
       "      <td>163840</td>\n",
       "      <td>164012</td>\n",
       "      <td>train</td>\n",
       "      <td>-0.110919</td>\n",
       "      <td>-0.064533</td>\n",
       "    </tr>\n",
       "    <tr>\n",
       "      <th>gene_2</th>\n",
       "      <td>chr1</td>\n",
       "      <td>77644106</td>\n",
       "      <td>78168394</td>\n",
       "      <td>-</td>\n",
       "      <td>78004346</td>\n",
       "      <td>78004554</td>\n",
       "      <td>208</td>\n",
       "      <td>163840</td>\n",
       "      <td>164048</td>\n",
       "      <td>train</td>\n",
       "      <td>0.114459</td>\n",
       "      <td>0.163119</td>\n",
       "    </tr>\n",
       "    <tr>\n",
       "      <th>gene_3</th>\n",
       "      <td>chr8</td>\n",
       "      <td>142930173</td>\n",
       "      <td>143454461</td>\n",
       "      <td>-</td>\n",
       "      <td>143290399</td>\n",
       "      <td>143290621</td>\n",
       "      <td>222</td>\n",
       "      <td>163840</td>\n",
       "      <td>164062</td>\n",
       "      <td>val</td>\n",
       "      <td>0.024536</td>\n",
       "      <td>0.199410</td>\n",
       "    </tr>\n",
       "    <tr>\n",
       "      <th>gene_4</th>\n",
       "      <td>chr16</td>\n",
       "      <td>1611448</td>\n",
       "      <td>2135736</td>\n",
       "      <td>-</td>\n",
       "      <td>1971655</td>\n",
       "      <td>1971896</td>\n",
       "      <td>241</td>\n",
       "      <td>163840</td>\n",
       "      <td>164081</td>\n",
       "      <td>train</td>\n",
       "      <td>0.083927</td>\n",
       "      <td>-0.014720</td>\n",
       "    </tr>\n",
       "  </tbody>\n",
       "</table>\n",
       "</div>"
      ],
      "text/plain": [
       "        chrom      start        end strand  gene_start   gene_end  \\\n",
       "gene_0   chr1   28484760   29009048      +    28648600   28648730   \n",
       "gene_1  chr19   38981497   39505785      -    39341773   39341945   \n",
       "gene_2   chr1   77644106   78168394      -    78004346   78004554   \n",
       "gene_3   chr8  142930173  143454461      -   143290399  143290621   \n",
       "gene_4  chr16    1611448    2135736      -     1971655    1971896   \n",
       "\n",
       "        gene_length  gene_mask_start  gene_mask_end dataset   pearson  \\\n",
       "gene_0          130           163840         163970   train  0.050655   \n",
       "gene_1          172           163840         164012   train -0.110919   \n",
       "gene_2          208           163840         164048   train  0.114459   \n",
       "gene_3          222           163840         164062     val  0.024536   \n",
       "gene_4          241           163840         164081   train  0.083927   \n",
       "\n",
       "        size_factor_pearson  \n",
       "gene_0            -0.092526  \n",
       "gene_1            -0.064533  \n",
       "gene_2             0.163119  \n",
       "gene_3             0.199410  \n",
       "gene_4            -0.014720  "
      ]
     },
     "execution_count": 40,
     "metadata": {},
     "output_type": "execute_result"
    }
   ],
   "source": [
    "ad_out.var.head()"
   ]
  },
  {
   "cell_type": "code",
   "execution_count": null,
   "id": "8ef2055a-5145-491d-8a1f-05bce4569c61",
   "metadata": {},
   "outputs": [],
   "source": []
  }
 ],
 "metadata": {
  "kernelspec": {
   "display_name": "Python 3 (ipykernel)",
   "language": "python",
   "name": "python3"
  },
  "language_info": {
   "codemirror_mode": {
    "name": "ipython",
    "version": 3
   },
   "file_extension": ".py",
   "mimetype": "text/x-python",
   "name": "python",
   "nbconvert_exporter": "python",
   "pygments_lexer": "ipython3",
   "version": "3.11.10"
  }
 },
 "nbformat": 4,
 "nbformat_minor": 5
}
