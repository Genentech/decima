{
 "cells": [
  {
   "cell_type": "code",
   "execution_count": 1,
   "metadata": {},
   "outputs": [],
   "source": [
    "\n",
    "import pandas as pd \n",
    "\n",
    "meta_df = pd.read_csv('/lab/solexa_sun/lab_members/yancui/decima/src/decima/meta_df_new.csv')"
   ]
  },
  {
   "cell_type": "code",
   "execution_count": 2,
   "metadata": {},
   "outputs": [
    {
     "name": "stderr",
     "output_type": "stream",
     "text": [
      "/lab/solexa_sun/lab_members/yancui/miniconda3/envs/fm/lib/python3.11/site-packages/tqdm/auto.py:21: TqdmWarning: IProgress not found. Please update jupyter and ipywidgets. See https://ipywidgets.readthedocs.io/en/stable/user_install.html\n",
      "  from .autonotebook import tqdm as notebook_tqdm\n",
      "Processing patients: 100%|██████████| 1/1 [00:13<00:00, 13.75s/it]\n"
     ]
    }
   ],
   "source": [
    "import sys \n",
    "\n",
    "sys.path.append('/lab/solexa_sun/lab_members/yancui/decima/src/decima')\n",
    "\n",
    "from read_hdf5 import PatientVariantDataset\n",
    "\n",
    "from read_hdf5 import HDF5Dataset, VariantDataset\n",
    "\n",
    "from tqdm import tqdm\n",
    "\n",
    "patients = meta_df['PatientID'].values\n",
    "\n",
    "dataset_dict = {}\n",
    "\n",
    "patients = ['R1687970']\n",
    "\n",
    "\n",
    "import orjson\n",
    "\n",
    "for p in tqdm(patients, desc=\"Processing patients\"):\n",
    "    patient_variants = orjson.loads(open(f'/lab/solexa_sun/lab_members/yancui/decima/src/decima/patient_variants/patient_{p}_variants.json').read())\n",
    "    dataset_dict[p] = PatientVariantDataset(patient_variants, h5_file='/lab/solexa_sun/lab_members/yancui/decima/src/decima/test_dataset/test_new.h5')\n"
   ]
  }
 ],
 "metadata": {
  "language_info": {
   "name": "python"
  }
 },
 "nbformat": 4,
 "nbformat_minor": 2
}
